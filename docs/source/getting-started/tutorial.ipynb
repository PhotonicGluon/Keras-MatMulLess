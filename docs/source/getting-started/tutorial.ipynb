{
 "cells": [
  {
   "cell_type": "markdown",
   "id": "5199882c-9829-491f-a98d-4e2f76462960",
   "metadata": {},
   "source": [
    "# Tutorial\n",
    "Welcome to Keras-MML! This notebook will introduce you to the basics of working with Keras-MML."
   ]
  },
  {
   "cell_type": "markdown",
   "id": "e3b07b51-d667-46ee-b2f0-71545ab522f0",
   "metadata": {},
   "source": [
    "Keras-MML mainly provides layers that replace in-built Keras layers with those that do not use matrix multiplications. For this notebook, we will focus on a matrix multiplication free implementation of a `Dense` layer, appropriately called `DenseMML`."
   ]
  },
  {
   "cell_type": "markdown",
   "id": "4f2be69f-03c6-4ccf-b825-b6aa79703d15",
   "metadata": {},
   "source": [
    "We will demonstrate its use in predicting handwritten digits from the [MNIST dataset](https://en.wikipedia.org/wiki/MNIST_database) using a very simple [multi-layer perceptron (MLP)](https://en.wikipedia.org/wiki/Multilayer_perceptron)."
   ]
  },
  {
   "cell_type": "markdown",
   "id": "490099a6-42f3-49ab-bd4f-c80167dff13c",
   "metadata": {},
   "source": [
    "First, let's prepare the imports."
   ]
  },
  {
   "cell_type": "code",
   "execution_count": 1,
   "id": "158fa85e-912d-4cf8-b3fd-757d2668e253",
   "metadata": {},
   "outputs": [
    {
     "name": "stderr",
     "output_type": "stream",
     "text": [
      "2024-06-20 13:40:35.880397: I tensorflow/core/util/port.cc:113] oneDNN custom operations are on. You may see slightly different numerical results due to floating-point round-off errors from different computation orders. To turn them off, set the environment variable `TF_ENABLE_ONEDNN_OPTS=0`.\n",
      "2024-06-20 13:40:35.880695: I external/local_tsl/tsl/cuda/cudart_stub.cc:32] Could not find cuda drivers on your machine, GPU will not be used.\n",
      "2024-06-20 13:40:35.882736: I external/local_tsl/tsl/cuda/cudart_stub.cc:32] Could not find cuda drivers on your machine, GPU will not be used.\n",
      "2024-06-20 13:40:35.907981: I tensorflow/core/platform/cpu_feature_guard.cc:210] This TensorFlow binary is optimized to use available CPU instructions in performance-critical operations.\n",
      "To enable the following instructions: AVX2 AVX_VNNI FMA, in other operations, rebuild TensorFlow with the appropriate compiler flags.\n",
      "2024-06-20 13:40:36.515943: W tensorflow/compiler/tf2tensorrt/utils/py_utils.cc:38] TF-TRT Warning: Could not find TensorRT\n"
     ]
    }
   ],
   "source": [
    "import keras\n",
    "import numpy as np"
   ]
  },
  {
   "cell_type": "markdown",
   "id": "01b01eec-91d9-410a-b3e6-e2a051df613a",
   "metadata": {},
   "source": [
    "Define constants relating to the data. In particular, we know that there are 10 distinct digits in the dataset, and that each entry is a $28 \\times 28$ greyscale image. This means that the input shape into the model is `(28, 28)`."
   ]
  },
  {
   "cell_type": "code",
   "execution_count": 2,
   "id": "7be08531-8cd9-4953-a409-070dedbae500",
   "metadata": {},
   "outputs": [],
   "source": [
    "NUM_CLASSES = 10\n",
    "INPUT_SHAPE = (28, 28)"
   ]
  },
  {
   "cell_type": "markdown",
   "id": "424bdd20-38de-4c99-b62b-0e097e4b7aae",
   "metadata": {},
   "source": [
    "Let's now load the data. Keras provides the MNIST dataset already, so we just need to load it in using the `load_data()` function for the `mnist` dataset."
   ]
  },
  {
   "cell_type": "code",
   "execution_count": 3,
   "id": "9fc25a7e-466a-409f-86b9-0738548d62ab",
   "metadata": {},
   "outputs": [],
   "source": [
    "(x_train, y_train), (x_test, y_test) = keras.datasets.mnist.load_data()"
   ]
  },
  {
   "cell_type": "markdown",
   "id": "b0e3ad29-662e-44c5-9355-8db1adfe62e5",
   "metadata": {},
   "source": [
    "We do some simple preprocessing. We normalize each pixel's value to be in the interval $[0, 1]$ so that the model can learn better."
   ]
  },
  {
   "cell_type": "code",
   "execution_count": 4,
   "id": "da3b5a41-97a4-4624-906f-10325566be31",
   "metadata": {},
   "outputs": [],
   "source": [
    "x_train = x_train.astype(\"float32\") / 255\n",
    "x_test = x_test.astype(\"float32\") / 255"
   ]
  },
  {
   "cell_type": "markdown",
   "id": "05c438d9-bb97-4a18-b565-63b406fd377c",
   "metadata": {},
   "source": [
    "Finally, we convert the class vectors into binary class matrices."
   ]
  },
  {
   "cell_type": "code",
   "execution_count": 5,
   "id": "38b33d44-34b7-457e-b357-29e4021f8e20",
   "metadata": {},
   "outputs": [],
   "source": [
    "y_train = keras.utils.to_categorical(y_train, NUM_CLASSES)\n",
    "y_test = keras.utils.to_categorical(y_test, NUM_CLASSES)"
   ]
  },
  {
   "cell_type": "markdown",
   "id": "e83ef380-0264-43dc-8870-624e9500874b",
   "metadata": {},
   "source": [
    "Now we are ready to define the prediction model. Of course, we first have to import `keras_mml` before we can do anything."
   ]
  },
  {
   "cell_type": "code",
   "execution_count": 6,
   "id": "2896e57d-1fcc-4c71-976e-223ede04fa07",
   "metadata": {},
   "outputs": [],
   "source": [
    "import keras_mml"
   ]
  },
  {
   "cell_type": "markdown",
   "id": "c19bd904-2ab1-4e1e-b726-e7e4eacaed8b",
   "metadata": {},
   "source": [
    "We are now ready to define the `Sequential` model. Notice that we swap out `Dense` layers with `DenseMML` layers. However, we need to leave the last layer alone in order for the model outputs to work correctly. This is because `DenseMML` uses quantization internally, which means that the outputs of the model have been treated in such a way that they are *forced* to not use matrix multiplications. This is fine and good for the most part, but for outputs of our model, we require the highest precision. So we are stuck with using the standard `Dense` layer."
   ]
  },
  {
   "cell_type": "code",
   "execution_count": 7,
   "id": "86f0060f-b8bf-47cf-8558-75628680dd01",
   "metadata": {},
   "outputs": [],
   "source": [
    "model = keras.Sequential(\n",
    "    [\n",
    "        keras.Input(shape=INPUT_SHAPE),\n",
    "        keras.layers.Flatten(),\n",
    "        keras_mml.layers.DenseMML(256),\n",
    "        keras_mml.layers.DenseMML(256),\n",
    "        keras_mml.layers.DenseMML(256),\n",
    "        keras.layers.Dense(NUM_CLASSES, activation=\"softmax\"),\n",
    "    ],\n",
    "    name=\"MNIST-Classifier\"\n",
    ")\n",
    "\n",
    "model.compile(loss=\"categorical_crossentropy\", optimizer=\"adam\", metrics=[\"accuracy\"])"
   ]
  },
  {
   "cell_type": "code",
   "execution_count": 8,
   "id": "0163d53b-8058-45bf-9c51-bfcb76ceaca7",
   "metadata": {},
   "outputs": [
    {
     "data": {
      "text/html": [
       "<pre style=\"white-space:pre;overflow-x:auto;line-height:normal;font-family:Menlo,'DejaVu Sans Mono',consolas,'Courier New',monospace\"><span style=\"font-weight: bold\">Model: \"MNIST-Classifier\"</span>\n",
       "</pre>\n"
      ],
      "text/plain": [
       "\u001b[1mModel: \"MNIST-Classifier\"\u001b[0m\n"
      ]
     },
     "metadata": {},
     "output_type": "display_data"
    },
    {
     "data": {
      "text/html": [
       "<pre style=\"white-space:pre;overflow-x:auto;line-height:normal;font-family:Menlo,'DejaVu Sans Mono',consolas,'Courier New',monospace\">┏━━━━━━━━━━━━━━━━━━━━━━━━━━━━━━━━━┳━━━━━━━━━━━━━━━━━━━━━━━━┳━━━━━━━━━━━━━━━┓\n",
       "┃<span style=\"font-weight: bold\"> Layer (type)                    </span>┃<span style=\"font-weight: bold\"> Output Shape           </span>┃<span style=\"font-weight: bold\">       Param # </span>┃\n",
       "┡━━━━━━━━━━━━━━━━━━━━━━━━━━━━━━━━━╇━━━━━━━━━━━━━━━━━━━━━━━━╇━━━━━━━━━━━━━━━┩\n",
       "│ flatten (<span style=\"color: #0087ff; text-decoration-color: #0087ff\">Flatten</span>)               │ (<span style=\"color: #00d7ff; text-decoration-color: #00d7ff\">None</span>, <span style=\"color: #00af00; text-decoration-color: #00af00\">784</span>)            │             <span style=\"color: #00af00; text-decoration-color: #00af00\">0</span> │\n",
       "├─────────────────────────────────┼────────────────────────┼───────────────┤\n",
       "│ dense_mml (<span style=\"color: #0087ff; text-decoration-color: #0087ff\">DenseMML</span>)            │ (<span style=\"color: #00d7ff; text-decoration-color: #00d7ff\">None</span>, <span style=\"color: #00af00; text-decoration-color: #00af00\">256</span>)            │       <span style=\"color: #00af00; text-decoration-color: #00af00\">200,704</span> │\n",
       "├─────────────────────────────────┼────────────────────────┼───────────────┤\n",
       "│ dense_mml_1 (<span style=\"color: #0087ff; text-decoration-color: #0087ff\">DenseMML</span>)          │ (<span style=\"color: #00d7ff; text-decoration-color: #00d7ff\">None</span>, <span style=\"color: #00af00; text-decoration-color: #00af00\">256</span>)            │        <span style=\"color: #00af00; text-decoration-color: #00af00\">65,536</span> │\n",
       "├─────────────────────────────────┼────────────────────────┼───────────────┤\n",
       "│ dense_mml_2 (<span style=\"color: #0087ff; text-decoration-color: #0087ff\">DenseMML</span>)          │ (<span style=\"color: #00d7ff; text-decoration-color: #00d7ff\">None</span>, <span style=\"color: #00af00; text-decoration-color: #00af00\">256</span>)            │        <span style=\"color: #00af00; text-decoration-color: #00af00\">65,536</span> │\n",
       "├─────────────────────────────────┼────────────────────────┼───────────────┤\n",
       "│ dense (<span style=\"color: #0087ff; text-decoration-color: #0087ff\">Dense</span>)                   │ (<span style=\"color: #00d7ff; text-decoration-color: #00d7ff\">None</span>, <span style=\"color: #00af00; text-decoration-color: #00af00\">10</span>)             │         <span style=\"color: #00af00; text-decoration-color: #00af00\">2,570</span> │\n",
       "└─────────────────────────────────┴────────────────────────┴───────────────┘\n",
       "</pre>\n"
      ],
      "text/plain": [
       "┏━━━━━━━━━━━━━━━━━━━━━━━━━━━━━━━━━┳━━━━━━━━━━━━━━━━━━━━━━━━┳━━━━━━━━━━━━━━━┓\n",
       "┃\u001b[1m \u001b[0m\u001b[1mLayer (type)                   \u001b[0m\u001b[1m \u001b[0m┃\u001b[1m \u001b[0m\u001b[1mOutput Shape          \u001b[0m\u001b[1m \u001b[0m┃\u001b[1m \u001b[0m\u001b[1m      Param #\u001b[0m\u001b[1m \u001b[0m┃\n",
       "┡━━━━━━━━━━━━━━━━━━━━━━━━━━━━━━━━━╇━━━━━━━━━━━━━━━━━━━━━━━━╇━━━━━━━━━━━━━━━┩\n",
       "│ flatten (\u001b[38;5;33mFlatten\u001b[0m)               │ (\u001b[38;5;45mNone\u001b[0m, \u001b[38;5;34m784\u001b[0m)            │             \u001b[38;5;34m0\u001b[0m │\n",
       "├─────────────────────────────────┼────────────────────────┼───────────────┤\n",
       "│ dense_mml (\u001b[38;5;33mDenseMML\u001b[0m)            │ (\u001b[38;5;45mNone\u001b[0m, \u001b[38;5;34m256\u001b[0m)            │       \u001b[38;5;34m200,704\u001b[0m │\n",
       "├─────────────────────────────────┼────────────────────────┼───────────────┤\n",
       "│ dense_mml_1 (\u001b[38;5;33mDenseMML\u001b[0m)          │ (\u001b[38;5;45mNone\u001b[0m, \u001b[38;5;34m256\u001b[0m)            │        \u001b[38;5;34m65,536\u001b[0m │\n",
       "├─────────────────────────────────┼────────────────────────┼───────────────┤\n",
       "│ dense_mml_2 (\u001b[38;5;33mDenseMML\u001b[0m)          │ (\u001b[38;5;45mNone\u001b[0m, \u001b[38;5;34m256\u001b[0m)            │        \u001b[38;5;34m65,536\u001b[0m │\n",
       "├─────────────────────────────────┼────────────────────────┼───────────────┤\n",
       "│ dense (\u001b[38;5;33mDense\u001b[0m)                   │ (\u001b[38;5;45mNone\u001b[0m, \u001b[38;5;34m10\u001b[0m)             │         \u001b[38;5;34m2,570\u001b[0m │\n",
       "└─────────────────────────────────┴────────────────────────┴───────────────┘\n"
      ]
     },
     "metadata": {},
     "output_type": "display_data"
    },
    {
     "data": {
      "text/html": [
       "<pre style=\"white-space:pre;overflow-x:auto;line-height:normal;font-family:Menlo,'DejaVu Sans Mono',consolas,'Courier New',monospace\"><span style=\"font-weight: bold\"> Total params: </span><span style=\"color: #00af00; text-decoration-color: #00af00\">334,346</span> (1.28 MB)\n",
       "</pre>\n"
      ],
      "text/plain": [
       "\u001b[1m Total params: \u001b[0m\u001b[38;5;34m334,346\u001b[0m (1.28 MB)\n"
      ]
     },
     "metadata": {},
     "output_type": "display_data"
    },
    {
     "data": {
      "text/html": [
       "<pre style=\"white-space:pre;overflow-x:auto;line-height:normal;font-family:Menlo,'DejaVu Sans Mono',consolas,'Courier New',monospace\"><span style=\"font-weight: bold\"> Trainable params: </span><span style=\"color: #00af00; text-decoration-color: #00af00\">334,346</span> (1.28 MB)\n",
       "</pre>\n"
      ],
      "text/plain": [
       "\u001b[1m Trainable params: \u001b[0m\u001b[38;5;34m334,346\u001b[0m (1.28 MB)\n"
      ]
     },
     "metadata": {},
     "output_type": "display_data"
    },
    {
     "data": {
      "text/html": [
       "<pre style=\"white-space:pre;overflow-x:auto;line-height:normal;font-family:Menlo,'DejaVu Sans Mono',consolas,'Courier New',monospace\"><span style=\"font-weight: bold\"> Non-trainable params: </span><span style=\"color: #00af00; text-decoration-color: #00af00\">0</span> (0.00 B)\n",
       "</pre>\n"
      ],
      "text/plain": [
       "\u001b[1m Non-trainable params: \u001b[0m\u001b[38;5;34m0\u001b[0m (0.00 B)\n"
      ]
     },
     "metadata": {},
     "output_type": "display_data"
    }
   ],
   "source": [
    "model.summary()"
   ]
  },
  {
   "cell_type": "markdown",
   "id": "d6e1e57c-6915-4612-9837-ac556a727603",
   "metadata": {},
   "source": [
    "We can now train the model."
   ]
  },
  {
   "cell_type": "code",
   "execution_count": 9,
   "id": "daf4552c-7983-47a4-900d-d0f926feffe0",
   "metadata": {},
   "outputs": [
    {
     "name": "stdout",
     "output_type": "stream",
     "text": [
      "Epoch 1/20\n",
      "\u001b[1m422/422\u001b[0m \u001b[32m━━━━━━━━━━━━━━━━━━━━\u001b[0m\u001b[37m\u001b[0m \u001b[1m3s\u001b[0m 5ms/step - accuracy: 0.4256 - loss: 2.1773 - val_accuracy: 0.7970 - val_loss: 1.2788\n",
      "Epoch 2/20\n",
      "\u001b[1m422/422\u001b[0m \u001b[32m━━━━━━━━━━━━━━━━━━━━\u001b[0m\u001b[37m\u001b[0m \u001b[1m2s\u001b[0m 5ms/step - accuracy: 0.7718 - loss: 1.1203 - val_accuracy: 0.8463 - val_loss: 0.6688\n",
      "Epoch 3/20\n",
      "\u001b[1m422/422\u001b[0m \u001b[32m━━━━━━━━━━━━━━━━━━━━\u001b[0m\u001b[37m\u001b[0m \u001b[1m2s\u001b[0m 5ms/step - accuracy: 0.8174 - loss: 0.7031 - val_accuracy: 0.8652 - val_loss: 0.5159\n",
      "Epoch 4/20\n",
      "\u001b[1m422/422\u001b[0m \u001b[32m━━━━━━━━━━━━━━━━━━━━\u001b[0m\u001b[37m\u001b[0m \u001b[1m2s\u001b[0m 5ms/step - accuracy: 0.8374 - loss: 0.5814 - val_accuracy: 0.8757 - val_loss: 0.4529\n",
      "Epoch 5/20\n",
      "\u001b[1m422/422\u001b[0m \u001b[32m━━━━━━━━━━━━━━━━━━━━\u001b[0m\u001b[37m\u001b[0m \u001b[1m2s\u001b[0m 5ms/step - accuracy: 0.8495 - loss: 0.5237 - val_accuracy: 0.8823 - val_loss: 0.4178\n",
      "Epoch 6/20\n",
      "\u001b[1m422/422\u001b[0m \u001b[32m━━━━━━━━━━━━━━━━━━━━\u001b[0m\u001b[37m\u001b[0m \u001b[1m2s\u001b[0m 5ms/step - accuracy: 0.8577 - loss: 0.4859 - val_accuracy: 0.8878 - val_loss: 0.3959\n",
      "Epoch 7/20\n",
      "\u001b[1m422/422\u001b[0m \u001b[32m━━━━━━━━━━━━━━━━━━━━\u001b[0m\u001b[37m\u001b[0m \u001b[1m2s\u001b[0m 5ms/step - accuracy: 0.8638 - loss: 0.4639 - val_accuracy: 0.8927 - val_loss: 0.3791\n",
      "Epoch 8/20\n",
      "\u001b[1m422/422\u001b[0m \u001b[32m━━━━━━━━━━━━━━━━━━━━\u001b[0m\u001b[37m\u001b[0m \u001b[1m2s\u001b[0m 5ms/step - accuracy: 0.8675 - loss: 0.4541 - val_accuracy: 0.8948 - val_loss: 0.3671\n",
      "Epoch 9/20\n",
      "\u001b[1m422/422\u001b[0m \u001b[32m━━━━━━━━━━━━━━━━━━━━\u001b[0m\u001b[37m\u001b[0m \u001b[1m2s\u001b[0m 5ms/step - accuracy: 0.8719 - loss: 0.4389 - val_accuracy: 0.8973 - val_loss: 0.3572\n",
      "Epoch 10/20\n",
      "\u001b[1m422/422\u001b[0m \u001b[32m━━━━━━━━━━━━━━━━━━━━\u001b[0m\u001b[37m\u001b[0m \u001b[1m2s\u001b[0m 5ms/step - accuracy: 0.8762 - loss: 0.4215 - val_accuracy: 0.8998 - val_loss: 0.3488\n",
      "Epoch 11/20\n",
      "\u001b[1m422/422\u001b[0m \u001b[32m━━━━━━━━━━━━━━━━━━━━\u001b[0m\u001b[37m\u001b[0m \u001b[1m2s\u001b[0m 5ms/step - accuracy: 0.8778 - loss: 0.4148 - val_accuracy: 0.9017 - val_loss: 0.3421\n",
      "Epoch 12/20\n",
      "\u001b[1m422/422\u001b[0m \u001b[32m━━━━━━━━━━━━━━━━━━━━\u001b[0m\u001b[37m\u001b[0m \u001b[1m2s\u001b[0m 5ms/step - accuracy: 0.8842 - loss: 0.3940 - val_accuracy: 0.9017 - val_loss: 0.3359\n",
      "Epoch 13/20\n",
      "\u001b[1m422/422\u001b[0m \u001b[32m━━━━━━━━━━━━━━━━━━━━\u001b[0m\u001b[37m\u001b[0m \u001b[1m2s\u001b[0m 5ms/step - accuracy: 0.8843 - loss: 0.3974 - val_accuracy: 0.9020 - val_loss: 0.3310\n",
      "Epoch 14/20\n",
      "\u001b[1m422/422\u001b[0m \u001b[32m━━━━━━━━━━━━━━━━━━━━\u001b[0m\u001b[37m\u001b[0m \u001b[1m2s\u001b[0m 5ms/step - accuracy: 0.8841 - loss: 0.3996 - val_accuracy: 0.9042 - val_loss: 0.3258\n",
      "Epoch 15/20\n",
      "\u001b[1m422/422\u001b[0m \u001b[32m━━━━━━━━━━━━━━━━━━━━\u001b[0m\u001b[37m\u001b[0m \u001b[1m2s\u001b[0m 5ms/step - accuracy: 0.8882 - loss: 0.3877 - val_accuracy: 0.9048 - val_loss: 0.3221\n",
      "Epoch 16/20\n",
      "\u001b[1m422/422\u001b[0m \u001b[32m━━━━━━━━━━━━━━━━━━━━\u001b[0m\u001b[37m\u001b[0m \u001b[1m2s\u001b[0m 5ms/step - accuracy: 0.8883 - loss: 0.3860 - val_accuracy: 0.9088 - val_loss: 0.3180\n",
      "Epoch 17/20\n",
      "\u001b[1m422/422\u001b[0m \u001b[32m━━━━━━━━━━━━━━━━━━━━\u001b[0m\u001b[37m\u001b[0m \u001b[1m2s\u001b[0m 5ms/step - accuracy: 0.8881 - loss: 0.3859 - val_accuracy: 0.9088 - val_loss: 0.3152\n",
      "Epoch 18/20\n",
      "\u001b[1m422/422\u001b[0m \u001b[32m━━━━━━━━━━━━━━━━━━━━\u001b[0m\u001b[37m\u001b[0m \u001b[1m2s\u001b[0m 5ms/step - accuracy: 0.8917 - loss: 0.3751 - val_accuracy: 0.9100 - val_loss: 0.3116\n",
      "Epoch 19/20\n",
      "\u001b[1m422/422\u001b[0m \u001b[32m━━━━━━━━━━━━━━━━━━━━\u001b[0m\u001b[37m\u001b[0m \u001b[1m2s\u001b[0m 5ms/step - accuracy: 0.8921 - loss: 0.3750 - val_accuracy: 0.9118 - val_loss: 0.3091\n",
      "Epoch 20/20\n",
      "\u001b[1m422/422\u001b[0m \u001b[32m━━━━━━━━━━━━━━━━━━━━\u001b[0m\u001b[37m\u001b[0m \u001b[1m2s\u001b[0m 5ms/step - accuracy: 0.8926 - loss: 0.3672 - val_accuracy: 0.9122 - val_loss: 0.3074\n"
     ]
    },
    {
     "data": {
      "text/plain": [
       "<keras.src.callbacks.history.History at 0x7fa1fbe10ee0>"
      ]
     },
     "execution_count": 9,
     "metadata": {},
     "output_type": "execute_result"
    }
   ],
   "source": [
    "model.fit(x_train, y_train, batch_size=128, epochs=20, validation_split=0.1)"
   ]
  },
  {
   "cell_type": "markdown",
   "id": "5b64c207-3eaf-46d5-98d4-70213ccae132",
   "metadata": {},
   "source": [
    "Once the model is trained, let's evaluate it."
   ]
  },
  {
   "cell_type": "code",
   "execution_count": 10,
   "id": "21eabf59-a30e-4b1e-a5a5-a583a496cab4",
   "metadata": {},
   "outputs": [
    {
     "name": "stdout",
     "output_type": "stream",
     "text": [
      "Test loss: 0.33874186873435974\n",
      "Test accuracy: 0.8985999822616577\n"
     ]
    }
   ],
   "source": [
    "score = model.evaluate(x_test, y_test, verbose=0)\n",
    "print(\"Test loss:\", score[0])\n",
    "print(\"Test accuracy:\", score[1])"
   ]
  },
  {
   "cell_type": "markdown",
   "id": "d7f0d947-ea10-4037-b50f-32bfae19cc10",
   "metadata": {},
   "source": [
    "Congratulations! You have seen how to use Keras-MML in your Keras models!"
   ]
  }
 ],
 "metadata": {
  "kernelspec": {
   "display_name": "Python 3 (ipykernel)",
   "language": "python",
   "name": "python3"
  },
  "language_info": {
   "codemirror_mode": {
    "name": "ipython",
    "version": 3
   },
   "file_extension": ".py",
   "mimetype": "text/x-python",
   "name": "python",
   "nbconvert_exporter": "python",
   "pygments_lexer": "ipython3",
   "version": "3.10.14"
  }
 },
 "nbformat": 4,
 "nbformat_minor": 5
}
