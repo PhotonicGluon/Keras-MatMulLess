{
    "cells": [
        {
            "cell_type": "markdown",
            "metadata": {},
            "source": [
                "# Autoencoders"
            ]
        },
        {
            "cell_type": "markdown",
            "metadata": {},
            "source": [
                "In this example we will create an autoencoder using the `DenseMML` layers available in Keras-MML."
            ]
        },
        {
            "cell_type": "markdown",
            "metadata": {},
            "source": [
                "The dataset we will use is the [Fashion MNIST dataset](https://www.kaggle.com/datasets/zalando-research/fashionmnist). It is intended as a drop-in replacement for the standard [MNIST dataset](https://en.wikipedia.org/wiki/MNIST_database), and shares the same image size and structure of training and testing splits.\n",
                "\n",
                "<center>\n",
                "    <img alt=\"Fashion MNIST Dataset Cover\" style=\"width: 75%\" src=\"https://storage.googleapis.com/kaggle-datasets-images/2243/3791/9384af51de8baa77f6320901f53bd26b/dataset-cover.png\">\n",
                "</center>"
            ]
        },
        {
            "cell_type": "markdown",
            "metadata": {},
            "source": [
                ":::{important}\n",
                "We will be using some plotting utilities for this notebook. Run the command below to install them, then reload the kernel.\n",
                ":::"
            ]
        },
        {
            "cell_type": "code",
            "execution_count": 1,
            "metadata": {},
            "outputs": [
                {
                    "name": "stdout",
                    "output_type": "stream",
                    "text": [
                        "Requirement already satisfied: matplotlib~=3.9.0 in /home/vscode/.cache/pypoetry/virtualenvs/keras-matmulless-b9IALFmu-py3.10/lib/python3.10/site-packages (3.9.0)\n",
                        "Requirement already satisfied: seaborn~=0.13.2 in /home/vscode/.cache/pypoetry/virtualenvs/keras-matmulless-b9IALFmu-py3.10/lib/python3.10/site-packages (0.13.2)\n",
                        "Requirement already satisfied: contourpy>=1.0.1 in /home/vscode/.cache/pypoetry/virtualenvs/keras-matmulless-b9IALFmu-py3.10/lib/python3.10/site-packages (from matplotlib~=3.9.0) (1.2.1)\n",
                        "Requirement already satisfied: cycler>=0.10 in /home/vscode/.cache/pypoetry/virtualenvs/keras-matmulless-b9IALFmu-py3.10/lib/python3.10/site-packages (from matplotlib~=3.9.0) (0.12.1)\n",
                        "Requirement already satisfied: fonttools>=4.22.0 in /home/vscode/.cache/pypoetry/virtualenvs/keras-matmulless-b9IALFmu-py3.10/lib/python3.10/site-packages (from matplotlib~=3.9.0) (4.53.0)\n",
                        "Requirement already satisfied: kiwisolver>=1.3.1 in /home/vscode/.cache/pypoetry/virtualenvs/keras-matmulless-b9IALFmu-py3.10/lib/python3.10/site-packages (from matplotlib~=3.9.0) (1.4.5)\n",
                        "Requirement already satisfied: numpy>=1.23 in /home/vscode/.cache/pypoetry/virtualenvs/keras-matmulless-b9IALFmu-py3.10/lib/python3.10/site-packages (from matplotlib~=3.9.0) (1.26.4)\n",
                        "Requirement already satisfied: packaging>=20.0 in /home/vscode/.cache/pypoetry/virtualenvs/keras-matmulless-b9IALFmu-py3.10/lib/python3.10/site-packages (from matplotlib~=3.9.0) (24.1)\n",
                        "Requirement already satisfied: pillow>=8 in /home/vscode/.cache/pypoetry/virtualenvs/keras-matmulless-b9IALFmu-py3.10/lib/python3.10/site-packages (from matplotlib~=3.9.0) (10.3.0)\n",
                        "Requirement already satisfied: pyparsing>=2.3.1 in /home/vscode/.cache/pypoetry/virtualenvs/keras-matmulless-b9IALFmu-py3.10/lib/python3.10/site-packages (from matplotlib~=3.9.0) (3.1.2)\n",
                        "Requirement already satisfied: python-dateutil>=2.7 in /home/vscode/.cache/pypoetry/virtualenvs/keras-matmulless-b9IALFmu-py3.10/lib/python3.10/site-packages (from matplotlib~=3.9.0) (2.9.0.post0)\n",
                        "Requirement already satisfied: pandas>=1.2 in /home/vscode/.cache/pypoetry/virtualenvs/keras-matmulless-b9IALFmu-py3.10/lib/python3.10/site-packages (from seaborn~=0.13.2) (2.2.2)\n",
                        "Requirement already satisfied: pytz>=2020.1 in /home/vscode/.cache/pypoetry/virtualenvs/keras-matmulless-b9IALFmu-py3.10/lib/python3.10/site-packages (from pandas>=1.2->seaborn~=0.13.2) (2024.1)\n",
                        "Requirement already satisfied: tzdata>=2022.7 in /home/vscode/.cache/pypoetry/virtualenvs/keras-matmulless-b9IALFmu-py3.10/lib/python3.10/site-packages (from pandas>=1.2->seaborn~=0.13.2) (2024.1)\n",
                        "Requirement already satisfied: six>=1.5 in /home/vscode/.cache/pypoetry/virtualenvs/keras-matmulless-b9IALFmu-py3.10/lib/python3.10/site-packages (from python-dateutil>=2.7->matplotlib~=3.9.0) (1.16.0)\n",
                        "Note: you may need to restart the kernel to use updated packages.\n"
                    ]
                }
            ],
            "source": [
                "%pip install matplotlib~=3.9.0 seaborn~=0.13.2"
            ]
        },
        {
            "cell_type": "markdown",
            "metadata": {},
            "source": [
                "## Setup"
            ]
        },
        {
            "cell_type": "markdown",
            "metadata": {},
            "source": [
                "First, let's prepare the imports."
            ]
        },
        {
            "cell_type": "code",
            "execution_count": 2,
            "metadata": {},
            "outputs": [
                {
                    "name": "stderr",
                    "output_type": "stream",
                    "text": [
                        "2024-06-19 08:43:59.890758: I external/local_tsl/tsl/cuda/cudart_stub.cc:32] Could not find cuda drivers on your machine, GPU will not be used.\n",
                        "2024-06-19 08:43:59.893358: I external/local_tsl/tsl/cuda/cudart_stub.cc:32] Could not find cuda drivers on your machine, GPU will not be used.\n",
                        "2024-06-19 08:43:59.925210: I tensorflow/core/platform/cpu_feature_guard.cc:210] This TensorFlow binary is optimized to use available CPU instructions in performance-critical operations.\n",
                        "To enable the following instructions: AVX2 FMA, in other operations, rebuild TensorFlow with the appropriate compiler flags.\n",
                        "2024-06-19 08:44:00.681677: W tensorflow/compiler/tf2tensorrt/utils/py_utils.cc:38] TF-TRT Warning: Could not find TensorRT\n"
                    ]
                }
            ],
            "source": [
                "import keras"
            ]
        },
        {
            "cell_type": "markdown",
            "metadata": {},
            "source": [
                "Define constants relating to the data."
            ]
        },
        {
            "cell_type": "code",
            "execution_count": 3,
            "metadata": {},
            "outputs": [],
            "source": [
                "NUM_CLASSES = 10        # 10 distinct classes, 0 to 9\n",
                "INPUT_SHAPE = (28, 28)  # 28 x 28 greyscale images"
            ]
        },
        {
            "cell_type": "markdown",
            "metadata": {},
            "source": [
                "Load the data from the `fashion_mnist` dataset. We don't actually need the labels in this case."
            ]
        },
        {
            "cell_type": "code",
            "execution_count": 4,
            "metadata": {},
            "outputs": [],
            "source": [
                "(x_train, _), (x_test, _) = keras.datasets.fashion_mnist.load_data()\n",
                "assert x_train.shape == (60000, 28, 28)\n",
                "assert x_test.shape == (10000, 28, 28)"
            ]
        },
        {
            "cell_type": "markdown",
            "metadata": {},
            "source": [
                "Perform some preprocessing."
            ]
        },
        {
            "cell_type": "code",
            "execution_count": 5,
            "metadata": {},
            "outputs": [],
            "source": [
                "x_train = x_train.astype(\"float32\") / 255\n",
                "x_test = x_test.astype(\"float32\") / 255"
            ]
        },
        {
            "cell_type": "markdown",
            "metadata": {},
            "source": [
                "Check the shapes of the arrays that we have so far."
            ]
        },
        {
            "cell_type": "code",
            "execution_count": 6,
            "metadata": {},
            "outputs": [
                {
                    "name": "stdout",
                    "output_type": "stream",
                    "text": [
                        "(60000, 28, 28)\n",
                        "(10000, 28, 28)\n"
                    ]
                }
            ],
            "source": [
                "print(x_train.shape)\n",
                "print(x_test.shape)"
            ]
        },
        {
            "cell_type": "markdown",
            "metadata": {},
            "source": [
                "Let's look at some of the data."
            ]
        },
        {
            "cell_type": "code",
            "execution_count": 7,
            "metadata": {},
            "outputs": [],
            "source": [
                "import matplotlib.pyplot as plt\n",
                "\n",
                "\n",
                "def display_images(images):\n",
                "    n = len(images)\n",
                "    plt.figure(figsize=(2*n, 4))\n",
                "    for i in range(n):\n",
                "        ax = plt.subplot(2, n, i + 1)\n",
                "        plt.imshow(images[i])\n",
                "        plt.title(f\"Index {i}\")\n",
                "        plt.gray()\n",
                "        ax.get_xaxis().set_visible(False)\n",
                "        ax.get_yaxis().set_visible(False)\n",
                "    plt.show()"
            ]
        },
        {
            "cell_type": "code",
            "execution_count": 8,
            "metadata": {},
            "outputs": [
                {
                    "data": {
                        "image/png": "[encoded data removed]",
                        "text/plain": [
                            "<Figure size 2000x400 with 10 Axes>"
                        ]
                    },
                    "metadata": {},
                    "output_type": "display_data"
                }
            ],
            "source": [
                "display_images(x_train[:10])"
            ]
        },
        {
            "cell_type": "code",
            "execution_count": 9,
            "metadata": {},
            "outputs": [
                {
                    "data": {
                        "image/png": "[encoded data removed]",
                        "text/plain": [
                            "<Figure size 2000x400 with 10 Axes>"
                        ]
                    },
                    "metadata": {},
                    "output_type": "display_data"
                }
            ],
            "source": [
                "display_images(x_test[:10])"
            ]
        },
        {
            "cell_type": "markdown",
            "metadata": {},
            "source": [
                "## Creating the Autoencoder"
            ]
        },
        {
            "cell_type": "markdown",
            "metadata": {},
            "source": [
                "Like with most other examples, the architecture for the model is simple, just that the we replace `Dense` layers with `DenseMML`."
            ]
        },
        {
            "cell_type": "markdown",
            "metadata": {},
            "source": [
                "Of course, we need to import `keras_mml` first."
            ]
        },
        {
            "cell_type": "code",
            "execution_count": 10,
            "metadata": {},
            "outputs": [],
            "source": [
                "import keras_mml"
            ]
        },
        {
            "cell_type": "markdown",
            "metadata": {},
            "source": [
                "Now we define the encoder and decoder halves of the model."
            ]
        },
        {
            "cell_type": "code",
            "execution_count": 11,
            "metadata": {},
            "outputs": [
                {
                    "data": {
                        "text/html": [
                            "<pre style=\"white-space:pre;overflow-x:auto;line-height:normal;font-family:Menlo,'DejaVu Sans Mono',consolas,'Courier New',monospace\"><span style=\"font-weight: bold\">Model: \"Autoencoder\"</span>\n",
                            "</pre>\n"
                        ],
                        "text/plain": [
                            "\u001b[1mModel: \"Autoencoder\"\u001b[0m\n"
                        ]
                    },
                    "metadata": {},
                    "output_type": "display_data"
                },
                {
                    "data": {
                        "text/html": [
                            "<pre style=\"white-space:pre;overflow-x:auto;line-height:normal;font-family:Menlo,'DejaVu Sans Mono',consolas,'Courier New',monospace\">┏━━━━━━━━━━━━━━━━━━━━━━━━━━━━━━━━━┳━━━━━━━━━━━━━━━━━━━━━━━━┳━━━━━━━━━━━━━━━┓\n",
                            "┃<span style=\"font-weight: bold\"> Layer (type)                    </span>┃<span style=\"font-weight: bold\"> Output Shape           </span>┃<span style=\"font-weight: bold\">       Param # </span>┃\n",
                            "┡━━━━━━━━━━━━━━━━━━━━━━━━━━━━━━━━━╇━━━━━━━━━━━━━━━━━━━━━━━━╇━━━━━━━━━━━━━━━┩\n",
                            "│ Encoder (<span style=\"color: #0087ff; text-decoration-color: #0087ff\">Sequential</span>)            │ (<span style=\"color: #00d7ff; text-decoration-color: #00d7ff\">None</span>, <span style=\"color: #00af00; text-decoration-color: #00af00\">128</span>)            │       <span style=\"color: #00af00; text-decoration-color: #00af00\">565,248</span> │\n",
                            "├─────────────────────────────────┼────────────────────────┼───────────────┤\n",
                            "│    └ flatten (<span style=\"color: #0087ff; text-decoration-color: #0087ff\">Flatten</span>)          │ (<span style=\"color: #00d7ff; text-decoration-color: #00d7ff\">None</span>, <span style=\"color: #00af00; text-decoration-color: #00af00\">784</span>)            │             <span style=\"color: #00af00; text-decoration-color: #00af00\">0</span> │\n",
                            "├─────────────────────────────────┼────────────────────────┼───────────────┤\n",
                            "│    └ dense_mml (<span style=\"color: #0087ff; text-decoration-color: #0087ff\">DenseMML</span>)       │ (<span style=\"color: #00d7ff; text-decoration-color: #00d7ff\">None</span>, <span style=\"color: #00af00; text-decoration-color: #00af00\">512</span>)            │       <span style=\"color: #00af00; text-decoration-color: #00af00\">401,408</span> │\n",
                            "├─────────────────────────────────┼────────────────────────┼───────────────┤\n",
                            "│    └ dense_mml_1 (<span style=\"color: #0087ff; text-decoration-color: #0087ff\">DenseMML</span>)     │ (<span style=\"color: #00d7ff; text-decoration-color: #00d7ff\">None</span>, <span style=\"color: #00af00; text-decoration-color: #00af00\">256</span>)            │       <span style=\"color: #00af00; text-decoration-color: #00af00\">131,072</span> │\n",
                            "├─────────────────────────────────┼────────────────────────┼───────────────┤\n",
                            "│    └ encoder_output (<span style=\"color: #0087ff; text-decoration-color: #0087ff\">DenseMML</span>)  │ (<span style=\"color: #00d7ff; text-decoration-color: #00d7ff\">None</span>, <span style=\"color: #00af00; text-decoration-color: #00af00\">128</span>)            │        <span style=\"color: #00af00; text-decoration-color: #00af00\">32,768</span> │\n",
                            "├─────────────────────────────────┼────────────────────────┼───────────────┤\n",
                            "│ Decoder (<span style=\"color: #0087ff; text-decoration-color: #0087ff\">Sequential</span>)            │ (<span style=\"color: #00d7ff; text-decoration-color: #00d7ff\">None</span>, <span style=\"color: #00af00; text-decoration-color: #00af00\">28</span>, <span style=\"color: #00af00; text-decoration-color: #00af00\">28</span>)         │       <span style=\"color: #00af00; text-decoration-color: #00af00\">566,032</span> │\n",
                            "├─────────────────────────────────┼────────────────────────┼───────────────┤\n",
                            "│    └ dense_mml_2 (<span style=\"color: #0087ff; text-decoration-color: #0087ff\">DenseMML</span>)     │ (<span style=\"color: #00d7ff; text-decoration-color: #00d7ff\">None</span>, <span style=\"color: #00af00; text-decoration-color: #00af00\">256</span>)            │        <span style=\"color: #00af00; text-decoration-color: #00af00\">32,768</span> │\n",
                            "├─────────────────────────────────┼────────────────────────┼───────────────┤\n",
                            "│    └ dense_mml_3 (<span style=\"color: #0087ff; text-decoration-color: #0087ff\">DenseMML</span>)     │ (<span style=\"color: #00d7ff; text-decoration-color: #00d7ff\">None</span>, <span style=\"color: #00af00; text-decoration-color: #00af00\">512</span>)            │       <span style=\"color: #00af00; text-decoration-color: #00af00\">131,072</span> │\n",
                            "├─────────────────────────────────┼────────────────────────┼───────────────┤\n",
                            "│    └ dense (<span style=\"color: #0087ff; text-decoration-color: #0087ff\">Dense</span>)              │ (<span style=\"color: #00d7ff; text-decoration-color: #00d7ff\">None</span>, <span style=\"color: #00af00; text-decoration-color: #00af00\">784</span>)            │       <span style=\"color: #00af00; text-decoration-color: #00af00\">402,192</span> │\n",
                            "├─────────────────────────────────┼────────────────────────┼───────────────┤\n",
                            "│    └ decoder_output (<span style=\"color: #0087ff; text-decoration-color: #0087ff\">Reshape</span>)   │ (<span style=\"color: #00d7ff; text-decoration-color: #00d7ff\">None</span>, <span style=\"color: #00af00; text-decoration-color: #00af00\">28</span>, <span style=\"color: #00af00; text-decoration-color: #00af00\">28</span>)         │             <span style=\"color: #00af00; text-decoration-color: #00af00\">0</span> │\n",
                            "└─────────────────────────────────┴────────────────────────┴───────────────┘\n",
                            "</pre>\n"
                        ],
                        "text/plain": [
                            "┏━━━━━━━━━━━━━━━━━━━━━━━━━━━━━━━━━┳━━━━━━━━━━━━━━━━━━━━━━━━┳━━━━━━━━━━━━━━━┓\n",
                            "┃\u001b[1m \u001b[0m\u001b[1mLayer (type)                   \u001b[0m\u001b[1m \u001b[0m┃\u001b[1m \u001b[0m\u001b[1mOutput Shape          \u001b[0m\u001b[1m \u001b[0m┃\u001b[1m \u001b[0m\u001b[1m      Param #\u001b[0m\u001b[1m \u001b[0m┃\n",
                            "┡━━━━━━━━━━━━━━━━━━━━━━━━━━━━━━━━━╇━━━━━━━━━━━━━━━━━━━━━━━━╇━━━━━━━━━━━━━━━┩\n",
                            "│ Encoder (\u001b[38;5;33mSequential\u001b[0m)            │ (\u001b[38;5;45mNone\u001b[0m, \u001b[38;5;34m128\u001b[0m)            │       \u001b[38;5;34m565,248\u001b[0m │\n",
                            "├─────────────────────────────────┼────────────────────────┼───────────────┤\n",
                            "│    └ flatten (\u001b[38;5;33mFlatten\u001b[0m)          │ (\u001b[38;5;45mNone\u001b[0m, \u001b[38;5;34m784\u001b[0m)            │             \u001b[38;5;34m0\u001b[0m │\n",
                            "├─────────────────────────────────┼────────────────────────┼───────────────┤\n",
                            "│    └ dense_mml (\u001b[38;5;33mDenseMML\u001b[0m)       │ (\u001b[38;5;45mNone\u001b[0m, \u001b[38;5;34m512\u001b[0m)            │       \u001b[38;5;34m401,408\u001b[0m │\n",
                            "├─────────────────────────────────┼────────────────────────┼───────────────┤\n",
                            "│    └ dense_mml_1 (\u001b[38;5;33mDenseMML\u001b[0m)     │ (\u001b[38;5;45mNone\u001b[0m, \u001b[38;5;34m256\u001b[0m)            │       \u001b[38;5;34m131,072\u001b[0m │\n",
                            "├─────────────────────────────────┼────────────────────────┼───────────────┤\n",
                            "│    └ encoder_output (\u001b[38;5;33mDenseMML\u001b[0m)  │ (\u001b[38;5;45mNone\u001b[0m, \u001b[38;5;34m128\u001b[0m)            │        \u001b[38;5;34m32,768\u001b[0m │\n",
                            "├─────────────────────────────────┼────────────────────────┼───────────────┤\n",
                            "│ Decoder (\u001b[38;5;33mSequential\u001b[0m)            │ (\u001b[38;5;45mNone\u001b[0m, \u001b[38;5;34m28\u001b[0m, \u001b[38;5;34m28\u001b[0m)         │       \u001b[38;5;34m566,032\u001b[0m │\n",
                            "├─────────────────────────────────┼────────────────────────┼───────────────┤\n",
                            "│    └ dense_mml_2 (\u001b[38;5;33mDenseMML\u001b[0m)     │ (\u001b[38;5;45mNone\u001b[0m, \u001b[38;5;34m256\u001b[0m)            │        \u001b[38;5;34m32,768\u001b[0m │\n",
                            "├─────────────────────────────────┼────────────────────────┼───────────────┤\n",
                            "│    └ dense_mml_3 (\u001b[38;5;33mDenseMML\u001b[0m)     │ (\u001b[38;5;45mNone\u001b[0m, \u001b[38;5;34m512\u001b[0m)            │       \u001b[38;5;34m131,072\u001b[0m │\n",
                            "├─────────────────────────────────┼────────────────────────┼───────────────┤\n",
                            "│    └ dense (\u001b[38;5;33mDense\u001b[0m)              │ (\u001b[38;5;45mNone\u001b[0m, \u001b[38;5;34m784\u001b[0m)            │       \u001b[38;5;34m402,192\u001b[0m │\n",
                            "├─────────────────────────────────┼────────────────────────┼───────────────┤\n",
                            "│    └ decoder_output (\u001b[38;5;33mReshape\u001b[0m)   │ (\u001b[38;5;45mNone\u001b[0m, \u001b[38;5;34m28\u001b[0m, \u001b[38;5;34m28\u001b[0m)         │             \u001b[38;5;34m0\u001b[0m │\n",
                            "└─────────────────────────────────┴────────────────────────┴───────────────┘\n"
                        ]
                    },
                    "metadata": {},
                    "output_type": "display_data"
                },
                {
                    "data": {
                        "text/html": [
                            "<pre style=\"white-space:pre;overflow-x:auto;line-height:normal;font-family:Menlo,'DejaVu Sans Mono',consolas,'Courier New',monospace\"><span style=\"font-weight: bold\"> Total params: </span><span style=\"color: #00af00; text-decoration-color: #00af00\">1,131,280</span> (4.32 MB)\n",
                            "</pre>\n"
                        ],
                        "text/plain": [
                            "\u001b[1m Total params: \u001b[0m\u001b[38;5;34m1,131,280\u001b[0m (4.32 MB)\n"
                        ]
                    },
                    "metadata": {},
                    "output_type": "display_data"
                },
                {
                    "data": {
                        "text/html": [
                            "<pre style=\"white-space:pre;overflow-x:auto;line-height:normal;font-family:Menlo,'DejaVu Sans Mono',consolas,'Courier New',monospace\"><span style=\"font-weight: bold\"> Trainable params: </span><span style=\"color: #00af00; text-decoration-color: #00af00\">1,131,280</span> (4.32 MB)\n",
                            "</pre>\n"
                        ],
                        "text/plain": [
                            "\u001b[1m Trainable params: \u001b[0m\u001b[38;5;34m1,131,280\u001b[0m (4.32 MB)\n"
                        ]
                    },
                    "metadata": {},
                    "output_type": "display_data"
                },
                {
                    "data": {
                        "text/html": [
                            "<pre style=\"white-space:pre;overflow-x:auto;line-height:normal;font-family:Menlo,'DejaVu Sans Mono',consolas,'Courier New',monospace\"><span style=\"font-weight: bold\"> Non-trainable params: </span><span style=\"color: #00af00; text-decoration-color: #00af00\">0</span> (0.00 B)\n",
                            "</pre>\n"
                        ],
                        "text/plain": [
                            "\u001b[1m Non-trainable params: \u001b[0m\u001b[38;5;34m0\u001b[0m (0.00 B)\n"
                        ]
                    },
                    "metadata": {},
                    "output_type": "display_data"
                }
            ],
            "source": [
                "def create_encoder():\n",
                "    encoder = keras.Sequential(name=\"Encoder\")\n",
                "    encoder.add(keras.Input((28, 28), name=\"encoder_input\"))\n",
                "    encoder.add(keras.layers.Flatten())\n",
                "    encoder.add(keras_mml.layers.DenseMML(512, activation=\"relu\"))\n",
                "    encoder.add(keras_mml.layers.DenseMML(256, activation=\"relu\"))\n",
                "    encoder.add(keras_mml.layers.DenseMML(128, activation=\"relu\", name=\"encoder_output\"))\n",
                "    return encoder\n",
                "\n",
                "\n",
                "def create_decoder():\n",
                "    decoder = keras.Sequential(name=\"Decoder\")\n",
                "    decoder.add(keras.Input((128,), name=\"decoder_input\"))\n",
                "    decoder.add(keras_mml.layers.DenseMML(256, activation=\"relu\"))\n",
                "    decoder.add(keras_mml.layers.DenseMML(512, activation=\"relu\"))\n",
                "    decoder.add(keras.layers.Dense(784, activation=\"sigmoid\"))  # We need un-quantized outputs here\n",
                "    decoder.add(keras.layers.Reshape((28, 28), name=\"decoder_output\"))\n",
                "    return decoder\n",
                "\n",
                "\n",
                "def create_model(encoder, decoder):\n",
                "    model = keras.Sequential(name=\"Autoencoder\")\n",
                "    model.add(keras.layers.Input((28, 28), name=\"input\"))\n",
                "    model.add(encoder)\n",
                "    model.add(decoder)\n",
                "\n",
                "    model.compile(\n",
                "        loss=\"mse\",\n",
                "        optimizer=\"adam\",\n",
                "        metrics=[\"mae\"]\n",
                "    )\n",
                "\n",
                "    return model\n",
                "\n",
                "\n",
                "model = create_model(create_encoder(), create_decoder())\n",
                "model.summary(expand_nested=True)"
            ]
        },
        {
            "cell_type": "markdown",
            "metadata": {},
            "source": [
                "With the model defined, we can train it. We will halt training of the model if the validation loss does not improve drastically."
            ]
        },
        {
            "cell_type": "code",
            "execution_count": 12,
            "metadata": {},
            "outputs": [
                {
                    "name": "stdout",
                    "output_type": "stream",
                    "text": [
                        "Epoch 1/200\n",
                        "\u001b[1m211/211\u001b[0m \u001b[32m━━━━━━━━━━━━━━━━━━━━\u001b[0m\u001b[37m\u001b[0m \u001b[1m6s\u001b[0m 19ms/step - loss: 0.1618 - mae: 0.3739 - val_loss: 0.1193 - val_mae: 0.3227\n",
                        "Epoch 2/200\n",
                        "\u001b[1m211/211\u001b[0m \u001b[32m━━━━━━━━━━━━━━━━━━━━\u001b[0m\u001b[37m\u001b[0m \u001b[1m3s\u001b[0m 16ms/step - loss: 0.1058 - mae: 0.2992 - val_loss: 0.0830 - val_mae: 0.2483\n",
                        "Epoch 3/200\n",
                        "\u001b[1m211/211\u001b[0m \u001b[32m━━━━━━━━━━━━━━━━━━━━\u001b[0m\u001b[37m\u001b[0m \u001b[1m3s\u001b[0m 16ms/step - loss: 0.0795 - mae: 0.2395 - val_loss: 0.0719 - val_mae: 0.2195\n",
                        "Epoch 4/200\n",
                        "\u001b[1m211/211\u001b[0m \u001b[32m━━━━━━━━━━━━━━━━━━━━\u001b[0m\u001b[37m\u001b[0m \u001b[1m3s\u001b[0m 16ms/step - loss: 0.0692 - mae: 0.2137 - val_loss: 0.0631 - val_mae: 0.1995\n",
                        "Epoch 5/200\n",
                        "\u001b[1m211/211\u001b[0m \u001b[32m━━━━━━━━━━━━━━━━━━━━\u001b[0m\u001b[37m\u001b[0m \u001b[1m3s\u001b[0m 16ms/step - loss: 0.0606 - mae: 0.1945 - val_loss: 0.0557 - val_mae: 0.1830\n",
                        "Epoch 6/200\n",
                        "\u001b[1m211/211\u001b[0m \u001b[32m━━━━━━━━━━━━━━━━━━━━\u001b[0m\u001b[37m\u001b[0m \u001b[1m3s\u001b[0m 16ms/step - loss: 0.0536 - mae: 0.1785 - val_loss: 0.0501 - val_mae: 0.1694\n",
                        "Epoch 7/200\n",
                        "\u001b[1m211/211\u001b[0m \u001b[32m━━━━━━━━━━━━━━━━━━━━\u001b[0m\u001b[37m\u001b[0m \u001b[1m4s\u001b[0m 17ms/step - loss: 0.0485 - mae: 0.1657 - val_loss: 0.0459 - val_mae: 0.1587\n",
                        "Epoch 8/200\n",
                        "\u001b[1m211/211\u001b[0m \u001b[32m━━━━━━━━━━━━━━━━━━━━\u001b[0m\u001b[37m\u001b[0m \u001b[1m3s\u001b[0m 16ms/step - loss: 0.0446 - mae: 0.1556 - val_loss: 0.0427 - val_mae: 0.1502\n",
                        "Epoch 9/200\n",
                        "\u001b[1m211/211\u001b[0m \u001b[32m━━━━━━━━━━━━━━━━━━━━\u001b[0m\u001b[37m\u001b[0m \u001b[1m3s\u001b[0m 16ms/step - loss: 0.0417 - mae: 0.1477 - val_loss: 0.0404 - val_mae: 0.1435\n",
                        "Epoch 10/200\n",
                        "\u001b[1m211/211\u001b[0m \u001b[32m━━━━━━━━━━━━━━━━━━━━\u001b[0m\u001b[37m\u001b[0m \u001b[1m4s\u001b[0m 17ms/step - loss: 0.0393 - mae: 0.1409 - val_loss: 0.0385 - val_mae: 0.1382\n",
                        "Epoch 11/200\n",
                        "\u001b[1m211/211\u001b[0m \u001b[32m━━━━━━━━━━━━━━━━━━━━\u001b[0m\u001b[37m\u001b[0m \u001b[1m4s\u001b[0m 17ms/step - loss: 0.0378 - mae: 0.1363 - val_loss: 0.0371 - val_mae: 0.1337\n",
                        "Epoch 12/200\n",
                        "\u001b[1m211/211\u001b[0m \u001b[32m━━━━━━━━━━━━━━━━━━━━\u001b[0m\u001b[37m\u001b[0m \u001b[1m4s\u001b[0m 17ms/step - loss: 0.0362 - mae: 0.1316 - val_loss: 0.0359 - val_mae: 0.1301\n",
                        "Epoch 13/200\n",
                        "\u001b[1m211/211\u001b[0m \u001b[32m━━━━━━━━━━━━━━━━━━━━\u001b[0m\u001b[37m\u001b[0m \u001b[1m4s\u001b[0m 17ms/step - loss: 0.0352 - mae: 0.1283 - val_loss: 0.0349 - val_mae: 0.1271\n",
                        "Epoch 14/200\n",
                        "\u001b[1m211/211\u001b[0m \u001b[32m━━━━━━━━━━━━━━━━━━━━\u001b[0m\u001b[37m\u001b[0m \u001b[1m4s\u001b[0m 17ms/step - loss: 0.0344 - mae: 0.1258 - val_loss: 0.0341 - val_mae: 0.1246\n",
                        "Epoch 15/200\n",
                        "\u001b[1m211/211\u001b[0m \u001b[32m━━━━━━━━━━━━━━━━━━━━\u001b[0m\u001b[37m\u001b[0m \u001b[1m3s\u001b[0m 16ms/step - loss: 0.0333 - mae: 0.1229 - val_loss: 0.0333 - val_mae: 0.1224\n",
                        "Epoch 16/200\n",
                        "\u001b[1m211/211\u001b[0m \u001b[32m━━━━━━━━━━━━━━━━━━━━\u001b[0m\u001b[37m\u001b[0m \u001b[1m4s\u001b[0m 17ms/step - loss: 0.0328 - mae: 0.1210 - val_loss: 0.0327 - val_mae: 0.1205\n",
                        "Epoch 17/200\n",
                        "\u001b[1m211/211\u001b[0m \u001b[32m━━━━━━━━━━━━━━━━━━━━\u001b[0m\u001b[37m\u001b[0m \u001b[1m4s\u001b[0m 18ms/step - loss: 0.0320 - mae: 0.1189 - val_loss: 0.0321 - val_mae: 0.1188\n",
                        "Epoch 18/200\n",
                        "\u001b[1m211/211\u001b[0m \u001b[32m━━━━━━━━━━━━━━━━━━━━\u001b[0m\u001b[37m\u001b[0m \u001b[1m4s\u001b[0m 18ms/step - loss: 0.0315 - mae: 0.1172 - val_loss: 0.0316 - val_mae: 0.1173\n",
                        "Epoch 19/200\n",
                        "\u001b[1m211/211\u001b[0m \u001b[32m━━━━━━━━━━━━━━━━━━━━\u001b[0m\u001b[37m\u001b[0m \u001b[1m4s\u001b[0m 18ms/step - loss: 0.0311 - mae: 0.1161 - val_loss: 0.0311 - val_mae: 0.1160\n",
                        "Epoch 20/200\n",
                        "\u001b[1m211/211\u001b[0m \u001b[32m━━━━━━━━━━━━━━━━━━━━\u001b[0m\u001b[37m\u001b[0m \u001b[1m3s\u001b[0m 16ms/step - loss: 0.0306 - mae: 0.1147 - val_loss: 0.0307 - val_mae: 0.1149\n",
                        "Epoch 21/200\n",
                        "\u001b[1m211/211\u001b[0m \u001b[32m━━━━━━━━━━━━━━━━━━━━\u001b[0m\u001b[37m\u001b[0m \u001b[1m4s\u001b[0m 17ms/step - loss: 0.0302 - mae: 0.1135 - val_loss: 0.0304 - val_mae: 0.1138\n",
                        "Epoch 22/200\n",
                        "\u001b[1m211/211\u001b[0m \u001b[32m━━━━━━━━━━━━━━━━━━━━\u001b[0m\u001b[37m\u001b[0m \u001b[1m4s\u001b[0m 17ms/step - loss: 0.0299 - mae: 0.1126 - val_loss: 0.0300 - val_mae: 0.1127\n",
                        "Epoch 23/200\n",
                        "\u001b[1m211/211\u001b[0m \u001b[32m━━━━━━━━━━━━━━━━━━━━\u001b[0m\u001b[37m\u001b[0m \u001b[1m4s\u001b[0m 17ms/step - loss: 0.0294 - mae: 0.1113 - val_loss: 0.0297 - val_mae: 0.1117\n",
                        "Epoch 24/200\n",
                        "\u001b[1m211/211\u001b[0m \u001b[32m━━━━━━━━━━━━━━━━━━━━\u001b[0m\u001b[37m\u001b[0m \u001b[1m4s\u001b[0m 18ms/step - loss: 0.0293 - mae: 0.1107 - val_loss: 0.0294 - val_mae: 0.1109\n",
                        "Epoch 25/200\n",
                        "\u001b[1m211/211\u001b[0m \u001b[32m━━━━━━━━━━━━━━━━━━━━\u001b[0m\u001b[37m\u001b[0m \u001b[1m4s\u001b[0m 18ms/step - loss: 0.0290 - mae: 0.1099 - val_loss: 0.0291 - val_mae: 0.1102\n",
                        "Epoch 26/200\n",
                        "\u001b[1m211/211\u001b[0m \u001b[32m━━━━━━━━━━━━━━━━━━━━\u001b[0m\u001b[37m\u001b[0m \u001b[1m4s\u001b[0m 17ms/step - loss: 0.0287 - mae: 0.1088 - val_loss: 0.0289 - val_mae: 0.1094\n",
                        "Epoch 27/200\n",
                        "\u001b[1m211/211\u001b[0m \u001b[32m━━━━━━━━━━━━━━━━━━━━\u001b[0m\u001b[37m\u001b[0m \u001b[1m4s\u001b[0m 17ms/step - loss: 0.0285 - mae: 0.1083 - val_loss: 0.0287 - val_mae: 0.1087\n",
                        "Epoch 28/200\n",
                        "\u001b[1m211/211\u001b[0m \u001b[32m━━━━━━━━━━━━━━━━━━━━\u001b[0m\u001b[37m\u001b[0m \u001b[1m4s\u001b[0m 18ms/step - loss: 0.0282 - mae: 0.1075 - val_loss: 0.0284 - val_mae: 0.1081\n",
                        "Epoch 29/200\n",
                        "\u001b[1m211/211\u001b[0m \u001b[32m━━━━━━━━━━━━━━━━━━━━\u001b[0m\u001b[37m\u001b[0m \u001b[1m4s\u001b[0m 17ms/step - loss: 0.0279 - mae: 0.1068 - val_loss: 0.0283 - val_mae: 0.1075\n",
                        "Epoch 30/200\n",
                        "\u001b[1m211/211\u001b[0m \u001b[32m━━━━━━━━━━━━━━━━━━━━\u001b[0m\u001b[37m\u001b[0m \u001b[1m4s\u001b[0m 18ms/step - loss: 0.0277 - mae: 0.1062 - val_loss: 0.0281 - val_mae: 0.1069\n",
                        "Epoch 31/200\n",
                        "\u001b[1m211/211\u001b[0m \u001b[32m━━━━━━━━━━━━━━━━━━━━\u001b[0m\u001b[37m\u001b[0m \u001b[1m4s\u001b[0m 18ms/step - loss: 0.0276 - mae: 0.1057 - val_loss: 0.0279 - val_mae: 0.1064\n",
                        "Epoch 32/200\n",
                        "\u001b[1m211/211\u001b[0m \u001b[32m━━━━━━━━━━━━━━━━━━━━\u001b[0m\u001b[37m\u001b[0m \u001b[1m4s\u001b[0m 17ms/step - loss: 0.0274 - mae: 0.1054 - val_loss: 0.0277 - val_mae: 0.1059\n",
                        "Epoch 33/200\n",
                        "\u001b[1m211/211\u001b[0m \u001b[32m━━━━━━━━━━━━━━━━━━━━\u001b[0m\u001b[37m\u001b[0m \u001b[1m4s\u001b[0m 18ms/step - loss: 0.0272 - mae: 0.1048 - val_loss: 0.0276 - val_mae: 0.1055\n",
                        "Epoch 34/200\n",
                        "\u001b[1m211/211\u001b[0m \u001b[32m━━━━━━━━━━━━━━━━━━━━\u001b[0m\u001b[37m\u001b[0m \u001b[1m4s\u001b[0m 17ms/step - loss: 0.0270 - mae: 0.1042 - val_loss: 0.0274 - val_mae: 0.1051\n",
                        "Epoch 35/200\n",
                        "\u001b[1m211/211\u001b[0m \u001b[32m━━━━━━━━━━━━━━━━━━━━\u001b[0m\u001b[37m\u001b[0m \u001b[1m4s\u001b[0m 17ms/step - loss: 0.0270 - mae: 0.1040 - val_loss: 0.0273 - val_mae: 0.1048\n",
                        "Epoch 36/200\n",
                        "\u001b[1m211/211\u001b[0m \u001b[32m━━━━━━━━━━━━━━━━━━━━\u001b[0m\u001b[37m\u001b[0m \u001b[1m4s\u001b[0m 17ms/step - loss: 0.0268 - mae: 0.1037 - val_loss: 0.0271 - val_mae: 0.1041\n",
                        "Epoch 37/200\n",
                        "\u001b[1m211/211\u001b[0m \u001b[32m━━━━━━━━━━━━━━━━━━━━\u001b[0m\u001b[37m\u001b[0m \u001b[1m4s\u001b[0m 17ms/step - loss: 0.0267 - mae: 0.1031 - val_loss: 0.0270 - val_mae: 0.1039\n",
                        "Epoch 38/200\n",
                        "\u001b[1m211/211\u001b[0m \u001b[32m━━━━━━━━━━━━━━━━━━━━\u001b[0m\u001b[37m\u001b[0m \u001b[1m4s\u001b[0m 17ms/step - loss: 0.0264 - mae: 0.1025 - val_loss: 0.0269 - val_mae: 0.1035\n",
                        "Epoch 39/200\n",
                        "\u001b[1m211/211\u001b[0m \u001b[32m━━━━━━━━━━━━━━━━━━━━\u001b[0m\u001b[37m\u001b[0m \u001b[1m4s\u001b[0m 18ms/step - loss: 0.0264 - mae: 0.1023 - val_loss: 0.0268 - val_mae: 0.1032\n",
                        "Epoch 40/200\n",
                        "\u001b[1m211/211\u001b[0m \u001b[32m━━━━━━━━━━━━━━━━━━━━\u001b[0m\u001b[37m\u001b[0m \u001b[1m4s\u001b[0m 17ms/step - loss: 0.0262 - mae: 0.1018 - val_loss: 0.0267 - val_mae: 0.1029\n",
                        "Epoch 41/200\n",
                        "\u001b[1m211/211\u001b[0m \u001b[32m━━━━━━━━━━━━━━━━━━━━\u001b[0m\u001b[37m\u001b[0m \u001b[1m4s\u001b[0m 17ms/step - loss: 0.0261 - mae: 0.1015 - val_loss: 0.0266 - val_mae: 0.1026\n",
                        "Epoch 42/200\n",
                        "\u001b[1m211/211\u001b[0m \u001b[32m━━━━━━━━━━━━━━━━━━━━\u001b[0m\u001b[37m\u001b[0m \u001b[1m4s\u001b[0m 17ms/step - loss: 0.0261 - mae: 0.1014 - val_loss: 0.0265 - val_mae: 0.1022\n",
                        "Epoch 43/200\n",
                        "\u001b[1m211/211\u001b[0m \u001b[32m━━━━━━━━━━━━━━━━━━━━\u001b[0m\u001b[37m\u001b[0m \u001b[1m4s\u001b[0m 17ms/step - loss: 0.0259 - mae: 0.1009 - val_loss: 0.0264 - val_mae: 0.1020\n",
                        "Epoch 44/200\n",
                        "\u001b[1m211/211\u001b[0m \u001b[32m━━━━━━━━━━━━━━━━━━━━\u001b[0m\u001b[37m\u001b[0m \u001b[1m4s\u001b[0m 17ms/step - loss: 0.0259 - mae: 0.1009 - val_loss: 0.0263 - val_mae: 0.1017\n",
                        "Epoch 45/200\n",
                        "\u001b[1m211/211\u001b[0m \u001b[32m━━━━━━━━━━━━━━━━━━━━\u001b[0m\u001b[37m\u001b[0m \u001b[1m4s\u001b[0m 17ms/step - loss: 0.0257 - mae: 0.1004 - val_loss: 0.0262 - val_mae: 0.1015\n",
                        "Epoch 46/200\n",
                        "\u001b[1m211/211\u001b[0m \u001b[32m━━━━━━━━━━━━━━━━━━━━\u001b[0m\u001b[37m\u001b[0m \u001b[1m4s\u001b[0m 17ms/step - loss: 0.0256 - mae: 0.1000 - val_loss: 0.0261 - val_mae: 0.1013\n",
                        "Epoch 47/200\n",
                        "\u001b[1m211/211\u001b[0m \u001b[32m━━━━━━━━━━━━━━━━━━━━\u001b[0m\u001b[37m\u001b[0m \u001b[1m4s\u001b[0m 19ms/step - loss: 0.0256 - mae: 0.1002 - val_loss: 0.0260 - val_mae: 0.1010\n",
                        "Epoch 48/200\n",
                        "\u001b[1m211/211\u001b[0m \u001b[32m━━━━━━━━━━━━━━━━━━━━\u001b[0m\u001b[37m\u001b[0m \u001b[1m4s\u001b[0m 18ms/step - loss: 0.0256 - mae: 0.0998 - val_loss: 0.0260 - val_mae: 0.1008\n",
                        "Epoch 49/200\n",
                        "\u001b[1m211/211\u001b[0m \u001b[32m━━━━━━━━━━━━━━━━━━━━\u001b[0m\u001b[37m\u001b[0m \u001b[1m4s\u001b[0m 19ms/step - loss: 0.0253 - mae: 0.0992 - val_loss: 0.0259 - val_mae: 0.1006\n",
                        "Epoch 50/200\n",
                        "\u001b[1m211/211\u001b[0m \u001b[32m━━━━━━━━━━━━━━━━━━━━\u001b[0m\u001b[37m\u001b[0m \u001b[1m4s\u001b[0m 19ms/step - loss: 0.0253 - mae: 0.0992 - val_loss: 0.0258 - val_mae: 0.1004\n",
                        "Epoch 51/200\n",
                        "\u001b[1m211/211\u001b[0m \u001b[32m━━━━━━━━━━━━━━━━━━━━\u001b[0m\u001b[37m\u001b[0m \u001b[1m4s\u001b[0m 18ms/step - loss: 0.0253 - mae: 0.0991 - val_loss: 0.0257 - val_mae: 0.1002\n",
                        "Epoch 52/200\n",
                        "\u001b[1m211/211\u001b[0m \u001b[32m━━━━━━━━━━━━━━━━━━━━\u001b[0m\u001b[37m\u001b[0m \u001b[1m4s\u001b[0m 20ms/step - loss: 0.0253 - mae: 0.0990 - val_loss: 0.0257 - val_mae: 0.1000\n",
                        "Epoch 53/200\n",
                        "\u001b[1m211/211\u001b[0m \u001b[32m━━━━━━━━━━━━━━━━━━━━\u001b[0m\u001b[37m\u001b[0m \u001b[1m4s\u001b[0m 18ms/step - loss: 0.0250 - mae: 0.0985 - val_loss: 0.0256 - val_mae: 0.0998\n",
                        "Epoch 54/200\n",
                        "\u001b[1m211/211\u001b[0m \u001b[32m━━━━━━━━━━━━━━━━━━━━\u001b[0m\u001b[37m\u001b[0m \u001b[1m4s\u001b[0m 19ms/step - loss: 0.0250 - mae: 0.0983 - val_loss: 0.0255 - val_mae: 0.0997\n",
                        "Epoch 55/200\n",
                        "\u001b[1m211/211\u001b[0m \u001b[32m━━━━━━━━━━━━━━━━━━━━\u001b[0m\u001b[37m\u001b[0m \u001b[1m4s\u001b[0m 20ms/step - loss: 0.0249 - mae: 0.0982 - val_loss: 0.0255 - val_mae: 0.0995\n",
                        "Epoch 56/200\n",
                        "\u001b[1m211/211\u001b[0m \u001b[32m━━━━━━━━━━━━━━━━━━━━\u001b[0m\u001b[37m\u001b[0m \u001b[1m4s\u001b[0m 19ms/step - loss: 0.0250 - mae: 0.0984 - val_loss: 0.0254 - val_mae: 0.0993\n",
                        "Epoch 57/200\n",
                        "\u001b[1m211/211\u001b[0m \u001b[32m━━━━━━━━━━━━━━━━━━━━\u001b[0m\u001b[37m\u001b[0m \u001b[1m4s\u001b[0m 19ms/step - loss: 0.0248 - mae: 0.0979 - val_loss: 0.0254 - val_mae: 0.0992\n",
                        "Epoch 58/200\n",
                        "\u001b[1m211/211\u001b[0m \u001b[32m━━━━━━━━━━━━━━━━━━━━\u001b[0m\u001b[37m\u001b[0m \u001b[1m4s\u001b[0m 19ms/step - loss: 0.0249 - mae: 0.0981 - val_loss: 0.0253 - val_mae: 0.0990\n",
                        "Epoch 59/200\n",
                        "\u001b[1m211/211\u001b[0m \u001b[32m━━━━━━━━━━━━━━━━━━━━\u001b[0m\u001b[37m\u001b[0m \u001b[1m4s\u001b[0m 18ms/step - loss: 0.0249 - mae: 0.0981 - val_loss: 0.0253 - val_mae: 0.0988\n",
                        "Epoch 60/200\n",
                        "\u001b[1m211/211\u001b[0m \u001b[32m━━━━━━━━━━━━━━━━━━━━\u001b[0m\u001b[37m\u001b[0m \u001b[1m4s\u001b[0m 18ms/step - loss: 0.0247 - mae: 0.0975 - val_loss: 0.0252 - val_mae: 0.0986\n",
                        "Epoch 61/200\n",
                        "\u001b[1m211/211\u001b[0m \u001b[32m━━━━━━━━━━━━━━━━━━━━\u001b[0m\u001b[37m\u001b[0m \u001b[1m4s\u001b[0m 19ms/step - loss: 0.0248 - mae: 0.0977 - val_loss: 0.0252 - val_mae: 0.0984\n",
                        "Epoch 62/200\n",
                        "\u001b[1m211/211\u001b[0m \u001b[32m━━━━━━━━━━━━━━━━━━━━\u001b[0m\u001b[37m\u001b[0m \u001b[1m4s\u001b[0m 18ms/step - loss: 0.0247 - mae: 0.0973 - val_loss: 0.0251 - val_mae: 0.0983\n",
                        "Epoch 63/200\n",
                        "\u001b[1m211/211\u001b[0m \u001b[32m━━━━━━━━━━━━━━━━━━━━\u001b[0m\u001b[37m\u001b[0m \u001b[1m4s\u001b[0m 18ms/step - loss: 0.0247 - mae: 0.0974 - val_loss: 0.0251 - val_mae: 0.0981\n",
                        "Epoch 64/200\n",
                        "\u001b[1m211/211\u001b[0m \u001b[32m━━━━━━━━━━━━━━━━━━━━\u001b[0m\u001b[37m\u001b[0m \u001b[1m4s\u001b[0m 17ms/step - loss: 0.0245 - mae: 0.0969 - val_loss: 0.0250 - val_mae: 0.0980\n",
                        "Epoch 65/200\n",
                        "\u001b[1m211/211\u001b[0m \u001b[32m━━━━━━━━━━━━━━━━━━━━\u001b[0m\u001b[37m\u001b[0m \u001b[1m3s\u001b[0m 16ms/step - loss: 0.0245 - mae: 0.0968 - val_loss: 0.0250 - val_mae: 0.0979\n",
                        "Epoch 66/200\n",
                        "\u001b[1m211/211\u001b[0m \u001b[32m━━━━━━━━━━━━━━━━━━━━\u001b[0m\u001b[37m\u001b[0m \u001b[1m4s\u001b[0m 17ms/step - loss: 0.0244 - mae: 0.0966 - val_loss: 0.0249 - val_mae: 0.0979\n",
                        "Epoch 67/200\n",
                        "\u001b[1m211/211\u001b[0m \u001b[32m━━━━━━━━━━━━━━━━━━━━\u001b[0m\u001b[37m\u001b[0m \u001b[1m4s\u001b[0m 17ms/step - loss: 0.0243 - mae: 0.0965 - val_loss: 0.0249 - val_mae: 0.0978\n",
                        "Epoch 68/200\n",
                        "\u001b[1m211/211\u001b[0m \u001b[32m━━━━━━━━━━━━━━━━━━━━\u001b[0m\u001b[37m\u001b[0m \u001b[1m4s\u001b[0m 17ms/step - loss: 0.0245 - mae: 0.0969 - val_loss: 0.0249 - val_mae: 0.0976\n",
                        "Epoch 69/200\n",
                        "\u001b[1m211/211\u001b[0m \u001b[32m━━━━━━━━━━━━━━━━━━━━\u001b[0m\u001b[37m\u001b[0m \u001b[1m4s\u001b[0m 17ms/step - loss: 0.0243 - mae: 0.0963 - val_loss: 0.0248 - val_mae: 0.0975\n",
                        "Epoch 70/200\n",
                        "\u001b[1m211/211\u001b[0m \u001b[32m━━━━━━━━━━━━━━━━━━━━\u001b[0m\u001b[37m\u001b[0m \u001b[1m4s\u001b[0m 17ms/step - loss: 0.0242 - mae: 0.0962 - val_loss: 0.0248 - val_mae: 0.0974\n",
                        "Epoch 71/200\n",
                        "\u001b[1m211/211\u001b[0m \u001b[32m━━━━━━━━━━━━━━━━━━━━\u001b[0m\u001b[37m\u001b[0m \u001b[1m4s\u001b[0m 17ms/step - loss: 0.0241 - mae: 0.0958 - val_loss: 0.0247 - val_mae: 0.0973\n",
                        "Epoch 72/200\n",
                        "\u001b[1m211/211\u001b[0m \u001b[32m━━━━━━━━━━━━━━━━━━━━\u001b[0m\u001b[37m\u001b[0m \u001b[1m4s\u001b[0m 16ms/step - loss: 0.0243 - mae: 0.0962 - val_loss: 0.0247 - val_mae: 0.0971\n",
                        "Epoch 73/200\n",
                        "\u001b[1m211/211\u001b[0m \u001b[32m━━━━━━━━━━━━━━━━━━━━\u001b[0m\u001b[37m\u001b[0m \u001b[1m4s\u001b[0m 17ms/step - loss: 0.0242 - mae: 0.0961 - val_loss: 0.0247 - val_mae: 0.0970\n",
                        "Epoch 74/200\n",
                        "\u001b[1m211/211\u001b[0m \u001b[32m━━━━━━━━━━━━━━━━━━━━\u001b[0m\u001b[37m\u001b[0m \u001b[1m4s\u001b[0m 17ms/step - loss: 0.0241 - mae: 0.0959 - val_loss: 0.0246 - val_mae: 0.0970\n",
                        "Epoch 75/200\n",
                        "\u001b[1m211/211\u001b[0m \u001b[32m━━━━━━━━━━━━━━━━━━━━\u001b[0m\u001b[37m\u001b[0m \u001b[1m4s\u001b[0m 17ms/step - loss: 0.0241 - mae: 0.0958 - val_loss: 0.0246 - val_mae: 0.0969\n",
                        "Epoch 76/200\n",
                        "\u001b[1m211/211\u001b[0m \u001b[32m━━━━━━━━━━━━━━━━━━━━\u001b[0m\u001b[37m\u001b[0m \u001b[1m4s\u001b[0m 17ms/step - loss: 0.0241 - mae: 0.0958 - val_loss: 0.0246 - val_mae: 0.0967\n",
                        "Epoch 77/200\n",
                        "\u001b[1m211/211\u001b[0m \u001b[32m━━━━━━━━━━━━━━━━━━━━\u001b[0m\u001b[37m\u001b[0m \u001b[1m4s\u001b[0m 17ms/step - loss: 0.0240 - mae: 0.0954 - val_loss: 0.0245 - val_mae: 0.0967\n",
                        "Epoch 78/200\n",
                        "\u001b[1m211/211\u001b[0m \u001b[32m━━━━━━━━━━━━━━━━━━━━\u001b[0m\u001b[37m\u001b[0m \u001b[1m4s\u001b[0m 17ms/step - loss: 0.0240 - mae: 0.0955 - val_loss: 0.0245 - val_mae: 0.0966\n",
                        "Epoch 79/200\n",
                        "\u001b[1m211/211\u001b[0m \u001b[32m━━━━━━━━━━━━━━━━━━━━\u001b[0m\u001b[37m\u001b[0m \u001b[1m4s\u001b[0m 17ms/step - loss: 0.0240 - mae: 0.0954 - val_loss: 0.0245 - val_mae: 0.0966\n",
                        "Epoch 80/200\n",
                        "\u001b[1m211/211\u001b[0m \u001b[32m━━━━━━━━━━━━━━━━━━━━\u001b[0m\u001b[37m\u001b[0m \u001b[1m4s\u001b[0m 17ms/step - loss: 0.0239 - mae: 0.0952 - val_loss: 0.0245 - val_mae: 0.0964\n",
                        "Epoch 81/200\n",
                        "\u001b[1m211/211\u001b[0m \u001b[32m━━━━━━━━━━━━━━━━━━━━\u001b[0m\u001b[37m\u001b[0m \u001b[1m4s\u001b[0m 17ms/step - loss: 0.0239 - mae: 0.0953 - val_loss: 0.0244 - val_mae: 0.0964\n",
                        "Epoch 82/200\n",
                        "\u001b[1m211/211\u001b[0m \u001b[32m━━━━━━━━━━━━━━━━━━━━\u001b[0m\u001b[37m\u001b[0m \u001b[1m4s\u001b[0m 17ms/step - loss: 0.0238 - mae: 0.0950 - val_loss: 0.0244 - val_mae: 0.0963\n",
                        "Epoch 83/200\n",
                        "\u001b[1m211/211\u001b[0m \u001b[32m━━━━━━━━━━━━━━━━━━━━\u001b[0m\u001b[37m\u001b[0m \u001b[1m4s\u001b[0m 17ms/step - loss: 0.0239 - mae: 0.0951 - val_loss: 0.0244 - val_mae: 0.0962\n",
                        "Epoch 84/200\n",
                        "\u001b[1m211/211\u001b[0m \u001b[32m━━━━━━━━━━━━━━━━━━━━\u001b[0m\u001b[37m\u001b[0m \u001b[1m4s\u001b[0m 17ms/step - loss: 0.0238 - mae: 0.0948 - val_loss: 0.0244 - val_mae: 0.0961\n",
                        "Epoch 85/200\n",
                        "\u001b[1m211/211\u001b[0m \u001b[32m━━━━━━━━━━━━━━━━━━━━\u001b[0m\u001b[37m\u001b[0m \u001b[1m4s\u001b[0m 17ms/step - loss: 0.0238 - mae: 0.0948 - val_loss: 0.0243 - val_mae: 0.0960\n",
                        "Epoch 86/200\n",
                        "\u001b[1m211/211\u001b[0m \u001b[32m━━━━━━━━━━━━━━━━━━━━\u001b[0m\u001b[37m\u001b[0m \u001b[1m4s\u001b[0m 17ms/step - loss: 0.0238 - mae: 0.0949 - val_loss: 0.0243 - val_mae: 0.0959\n",
                        "Epoch 87/200\n",
                        "\u001b[1m211/211\u001b[0m \u001b[32m━━━━━━━━━━━━━━━━━━━━\u001b[0m\u001b[37m\u001b[0m \u001b[1m4s\u001b[0m 17ms/step - loss: 0.0238 - mae: 0.0948 - val_loss: 0.0243 - val_mae: 0.0960\n",
                        "Epoch 88/200\n",
                        "\u001b[1m211/211\u001b[0m \u001b[32m━━━━━━━━━━━━━━━━━━━━\u001b[0m\u001b[37m\u001b[0m \u001b[1m3s\u001b[0m 16ms/step - loss: 0.0237 - mae: 0.0946 - val_loss: 0.0243 - val_mae: 0.0958\n",
                        "Epoch 89/200\n",
                        "\u001b[1m211/211\u001b[0m \u001b[32m━━━━━━━━━━━━━━━━━━━━\u001b[0m\u001b[37m\u001b[0m \u001b[1m4s\u001b[0m 17ms/step - loss: 0.0237 - mae: 0.0946 - val_loss: 0.0242 - val_mae: 0.0958\n",
                        "Epoch 90/200\n",
                        "\u001b[1m211/211\u001b[0m \u001b[32m━━━━━━━━━━━━━━━━━━━━\u001b[0m\u001b[37m\u001b[0m \u001b[1m4s\u001b[0m 17ms/step - loss: 0.0236 - mae: 0.0943 - val_loss: 0.0242 - val_mae: 0.0956\n",
                        "Epoch 91/200\n",
                        "\u001b[1m211/211\u001b[0m \u001b[32m━━━━━━━━━━━━━━━━━━━━\u001b[0m\u001b[37m\u001b[0m \u001b[1m4s\u001b[0m 17ms/step - loss: 0.0237 - mae: 0.0945 - val_loss: 0.0242 - val_mae: 0.0956\n",
                        "Epoch 92/200\n",
                        "\u001b[1m211/211\u001b[0m \u001b[32m━━━━━━━━━━━━━━━━━━━━\u001b[0m\u001b[37m\u001b[0m \u001b[1m4s\u001b[0m 17ms/step - loss: 0.0236 - mae: 0.0943 - val_loss: 0.0242 - val_mae: 0.0955\n",
                        "Epoch 93/200\n",
                        "\u001b[1m211/211\u001b[0m \u001b[32m━━━━━━━━━━━━━━━━━━━━\u001b[0m\u001b[37m\u001b[0m \u001b[1m4s\u001b[0m 17ms/step - loss: 0.0235 - mae: 0.0943 - val_loss: 0.0241 - val_mae: 0.0954\n",
                        "Epoch 94/200\n",
                        "\u001b[1m211/211\u001b[0m \u001b[32m━━━━━━━━━━━━━━━━━━━━\u001b[0m\u001b[37m\u001b[0m \u001b[1m4s\u001b[0m 17ms/step - loss: 0.0235 - mae: 0.0941 - val_loss: 0.0241 - val_mae: 0.0954\n",
                        "Epoch 95/200\n",
                        "\u001b[1m211/211\u001b[0m \u001b[32m━━━━━━━━━━━━━━━━━━━━\u001b[0m\u001b[37m\u001b[0m \u001b[1m4s\u001b[0m 17ms/step - loss: 0.0235 - mae: 0.0941 - val_loss: 0.0241 - val_mae: 0.0954\n",
                        "Epoch 96/200\n",
                        "\u001b[1m211/211\u001b[0m \u001b[32m━━━━━━━━━━━━━━━━━━━━\u001b[0m\u001b[37m\u001b[0m \u001b[1m4s\u001b[0m 17ms/step - loss: 0.0235 - mae: 0.0941 - val_loss: 0.0241 - val_mae: 0.0953\n",
                        "Epoch 97/200\n",
                        "\u001b[1m211/211\u001b[0m \u001b[32m━━━━━━━━━━━━━━━━━━━━\u001b[0m\u001b[37m\u001b[0m \u001b[1m4s\u001b[0m 18ms/step - loss: 0.0235 - mae: 0.0940 - val_loss: 0.0241 - val_mae: 0.0952\n",
                        "Epoch 98/200\n",
                        "\u001b[1m211/211\u001b[0m \u001b[32m━━━━━━━━━━━━━━━━━━━━\u001b[0m\u001b[37m\u001b[0m \u001b[1m4s\u001b[0m 17ms/step - loss: 0.0234 - mae: 0.0937 - val_loss: 0.0240 - val_mae: 0.0952\n",
                        "Epoch 99/200\n",
                        "\u001b[1m211/211\u001b[0m \u001b[32m━━━━━━━━━━━━━━━━━━━━\u001b[0m\u001b[37m\u001b[0m \u001b[1m4s\u001b[0m 17ms/step - loss: 0.0235 - mae: 0.0940 - val_loss: 0.0240 - val_mae: 0.0952\n",
                        "Epoch 100/200\n",
                        "\u001b[1m211/211\u001b[0m \u001b[32m━━━━━━━━━━━━━━━━━━━━\u001b[0m\u001b[37m\u001b[0m \u001b[1m4s\u001b[0m 17ms/step - loss: 0.0234 - mae: 0.0939 - val_loss: 0.0240 - val_mae: 0.0951\n",
                        "Epoch 101/200\n",
                        "\u001b[1m211/211\u001b[0m \u001b[32m━━━━━━━━━━━━━━━━━━━━\u001b[0m\u001b[37m\u001b[0m \u001b[1m4s\u001b[0m 17ms/step - loss: 0.0234 - mae: 0.0937 - val_loss: 0.0240 - val_mae: 0.0950\n",
                        "Epoch 102/200\n",
                        "\u001b[1m211/211\u001b[0m \u001b[32m━━━━━━━━━━━━━━━━━━━━\u001b[0m\u001b[37m\u001b[0m \u001b[1m4s\u001b[0m 17ms/step - loss: 0.0234 - mae: 0.0937 - val_loss: 0.0240 - val_mae: 0.0950\n",
                        "Epoch 103/200\n",
                        "\u001b[1m211/211\u001b[0m \u001b[32m━━━━━━━━━━━━━━━━━━━━\u001b[0m\u001b[37m\u001b[0m \u001b[1m4s\u001b[0m 19ms/step - loss: 0.0234 - mae: 0.0937 - val_loss: 0.0239 - val_mae: 0.0949\n",
                        "Epoch 104/200\n",
                        "\u001b[1m211/211\u001b[0m \u001b[32m━━━━━━━━━━━━━━━━━━━━\u001b[0m\u001b[37m\u001b[0m \u001b[1m4s\u001b[0m 18ms/step - loss: 0.0233 - mae: 0.0935 - val_loss: 0.0239 - val_mae: 0.0949\n",
                        "Epoch 105/200\n",
                        "\u001b[1m211/211\u001b[0m \u001b[32m━━━━━━━━━━━━━━━━━━━━\u001b[0m\u001b[37m\u001b[0m \u001b[1m4s\u001b[0m 17ms/step - loss: 0.0233 - mae: 0.0935 - val_loss: 0.0239 - val_mae: 0.0947\n",
                        "Epoch 106/200\n",
                        "\u001b[1m211/211\u001b[0m \u001b[32m━━━━━━━━━━━━━━━━━━━━\u001b[0m\u001b[37m\u001b[0m \u001b[1m3s\u001b[0m 16ms/step - loss: 0.0234 - mae: 0.0936 - val_loss: 0.0239 - val_mae: 0.0947\n",
                        "Epoch 107/200\n",
                        "\u001b[1m211/211\u001b[0m \u001b[32m━━━━━━━━━━━━━━━━━━━━\u001b[0m\u001b[37m\u001b[0m \u001b[1m3s\u001b[0m 16ms/step - loss: 0.0234 - mae: 0.0936 - val_loss: 0.0239 - val_mae: 0.0946\n",
                        "Epoch 108/200\n",
                        "\u001b[1m211/211\u001b[0m \u001b[32m━━━━━━━━━━━━━━━━━━━━\u001b[0m\u001b[37m\u001b[0m \u001b[1m3s\u001b[0m 16ms/step - loss: 0.0233 - mae: 0.0934 - val_loss: 0.0239 - val_mae: 0.0947\n",
                        "Epoch 109/200\n",
                        "\u001b[1m211/211\u001b[0m \u001b[32m━━━━━━━━━━━━━━━━━━━━\u001b[0m\u001b[37m\u001b[0m \u001b[1m3s\u001b[0m 16ms/step - loss: 0.0233 - mae: 0.0935 - val_loss: 0.0238 - val_mae: 0.0947\n",
                        "Epoch 110/200\n",
                        "\u001b[1m211/211\u001b[0m \u001b[32m━━━━━━━━━━━━━━━━━━━━\u001b[0m\u001b[37m\u001b[0m \u001b[1m3s\u001b[0m 16ms/step - loss: 0.0232 - mae: 0.0931 - val_loss: 0.0238 - val_mae: 0.0947\n",
                        "Epoch 111/200\n",
                        "\u001b[1m211/211\u001b[0m \u001b[32m━━━━━━━━━━━━━━━━━━━━\u001b[0m\u001b[37m\u001b[0m \u001b[1m3s\u001b[0m 16ms/step - loss: 0.0232 - mae: 0.0931 - val_loss: 0.0238 - val_mae: 0.0945\n",
                        "Epoch 112/200\n",
                        "\u001b[1m211/211\u001b[0m \u001b[32m━━━━━━━━━━━━━━━━━━━━\u001b[0m\u001b[37m\u001b[0m \u001b[1m4s\u001b[0m 17ms/step - loss: 0.0232 - mae: 0.0934 - val_loss: 0.0238 - val_mae: 0.0945\n",
                        "Epoch 113/200\n",
                        "\u001b[1m211/211\u001b[0m \u001b[32m━━━━━━━━━━━━━━━━━━━━\u001b[0m\u001b[37m\u001b[0m \u001b[1m4s\u001b[0m 17ms/step - loss: 0.0232 - mae: 0.0933 - val_loss: 0.0238 - val_mae: 0.0945\n",
                        "Epoch 114/200\n",
                        "\u001b[1m211/211\u001b[0m \u001b[32m━━━━━━━━━━━━━━━━━━━━\u001b[0m\u001b[37m\u001b[0m \u001b[1m3s\u001b[0m 16ms/step - loss: 0.0231 - mae: 0.0929 - val_loss: 0.0238 - val_mae: 0.0944\n",
                        "Epoch 115/200\n",
                        "\u001b[1m211/211\u001b[0m \u001b[32m━━━━━━━━━━━━━━━━━━━━\u001b[0m\u001b[37m\u001b[0m \u001b[1m3s\u001b[0m 16ms/step - loss: 0.0232 - mae: 0.0931 - val_loss: 0.0238 - val_mae: 0.0942\n",
                        "Epoch 116/200\n",
                        "\u001b[1m211/211\u001b[0m \u001b[32m━━━━━━━━━━━━━━━━━━━━\u001b[0m\u001b[37m\u001b[0m \u001b[1m3s\u001b[0m 16ms/step - loss: 0.0231 - mae: 0.0927 - val_loss: 0.0237 - val_mae: 0.0943\n",
                        "Epoch 117/200\n",
                        "\u001b[1m211/211\u001b[0m \u001b[32m━━━━━━━━━━━━━━━━━━━━\u001b[0m\u001b[37m\u001b[0m \u001b[1m3s\u001b[0m 16ms/step - loss: 0.0231 - mae: 0.0928 - val_loss: 0.0237 - val_mae: 0.0942\n",
                        "Epoch 118/200\n",
                        "\u001b[1m211/211\u001b[0m \u001b[32m━━━━━━━━━━━━━━━━━━━━\u001b[0m\u001b[37m\u001b[0m \u001b[1m3s\u001b[0m 16ms/step - loss: 0.0231 - mae: 0.0930 - val_loss: 0.0237 - val_mae: 0.0941\n",
                        "Epoch 119/200\n",
                        "\u001b[1m211/211\u001b[0m \u001b[32m━━━━━━━━━━━━━━━━━━━━\u001b[0m\u001b[37m\u001b[0m \u001b[1m3s\u001b[0m 16ms/step - loss: 0.0229 - mae: 0.0925 - val_loss: 0.0237 - val_mae: 0.0941\n",
                        "Epoch 120/200\n",
                        "\u001b[1m211/211\u001b[0m \u001b[32m━━━━━━━━━━━━━━━━━━━━\u001b[0m\u001b[37m\u001b[0m \u001b[1m3s\u001b[0m 16ms/step - loss: 0.0230 - mae: 0.0927 - val_loss: 0.0237 - val_mae: 0.0941\n",
                        "Epoch 121/200\n",
                        "\u001b[1m211/211\u001b[0m \u001b[32m━━━━━━━━━━━━━━━━━━━━\u001b[0m\u001b[37m\u001b[0m \u001b[1m3s\u001b[0m 16ms/step - loss: 0.0231 - mae: 0.0929 - val_loss: 0.0237 - val_mae: 0.0941\n",
                        "Epoch 122/200\n",
                        "\u001b[1m211/211\u001b[0m \u001b[32m━━━━━━━━━━━━━━━━━━━━\u001b[0m\u001b[37m\u001b[0m \u001b[1m3s\u001b[0m 16ms/step - loss: 0.0231 - mae: 0.0928 - val_loss: 0.0237 - val_mae: 0.0940\n",
                        "Epoch 123/200\n",
                        "\u001b[1m211/211\u001b[0m \u001b[32m━━━━━━━━━━━━━━━━━━━━\u001b[0m\u001b[37m\u001b[0m \u001b[1m3s\u001b[0m 16ms/step - loss: 0.0230 - mae: 0.0927 - val_loss: 0.0236 - val_mae: 0.0940\n",
                        "Epoch 124/200\n",
                        "\u001b[1m211/211\u001b[0m \u001b[32m━━━━━━━━━━━━━━━━━━━━\u001b[0m\u001b[37m\u001b[0m \u001b[1m3s\u001b[0m 16ms/step - loss: 0.0230 - mae: 0.0927 - val_loss: 0.0236 - val_mae: 0.0939\n",
                        "Epoch 125/200\n",
                        "\u001b[1m211/211\u001b[0m \u001b[32m━━━━━━━━━━━━━━━━━━━━\u001b[0m\u001b[37m\u001b[0m \u001b[1m3s\u001b[0m 16ms/step - loss: 0.0230 - mae: 0.0925 - val_loss: 0.0236 - val_mae: 0.0940\n",
                        "Epoch 126/200\n",
                        "\u001b[1m211/211\u001b[0m \u001b[32m━━━━━━━━━━━━━━━━━━━━\u001b[0m\u001b[37m\u001b[0m \u001b[1m3s\u001b[0m 16ms/step - loss: 0.0230 - mae: 0.0924 - val_loss: 0.0236 - val_mae: 0.0939\n",
                        "Epoch 127/200\n",
                        "\u001b[1m211/211\u001b[0m \u001b[32m━━━━━━━━━━━━━━━━━━━━\u001b[0m\u001b[37m\u001b[0m \u001b[1m3s\u001b[0m 16ms/step - loss: 0.0229 - mae: 0.0924 - val_loss: 0.0236 - val_mae: 0.0939\n",
                        "Epoch 128/200\n",
                        "\u001b[1m211/211\u001b[0m \u001b[32m━━━━━━━━━━━━━━━━━━━━\u001b[0m\u001b[37m\u001b[0m \u001b[1m3s\u001b[0m 16ms/step - loss: 0.0230 - mae: 0.0924 - val_loss: 0.0236 - val_mae: 0.0938\n",
                        "Epoch 129/200\n",
                        "\u001b[1m211/211\u001b[0m \u001b[32m━━━━━━━━━━━━━━━━━━━━\u001b[0m\u001b[37m\u001b[0m \u001b[1m3s\u001b[0m 16ms/step - loss: 0.0230 - mae: 0.0925 - val_loss: 0.0236 - val_mae: 0.0938\n",
                        "Epoch 130/200\n",
                        "\u001b[1m211/211\u001b[0m \u001b[32m━━━━━━━━━━━━━━━━━━━━\u001b[0m\u001b[37m\u001b[0m \u001b[1m3s\u001b[0m 16ms/step - loss: 0.0229 - mae: 0.0923 - val_loss: 0.0236 - val_mae: 0.0937\n",
                        "Epoch 131/200\n",
                        "\u001b[1m211/211\u001b[0m \u001b[32m━━━━━━━━━━━━━━━━━━━━\u001b[0m\u001b[37m\u001b[0m \u001b[1m3s\u001b[0m 16ms/step - loss: 0.0229 - mae: 0.0924 - val_loss: 0.0236 - val_mae: 0.0937\n",
                        "Epoch 132/200\n",
                        "\u001b[1m211/211\u001b[0m \u001b[32m━━━━━━━━━━━━━━━━━━━━\u001b[0m\u001b[37m\u001b[0m \u001b[1m3s\u001b[0m 16ms/step - loss: 0.0229 - mae: 0.0923 - val_loss: 0.0235 - val_mae: 0.0937\n",
                        "Epoch 133/200\n",
                        "\u001b[1m211/211\u001b[0m \u001b[32m━━━━━━━━━━━━━━━━━━━━\u001b[0m\u001b[37m\u001b[0m \u001b[1m3s\u001b[0m 16ms/step - loss: 0.0230 - mae: 0.0924 - val_loss: 0.0235 - val_mae: 0.0937\n",
                        "Epoch 134/200\n",
                        "\u001b[1m211/211\u001b[0m \u001b[32m━━━━━━━━━━━━━━━━━━━━\u001b[0m\u001b[37m\u001b[0m \u001b[1m3s\u001b[0m 16ms/step - loss: 0.0229 - mae: 0.0922 - val_loss: 0.0235 - val_mae: 0.0936\n",
                        "Epoch 135/200\n",
                        "\u001b[1m211/211\u001b[0m \u001b[32m━━━━━━━━━━━━━━━━━━━━\u001b[0m\u001b[37m\u001b[0m \u001b[1m3s\u001b[0m 16ms/step - loss: 0.0230 - mae: 0.0925 - val_loss: 0.0235 - val_mae: 0.0935\n",
                        "Epoch 136/200\n",
                        "\u001b[1m211/211\u001b[0m \u001b[32m━━━━━━━━━━━━━━━━━━━━\u001b[0m\u001b[37m\u001b[0m \u001b[1m3s\u001b[0m 16ms/step - loss: 0.0229 - mae: 0.0921 - val_loss: 0.0235 - val_mae: 0.0935\n",
                        "Epoch 137/200\n",
                        "\u001b[1m211/211\u001b[0m \u001b[32m━━━━━━━━━━━━━━━━━━━━\u001b[0m\u001b[37m\u001b[0m \u001b[1m3s\u001b[0m 16ms/step - loss: 0.0229 - mae: 0.0921 - val_loss: 0.0235 - val_mae: 0.0934\n",
                        "Epoch 138/200\n",
                        "\u001b[1m211/211\u001b[0m \u001b[32m━━━━━━━━━━━━━━━━━━━━\u001b[0m\u001b[37m\u001b[0m \u001b[1m3s\u001b[0m 16ms/step - loss: 0.0229 - mae: 0.0923 - val_loss: 0.0235 - val_mae: 0.0935\n",
                        "Epoch 139/200\n",
                        "\u001b[1m211/211\u001b[0m \u001b[32m━━━━━━━━━━━━━━━━━━━━\u001b[0m\u001b[37m\u001b[0m \u001b[1m3s\u001b[0m 16ms/step - loss: 0.0229 - mae: 0.0921 - val_loss: 0.0235 - val_mae: 0.0936\n",
                        "Epoch 140/200\n",
                        "\u001b[1m211/211\u001b[0m \u001b[32m━━━━━━━━━━━━━━━━━━━━\u001b[0m\u001b[37m\u001b[0m \u001b[1m3s\u001b[0m 16ms/step - loss: 0.0229 - mae: 0.0921 - val_loss: 0.0235 - val_mae: 0.0934\n",
                        "Epoch 141/200\n",
                        "\u001b[1m211/211\u001b[0m \u001b[32m━━━━━━━━━━━━━━━━━━━━\u001b[0m\u001b[37m\u001b[0m \u001b[1m3s\u001b[0m 16ms/step - loss: 0.0228 - mae: 0.0922 - val_loss: 0.0235 - val_mae: 0.0934\n",
                        "Epoch 142/200\n",
                        "\u001b[1m211/211\u001b[0m \u001b[32m━━━━━━━━━━━━━━━━━━━━\u001b[0m\u001b[37m\u001b[0m \u001b[1m3s\u001b[0m 16ms/step - loss: 0.0227 - mae: 0.0916 - val_loss: 0.0235 - val_mae: 0.0934\n",
                        "Epoch 143/200\n",
                        "\u001b[1m211/211\u001b[0m \u001b[32m━━━━━━━━━━━━━━━━━━━━\u001b[0m\u001b[37m\u001b[0m \u001b[1m3s\u001b[0m 16ms/step - loss: 0.0229 - mae: 0.0922 - val_loss: 0.0234 - val_mae: 0.0933\n",
                        "Epoch 144/200\n",
                        "\u001b[1m211/211\u001b[0m \u001b[32m━━━━━━━━━━━━━━━━━━━━\u001b[0m\u001b[37m\u001b[0m \u001b[1m3s\u001b[0m 16ms/step - loss: 0.0228 - mae: 0.0918 - val_loss: 0.0234 - val_mae: 0.0934\n",
                        "Epoch 145/200\n",
                        "\u001b[1m211/211\u001b[0m \u001b[32m━━━━━━━━━━━━━━━━━━━━\u001b[0m\u001b[37m\u001b[0m \u001b[1m3s\u001b[0m 16ms/step - loss: 0.0227 - mae: 0.0917 - val_loss: 0.0234 - val_mae: 0.0933\n",
                        "Epoch 146/200\n",
                        "\u001b[1m211/211\u001b[0m \u001b[32m━━━━━━━━━━━━━━━━━━━━\u001b[0m\u001b[37m\u001b[0m \u001b[1m3s\u001b[0m 16ms/step - loss: 0.0228 - mae: 0.0920 - val_loss: 0.0234 - val_mae: 0.0932\n",
                        "Epoch 147/200\n",
                        "\u001b[1m211/211\u001b[0m \u001b[32m━━━━━━━━━━━━━━━━━━━━\u001b[0m\u001b[37m\u001b[0m \u001b[1m4s\u001b[0m 17ms/step - loss: 0.0228 - mae: 0.0919 - val_loss: 0.0234 - val_mae: 0.0933\n",
                        "Epoch 148/200\n",
                        "\u001b[1m211/211\u001b[0m \u001b[32m━━━━━━━━━━━━━━━━━━━━\u001b[0m\u001b[37m\u001b[0m \u001b[1m4s\u001b[0m 17ms/step - loss: 0.0226 - mae: 0.0915 - val_loss: 0.0234 - val_mae: 0.0932\n",
                        "Epoch 148: early stopping\n"
                    ]
                },
                {
                    "data": {
                        "text/plain": [
                            "<keras.src.callbacks.history.History at 0x7f7486362f20>"
                        ]
                    },
                    "execution_count": 12,
                    "metadata": {},
                    "output_type": "execute_result"
                }
            ],
            "source": [
                "model.fit(\n",
                "    x_train, x_train,  # Input should match output\n",
                "    validation_split=0.1,\n",
                "    batch_size=256,\n",
                "    epochs=200,\n",
                "    callbacks=[\n",
                "        keras.callbacks.EarlyStopping(monitor=\"val_loss\", patience=10, min_delta=1e-4, verbose=1),\n",
                "    ]\n",
                ")"
            ]
        },
        {
            "cell_type": "markdown",
            "metadata": {},
            "source": [
                "How well did the model do?"
            ]
        },
        {
            "cell_type": "code",
            "execution_count": 13,
            "metadata": {},
            "outputs": [
                {
                    "name": "stdout",
                    "output_type": "stream",
                    "text": [
                        "\u001b[1m313/313\u001b[0m \u001b[32m━━━━━━━━━━━━━━━━━━━━\u001b[0m\u001b[37m\u001b[0m \u001b[1m1s\u001b[0m 3ms/step - loss: 0.0230 - mae: 0.0922\n",
                        "Testing MSE: 0.02319\n",
                        "Testing MAE: 0.09256\n"
                    ]
                }
            ],
            "source": [
                "test_mse, test_mae = model.evaluate(x_test, x_test)\n",
                "print(f\"Testing MSE: {test_mse:.5f}\")\n",
                "print(f\"Testing MAE: {test_mae:.5f}\")"
            ]
        },
        {
            "cell_type": "markdown",
            "metadata": {},
            "source": [
                "## Experiments with the Trained Model"
            ]
        },
        {
            "cell_type": "markdown",
            "metadata": {},
            "source": [
                "Let's grab one of the testing samples."
            ]
        },
        {
            "cell_type": "code",
            "execution_count": 14,
            "metadata": {},
            "outputs": [],
            "source": [
                "testing_sample = x_test[1234]"
            ]
        },
        {
            "cell_type": "markdown",
            "metadata": {},
            "source": [
                "What does it look like?"
            ]
        },
        {
            "cell_type": "code",
            "execution_count": 15,
            "metadata": {},
            "outputs": [
                {
                    "data": {
                        "image/png": "[encoded data removed]",
                        "text/plain": [
                            "<Figure size 200x400 with 1 Axes>"
                        ]
                    },
                    "metadata": {},
                    "output_type": "display_data"
                }
            ],
            "source": [
                "display_images([testing_sample])"
            ]
        },
        {
            "cell_type": "markdown",
            "metadata": {},
            "source": [
                "Let's pass it through the autoencoder and see its output."
            ]
        },
        {
            "cell_type": "code",
            "execution_count": 16,
            "metadata": {},
            "outputs": [
                {
                    "name": "stdout",
                    "output_type": "stream",
                    "text": [
                        "\u001b[1m1/1\u001b[0m \u001b[32m━━━━━━━━━━━━━━━━━━━━\u001b[0m\u001b[37m\u001b[0m \u001b[1m0s\u001b[0m 150ms/step\n"
                    ]
                },
                {
                    "data": {
                        "image/png": "[encoded data removed]",
                        "text/plain": [
                            "<Figure size 200x400 with 1 Axes>"
                        ]
                    },
                    "metadata": {},
                    "output_type": "display_data"
                }
            ],
            "source": [
                "transformed_testing_sample = model.predict(testing_sample.reshape((1, 28, 28)))[0]\n",
                "display_images([transformed_testing_sample])"
            ]
        },
        {
            "cell_type": "markdown",
            "metadata": {},
            "source": [
                "Let's run it on a whole range of samples at once."
            ]
        },
        {
            "cell_type": "code",
            "execution_count": 17,
            "metadata": {},
            "outputs": [
                {
                    "data": {
                        "image/png": "[encoded data removed]",
                        "text/plain": [
                            "<Figure size 2000x400 with 10 Axes>"
                        ]
                    },
                    "metadata": {},
                    "output_type": "display_data"
                }
            ],
            "source": [
                "testing_samples = x_test[123:123+10]\n",
                "display_images(testing_samples)"
            ]
        },
        {
            "cell_type": "code",
            "execution_count": 18,
            "metadata": {},
            "outputs": [
                {
                    "name": "stdout",
                    "output_type": "stream",
                    "text": [
                        "\u001b[1m1/1\u001b[0m \u001b[32m━━━━━━━━━━━━━━━━━━━━\u001b[0m\u001b[37m\u001b[0m \u001b[1m0s\u001b[0m 156ms/step\n"
                    ]
                },
                {
                    "data": {
                        "image/png": "[encoded data removed]",
                        "text/plain": [
                            "<Figure size 2000x400 with 10 Axes>"
                        ]
                    },
                    "metadata": {},
                    "output_type": "display_data"
                }
            ],
            "source": [
                "transformed_testing_samples = model.predict(testing_samples.reshape((10, 28, 28)))\n",
                "display_images(transformed_testing_samples)"
            ]
        },
        {
            "cell_type": "markdown",
            "metadata": {},
            "source": [
                "In this example, we have seen how `DenseMML` acts as a suitable replacement for `Dense` layers in a traditional autoencoder. They seem to perform decently well in retaining the important information within their hidden layers."
            ]
        }
    ],
    "metadata": {
        "kernelspec": {
            "display_name": "keras-matmulless-b9IALFmu-py3.10",
            "language": "python",
            "name": "python3"
        },
        "language_info": {
            "codemirror_mode": {
                "name": "ipython",
                "version": 3
            },
            "file_extension": ".py",
            "mimetype": "text/x-python",
            "name": "python",
            "nbconvert_exporter": "python",
            "pygments_lexer": "ipython3",
            "version": "3.10.14"
        }
    },
    "nbformat": 4,
    "nbformat_minor": 2
}
