{
 "cells": [
  {
   "cell_type": "markdown",
   "metadata": {},
   "source": [
    "# Fused Layers in Triton"
   ]
  },
  {
   "cell_type": "markdown",
   "metadata": {
    "jp-MarkdownHeadingCollapsed": true
   },
   "source": [
    "## Setup"
   ]
  },
  {
   "cell_type": "code",
   "execution_count": 1,
   "metadata": {},
   "outputs": [
    {
     "name": "stdout",
     "output_type": "stream",
     "text": [
      "Looking in indexes: https://pypi.org/simple, https://aiinfra.pkgs.visualstudio.com/PublicPackages/_packaging/Triton-Nightly/pypi/simple/\n",
      "Requirement already satisfied: triton-nightly==3.0.0.post20240626041721 in /home/vscode/.cache/pypoetry/virtualenvs/keras-matmulless-b9IALFmu-py3.10/lib/python3.10/site-packages (3.0.0.post20240626041721)\n",
      "Requirement already satisfied: filelock in /home/vscode/.cache/pypoetry/virtualenvs/keras-matmulless-b9IALFmu-py3.10/lib/python3.10/site-packages (from triton-nightly==3.0.0.post20240626041721) (3.15.4)\n",
      "\n",
      "\u001b[1m[\u001b[0m\u001b[34;49mnotice\u001b[0m\u001b[1;39;49m]\u001b[0m\u001b[39;49m A new release of pip is available: \u001b[0m\u001b[31;49m24.1\u001b[0m\u001b[39;49m -> \u001b[0m\u001b[32;49m24.2\u001b[0m\n",
      "\u001b[1m[\u001b[0m\u001b[34;49mnotice\u001b[0m\u001b[1;39;49m]\u001b[0m\u001b[39;49m To update, run: \u001b[0m\u001b[32;49mpip install --upgrade pip\u001b[0m\n",
      "Note: you may need to restart the kernel to use updated packages.\n"
     ]
    }
   ],
   "source": [
    "%pip install --extra-index-url https://aiinfra.pkgs.visualstudio.com/PublicPackages/_packaging/Triton-Nightly/pypi/simple/ triton-nightly==3.0.0.post20240626041721"
   ]
  },
  {
   "cell_type": "code",
   "execution_count": 2,
   "metadata": {},
   "outputs": [],
   "source": [
    "import os\n",
    "\n",
    "os.environ[\"KERAS_BACKEND\"] = \"torch\"\n",
    "os.environ[\"DISABLE_TORCH_COMPILE\"] = \"true\"\n",
    "os.environ[\"TRITON_PRINT_AUTOTUNING\"] = \"1\""
   ]
  },
  {
   "cell_type": "markdown",
   "metadata": {},
   "source": [
    "Check the installed triton version."
   ]
  },
  {
   "cell_type": "code",
   "execution_count": 3,
   "metadata": {},
   "outputs": [],
   "source": [
    "import triton\n",
    "\n",
    "assert triton.__version__ == \"3.0.0\", f\"Expected Triton to have a version of 3.0.0, but found {triton.__version__}\""
   ]
  },
  {
   "cell_type": "markdown",
   "metadata": {},
   "source": [
    "Import other needed stuff."
   ]
  },
  {
   "cell_type": "code",
   "execution_count": 4,
   "metadata": {},
   "outputs": [],
   "source": [
    "import torch\n",
    "import triton.language as tl"
   ]
  },
  {
   "cell_type": "markdown",
   "metadata": {},
   "source": [
    "Specify the autotune config."
   ]
  },
  {
   "cell_type": "code",
   "execution_count": 5,
   "metadata": {},
   "outputs": [],
   "source": [
    "def get_autotune_config():\n",
    "    return [\n",
    "        triton.Config({}, num_warps=1),\n",
    "        triton.Config({}, num_warps=2),\n",
    "        triton.Config({}, num_warps=4),\n",
    "        triton.Config({}, num_warps=8),\n",
    "        triton.Config({}, num_warps=16),\n",
    "        triton.Config({}, num_warps=32),\n",
    "    ]"
   ]
  },
  {
   "cell_type": "markdown",
   "metadata": {
    "jp-MarkdownHeadingCollapsed": true
   },
   "source": [
    "## Baseline Specification"
   ]
  },
  {
   "cell_type": "markdown",
   "metadata": {},
   "source": [
    "Recall that the RMSNorm is defined to be\n",
    "$$\n",
    "\\frac{\\mathbf{X}}{\\mathrm{RMS}(\\mathbf{X})}\\odot \\mathbf{G} + \\mathbf{B}\n",
    "$$\n",
    "where $\\mathbf{X}$ is the input tensor, $\\mathbf{G}$ is the 'gain' tensor (gamma in the original LayerNorm paper), and $\\mathbf{B}$ is the bias tensor."
   ]
  },
  {
   "cell_type": "markdown",
   "metadata": {},
   "source": [
    "Define the spec that we will be implementing in Triton. This works for any dimension tensor."
   ]
  },
  {
   "cell_type": "code",
   "execution_count": 6,
   "metadata": {},
   "outputs": [],
   "source": [
    "def quant_rms_norm_baseline(x: torch.Tensor, gain, bias, epsilon):\n",
    "    dim = x.shape[-1]\n",
    "    scale = dim**0.5\n",
    "\n",
    "    x_norm = torch.nn.functional.normalize(x, p=2, eps=1e-5, dim=-1) * scale\n",
    "    if gain is not None:\n",
    "        x_norm *= gain\n",
    "    if bias is not None:\n",
    "        x_norm += bias\n",
    "\n",
    "    scale = 127.0 / torch.unsqueeze(torch.max(torch.abs(x_norm), dim=-1).values.clamp_(epsilon), -1)\n",
    "    y = torch.clip(torch.round(x_norm * scale), -128, 127) / scale\n",
    "\n",
    "    return x_norm + (y - x_norm).detach()"
   ]
  },
  {
   "cell_type": "markdown",
   "metadata": {
    "jp-MarkdownHeadingCollapsed": true
   },
   "source": [
    "## 2D Fused Layer Norm with Quantization"
   ]
  },
  {
   "cell_type": "markdown",
   "metadata": {},
   "source": [
    "We want to fuse the RMSNorm and the quantization into one layer."
   ]
  },
  {
   "cell_type": "markdown",
   "metadata": {
    "jp-MarkdownHeadingCollapsed": true
   },
   "source": [
    "### Forward Pass"
   ]
  },
  {
   "cell_type": "markdown",
   "metadata": {},
   "source": [
    "First define the kernel."
   ]
  },
  {
   "cell_type": "code",
   "execution_count": 7,
   "metadata": {},
   "outputs": [],
   "source": [
    "# ruff: noqa: N803\n",
    "@triton.autotune(\n",
    "    configs=get_autotune_config(),\n",
    "    key=[\"N\", \"HAS_GAIN\", \"HAS_BIAS\"],\n",
    ")\n",
    "@triton.jit\n",
    "def quant_rms_norm_2d_fwd_kernel(\n",
    "    # fmt: off\n",
    "    # Pointers to arrays\n",
    "    x_ptr, y_ptr, gain_ptr, bias_ptr, rrms_ptr,\n",
    "    # Strides\n",
    "    stride_x_row,  # How much to increase the pointer when moving by 1 row\n",
    "    stride_y_row,\n",
    "    # Some constants\n",
    "    N,        # Number of columns in X\n",
    "    EPSILON,  # To avoid division by zero\n",
    "    # Meta-parameters\n",
    "    BLOCK_SIZE_N: tl.constexpr,\n",
    "    HAS_GAIN: tl.constexpr,\n",
    "    HAS_BIAS: tl.constexpr\n",
    "    # fmt: on\n",
    "):\n",
    "    \"\"\"\n",
    "    Forward kernel.\n",
    "\n",
    "    Performs RMSNorm on ``X``, followed by 8-bit quantization.\n",
    "    \"\"\"\n",
    "\n",
    "    # Map the PID to the row of X that should be loaded\n",
    "    pid = tl.program_id(0)\n",
    "    x_ptr += pid * stride_x_row\n",
    "\n",
    "    offsets = tl.arange(0, BLOCK_SIZE_N)\n",
    "    mask = offsets < N\n",
    "    x = tl.load(x_ptr + offsets, mask=mask, other=0.0).to(tl.float32)  # Load in higher precision\n",
    "\n",
    "    # Compute reciprocal root mean square (rrms)\n",
    "    mean_of_squares = tl.sum(x * x, axis=0) / N\n",
    "    rrms = 1 / tl.sqrt(mean_of_squares + EPSILON)\n",
    "    tl.store(rrms_ptr + pid, rrms)  # We add PID since that is the row that the RRMS is corresponding to\n",
    "\n",
    "    # Normalize\n",
    "    x_hat = x * rrms\n",
    "\n",
    "    # Apply gain and bias\n",
    "    y = x_hat\n",
    "\n",
    "    if HAS_GAIN:\n",
    "        gain = tl.load(gain_ptr + offsets, mask=mask).to(tl.float32)\n",
    "        y = y * gain\n",
    "    if HAS_BIAS:\n",
    "        bias = tl.load(bias_ptr + offsets, mask=mask).to(tl.float32)\n",
    "        y = y + bias\n",
    "\n",
    "    # Apply 8-bit quantization\n",
    "    scale = 127.0 / tl.maximum(tl.max(tl.abs(y), 0), EPSILON)\n",
    "    y = tl.extra.cuda.libdevice.round(y * scale)  # TODO: This is CUDA only... can we generalize this?\n",
    "    y = tl.maximum(tl.minimum(y, 127), -128) / scale  # The nested max and min creates the clamp/clip function\n",
    "\n",
    "    # Write output\n",
    "    y_ptr += pid * stride_y_row\n",
    "    tl.store(y_ptr + offsets, y, mask=mask)"
   ]
  },
  {
   "cell_type": "markdown",
   "metadata": {},
   "source": [
    "Then define the companion function that handles checking and allocation of tensors."
   ]
  },
  {
   "cell_type": "code",
   "execution_count": 8,
   "metadata": {},
   "outputs": [],
   "source": [
    "# ruff: noqa: N806, S101\n",
    "def quant_rms_norm_2d_fwd(x: torch.Tensor, gain, bias, epsilon):\n",
    "    \"\"\"\n",
    "    Forward pass.\n",
    "\n",
    "    Performs RMSNorm on ``X``, followed by 8-bit quantization.\n",
    "\n",
    "    Requires CUDA.\n",
    "    \"\"\"\n",
    "\n",
    "    assert x.ndim == 2\n",
    "\n",
    "    # Get dimensions\n",
    "    M, N = x.shape\n",
    "\n",
    "    # Validate that the input is OK\n",
    "    assert x.stride(-1) == 1\n",
    "\n",
    "    if gain is not None:\n",
    "        assert gain.shape == (N,)\n",
    "        assert gain.stride(-1) == 1\n",
    "    if bias is not None:\n",
    "        assert bias.shape == (N,)\n",
    "        assert bias.stride(-1) == 1\n",
    "\n",
    "    # Enqueue fused kernel if less than 64KiB per feature\n",
    "    MAX_FUSED_SIZE = 65536 // x.element_size()\n",
    "    BLOCK_SIZE_N = min(MAX_FUSED_SIZE, triton.next_power_of_2(N))\n",
    "    if N > BLOCK_SIZE_N:\n",
    "        raise RuntimeError(\"This layer norm doesn't support feature dim >= 64KiB.\")\n",
    "\n",
    "    # Allocate output\n",
    "    y = torch.empty_like(x, dtype=x.dtype)\n",
    "    rrms = torch.empty((M,), dtype=torch.float32, device=\"cuda\")\n",
    "\n",
    "    # Run the kernel\n",
    "    with torch.cuda.device(x.device.index):\n",
    "        quant_rms_norm_2d_fwd_kernel[(M,)](\n",
    "            # fmt: off\n",
    "            # Pointers to arrays\n",
    "            x, y, gain, bias, rrms,\n",
    "            # Strides\n",
    "            x.stride(0),\n",
    "            y.stride(0),\n",
    "            # Some constants\n",
    "            N,  # Number of columns in X\n",
    "            epsilon,  # To avoid division by zero\n",
    "            # Meta-parameters\n",
    "            BLOCK_SIZE_N,\n",
    "            gain is not None,\n",
    "            bias is not None\n",
    "            # fmt: on\n",
    "        )\n",
    "\n",
    "    # Return stuff\n",
    "    return y, rrms"
   ]
  },
  {
   "cell_type": "markdown",
   "metadata": {
    "jp-MarkdownHeadingCollapsed": true
   },
   "source": [
    "### Backward Pass"
   ]
  },
  {
   "cell_type": "markdown",
   "metadata": {},
   "source": [
    "The backward pass of the raw RMSNorm layer is a little more involved than the forward pass."
   ]
  },
  {
   "cell_type": "markdown",
   "metadata": {},
   "source": [
    "Define $\\nabla_\\mathbf{Y}$ to be the gradient of the outputs (i.e., Vector-Jacobian Products (VJP), error signal, or $\\mathrm{d}\\,\\mathrm{out}$), $\\nabla_\\mathbf{X}$ be the required change of $\\mathbf{X}$, and $\\nabla_\\mathbf{G}$ and $\\nabla_\\mathbf{B}$ be defined similarly. Let $\\mathbf{\\hat{X}} = \\frac{\\mathbf{X}}{\\mathrm{RMS}(\\mathbf{X})}$. Then we have\n",
    "\n",
    "$$\n",
    "\\begin{align*}\n",
    "    \\nabla_\\mathbf{X} &= \\frac1{\\mathrm{RMS}(\\mathbf{X})} \\left(\\nabla_\\mathbf{Y} \\odot \\mathbf{G} - \\underbrace{\\left(\\frac1N \\mathbf{\\hat{X}} \\cdot \\left(\\nabla_\\mathbf{Y} \\odot \\mathbf{G} \\right) \\right)}_{\\texttt{intermediate\\_const}} \\odot \\mathbf{\\hat{X}}\\right) \\\\\n",
    "    \\nabla_\\mathbf{G} &= \\sum_{i=1}^{N}\\left(\\nabla_\\mathbf{Y} \\odot \\mathbf{\\hat{X}}\\right) & (\\text{sum across rows})\\\\\n",
    "    \\nabla_\\mathbf{B} &= \\sum_{i=1}^{N}\\nabla_\\mathbf{Y} & (\\text{sum across rows})\n",
    "\\end{align*}\n",
    "$$"
   ]
  },
  {
   "cell_type": "markdown",
   "metadata": {},
   "source": [
    "First define the kernel."
   ]
  },
  {
   "cell_type": "code",
   "execution_count": 9,
   "metadata": {},
   "outputs": [],
   "source": [
    "# ruff: noqa: N803\n",
    "@triton.autotune(\n",
    "    configs=get_autotune_config(),\n",
    "    key=[\"N\", \"HAS_GAIN\", \"HAS_BIAS\"],\n",
    ")\n",
    "@triton.jit\n",
    "def quant_rms_norm_2d_bwd_kernel(\n",
    "    # fmt: off\n",
    "    # Gradient inputs\n",
    "    grad_output_ptr, dx_ptr, dg_ptr, db_ptr,\n",
    "    # Original inputs\n",
    "    x_ptr, gain_ptr, rrms_ptr,\n",
    "    # Strides\n",
    "    stride_x_row,  # How much to increase the pointer when moving by 1 row\n",
    "    stride_grad_output_row,\n",
    "    stride_dx_row,\n",
    "    # Some constants\n",
    "    M,                 # Number of rows in X\n",
    "    N,                 # Number of columns in X\n",
    "    ROWS_PER_PROGRAM,  # Number of rows of X to compute per program\n",
    "    # Meta-parameters\n",
    "    BLOCK_SIZE_N: tl.constexpr,\n",
    "    HAS_GAIN: tl.constexpr,\n",
    "    HAS_BIAS: tl.constexpr\n",
    "    # fmt: on\n",
    "):\n",
    "    \"\"\"\n",
    "    Backward kernel.\n",
    "\n",
    "    Performs the backward pass of RMSNorm, skipping the quantization step.\n",
    "    \"\"\"\n",
    "\n",
    "    # Map the PID to the elements of `x`, `dx`, `dg`, and `db` that should be computed\n",
    "    pid = tl.program_id(0)\n",
    "    row_start = pid * ROWS_PER_PROGRAM\n",
    "\n",
    "    x_ptr += row_start * stride_x_row\n",
    "    grad_output_ptr += row_start * stride_grad_output_row\n",
    "    dx_ptr += row_start * stride_dx_row\n",
    "\n",
    "    offsets = tl.arange(0, BLOCK_SIZE_N)\n",
    "    mask = offsets < N\n",
    "\n",
    "    # Load gradient array, and prepare gradient and bias output gradient arrays\n",
    "    if HAS_GAIN:\n",
    "        gain = tl.load(gain_ptr + offsets, mask=mask).to(tl.float32)\n",
    "        dg = tl.zeros((BLOCK_SIZE_N,), dtype=tl.float32)\n",
    "    if HAS_BIAS:\n",
    "        db = tl.zeros((BLOCK_SIZE_N,), dtype=tl.float32)\n",
    "\n",
    "    # Iterate through the rows\n",
    "    row_end = min(row_start + ROWS_PER_PROGRAM, M)\n",
    "    for row in range(row_start, row_end):\n",
    "        # Load data to SRAM\n",
    "        x = tl.load(x_ptr + offsets, mask=mask, other=0.0).to(tl.float32)  # Load in higher precision\n",
    "        grad_output = tl.load(grad_output_ptr + offsets, mask=mask, other=0.0).to(tl.float32)\n",
    "        rrms = tl.load(rrms_ptr + row)  # Load the reciprocal root mean square (rrms)\n",
    "\n",
    "        # Compute `x_hat` and the product of the gradient output with the gain\n",
    "        x_hat = x * rrms\n",
    "\n",
    "        # Apply contributions to the gain and bias gradients\n",
    "        gradient_gain_product = grad_output\n",
    "        if HAS_GAIN:\n",
    "            gradient_gain_product = grad_output * gain\n",
    "            dg += grad_output * x_hat\n",
    "        if HAS_BIAS:\n",
    "            db += grad_output\n",
    "\n",
    "        # Compute `dx`\n",
    "        intermediate_const = tl.sum(x_hat * gradient_gain_product, axis=0) / N\n",
    "        dx = (gradient_gain_product - x_hat * intermediate_const) * rrms\n",
    "\n",
    "        # Write `dx`\n",
    "        tl.store(dx_ptr + offsets, dx, mask=mask)\n",
    "\n",
    "        # Update pointers to move to next row\n",
    "        x_ptr += stride_x_row\n",
    "        grad_output_ptr += stride_grad_output_row\n",
    "        dx_ptr += stride_dx_row\n",
    "\n",
    "    # Once we finished computing all the rows for this program, we can write the final `dg` and `db`\n",
    "    if HAS_GAIN:\n",
    "        tl.store(dg_ptr + pid * N + offsets, dg, mask=mask)\n",
    "    if HAS_BIAS:\n",
    "        tl.store(db_ptr + pid * N + offsets, db, mask=mask)"
   ]
  },
  {
   "cell_type": "markdown",
   "metadata": {},
   "source": [
    "Then define the companion function that handles checking and allocation of tensors."
   ]
  },
  {
   "cell_type": "code",
   "execution_count": 10,
   "metadata": {},
   "outputs": [],
   "source": [
    "# ruff: noqa: N806, S101\n",
    "import math\n",
    "\n",
    "\n",
    "def quant_rms_norm_2d_bwd(grad_output: torch.Tensor, x: torch.Tensor, gain, bias, rrms):\n",
    "    \"\"\"\n",
    "    Backward  pass.\n",
    "\n",
    "    Performs the backward pass of RMSNorm on ``X``.\n",
    "    \"\"\"\n",
    "\n",
    "    assert x.ndim == 2\n",
    "\n",
    "    # Get dimensions\n",
    "    M, N = x.shape\n",
    "\n",
    "    # Validate that the input is OK\n",
    "    assert x.stride(-1) == 1\n",
    "    assert grad_output.shape == (M, N)\n",
    "    assert grad_output.stride(-1) == 1\n",
    "\n",
    "    if gain is not None:\n",
    "        assert gain.shape == (N,)\n",
    "        assert gain.stride(-1) == 1\n",
    "    if bias is not None:\n",
    "        assert bias.shape == (N,)\n",
    "        assert bias.stride(-1) == 1\n",
    "\n",
    "    # Enqueue fused kernel if less than 64KiB per feature\n",
    "    MAX_FUSED_SIZE = 65536 // x.element_size()\n",
    "    BLOCK_SIZE_N = min(MAX_FUSED_SIZE, triton.next_power_of_2(N))\n",
    "    if N > BLOCK_SIZE_N:\n",
    "        raise RuntimeError(\"This layer norm doesn't support feature dim >= 64KiB.\")\n",
    "\n",
    "    # Allocate output\n",
    "    multi_processor_count = torch.cuda.get_device_properties(x.device).multi_processor_count\n",
    "\n",
    "    dx = torch.empty_like(x, dtype=x.dtype)\n",
    "    if gain is not None:\n",
    "        # This is temporary as we still need to sum across the rows later\n",
    "        dg_temp = torch.empty((multi_processor_count, N), dtype=torch.float32, device=gain.device)\n",
    "    else:\n",
    "        dg_temp = None\n",
    "    if bias is not None:\n",
    "        db_temp = torch.empty((multi_processor_count, N), dtype=torch.float32, device=bias.device)\n",
    "    else:\n",
    "        db_temp = None\n",
    "\n",
    "    # Run the kernel\n",
    "    # TODO: We could make this faster by using a technique like shown in\n",
    "    #   https://triton-lang.org/main/getting-started/tutorials/05-layer-norm.html#backward-pass\n",
    "    rows_per_program = math.ceil(M / multi_processor_count)\n",
    "    with torch.cuda.device(x.device.index):\n",
    "        quant_rms_norm_2d_bwd_kernel[(multi_processor_count,)](\n",
    "            # fmt: off\n",
    "            # Gradient inputs\n",
    "            grad_output, dx, dg_temp, db_temp,\n",
    "            # Original inputs\n",
    "            x, gain, rrms,\n",
    "            # Strides\n",
    "            x.stride(0),\n",
    "            grad_output.stride(0),\n",
    "            dx.stride(0),\n",
    "            # Some constants\n",
    "            M,\n",
    "            N,\n",
    "            rows_per_program,\n",
    "            # Meta-parameters\n",
    "            BLOCK_SIZE_N,\n",
    "            gain is not None,\n",
    "            bias is not None\n",
    "            # fmt: on\n",
    "        )\n",
    "\n",
    "    # Fix the summing of `dg` and `db`\n",
    "    if gain is not None:\n",
    "        dg = dg_temp.sum(0).to(gain.dtype)\n",
    "    else:\n",
    "        dg = None\n",
    "\n",
    "    if bias is not None:\n",
    "        db = db_temp.sum(0).to(bias.dtype)\n",
    "    else:\n",
    "        db = None\n",
    "\n",
    "    # Return stuff\n",
    "    return dx, dg, db"
   ]
  },
  {
   "cell_type": "markdown",
   "metadata": {
    "jp-MarkdownHeadingCollapsed": true
   },
   "source": [
    "### Making the Autograd Function"
   ]
  },
  {
   "cell_type": "markdown",
   "metadata": {},
   "source": [
    "Since we now have both the forward and backward pass, we can make a `torch.autograd.Function` that comprises both the forward and backward passes."
   ]
  },
  {
   "cell_type": "code",
   "execution_count": 11,
   "metadata": {},
   "outputs": [],
   "source": [
    "class QuantRMSNorm2DFn(torch.autograd.Function):\n",
    "    @staticmethod\n",
    "    def forward(ctx, x, gain, bias, epsilon=1e-5):\n",
    "        # Run the forward function\n",
    "        y, rrms = quant_rms_norm_2d_fwd(x, gain, bias, epsilon)\n",
    "\n",
    "        # Save tensors for backward pass later\n",
    "        ctx.save_for_backward(x, gain, bias, rrms)\n",
    "\n",
    "        # Return the result of the forward pass\n",
    "        return y\n",
    "\n",
    "    @staticmethod\n",
    "    def backward(ctx, grad_output):\n",
    "        # Retrieve stored tensors\n",
    "        x, gain, bias, rrms = ctx.saved_tensors\n",
    "\n",
    "        # Perform backward pass\n",
    "        dx, dg, db = quant_rms_norm_2d_bwd(grad_output, x, gain, bias, rrms)\n",
    "\n",
    "        # Return the gradients\n",
    "        return dx, dg, db, None  # No gradient for `epsilon`"
   ]
  },
  {
   "cell_type": "markdown",
   "metadata": {},
   "source": [
    "We can now wrap this in a standard function-like format."
   ]
  },
  {
   "cell_type": "code",
   "execution_count": 12,
   "metadata": {},
   "outputs": [],
   "source": [
    "def quant_rms_norm_2d_triton(x, gain, bias, epsilon=1e-5):\n",
    "    return QuantRMSNorm2DFn.apply(x, gain, bias, epsilon)"
   ]
  },
  {
   "cell_type": "markdown",
   "metadata": {
    "jp-MarkdownHeadingCollapsed": true
   },
   "source": [
    "### Testing"
   ]
  },
  {
   "cell_type": "markdown",
   "metadata": {},
   "source": [
    "Define a seed for reproducibility."
   ]
  },
  {
   "cell_type": "code",
   "execution_count": 13,
   "metadata": {},
   "outputs": [
    {
     "data": {
      "text/plain": [
       "<torch._C.Generator at 0x7fb2e833bbd0>"
      ]
     },
     "execution_count": 13,
     "metadata": {},
     "output_type": "execute_result"
    }
   ],
   "source": [
    "torch.manual_seed(8192)"
   ]
  },
  {
   "cell_type": "markdown",
   "metadata": {},
   "source": [
    "First define the tensors used for testing."
   ]
  },
  {
   "cell_type": "code",
   "execution_count": 14,
   "metadata": {},
   "outputs": [],
   "source": [
    "X_SHAPE = (10, 10)\n",
    "WEIGHT_SHAPE = (X_SHAPE[-1],)"
   ]
  },
  {
   "cell_type": "code",
   "execution_count": 15,
   "metadata": {},
   "outputs": [],
   "source": [
    "x = torch.rand(X_SHAPE, device=\"cuda\", requires_grad=True)\n",
    "gain = torch.rand(WEIGHT_SHAPE, device=\"cuda\", requires_grad=True)\n",
    "bias = torch.rand(WEIGHT_SHAPE, device=\"cuda\", requires_grad=True)\n",
    "dy = 0.1 * torch.randn_like(x)"
   ]
  },
  {
   "cell_type": "markdown",
   "metadata": {},
   "source": [
    "#### Forward Pass"
   ]
  },
  {
   "cell_type": "markdown",
   "metadata": {},
   "source": [
    "Get the baseline result."
   ]
  },
  {
   "cell_type": "code",
   "execution_count": 16,
   "metadata": {},
   "outputs": [
    {
     "data": {
      "text/plain": [
       "tensor([[0.5447, 1.7738, 0.3631, 1.1034, 0.7402, 0.8799, 0.3771, 0.8939, 0.5587,\n",
       "         0.6425],\n",
       "        [0.4221, 0.2985, 0.3500, 1.3074, 0.7000, 1.2354, 0.1956, 0.6280, 1.2868,\n",
       "         0.3191],\n",
       "        [0.6747, 1.4522, 0.3545, 1.2235, 0.7318, 0.7776, 0.2630, 1.1892, 0.9834,\n",
       "         0.5717],\n",
       "        [0.4624, 1.3345, 0.3468, 1.2189, 0.6725, 1.0193, 0.7251, 1.0298, 0.8511,\n",
       "         0.7145],\n",
       "        [0.4530, 0.3867, 0.3536, 1.1049, 0.6961, 1.1049, 0.5303, 1.4032, 0.7623,\n",
       "         1.0938],\n",
       "        [0.4230, 0.6294, 0.3508, 1.3104, 0.6913, 1.1350, 0.4850, 1.0009, 0.8151,\n",
       "         0.9493],\n",
       "        [0.9127, 1.2201, 0.3555, 1.0664, 0.6245, 1.0856, 0.3170, 0.8838, 1.1913,\n",
       "         0.9319],\n",
       "        [1.2123, 0.8914, 0.3447, 1.1410, 0.6774, 0.9627, 0.2020, 1.5094, 1.0578,\n",
       "         0.3922],\n",
       "        [1.0413, 1.0617, 0.3369, 1.1536, 0.7350, 0.9188, 0.1327, 1.2965, 0.8269,\n",
       "         1.0005],\n",
       "        [0.8077, 1.3206, 0.3462, 1.1924, 0.6411, 1.1539, 0.2821, 1.6283, 1.0129,\n",
       "         0.1667]], device='cuda:0', grad_fn=<AddBackward0>)"
      ]
     },
     "execution_count": 16,
     "metadata": {},
     "output_type": "execute_result"
    }
   ],
   "source": [
    "y_ref = quant_rms_norm_baseline(x, gain, bias, 1e-5)\n",
    "y_ref"
   ]
  },
  {
   "cell_type": "markdown",
   "metadata": {},
   "source": [
    "Compare that with the Triton result."
   ]
  },
  {
   "cell_type": "code",
   "execution_count": 17,
   "metadata": {},
   "outputs": [
    {
     "name": "stdout",
     "output_type": "stream",
     "text": [
      "Triton autotuning for function quant_rms_norm_2d_fwd_kernel finished after 1.20s; best config selected: num_warps: 4, num_ctas: 1, num_stages: 2, maxnreg: None;\n"
     ]
    },
    {
     "data": {
      "text/plain": [
       "tensor([[0.5447, 1.7737, 0.3631, 1.1034, 0.7402, 0.8799, 0.3771, 0.8939, 0.5587,\n",
       "         0.6425],\n",
       "        [0.4221, 0.2985, 0.3500, 1.3074, 0.7000, 1.2354, 0.1956, 0.6280, 1.2868,\n",
       "         0.3191],\n",
       "        [0.6747, 1.4522, 0.3545, 1.2235, 0.7318, 0.7776, 0.2630, 1.1892, 0.9834,\n",
       "         0.5717],\n",
       "        [0.4623, 1.3345, 0.3468, 1.2189, 0.6725, 1.0193, 0.7250, 1.0298, 0.8511,\n",
       "         0.7145],\n",
       "        [0.4530, 0.3867, 0.3535, 1.1048, 0.6961, 1.1048, 0.5303, 1.4032, 0.7623,\n",
       "         1.0938],\n",
       "        [0.4230, 0.6294, 0.3508, 1.3104, 0.6913, 1.1350, 0.4850, 1.0009, 0.8151,\n",
       "         0.9493],\n",
       "        [0.9126, 1.2201, 0.3555, 1.0664, 0.6244, 1.0856, 0.3170, 0.8838, 1.1912,\n",
       "         0.9319],\n",
       "        [1.2123, 0.8914, 0.3447, 1.1409, 0.6774, 0.9627, 0.2020, 1.5094, 1.0578,\n",
       "         0.3922],\n",
       "        [1.0413, 1.0617, 0.3369, 1.1536, 0.7350, 0.9188, 0.1327, 1.2965, 0.8269,\n",
       "         1.0004],\n",
       "        [0.8077, 1.3206, 0.3462, 1.1923, 0.6410, 1.1539, 0.2821, 1.6283, 1.0129,\n",
       "         0.1667]], device='cuda:0', grad_fn=<QuantRMSNorm2DFnBackward>)"
      ]
     },
     "execution_count": 17,
     "metadata": {},
     "output_type": "execute_result"
    }
   ],
   "source": [
    "y_tri = quant_rms_norm_2d_triton(x, gain, bias, 1e-5)\n",
    "y_tri"
   ]
  },
  {
   "cell_type": "code",
   "execution_count": 18,
   "metadata": {},
   "outputs": [
    {
     "name": "stdout",
     "output_type": "stream",
     "text": [
      "✅ Triton and Baseline match\n"
     ]
    }
   ],
   "source": [
    "if torch.allclose(y_tri, y_ref, atol=1e-3):\n",
    "    print(\"✅ Triton and Baseline match\")\n",
    "else:\n",
    "    raise ValueError(\"❌ Triton and Baseline differ\")"
   ]
  },
  {
   "cell_type": "markdown",
   "metadata": {},
   "source": [
    "#### Backward Pass"
   ]
  },
  {
   "cell_type": "markdown",
   "metadata": {},
   "source": [
    "Get the baseline result."
   ]
  },
  {
   "cell_type": "code",
   "execution_count": 19,
   "metadata": {},
   "outputs": [
    {
     "name": "stdout",
     "output_type": "stream",
     "text": [
      "tensor([[-0.0078,  0.0402, -0.0129, -0.0158, -0.0524, -0.0079, -0.0948,  0.1027,\n",
      "          0.1327, -0.0244],\n",
      "        [ 0.0709,  0.0114,  0.0033, -0.0562,  0.0288, -0.0261,  0.0541,  0.0599,\n",
      "          0.0078,  0.1711],\n",
      "        [-0.0591, -0.0919,  0.0141,  0.0313,  0.0295,  0.0317,  0.1106,  0.0467,\n",
      "          0.0569, -0.0939],\n",
      "        [ 0.1088, -0.0116,  0.0183,  0.0447,  0.0171,  0.0080, -0.0127, -0.2264,\n",
      "         -0.0414,  0.1106],\n",
      "        [-0.0454,  0.0199,  0.0118,  0.0671,  0.0293, -0.0350, -0.0588, -0.1081,\n",
      "          0.0319,  0.0749],\n",
      "        [ 0.0250,  0.2641, -0.0211, -0.0775, -0.0381, -0.0242, -0.0157,  0.1250,\n",
      "          0.1453, -0.0887],\n",
      "        [-0.1169,  0.0709,  0.0245,  0.0471,  0.0141,  0.0007,  0.0813,  0.2232,\n",
      "          0.0945, -0.2183],\n",
      "        [-0.0392,  0.2809, -0.0388, -0.0592, -0.0410, -0.1031,  0.0837, -0.0956,\n",
      "          0.0940,  0.0461],\n",
      "        [-0.0417,  0.1409,  0.0034, -0.0495, -0.0641,  0.0404, -0.0203, -0.0187,\n",
      "         -0.2352,  0.1868],\n",
      "        [ 0.1165, -0.0732,  0.0315,  0.0366,  0.0242, -0.0287,  0.0871, -0.1121,\n",
      "          0.0582,  0.0067]], device='cuda:0')\n",
      "tensor([-0.0424,  0.1841,  0.0366, -0.3423, -0.3268, -0.4209, -0.0460, -0.2440,\n",
      "         0.2947,  0.1207], device='cuda:0')\n",
      "tensor([ 0.0756,  0.3781,  0.1735, -0.0483,  0.0105, -0.2859,  0.2894, -0.0417,\n",
      "         0.2777,  0.1915], device='cuda:0')\n"
     ]
    }
   ],
   "source": [
    "y_ref.backward(dy, retain_graph=True)\n",
    "dx_ref, dg_ref, db_ref = [tensor.grad.clone() for tensor in [x, gain, bias]]\n",
    "x.grad, gain.grad, bias.grad = None, None, None  # Reset gradients for use later\n",
    "\n",
    "print(dx_ref)\n",
    "print(dg_ref)\n",
    "print(db_ref)"
   ]
  },
  {
   "cell_type": "markdown",
   "metadata": {},
   "source": [
    "Compare with the Triton result."
   ]
  },
  {
   "cell_type": "code",
   "execution_count": 20,
   "metadata": {},
   "outputs": [
    {
     "name": "stdout",
     "output_type": "stream",
     "text": [
      "Triton autotuning for function quant_rms_norm_2d_bwd_kernel finished after 0.72s; best config selected: num_warps: 1, num_ctas: 1, num_stages: 2, maxnreg: None;\n",
      "tensor([[-0.0078,  0.0402, -0.0129, -0.0158, -0.0524, -0.0079, -0.0948,  0.1027,\n",
      "          0.1327, -0.0244],\n",
      "        [ 0.0709,  0.0114,  0.0033, -0.0562,  0.0288, -0.0261,  0.0541,  0.0599,\n",
      "          0.0078,  0.1711],\n",
      "        [-0.0591, -0.0919,  0.0141,  0.0313,  0.0295,  0.0317,  0.1106,  0.0467,\n",
      "          0.0569, -0.0939],\n",
      "        [ 0.1088, -0.0116,  0.0183,  0.0447,  0.0171,  0.0080, -0.0127, -0.2264,\n",
      "         -0.0414,  0.1106],\n",
      "        [-0.0454,  0.0199,  0.0118,  0.0671,  0.0293, -0.0350, -0.0588, -0.1081,\n",
      "          0.0319,  0.0749],\n",
      "        [ 0.0250,  0.2641, -0.0211, -0.0775, -0.0380, -0.0242, -0.0157,  0.1250,\n",
      "          0.1453, -0.0887],\n",
      "        [-0.1169,  0.0709,  0.0245,  0.0471,  0.0141,  0.0007,  0.0813,  0.2232,\n",
      "          0.0945, -0.2183],\n",
      "        [-0.0392,  0.2809, -0.0388, -0.0592, -0.0410, -0.1031,  0.0837, -0.0956,\n",
      "          0.0940,  0.0461],\n",
      "        [-0.0417,  0.1409,  0.0034, -0.0495, -0.0641,  0.0404, -0.0203, -0.0186,\n",
      "         -0.2352,  0.1868],\n",
      "        [ 0.1164, -0.0732,  0.0315,  0.0366,  0.0242, -0.0287,  0.0871, -0.1121,\n",
      "          0.0582,  0.0067]], device='cuda:0')\n",
      "tensor([-0.0424,  0.1841,  0.0366, -0.3423, -0.3268, -0.4209, -0.0460, -0.2440,\n",
      "         0.2947,  0.1207], device='cuda:0')\n",
      "tensor([ 0.0756,  0.3781,  0.1735, -0.0483,  0.0105, -0.2859,  0.2894, -0.0417,\n",
      "         0.2777,  0.1915], device='cuda:0')\n"
     ]
    }
   ],
   "source": [
    "y_tri.backward(dy, retain_graph=True)\n",
    "dx_tri, dg_tri, db_tri = [tensor.grad.clone() for tensor in [x, gain, bias]]\n",
    "\n",
    "print(dx_tri)\n",
    "print(dg_tri)\n",
    "print(db_tri)"
   ]
  },
  {
   "cell_type": "code",
   "execution_count": 21,
   "metadata": {},
   "outputs": [
    {
     "name": "stdout",
     "output_type": "stream",
     "text": [
      "✅ Triton and Baseline match\n"
     ]
    }
   ],
   "source": [
    "if (\n",
    "    torch.allclose(dx_tri, dx_ref, atol=1e-3)\n",
    "    and torch.allclose(dg_tri, dg_ref, atol=1e-3)\n",
    "    and torch.allclose(db_tri, db_ref, atol=1e-3)\n",
    "):\n",
    "    print(\"✅ Triton and Baseline match\")\n",
    "else:\n",
    "    raise ValueError(\"❌ Triton and Baseline differ\")"
   ]
  },
  {
   "cell_type": "markdown",
   "metadata": {
    "jp-MarkdownHeadingCollapsed": true
   },
   "source": [
    "### Benchmarking"
   ]
  },
  {
   "cell_type": "markdown",
   "metadata": {},
   "source": [
    "We will perform benchmarking for both the forward and backward passes."
   ]
  },
  {
   "cell_type": "markdown",
   "metadata": {},
   "source": [
    "First define the benchmark configurations."
   ]
  },
  {
   "cell_type": "code",
   "execution_count": 22,
   "metadata": {},
   "outputs": [],
   "source": [
    "configs = [\n",
    "    triton.testing.Benchmark(\n",
    "        x_names=[\"M\", \"N\"],  # Argument names to use as an x-axis for the plot\n",
    "        x_vals=[256 * i for i in range(1, 17)],  # Different possible values for `x_name`\n",
    "        line_arg=\"provider\",  # Argument name whose value corresponds to a different line in the plot\n",
    "        # Possible values for `line_arg`\n",
    "        line_vals=[\"baseline\", \"triton\"],  # Label name for the lines\n",
    "        line_names=[\"Baseline\", \"Triton\"],  # Line styles\n",
    "        styles=[(\"green\", \"-\"), (\"blue\", \"-\")],\n",
    "        ylabel=\"GB/s\",  # Label name for the y-axis\n",
    "        plot_name=f\"quant-rms-norm-{mode}\",  # Name for the plot, used also as a file name for saving the plot.\n",
    "        args={\"mode\": mode},\n",
    "    )\n",
    "    for mode in [\"forward\", \"backward\"]\n",
    "]"
   ]
  },
  {
   "cell_type": "markdown",
   "metadata": {},
   "source": [
    "Then run the actual benchmark tests."
   ]
  },
  {
   "cell_type": "code",
   "execution_count": 23,
   "metadata": {},
   "outputs": [],
   "source": [
    "# ruff: noqa: E731\n",
    "@triton.testing.perf_report(configs)\n",
    "def benchmark(M, N, provider, mode):\n",
    "    print(f\"Trial when M = {M} and N = {N} for {provider} for {mode} pass\")\n",
    "    x_shape = (M, N)\n",
    "    weight_shape = (N,)\n",
    "\n",
    "    x = torch.rand(x_shape, device=\"cuda\", requires_grad=True)\n",
    "    gain = torch.rand(weight_shape, device=\"cuda\", requires_grad=True)\n",
    "    bias = torch.rand(weight_shape, device=\"cuda\", requires_grad=True)\n",
    "    dy = 0.1 * torch.randn_like(x)\n",
    "\n",
    "    quantiles = [0.5, 0.2, 0.8]\n",
    "\n",
    "    def y_fwd():\n",
    "        if provider == \"baseline\":\n",
    "            return quant_rms_norm_baseline(x, gain, bias, 1e-5)\n",
    "        if provider == \"triton\":\n",
    "            return quant_rms_norm_2d_triton(x, gain, bias, 1e-5)\n",
    "\n",
    "    if mode == \"forward\":\n",
    "        gbps = lambda ms: 2 * x.numel() * x.element_size() * 1e-9 / (ms * 1e-3)\n",
    "        ms, min_ms, max_ms = triton.testing.do_bench(y_fwd, quantiles=quantiles)\n",
    "    else:  # Backward\n",
    "        y = y_fwd()\n",
    "        gbps = lambda ms: 3 * x.numel() * x.element_size() * 1e-9 / (ms * 1e-3)\n",
    "        ms, min_ms, max_ms = triton.testing.do_bench(\n",
    "            lambda: y.backward(dy, retain_graph=True), quantiles=quantiles, grad_to_none=[x]\n",
    "        )\n",
    "\n",
    "    return gbps(ms), gbps(max_ms), gbps(min_ms)\n",
    "\n",
    "\n",
    "# benchmark.run(print_data=True)  # TODO: Re-enable"
   ]
  },
  {
   "cell_type": "markdown",
   "metadata": {
    "jp-MarkdownHeadingCollapsed": true
   },
   "source": [
    "## nD Fused Layer Norm with Quantization"
   ]
  },
  {
   "cell_type": "markdown",
   "metadata": {
    "jp-MarkdownHeadingCollapsed": true
   },
   "source": [
    "### Naive (Both Forward and Backward)"
   ]
  },
  {
   "cell_type": "markdown",
   "metadata": {},
   "source": [
    "The naive method for implementing the nD case is to iterate through the batch dimensions, but *not using Triton to do so*."
   ]
  },
  {
   "cell_type": "code",
   "execution_count": 24,
   "metadata": {},
   "outputs": [],
   "source": [
    "def quant_rms_norm_triton_naive(x: torch.Tensor, gain, bias, epsilon=1e-5):\n",
    "    x_shape = x.shape\n",
    "\n",
    "    num_stacked_matrices = 1\n",
    "    for i in range(x.ndim - 2):  # The last 2 indices are the matrices\n",
    "        num_stacked_matrices *= x_shape[i]\n",
    "\n",
    "    # Identify the shape of the matrices and vectors that will actually be multiplied\n",
    "    matrix_shape = (x_shape[-2], x_shape[-1])\n",
    "    matrix_stride = x_shape[-2] * x_shape[-1]\n",
    "\n",
    "    # Flatten the input arrays for easier processing\n",
    "    x_flat = x.flatten()\n",
    "\n",
    "    # Determine output size\n",
    "    output_size = 1\n",
    "    for dim in x_shape:\n",
    "        output_size *= dim\n",
    "    output_flat = torch.zeros((output_size,), dtype=x.dtype, device=x.device)\n",
    "\n",
    "    for i in range(num_stacked_matrices):\n",
    "        x_part = x_flat[i * matrix_stride : (i + 1) * matrix_stride].reshape(matrix_shape)\n",
    "        x_quantized = quant_rms_norm_2d_triton(x_part, gain, bias, epsilon=epsilon)\n",
    "        output_flat[i * matrix_stride : (i + 1) * matrix_stride] = x_quantized.flatten()\n",
    "\n",
    "    return output_flat.reshape(x_shape)"
   ]
  },
  {
   "cell_type": "markdown",
   "metadata": {},
   "source": [
    "However this is a ***painfully*** slow process, especially for the backward pass."
   ]
  },
  {
   "cell_type": "markdown",
   "metadata": {
    "jp-MarkdownHeadingCollapsed": true
   },
   "source": [
    "### Forward Pass"
   ]
  },
  {
   "cell_type": "markdown",
   "metadata": {},
   "source": [
    "First we define the Triton kernel for the nD case."
   ]
  },
  {
   "cell_type": "code",
   "execution_count": 25,
   "metadata": {},
   "outputs": [],
   "source": [
    "# ruff: noqa: N803\n",
    "@triton.autotune(\n",
    "    configs=get_autotune_config(),\n",
    "    key=[\"N\", \"HAS_GAIN\", \"HAS_BIAS\"],\n",
    ")\n",
    "@triton.jit\n",
    "def quant_rms_norm_nd_fwd_kernel(\n",
    "    # fmt: off\n",
    "    # Pointers to arrays\n",
    "    x_ptr, y_ptr, gain_ptr, bias_ptr, rrms_ptr,\n",
    "    # Strides\n",
    "    stride_matrix,  # How much to increase the pointer when moving by 1 matrix\n",
    "    stride_x_row,   # How much to increase the pointer when moving by 1 row\n",
    "    stride_y_row,\n",
    "    # Some constants\n",
    "    M,        # Number of rows in X\n",
    "    N,        # Number of columns in X\n",
    "    EPSILON,  # To avoid division by zero\n",
    "    # Meta-parameters\n",
    "    BLOCK_SIZE_N: tl.constexpr,\n",
    "    HAS_GAIN: tl.constexpr,\n",
    "    HAS_BIAS: tl.constexpr\n",
    "    # fmt: on\n",
    "):\n",
    "    \"\"\"\n",
    "    Forward kernel (nD case).\n",
    "\n",
    "    Performs RMSNorm on ``X``, followed by 8-bit quantization.\n",
    "    \"\"\"\n",
    "\n",
    "    # Map the PID to the appropriate matrix and row that should be loaded\n",
    "    pid_matrix = tl.program_id(0)  # Tells us which matrix to look at\n",
    "    x_ptr += pid_matrix * stride_matrix\n",
    "\n",
    "    pid_row = tl.program_id(1)  # Tells us which row of the matrix to look at\n",
    "    x_ptr += pid_row * stride_x_row\n",
    "\n",
    "    offsets = tl.arange(0, BLOCK_SIZE_N)\n",
    "    mask = offsets < N\n",
    "    x = tl.load(x_ptr + offsets, mask=mask, other=0.0).to(tl.float32)  # Load in higher precision\n",
    "\n",
    "    # Compute reciprocal root mean square (rrms)\n",
    "    mean_of_squares = tl.sum(x * x, axis=0) / N\n",
    "    rrms = 1 / tl.sqrt(mean_of_squares + EPSILON)\n",
    "\n",
    "    tl.store(rrms_ptr + pid_matrix * M + pid_row, rrms)\n",
    "\n",
    "    # Normalize\n",
    "    x_hat = x * rrms\n",
    "\n",
    "    # Apply gain and bias\n",
    "    y = x_hat\n",
    "\n",
    "    if HAS_GAIN:\n",
    "        gain = tl.load(gain_ptr + offsets, mask=mask).to(tl.float32)\n",
    "        y = y * gain\n",
    "    if HAS_BIAS:\n",
    "        bias = tl.load(bias_ptr + offsets, mask=mask).to(tl.float32)\n",
    "        y = y + bias\n",
    "\n",
    "    # Apply 8-bit quantization\n",
    "    scale = 127.0 / tl.maximum(tl.max(tl.abs(y), 0), EPSILON)\n",
    "    y = tl.extra.cuda.libdevice.round(y * scale)  # TODO: This is CUDA only... can we generalize this?\n",
    "    y = tl.maximum(tl.minimum(y, 127), -128) / scale  # The nested max and min creates the clamp/clip function\n",
    "\n",
    "    # Write output\n",
    "    y_ptr += pid_matrix * stride_matrix\n",
    "    y_ptr += pid_row * stride_y_row\n",
    "    tl.store(y_ptr + offsets, y, mask=mask)"
   ]
  },
  {
   "cell_type": "markdown",
   "metadata": {},
   "source": [
    "Then define the companion function that handles checking and allocation of tensors."
   ]
  },
  {
   "cell_type": "code",
   "execution_count": 26,
   "metadata": {},
   "outputs": [],
   "source": [
    "# ruff: noqa: N806, S101\n",
    "def quant_rms_norm_nd_fwd(x: torch.Tensor, gain, bias, num_stacked_matrices, matrix_shape, epsilon):\n",
    "    \"\"\"\n",
    "    Forward pass (nD case).\n",
    "\n",
    "    Performs RMSNorm on ``X``, followed by 8-bit quantization.\n",
    "\n",
    "    Requires CUDA.\n",
    "    \"\"\"\n",
    "\n",
    "    # Get dimensions\n",
    "    M, N = matrix_shape\n",
    "\n",
    "    # Validate that the input is OK\n",
    "    assert x.stride(-1) == 1\n",
    "\n",
    "    if gain is not None:\n",
    "        assert gain.shape == (N,)\n",
    "        assert gain.stride(-1) == 1\n",
    "    if bias is not None:\n",
    "        assert bias.shape == (N,)\n",
    "        assert bias.stride(-1) == 1\n",
    "\n",
    "    # Enqueue fused kernel if less than 64KiB per feature\n",
    "    MAX_FUSED_SIZE = 65536 // x.element_size()\n",
    "    BLOCK_SIZE_N = min(MAX_FUSED_SIZE, triton.next_power_of_2(N))\n",
    "    if N > BLOCK_SIZE_N:\n",
    "        raise RuntimeError(\"This layer norm doesn't support feature dim >= 64KiB.\")\n",
    "\n",
    "    # Allocate output\n",
    "    y = torch.empty_like(x, dtype=x.dtype)\n",
    "    rrms = torch.empty(x.shape[:-1], dtype=torch.float32, device=\"cuda\")\n",
    "\n",
    "    # Run the kernel\n",
    "    with torch.cuda.device(x.device.index):\n",
    "        quant_rms_norm_nd_fwd_kernel[(num_stacked_matrices, M)](\n",
    "            # fmt: off\n",
    "            # Pointers to arrays\n",
    "            x, y, gain, bias, rrms,\n",
    "            # Strides\n",
    "            M * N,\n",
    "            x.stride(-2),\n",
    "            y.stride(-2),\n",
    "            # Some constants\n",
    "            M,  # Number of rows in X\n",
    "            N,  # Number of columns in X\n",
    "            epsilon,  # To avoid division by zero\n",
    "            # Meta-parameters\n",
    "            BLOCK_SIZE_N,\n",
    "            gain is not None,\n",
    "            bias is not None\n",
    "            # fmt: on\n",
    "        )\n",
    "\n",
    "    # Return stuff\n",
    "    return y, rrms"
   ]
  },
  {
   "cell_type": "markdown",
   "metadata": {
    "jp-MarkdownHeadingCollapsed": true
   },
   "source": [
    "### Backward Pass"
   ]
  },
  {
   "cell_type": "markdown",
   "metadata": {},
   "source": [
    "Again, we first define the kernel for the nD case."
   ]
  },
  {
   "cell_type": "code",
   "execution_count": 27,
   "metadata": {},
   "outputs": [],
   "source": [
    "# ruff: noqa: N803\n",
    "@triton.autotune(\n",
    "    configs=get_autotune_config(),\n",
    "    key=[\"N\", \"HAS_GAIN\", \"HAS_BIAS\"],\n",
    ")\n",
    "@triton.jit\n",
    "def quant_rms_norm_nd_bwd_kernel(\n",
    "    # fmt: off\n",
    "    # Gradient inputs\n",
    "    grad_output_ptr, dx_ptr, dg_ptr, db_ptr,\n",
    "    # Original inputs\n",
    "    x_ptr, gain_ptr, rrms_ptr,\n",
    "    # Strides\n",
    "    stride_matrix,  # How much to increase the X pointer when moving by 1 matrix\n",
    "    stride_x_row,     # How much to increase the X pointer when moving by 1 row\n",
    "    stride_grad_output_row,\n",
    "    stride_dx_row,\n",
    "    # Some constants\n",
    "    M,                 # Number of rows in X\n",
    "    N,                 # Number of columns in X\n",
    "    ROWS_PER_PROGRAM,  # Number of rows of X to compute per program\n",
    "    MULTI_PROCESSOR_COUNT,\n",
    "    # Meta-parameters\n",
    "    BLOCK_SIZE_N: tl.constexpr,\n",
    "    HAS_GAIN: tl.constexpr,\n",
    "    HAS_BIAS: tl.constexpr\n",
    "    # fmt: on\n",
    "):\n",
    "    \"\"\"\n",
    "    Backward kernel (nD case).\n",
    "\n",
    "    Performs the backward pass of RMSNorm, skipping the quantization step.\n",
    "    \"\"\"\n",
    "\n",
    "    # Map the PID to the elements of `x`, `dx`, `dg`, and `db` that should be computed\n",
    "    pid_matrix = tl.program_id(0)\n",
    "    pid_row = tl.program_id(1)\n",
    "\n",
    "    row_start = pid_row * ROWS_PER_PROGRAM\n",
    "\n",
    "    x_ptr += pid_matrix * stride_matrix + row_start * stride_x_row\n",
    "    grad_output_ptr += pid_matrix * stride_matrix + row_start * stride_grad_output_row\n",
    "    dx_ptr += pid_matrix * stride_matrix + row_start * stride_dx_row\n",
    "\n",
    "    offsets = tl.arange(0, BLOCK_SIZE_N)\n",
    "    mask = offsets < N\n",
    "\n",
    "    # Load gradient array, and prepare gradient and bias output gradient arrays\n",
    "    if HAS_GAIN:\n",
    "        gain = tl.load(gain_ptr + offsets, mask=mask).to(tl.float32)\n",
    "        dg = tl.zeros((BLOCK_SIZE_N,), dtype=tl.float32)\n",
    "    if HAS_BIAS:\n",
    "        db = tl.zeros((BLOCK_SIZE_N,), dtype=tl.float32)\n",
    "\n",
    "    # Iterate through the rows\n",
    "    row_end = min(row_start + ROWS_PER_PROGRAM, M)\n",
    "    for row in range(row_start, row_end):\n",
    "        # Load data to SRAM\n",
    "        x = tl.load(x_ptr + offsets, mask=mask, other=0.0).to(tl.float32)  # Load in higher precision\n",
    "        grad_output = tl.load(grad_output_ptr + offsets, mask=mask, other=0.0).to(tl.float32)\n",
    "        rrms = tl.load(rrms_ptr + pid_matrix * M + row)  # Load the reciprocal root mean square (rrms)\n",
    "\n",
    "        # Compute `x_hat` and the product of the gradient output with the gain\n",
    "        x_hat = x * rrms\n",
    "\n",
    "        # Apply contributions to the gain and bias gradients\n",
    "        gradient_gain_product = grad_output\n",
    "        if HAS_GAIN:\n",
    "            gradient_gain_product = grad_output * gain\n",
    "            dg += grad_output * x_hat\n",
    "        if HAS_BIAS:\n",
    "            db += grad_output\n",
    "\n",
    "        # Compute `dx`\n",
    "        intermediate_const = tl.sum(x_hat * gradient_gain_product, axis=0) / N\n",
    "        dx = (gradient_gain_product - x_hat * intermediate_const) * rrms\n",
    "\n",
    "        # Write `dx`\n",
    "        tl.store(dx_ptr + offsets, dx, mask=mask)\n",
    "\n",
    "        # Update pointers to move to next row\n",
    "        x_ptr += stride_x_row\n",
    "        grad_output_ptr += stride_grad_output_row\n",
    "        dx_ptr += stride_dx_row\n",
    "\n",
    "    # Once we finished computing all the rows for this program, we can write the final `dg` and `db`\n",
    "    if HAS_GAIN:\n",
    "        tl.store(dg_ptr + pid_matrix * MULTI_PROCESSOR_COUNT * N + pid_row * N + offsets, dg, mask=mask)\n",
    "    if HAS_BIAS:\n",
    "        tl.store(db_ptr + pid_matrix * MULTI_PROCESSOR_COUNT * N + pid_row * N + offsets, db, mask=mask)"
   ]
  },
  {
   "cell_type": "markdown",
   "metadata": {},
   "source": [
    "Then define the companion function that handles checking and allocation of tensors."
   ]
  },
  {
   "cell_type": "code",
   "execution_count": 28,
   "metadata": {},
   "outputs": [],
   "source": [
    "# ruff: noqa: N806, S101\n",
    "import math\n",
    "\n",
    "\n",
    "def quant_rms_norm_nd_bwd(\n",
    "    grad_output: torch.Tensor, x: torch.Tensor, gain, bias, rrms, num_stacked_matrices, matrix_shape\n",
    "):\n",
    "    \"\"\"\n",
    "    Backward pass (nD case).\n",
    "\n",
    "    Performs the backward pass of RMSNorm on ``X``.\n",
    "    \"\"\"\n",
    "\n",
    "    # Get dimensions\n",
    "    M, N = matrix_shape\n",
    "\n",
    "    # Validate that the input is OK\n",
    "    assert x.stride(-1) == 1\n",
    "    assert grad_output.shape == x.shape\n",
    "    assert grad_output.stride(-1) == 1\n",
    "\n",
    "    if gain is not None:\n",
    "        assert gain.shape == (N,)\n",
    "        assert gain.stride(-1) == 1\n",
    "    if bias is not None:\n",
    "        assert bias.shape == (N,)\n",
    "        assert bias.stride(-1) == 1\n",
    "\n",
    "    # Enqueue fused kernel if less than 64KiB per feature\n",
    "    MAX_FUSED_SIZE = 65536 // x.element_size()\n",
    "    BLOCK_SIZE_N = min(MAX_FUSED_SIZE, triton.next_power_of_2(N))\n",
    "    if N > BLOCK_SIZE_N:\n",
    "        raise RuntimeError(\"This layer norm doesn't support feature dim >= 64KiB.\")\n",
    "\n",
    "    # Allocate output\n",
    "    multi_processor_count = torch.cuda.get_device_properties(x.device).multi_processor_count\n",
    "\n",
    "    dx = torch.empty_like(x, dtype=x.dtype)\n",
    "    if gain is not None:\n",
    "        # This is temporary as we still need to sum across the rows later\n",
    "        dg_temp = torch.empty((num_stacked_matrices, multi_processor_count, N), dtype=torch.float32, device=gain.device)\n",
    "    else:\n",
    "        dg_temp = None\n",
    "    if bias is not None:\n",
    "        db_temp = torch.empty((num_stacked_matrices, multi_processor_count, N), dtype=torch.float32, device=bias.device)\n",
    "    else:\n",
    "        db_temp = None\n",
    "\n",
    "    # Run the kernel\n",
    "    # TODO: We could make this faster by using a technique like shown in\n",
    "    #   https://triton-lang.org/main/getting-started/tutorials/05-layer-norm.html#backward-pass\n",
    "    rows_per_program = math.ceil(M / multi_processor_count)\n",
    "    with torch.cuda.device(x.device.index):\n",
    "        quant_rms_norm_nd_bwd_kernel[(num_stacked_matrices, multi_processor_count)](\n",
    "            # fmt: off\n",
    "            # Gradient inputs\n",
    "            grad_output, dx, dg_temp, db_temp,\n",
    "            # Original inputs\n",
    "            x, gain, rrms,\n",
    "            # Strides\n",
    "            M * N,\n",
    "            x.stride(-2),\n",
    "            grad_output.stride(-2),\n",
    "            dx.stride(-2),\n",
    "            # Some constants\n",
    "            M,\n",
    "            N,\n",
    "            rows_per_program,\n",
    "            multi_processor_count,\n",
    "            # Meta-parameters\n",
    "            BLOCK_SIZE_N,\n",
    "            gain is not None,\n",
    "            bias is not None\n",
    "            # fmt: on\n",
    "        )\n",
    "\n",
    "    # Fix the summing of `dg` and `db`\n",
    "    if gain is not None:\n",
    "        dg = dg_temp.sum((0, 1)).to(gain.dtype)\n",
    "    else:\n",
    "        dg = None\n",
    "\n",
    "    if bias is not None:\n",
    "        db = db_temp.sum((0, 1)).to(bias.dtype)\n",
    "    else:\n",
    "        db = None\n",
    "\n",
    "    # Return stuff\n",
    "    return dx, dg, db"
   ]
  },
  {
   "cell_type": "markdown",
   "metadata": {
    "jp-MarkdownHeadingCollapsed": true
   },
   "source": [
    "### Making the Autograd Function"
   ]
  },
  {
   "cell_type": "markdown",
   "metadata": {},
   "source": [
    "Since we now have both the forward and backward pass, we can make a `torch.autograd.Function` that comprises both the forward and backward passes."
   ]
  },
  {
   "cell_type": "code",
   "execution_count": 29,
   "metadata": {},
   "outputs": [],
   "source": [
    "class QuantRMSNormNDFn(torch.autograd.Function):\n",
    "    @staticmethod\n",
    "    def forward(ctx, x, gain, bias, epsilon=1e-5):\n",
    "        x_shape = x.shape\n",
    "\n",
    "        num_stacked_matrices = 1\n",
    "        for i in range(x.ndim - 2):  # The last 2 indices are the matrices\n",
    "            num_stacked_matrices *= x_shape[i]\n",
    "\n",
    "        # Identify the shape of the matrices and vectors that will actually be multiplied\n",
    "        matrix_shape = (x_shape[-2], x_shape[-1])\n",
    "\n",
    "        # Run the forward function\n",
    "        y, rrms = quant_rms_norm_nd_fwd(x, gain, bias, num_stacked_matrices, matrix_shape, epsilon)\n",
    "\n",
    "        # Save tensors for backward pass later\n",
    "        ctx.save_for_backward(x, gain, bias, rrms)\n",
    "        ctx.num_stacked_matrices = num_stacked_matrices\n",
    "        ctx.matrix_shape = matrix_shape\n",
    "\n",
    "        # Return the result of the forward pass\n",
    "        return y\n",
    "\n",
    "    @staticmethod\n",
    "    def backward(ctx, grad_output):\n",
    "        # Retrieve stored values\n",
    "        x, gain, bias, rrms = ctx.saved_tensors\n",
    "        num_stacked_matrices = ctx.num_stacked_matrices\n",
    "        matrix_shape = ctx.matrix_shape\n",
    "\n",
    "        # Perform backward pass\n",
    "        dx, dg, db = quant_rms_norm_nd_bwd(grad_output, x, gain, bias, rrms, num_stacked_matrices, matrix_shape)\n",
    "\n",
    "        # Return the gradients\n",
    "        return dx, dg, db, None  # No gradient for `epsilon`"
   ]
  },
  {
   "cell_type": "markdown",
   "metadata": {},
   "source": [
    "We can now wrap this in a standard function-like format."
   ]
  },
  {
   "cell_type": "code",
   "execution_count": 30,
   "metadata": {},
   "outputs": [],
   "source": [
    "def quant_rms_norm_triton(x, gain, bias, epsilon=1e-5):\n",
    "    return QuantRMSNormNDFn.apply(x, gain, bias, epsilon)"
   ]
  },
  {
   "cell_type": "markdown",
   "metadata": {
    "jp-MarkdownHeadingCollapsed": true
   },
   "source": [
    "### Testing"
   ]
  },
  {
   "cell_type": "markdown",
   "metadata": {},
   "source": [
    "Reset the seed for reproducibility."
   ]
  },
  {
   "cell_type": "code",
   "execution_count": 31,
   "metadata": {},
   "outputs": [
    {
     "data": {
      "text/plain": [
       "<torch._C.Generator at 0x7fb2e833bbd0>"
      ]
     },
     "execution_count": 31,
     "metadata": {},
     "output_type": "execute_result"
    }
   ],
   "source": [
    "torch.manual_seed(8192)"
   ]
  },
  {
   "cell_type": "markdown",
   "metadata": {},
   "source": [
    "Define the arrays used for testing."
   ]
  },
  {
   "cell_type": "code",
   "execution_count": 32,
   "metadata": {},
   "outputs": [],
   "source": [
    "X_SHAPE = (3, 3, 3, 3)\n",
    "WEIGHT_SHAPE = (X_SHAPE[-1],)"
   ]
  },
  {
   "cell_type": "code",
   "execution_count": 33,
   "metadata": {},
   "outputs": [],
   "source": [
    "x = torch.rand(X_SHAPE, device=\"cuda\", requires_grad=True)\n",
    "gain = torch.rand(WEIGHT_SHAPE, device=\"cuda\", requires_grad=True)\n",
    "bias = torch.rand(WEIGHT_SHAPE, device=\"cuda\", requires_grad=True)\n",
    "dy = 0.1 * torch.randn_like(x)"
   ]
  },
  {
   "cell_type": "markdown",
   "metadata": {
    "jp-MarkdownHeadingCollapsed": true
   },
   "source": [
    "#### With All Arguments Present"
   ]
  },
  {
   "cell_type": "markdown",
   "metadata": {},
   "source": [
    "##### Forward Pass"
   ]
  },
  {
   "cell_type": "markdown",
   "metadata": {},
   "source": [
    "Get the baseline result."
   ]
  },
  {
   "cell_type": "code",
   "execution_count": 34,
   "metadata": {},
   "outputs": [
    {
     "data": {
      "text/plain": [
       "tensor([[[[0.4849, 1.3387, 0.3479],\n",
       "          [0.6399, 1.5333, 0.3381],\n",
       "          [0.8744, 1.0782, 0.3481]],\n",
       "\n",
       "         [[1.1459, 0.5684, 0.3338],\n",
       "          [0.6621, 1.4014, 0.3421],\n",
       "          [1.1625, 0.3845, 0.3387]],\n",
       "\n",
       "         [[1.0681, 0.4710, 0.3448],\n",
       "          [0.8912, 0.9202, 0.3478],\n",
       "          [1.1505, 0.3533, 0.3352]]],\n",
       "\n",
       "\n",
       "        [[[0.7796, 1.2859, 0.3443],\n",
       "          [0.4589, 1.3246, 0.3546],\n",
       "          [0.9526, 0.8401, 0.3450]],\n",
       "\n",
       "         [[0.9729, 0.7891, 0.3447],\n",
       "          [1.1378, 0.5644, 0.3315],\n",
       "          [1.0005, 0.7248, 0.3466]],\n",
       "\n",
       "         [[0.8230, 0.9768, 0.3538],\n",
       "          [0.7125, 1.5338, 0.3382],\n",
       "          [0.5287, 0.8835, 0.3548]]],\n",
       "\n",
       "\n",
       "        [[[0.7471, 1.2822, 0.3433],\n",
       "          [0.6466, 0.9893, 0.3583],\n",
       "          [0.8245, 1.0685, 0.3450]],\n",
       "\n",
       "         [[0.6220, 0.3232, 0.3575],\n",
       "          [0.5467, 0.6741, 0.3610],\n",
       "          [0.8113, 1.3382, 0.3372]],\n",
       "\n",
       "         [[0.8458, 1.0741, 0.3468],\n",
       "          [0.7113, 0.4033, 0.3585],\n",
       "          [0.8372, 0.5208, 0.3560]]]], device='cuda:0', grad_fn=<AddBackward0>)"
      ]
     },
     "execution_count": 34,
     "metadata": {},
     "output_type": "execute_result"
    }
   ],
   "source": [
    "y_ref = quant_rms_norm_baseline(x, gain, bias, 1e-5)\n",
    "y_ref"
   ]
  },
  {
   "cell_type": "markdown",
   "metadata": {},
   "source": [
    "Compare that with the Triton result."
   ]
  },
  {
   "cell_type": "code",
   "execution_count": 35,
   "metadata": {},
   "outputs": [
    {
     "name": "stdout",
     "output_type": "stream",
     "text": [
      "Triton autotuning for function quant_rms_norm_nd_fwd_kernel finished after 0.72s; best config selected: num_warps: 4, num_ctas: 1, num_stages: 2, maxnreg: None;\n"
     ]
    },
    {
     "data": {
      "text/plain": [
       "tensor([[[[0.4849, 1.3387, 0.3479],\n",
       "          [0.6399, 1.5333, 0.3381],\n",
       "          [0.8744, 1.0781, 0.3481]],\n",
       "\n",
       "         [[1.1458, 0.5684, 0.3338],\n",
       "          [0.6621, 1.4014, 0.3421],\n",
       "          [1.1625, 0.3845, 0.3387]],\n",
       "\n",
       "         [[1.0681, 0.4710, 0.3448],\n",
       "          [0.8912, 0.9202, 0.3478],\n",
       "          [1.1504, 0.3533, 0.3352]]],\n",
       "\n",
       "\n",
       "        [[[0.7796, 1.2859, 0.3443],\n",
       "          [0.4589, 1.3246, 0.3546],\n",
       "          [0.9526, 0.8401, 0.3450]],\n",
       "\n",
       "         [[0.9729, 0.7891, 0.3447],\n",
       "          [1.1378, 0.5644, 0.3315],\n",
       "          [1.0005, 0.7248, 0.3466]],\n",
       "\n",
       "         [[0.8230, 0.9768, 0.3538],\n",
       "          [0.7125, 1.5337, 0.3381],\n",
       "          [0.5287, 0.8835, 0.3548]]],\n",
       "\n",
       "\n",
       "        [[[0.7471, 1.2821, 0.3433],\n",
       "          [0.6466, 0.9893, 0.3583],\n",
       "          [0.8245, 1.0685, 0.3450]],\n",
       "\n",
       "         [[0.6219, 0.3232, 0.3575],\n",
       "          [0.5467, 0.6741, 0.3610],\n",
       "          [0.8113, 1.3382, 0.3372]],\n",
       "\n",
       "         [[0.8457, 1.0741, 0.3468],\n",
       "          [0.7113, 0.4033, 0.3584],\n",
       "          [0.8372, 0.5208, 0.3560]]]], device='cuda:0',\n",
       "       grad_fn=<QuantRMSNormNDFnBackward>)"
      ]
     },
     "execution_count": 35,
     "metadata": {},
     "output_type": "execute_result"
    }
   ],
   "source": [
    "y_tri = quant_rms_norm_triton(x, gain, bias, 1e-5)\n",
    "y_tri"
   ]
  },
  {
   "cell_type": "code",
   "execution_count": 36,
   "metadata": {},
   "outputs": [
    {
     "name": "stdout",
     "output_type": "stream",
     "text": [
      "✅ Triton and Baseline match\n"
     ]
    }
   ],
   "source": [
    "if torch.allclose(y_tri, y_ref, atol=1e-3):\n",
    "    print(\"✅ Triton and Baseline match\")\n",
    "else:\n",
    "    raise ValueError(\"❌ Triton and Baseline differ\")"
   ]
  },
  {
   "cell_type": "markdown",
   "metadata": {},
   "source": [
    "##### Backward Pass"
   ]
  },
  {
   "cell_type": "markdown",
   "metadata": {},
   "source": [
    "Get the baseline result."
   ]
  },
  {
   "cell_type": "code",
   "execution_count": 37,
   "metadata": {},
   "outputs": [
    {
     "name": "stdout",
     "output_type": "stream",
     "text": [
      "tensor([[[[-0.0085,  0.0178, -0.0186],\n",
      "          [ 0.1165, -0.0835,  0.1077],\n",
      "          [-0.1970,  0.2153,  0.0060]],\n",
      "\n",
      "         [[-0.0560,  0.2359, -0.0028],\n",
      "          [ 0.0132, -0.0720,  0.1126],\n",
      "          [-0.0146,  0.1242,  0.0077]],\n",
      "\n",
      "         [[-0.0306,  0.2027, -0.0162],\n",
      "          [-0.0180, -0.0123,  0.0308],\n",
      "          [-0.0058,  0.0858, -0.0088]]],\n",
      "\n",
      "\n",
      "        [[[-0.0069,  0.0215, -0.0265],\n",
      "          [ 0.1045, -0.0269,  0.0047],\n",
      "          [ 0.0100,  0.0439, -0.0486]],\n",
      "\n",
      "         [[ 0.0561, -0.1953,  0.0604],\n",
      "          [ 0.0388, -0.1481, -0.0163],\n",
      "          [-0.0598,  0.2296, -0.0602]],\n",
      "\n",
      "         [[-0.0007, -0.0720,  0.0592],\n",
      "          [-0.0176,  0.0101, -0.0085],\n",
      "          [ 0.1190,  0.0755, -0.0722]]],\n",
      "\n",
      "\n",
      "        [[[-0.0744,  0.0425,  0.0140],\n",
      "          [ 0.0278,  0.1613, -0.1225],\n",
      "          [-0.0919,  0.0671,  0.0278]],\n",
      "\n",
      "         [[ 0.1303,  0.1851, -0.0628],\n",
      "          [ 0.0601,  0.2064, -0.0860],\n",
      "          [-0.1246,  0.0873,  0.0181]],\n",
      "\n",
      "         [[ 0.0809, -0.1016,  0.0155],\n",
      "          [-0.1108,  0.2213,  0.0266],\n",
      "          [ 0.0565,  0.0576, -0.0596]]]], device='cuda:0')\n",
      "tensor([-0.1548, -0.0514,  0.1253], device='cuda:0')\n",
      "tensor([0.0368, 0.6495, 0.4577], device='cuda:0')\n"
     ]
    }
   ],
   "source": [
    "y_ref.backward(dy, retain_graph=True)\n",
    "dx_ref, dg_ref, db_ref = [tensor.grad.clone() for tensor in [x, gain, bias]]\n",
    "x.grad, gain.grad, bias.grad = None, None, None  # Reset gradients for use later\n",
    "\n",
    "print(dx_ref)\n",
    "print(dg_ref)\n",
    "print(db_ref)"
   ]
  },
  {
   "cell_type": "markdown",
   "metadata": {},
   "source": [
    "Compare with the Triton result."
   ]
  },
  {
   "cell_type": "code",
   "execution_count": 38,
   "metadata": {},
   "outputs": [
    {
     "name": "stdout",
     "output_type": "stream",
     "text": [
      "Triton autotuning for function quant_rms_norm_nd_bwd_kernel finished after 0.72s; best config selected: num_warps: 1, num_ctas: 1, num_stages: 2, maxnreg: None;\n",
      "tensor([[[[-0.0085,  0.0178, -0.0186],\n",
      "          [ 0.1165, -0.0835,  0.1077],\n",
      "          [-0.1970,  0.2153,  0.0060]],\n",
      "\n",
      "         [[-0.0560,  0.2359, -0.0028],\n",
      "          [ 0.0132, -0.0720,  0.1126],\n",
      "          [-0.0146,  0.1242,  0.0077]],\n",
      "\n",
      "         [[-0.0306,  0.2027, -0.0162],\n",
      "          [-0.0180, -0.0123,  0.0308],\n",
      "          [-0.0058,  0.0858, -0.0088]]],\n",
      "\n",
      "\n",
      "        [[[-0.0069,  0.0215, -0.0265],\n",
      "          [ 0.1045, -0.0269,  0.0047],\n",
      "          [ 0.0100,  0.0439, -0.0486]],\n",
      "\n",
      "         [[ 0.0561, -0.1953,  0.0604],\n",
      "          [ 0.0388, -0.1481, -0.0163],\n",
      "          [-0.0598,  0.2296, -0.0602]],\n",
      "\n",
      "         [[-0.0007, -0.0720,  0.0592],\n",
      "          [-0.0176,  0.0101, -0.0085],\n",
      "          [ 0.1190,  0.0755, -0.0722]]],\n",
      "\n",
      "\n",
      "        [[[-0.0744,  0.0425,  0.0140],\n",
      "          [ 0.0278,  0.1613, -0.1224],\n",
      "          [-0.0919,  0.0671,  0.0278]],\n",
      "\n",
      "         [[ 0.1303,  0.1851, -0.0628],\n",
      "          [ 0.0601,  0.2064, -0.0860],\n",
      "          [-0.1246,  0.0873,  0.0181]],\n",
      "\n",
      "         [[ 0.0809, -0.1016,  0.0155],\n",
      "          [-0.1108,  0.2213,  0.0266],\n",
      "          [ 0.0566,  0.0576, -0.0596]]]], device='cuda:0')\n",
      "tensor([-0.1548, -0.0514,  0.1253], device='cuda:0')\n",
      "tensor([0.0368, 0.6495, 0.4577], device='cuda:0')\n"
     ]
    }
   ],
   "source": [
    "y_tri.backward(dy, retain_graph=True)\n",
    "dx_tri, dg_tri, db_tri = [tensor.grad.clone() for tensor in [x, gain, bias]]\n",
    "x.grad, gain.grad, bias.grad = None, None, None  # Reset gradients for use later\n",
    "\n",
    "print(dx_tri)\n",
    "print(dg_tri)\n",
    "print(db_tri)"
   ]
  },
  {
   "cell_type": "code",
   "execution_count": 39,
   "metadata": {},
   "outputs": [
    {
     "name": "stdout",
     "output_type": "stream",
     "text": [
      "✅ Triton and Baseline match\n"
     ]
    }
   ],
   "source": [
    "if (\n",
    "    torch.allclose(dx_tri, dx_ref, atol=1e-3)\n",
    "    and torch.allclose(dg_tri, dg_ref, atol=1e-3)\n",
    "    and torch.allclose(db_tri, db_ref, atol=1e-3)\n",
    "):\n",
    "    print(\"✅ Triton and Baseline match\")\n",
    "else:\n",
    "    raise ValueError(\"❌ Triton and Baseline differ\")"
   ]
  },
  {
   "cell_type": "markdown",
   "metadata": {
    "jp-MarkdownHeadingCollapsed": true
   },
   "source": [
    "#### With Missing `gain`"
   ]
  },
  {
   "cell_type": "markdown",
   "metadata": {
    "jp-MarkdownHeadingCollapsed": true
   },
   "source": [
    "##### Forward Pass"
   ]
  },
  {
   "cell_type": "markdown",
   "metadata": {},
   "source": [
    "Get the baseline result."
   ]
  },
  {
   "cell_type": "code",
   "execution_count": 40,
   "metadata": {},
   "outputs": [
    {
     "data": {
      "text/plain": [
       "tensor([[[[0.6609, 1.5261, 1.4179],\n",
       "          [0.9664, 1.7534, 0.8146],\n",
       "          [1.4387, 1.2235, 1.2008]],\n",
       "\n",
       "         [[1.9956, 0.6285, 0.5186],\n",
       "          [1.0074, 1.5993, 1.1334],\n",
       "          [2.0295, 0.4155, 0.5433]],\n",
       "\n",
       "         [[1.8378, 0.5210, 1.1143],\n",
       "          [1.4761, 1.0344, 1.3366],\n",
       "          [2.0050, 0.3789, 0.7104]]],\n",
       "\n",
       "\n",
       "        [[[1.2569, 1.4644, 1.0954],\n",
       "          [0.6062, 1.5096, 1.4501],\n",
       "          [1.6034, 0.9469, 1.2499]],\n",
       "\n",
       "         [[1.6447, 0.8806, 1.2303],\n",
       "          [1.9794, 0.6234, 0.6234],\n",
       "          [1.7006, 0.8034, 1.1918]],\n",
       "\n",
       "         [[1.3467, 1.1019, 1.4135],\n",
       "          [1.1048, 1.7539, 0.5248],\n",
       "          [0.7324, 0.9909, 1.8238]]],\n",
       "\n",
       "\n",
       "        [[[1.1841, 1.4600, 1.1726],\n",
       "          [0.9799, 1.1236, 1.6593],\n",
       "          [1.3417, 1.2149, 1.3205]],\n",
       "\n",
       "         [[0.9349, 0.3372, 1.9465],\n",
       "          [0.7843, 0.7542, 1.9156],\n",
       "          [1.3092, 1.5255, 0.8888]],\n",
       "\n",
       "         [[1.3904, 1.2152, 1.2590],\n",
       "          [1.1103, 0.4383, 1.8553],\n",
       "          [1.3756, 0.5765, 1.6639]]]], device='cuda:0', grad_fn=<AddBackward0>)"
      ]
     },
     "execution_count": 40,
     "metadata": {},
     "output_type": "execute_result"
    }
   ],
   "source": [
    "y_ref = quant_rms_norm_baseline(x, None, bias, 1e-5)\n",
    "y_ref"
   ]
  },
  {
   "cell_type": "markdown",
   "metadata": {},
   "source": [
    "Compare that with the Triton result."
   ]
  },
  {
   "cell_type": "code",
   "execution_count": 41,
   "metadata": {},
   "outputs": [
    {
     "name": "stdout",
     "output_type": "stream",
     "text": [
      "Triton autotuning for function quant_rms_norm_nd_fwd_kernel finished after 0.73s; best config selected: num_warps: 1, num_ctas: 1, num_stages: 2, maxnreg: None;\n"
     ]
    },
    {
     "data": {
      "text/plain": [
       "tensor([[[[0.6609, 1.5261, 1.4179],\n",
       "          [0.9664, 1.7534, 0.8146],\n",
       "          [1.4386, 1.2234, 1.2008]],\n",
       "\n",
       "         [[1.9955, 0.6285, 0.5185],\n",
       "          [1.0074, 1.5993, 1.1334],\n",
       "          [2.0295, 0.4155, 0.5433]],\n",
       "\n",
       "         [[1.8378, 0.5210, 1.1143],\n",
       "          [1.4761, 1.0344, 1.3366],\n",
       "          [2.0050, 0.3789, 0.7104]]],\n",
       "\n",
       "\n",
       "        [[[1.2569, 1.4644, 1.0954],\n",
       "          [0.6062, 1.5096, 1.4501],\n",
       "          [1.6034, 0.9469, 1.2499]],\n",
       "\n",
       "         [[1.6446, 0.8806, 1.2302],\n",
       "          [1.9793, 0.6234, 0.6234],\n",
       "          [1.7006, 0.8034, 1.1917]],\n",
       "\n",
       "         [[1.3467, 1.1019, 1.4135],\n",
       "          [1.1048, 1.7539, 0.5248],\n",
       "          [0.7324, 0.9909, 1.8238]]],\n",
       "\n",
       "\n",
       "        [[[1.1841, 1.4600, 1.1726],\n",
       "          [0.9799, 1.1236, 1.6593],\n",
       "          [1.3417, 1.2149, 1.3205]],\n",
       "\n",
       "         [[0.9349, 0.3372, 1.9465],\n",
       "          [0.7843, 0.7541, 1.9155],\n",
       "          [1.3092, 1.5254, 0.8888]],\n",
       "\n",
       "         [[1.3903, 1.2152, 1.2590],\n",
       "          [1.1102, 0.4383, 1.8553],\n",
       "          [1.3756, 0.5764, 1.6638]]]], device='cuda:0',\n",
       "       grad_fn=<QuantRMSNormNDFnBackward>)"
      ]
     },
     "execution_count": 41,
     "metadata": {},
     "output_type": "execute_result"
    }
   ],
   "source": [
    "y_tri = quant_rms_norm_triton(x, None, bias, 1e-5)\n",
    "y_tri"
   ]
  },
  {
   "cell_type": "code",
   "execution_count": 42,
   "metadata": {},
   "outputs": [
    {
     "name": "stdout",
     "output_type": "stream",
     "text": [
      "✅ Triton and Baseline match\n"
     ]
    }
   ],
   "source": [
    "if torch.allclose(y_tri, y_ref, atol=1e-3):\n",
    "    print(\"✅ Triton and Baseline match\")\n",
    "else:\n",
    "    raise ValueError(\"❌ Triton and Baseline differ\")"
   ]
  },
  {
   "cell_type": "markdown",
   "metadata": {
    "jp-MarkdownHeadingCollapsed": true
   },
   "source": [
    "##### Backward Pass"
   ]
  },
  {
   "cell_type": "markdown",
   "metadata": {},
   "source": [
    "Get the baseline result."
   ]
  },
  {
   "cell_type": "code",
   "execution_count": 43,
   "metadata": {},
   "outputs": [
    {
     "name": "stdout",
     "output_type": "stream",
     "text": [
      "tensor([[[[-0.0140,  0.0137, -0.0120],\n",
      "          [ 0.1156, -0.0861,  0.1171],\n",
      "          [-0.4652,  0.1912,  0.3796]],\n",
      "\n",
      "         [[-0.0695,  0.2800,  0.0235],\n",
      "          [-0.0777, -0.1331,  0.2953],\n",
      "          [-0.0282,  0.1499,  0.0950]],\n",
      "\n",
      "         [[ 0.0233,  0.2488, -0.1378],\n",
      "          [-0.0668, -0.0148,  0.0891],\n",
      "          [-0.0649,  0.0904,  0.2554]]],\n",
      "\n",
      "\n",
      "        [[[ 0.0462,  0.0724, -0.1744],\n",
      "          [ 0.1940, -0.1123,  0.0801],\n",
      "          [ 0.0467,  0.0333, -0.0917]],\n",
      "\n",
      "         [[ 0.0869, -0.2024,  0.0204],\n",
      "          [ 0.0497, -0.2000, -0.0066],\n",
      "          [-0.1564,  0.2154,  0.1032]],\n",
      "\n",
      "         [[ 0.0154, -0.0265,  0.0070],\n",
      "          [-0.0089, -0.0011,  0.0451],\n",
      "          [ 0.2811,  0.1302, -0.1458]]],\n",
      "\n",
      "\n",
      "        [[[-0.1479,  0.0714,  0.0470],\n",
      "          [ 0.1211,  0.2062, -0.1988],\n",
      "          [-0.1592,  0.1296,  0.0349]],\n",
      "\n",
      "         [[ 0.3012,  0.2195, -0.1300],\n",
      "          [ 0.1136,  0.2062, -0.1014],\n",
      "          [-0.2796,  0.0937,  0.2774]],\n",
      "\n",
      "         [[ 0.1536, -0.1129, -0.0559],\n",
      "          [-0.1940,  0.2701,  0.0631],\n",
      "          [ 0.1268,  0.0579, -0.1149]]]], device='cuda:0')\n",
      "tensor([0.0368, 0.6495, 0.4577], device='cuda:0')\n"
     ]
    }
   ],
   "source": [
    "y_ref.backward(dy, retain_graph=True)\n",
    "dx_ref, db_ref = [tensor.grad.clone() for tensor in [x, bias]]\n",
    "x.grad, bias.grad = None, None  # Reset gradients for use later\n",
    "\n",
    "print(dx_ref)\n",
    "print(db_ref)"
   ]
  },
  {
   "cell_type": "markdown",
   "metadata": {},
   "source": [
    "Compare with the Triton result."
   ]
  },
  {
   "cell_type": "code",
   "execution_count": 44,
   "metadata": {},
   "outputs": [
    {
     "name": "stdout",
     "output_type": "stream",
     "text": [
      "Triton autotuning for function quant_rms_norm_nd_bwd_kernel finished after 0.72s; best config selected: num_warps: 2, num_ctas: 1, num_stages: 2, maxnreg: None;\n",
      "tensor([[[[-0.0140,  0.0137, -0.0120],\n",
      "          [ 0.1156, -0.0861,  0.1171],\n",
      "          [-0.4652,  0.1912,  0.3796]],\n",
      "\n",
      "         [[-0.0695,  0.2800,  0.0234],\n",
      "          [-0.0777, -0.1331,  0.2953],\n",
      "          [-0.0282,  0.1499,  0.0950]],\n",
      "\n",
      "         [[ 0.0233,  0.2488, -0.1378],\n",
      "          [-0.0668, -0.0148,  0.0891],\n",
      "          [-0.0648,  0.0904,  0.2554]]],\n",
      "\n",
      "\n",
      "        [[[ 0.0462,  0.0724, -0.1744],\n",
      "          [ 0.1940, -0.1123,  0.0801],\n",
      "          [ 0.0467,  0.0333, -0.0917]],\n",
      "\n",
      "         [[ 0.0869, -0.2024,  0.0204],\n",
      "          [ 0.0497, -0.1999, -0.0066],\n",
      "          [-0.1564,  0.2154,  0.1032]],\n",
      "\n",
      "         [[ 0.0154, -0.0265,  0.0070],\n",
      "          [-0.0089, -0.0011,  0.0451],\n",
      "          [ 0.2811,  0.1302, -0.1458]]],\n",
      "\n",
      "\n",
      "        [[[-0.1479,  0.0714,  0.0470],\n",
      "          [ 0.1211,  0.2062, -0.1988],\n",
      "          [-0.1592,  0.1296,  0.0349]],\n",
      "\n",
      "         [[ 0.3012,  0.2195, -0.1300],\n",
      "          [ 0.1136,  0.2062, -0.1013],\n",
      "          [-0.2796,  0.0937,  0.2774]],\n",
      "\n",
      "         [[ 0.1536, -0.1129, -0.0559],\n",
      "          [-0.1940,  0.2701,  0.0630],\n",
      "          [ 0.1268,  0.0579, -0.1149]]]], device='cuda:0')\n",
      "tensor([0.0368, 0.6495, 0.4577], device='cuda:0')\n"
     ]
    }
   ],
   "source": [
    "y_tri.backward(dy, retain_graph=True)\n",
    "dx_tri, db_tri = [tensor.grad.clone() for tensor in [x, bias]]\n",
    "x.grad, bias.grad = None, None  # Reset gradients for use later\n",
    "\n",
    "print(dx_tri)\n",
    "print(db_tri)"
   ]
  },
  {
   "cell_type": "code",
   "execution_count": 45,
   "metadata": {},
   "outputs": [
    {
     "name": "stdout",
     "output_type": "stream",
     "text": [
      "✅ Triton and Baseline match\n"
     ]
    }
   ],
   "source": [
    "if (\n",
    "    torch.allclose(dx_tri, dx_ref, atol=1e-3)\n",
    "    and torch.allclose(db_tri, db_ref, atol=1e-3)\n",
    "):\n",
    "    print(\"✅ Triton and Baseline match\")\n",
    "else:\n",
    "    raise ValueError(\"❌ Triton and Baseline differ\")"
   ]
  },
  {
   "cell_type": "markdown",
   "metadata": {
    "jp-MarkdownHeadingCollapsed": true
   },
   "source": [
    "#### With Missing `bias`"
   ]
  },
  {
   "cell_type": "markdown",
   "metadata": {},
   "source": [
    "##### Forward Pass"
   ]
  },
  {
   "cell_type": "markdown",
   "metadata": {},
   "source": [
    "Get the baseline result."
   ]
  },
  {
   "cell_type": "code",
   "execution_count": 46,
   "metadata": {},
   "outputs": [
    {
     "data": {
      "text/plain": [
       "tensor([[[[0.1670, 1.1160, 0.0176],\n",
       "          [0.3199, 1.3106, 0.0103],\n",
       "          [0.5524, 0.8555, 0.0135]],\n",
       "\n",
       "         [[0.8252, 0.3444, 0.0065],\n",
       "          [0.3341, 1.1787, 0.0186],\n",
       "          [0.8419, 0.1591, 0.0066]],\n",
       "\n",
       "         [[0.7475, 0.2472, 0.0118],\n",
       "          [0.5712, 0.6975, 0.0165],\n",
       "          [0.8298, 0.1307, 0.0065]]],\n",
       "\n",
       "\n",
       "        [[[0.4604, 1.0632, 0.0167],\n",
       "          [0.1388, 1.1019, 0.0174],\n",
       "          [0.6320, 0.6171, 0.0149]],\n",
       "\n",
       "         [[0.6523, 0.5650, 0.0154],\n",
       "          [0.8172, 0.3475, 0.0064],\n",
       "          [0.6799, 0.5032, 0.0161]],\n",
       "\n",
       "         [[0.5047, 0.7541, 0.0178],\n",
       "          [0.3923, 1.3111, 0.0000],\n",
       "          [0.2081, 0.6608, 0.0260]]],\n",
       "\n",
       "\n",
       "        [[[0.4255, 1.0595, 0.0167],\n",
       "          [0.3260, 0.7666, 0.0241],\n",
       "          [0.5062, 0.8458, 0.0200]],\n",
       "\n",
       "         [[0.3013, 0.0996, 0.0285],\n",
       "          [0.2239, 0.4514, 0.0284],\n",
       "          [0.4919, 1.1155, 0.0088]],\n",
       "\n",
       "         [[0.5296, 0.8514, 0.0201],\n",
       "          [0.3907, 0.1815, 0.0277],\n",
       "          [0.5166, 0.3010, 0.0244]]]], device='cuda:0', grad_fn=<AddBackward0>)"
      ]
     },
     "execution_count": 46,
     "metadata": {},
     "output_type": "execute_result"
    }
   ],
   "source": [
    "y_ref = quant_rms_norm_baseline(x, gain, None, 1e-5)\n",
    "y_ref"
   ]
  },
  {
   "cell_type": "markdown",
   "metadata": {},
   "source": [
    "Compare that with the Triton result."
   ]
  },
  {
   "cell_type": "code",
   "execution_count": 47,
   "metadata": {},
   "outputs": [
    {
     "name": "stdout",
     "output_type": "stream",
     "text": [
      "Triton autotuning for function quant_rms_norm_nd_fwd_kernel finished after 0.72s; best config selected: num_warps: 1, num_ctas: 1, num_stages: 2, maxnreg: None;\n"
     ]
    },
    {
     "data": {
      "text/plain": [
       "tensor([[[[0.1670, 1.1160, 0.0176],\n",
       "          [0.3199, 1.3106, 0.0103],\n",
       "          [0.5523, 0.8554, 0.0135]],\n",
       "\n",
       "         [[0.8252, 0.3444, 0.0065],\n",
       "          [0.3341, 1.1787, 0.0186],\n",
       "          [0.8419, 0.1591, 0.0066]],\n",
       "\n",
       "         [[0.7475, 0.2472, 0.0118],\n",
       "          [0.5712, 0.6975, 0.0165],\n",
       "          [0.8298, 0.1307, 0.0065]]],\n",
       "\n",
       "\n",
       "        [[[0.4604, 1.0632, 0.0167],\n",
       "          [0.1388, 1.1019, 0.0174],\n",
       "          [0.6320, 0.6171, 0.0149]],\n",
       "\n",
       "         [[0.6523, 0.5650, 0.0154],\n",
       "          [0.8172, 0.3475, 0.0064],\n",
       "          [0.6799, 0.5032, 0.0161]],\n",
       "\n",
       "         [[0.5047, 0.7541, 0.0178],\n",
       "          [0.3923, 1.3110, 0.0000],\n",
       "          [0.2081, 0.6608, 0.0260]]],\n",
       "\n",
       "\n",
       "        [[[0.4254, 1.0594, 0.0167],\n",
       "          [0.3260, 0.7666, 0.0241],\n",
       "          [0.5062, 0.8458, 0.0200]],\n",
       "\n",
       "         [[0.3013, 0.0996, 0.0285],\n",
       "          [0.2239, 0.4514, 0.0284],\n",
       "          [0.4919, 1.1155, 0.0088]],\n",
       "\n",
       "         [[0.5296, 0.8514, 0.0201],\n",
       "          [0.3907, 0.1815, 0.0277],\n",
       "          [0.5166, 0.3010, 0.0244]]]], device='cuda:0',\n",
       "       grad_fn=<QuantRMSNormNDFnBackward>)"
      ]
     },
     "execution_count": 47,
     "metadata": {},
     "output_type": "execute_result"
    }
   ],
   "source": [
    "y_tri = quant_rms_norm_triton(x, gain, None, 1e-5)\n",
    "y_tri"
   ]
  },
  {
   "cell_type": "code",
   "execution_count": 48,
   "metadata": {},
   "outputs": [
    {
     "name": "stdout",
     "output_type": "stream",
     "text": [
      "✅ Triton and Baseline match\n"
     ]
    }
   ],
   "source": [
    "if torch.allclose(y_tri, y_ref, atol=1e-3):\n",
    "    print(\"✅ Triton and Baseline match\")\n",
    "else:\n",
    "    raise ValueError(\"❌ Triton and Baseline differ\")"
   ]
  },
  {
   "cell_type": "markdown",
   "metadata": {},
   "source": [
    "##### Backward Pass"
   ]
  },
  {
   "cell_type": "markdown",
   "metadata": {},
   "source": [
    "Get the baseline result."
   ]
  },
  {
   "cell_type": "code",
   "execution_count": 49,
   "metadata": {},
   "outputs": [
    {
     "name": "stdout",
     "output_type": "stream",
     "text": [
      "tensor([[[[-0.0085,  0.0178, -0.0186],\n",
      "          [ 0.1165, -0.0835,  0.1077],\n",
      "          [-0.1970,  0.2153,  0.0060]],\n",
      "\n",
      "         [[-0.0560,  0.2359, -0.0028],\n",
      "          [ 0.0132, -0.0720,  0.1126],\n",
      "          [-0.0146,  0.1242,  0.0077]],\n",
      "\n",
      "         [[-0.0306,  0.2027, -0.0162],\n",
      "          [-0.0180, -0.0123,  0.0308],\n",
      "          [-0.0058,  0.0858, -0.0088]]],\n",
      "\n",
      "\n",
      "        [[[-0.0069,  0.0215, -0.0265],\n",
      "          [ 0.1045, -0.0269,  0.0047],\n",
      "          [ 0.0100,  0.0439, -0.0486]],\n",
      "\n",
      "         [[ 0.0561, -0.1953,  0.0604],\n",
      "          [ 0.0388, -0.1481, -0.0163],\n",
      "          [-0.0598,  0.2296, -0.0602]],\n",
      "\n",
      "         [[-0.0007, -0.0720,  0.0592],\n",
      "          [-0.0176,  0.0101, -0.0085],\n",
      "          [ 0.1190,  0.0755, -0.0722]]],\n",
      "\n",
      "\n",
      "        [[[-0.0744,  0.0425,  0.0140],\n",
      "          [ 0.0278,  0.1613, -0.1225],\n",
      "          [-0.0919,  0.0671,  0.0278]],\n",
      "\n",
      "         [[ 0.1303,  0.1851, -0.0628],\n",
      "          [ 0.0601,  0.2064, -0.0860],\n",
      "          [-0.1246,  0.0873,  0.0181]],\n",
      "\n",
      "         [[ 0.0809, -0.1016,  0.0155],\n",
      "          [-0.1108,  0.2213,  0.0266],\n",
      "          [ 0.0565,  0.0576, -0.0596]]]], device='cuda:0')\n",
      "tensor([-0.1548, -0.0514,  0.1253], device='cuda:0')\n"
     ]
    }
   ],
   "source": [
    "y_ref.backward(dy, retain_graph=True)\n",
    "dx_ref, dg_ref = [tensor.grad.clone() for tensor in [x, gain]]\n",
    "x.grad, gain.grad = None, None  # Reset gradients for use later\n",
    "\n",
    "print(dx_ref)\n",
    "print(dg_ref)"
   ]
  },
  {
   "cell_type": "markdown",
   "metadata": {},
   "source": [
    "Compare with the Triton result."
   ]
  },
  {
   "cell_type": "code",
   "execution_count": 50,
   "metadata": {},
   "outputs": [
    {
     "name": "stdout",
     "output_type": "stream",
     "text": [
      "Triton autotuning for function quant_rms_norm_nd_bwd_kernel finished after 0.72s; best config selected: num_warps: 2, num_ctas: 1, num_stages: 2, maxnreg: None;\n",
      "tensor([[[[-0.0085,  0.0178, -0.0186],\n",
      "          [ 0.1165, -0.0835,  0.1077],\n",
      "          [-0.1970,  0.2153,  0.0060]],\n",
      "\n",
      "         [[-0.0560,  0.2359, -0.0028],\n",
      "          [ 0.0132, -0.0720,  0.1126],\n",
      "          [-0.0146,  0.1242,  0.0077]],\n",
      "\n",
      "         [[-0.0306,  0.2027, -0.0162],\n",
      "          [-0.0180, -0.0123,  0.0308],\n",
      "          [-0.0058,  0.0858, -0.0088]]],\n",
      "\n",
      "\n",
      "        [[[-0.0069,  0.0215, -0.0265],\n",
      "          [ 0.1045, -0.0269,  0.0047],\n",
      "          [ 0.0100,  0.0439, -0.0486]],\n",
      "\n",
      "         [[ 0.0561, -0.1953,  0.0604],\n",
      "          [ 0.0388, -0.1481, -0.0163],\n",
      "          [-0.0598,  0.2296, -0.0602]],\n",
      "\n",
      "         [[-0.0007, -0.0720,  0.0592],\n",
      "          [-0.0176,  0.0101, -0.0085],\n",
      "          [ 0.1190,  0.0755, -0.0722]]],\n",
      "\n",
      "\n",
      "        [[[-0.0744,  0.0425,  0.0140],\n",
      "          [ 0.0278,  0.1613, -0.1224],\n",
      "          [-0.0919,  0.0671,  0.0278]],\n",
      "\n",
      "         [[ 0.1303,  0.1851, -0.0628],\n",
      "          [ 0.0601,  0.2064, -0.0860],\n",
      "          [-0.1246,  0.0873,  0.0181]],\n",
      "\n",
      "         [[ 0.0809, -0.1016,  0.0155],\n",
      "          [-0.1108,  0.2213,  0.0266],\n",
      "          [ 0.0566,  0.0576, -0.0596]]]], device='cuda:0')\n",
      "tensor([-0.1548, -0.0514,  0.1253], device='cuda:0')\n"
     ]
    }
   ],
   "source": [
    "y_tri.backward(dy, retain_graph=True)\n",
    "dx_tri, dg_tri = [tensor.grad.clone() for tensor in [x, gain]]\n",
    "x.grad, gain.grad = None, None  # Reset gradients for use later\n",
    "\n",
    "print(dx_tri)\n",
    "print(dg_tri)"
   ]
  },
  {
   "cell_type": "code",
   "execution_count": 51,
   "metadata": {},
   "outputs": [
    {
     "name": "stdout",
     "output_type": "stream",
     "text": [
      "✅ Triton and Baseline match\n"
     ]
    }
   ],
   "source": [
    "if (\n",
    "    torch.allclose(dx_tri, dx_ref, atol=1e-3)\n",
    "    and torch.allclose(dg_tri, dg_ref, atol=1e-3)\n",
    "):\n",
    "    print(\"✅ Triton and Baseline match\")\n",
    "else:\n",
    "    raise ValueError(\"❌ Triton and Baseline differ\")"
   ]
  },
  {
   "cell_type": "markdown",
   "metadata": {
    "jp-MarkdownHeadingCollapsed": true
   },
   "source": [
    "#### With Missing `gain` and `bias`"
   ]
  },
  {
   "cell_type": "markdown",
   "metadata": {},
   "source": [
    "##### Forward Pass"
   ]
  },
  {
   "cell_type": "markdown",
   "metadata": {},
   "source": [
    "Get the baseline result."
   ]
  },
  {
   "cell_type": "code",
   "execution_count": 52,
   "metadata": {},
   "outputs": [
    {
     "data": {
      "text/plain": [
       "tensor([[[[0.3387, 1.3034, 1.0879],\n",
       "          [0.6508, 1.5307, 0.4821],\n",
       "          [1.1181, 0.9948, 0.8628]],\n",
       "\n",
       "         [[1.6750, 0.3957, 0.1846],\n",
       "          [0.6829, 1.3766, 0.8021],\n",
       "          [1.7089, 0.1884, 0.2153]],\n",
       "\n",
       "         [[1.5172, 0.2867, 0.7885],\n",
       "          [1.1555, 0.8188, 1.0008],\n",
       "          [1.6844, 0.1459, 0.3714]]],\n",
       "\n",
       "\n",
       "        [[[0.9386, 1.2417, 0.7626],\n",
       "          [0.2837, 1.2869, 1.1247],\n",
       "          [1.2828, 0.7172, 0.9091]],\n",
       "\n",
       "         [[1.3240, 0.6568, 0.8966],\n",
       "          [1.6587, 0.4049, 0.3004],\n",
       "          [1.3800, 0.5868, 0.8693]],\n",
       "\n",
       "         [[1.0235, 0.8785, 1.0832],\n",
       "          [0.7837, 1.5312, 0.1929],\n",
       "          [0.4116, 0.7761, 1.4935]]],\n",
       "\n",
       "\n",
       "        [[[0.8671, 1.2373, 0.8476],\n",
       "          [0.6592, 0.8999, 1.3290],\n",
       "          [1.0210, 0.9889, 0.9889]],\n",
       "\n",
       "         [[0.6108, 0.1145, 1.6162],\n",
       "          [0.4618, 0.5243, 1.5852],\n",
       "          [0.9950, 1.3028, 0.5642]],\n",
       "\n",
       "         [[1.0697, 0.9939, 0.9350],\n",
       "          [0.7925, 0.2161, 1.5250],\n",
       "          [1.0500, 0.3465, 1.3335]]]], device='cuda:0', grad_fn=<AddBackward0>)"
      ]
     },
     "execution_count": 52,
     "metadata": {},
     "output_type": "execute_result"
    }
   ],
   "source": [
    "y_ref = quant_rms_norm_baseline(x, None, None, 1e-5)\n",
    "y_ref"
   ]
  },
  {
   "cell_type": "markdown",
   "metadata": {},
   "source": [
    "Compare that with the Triton result."
   ]
  },
  {
   "cell_type": "code",
   "execution_count": 53,
   "metadata": {},
   "outputs": [
    {
     "name": "stdout",
     "output_type": "stream",
     "text": [
      "Triton autotuning for function quant_rms_norm_nd_fwd_kernel finished after 0.72s; best config selected: num_warps: 1, num_ctas: 1, num_stages: 2, maxnreg: None;\n"
     ]
    },
    {
     "data": {
      "text/plain": [
       "tensor([[[[0.3387, 1.3034, 1.0879],\n",
       "          [0.6508, 1.5307, 0.4821],\n",
       "          [1.1180, 0.9948, 0.8627]],\n",
       "\n",
       "         [[1.6749, 0.3956, 0.1846],\n",
       "          [0.6829, 1.3766, 0.8021],\n",
       "          [1.7088, 0.1884, 0.2153]],\n",
       "\n",
       "         [[1.5172, 0.2867, 0.7885],\n",
       "          [1.1554, 0.8188, 1.0008],\n",
       "          [1.6843, 0.1459, 0.3713]]],\n",
       "\n",
       "\n",
       "        [[[0.9386, 1.2417, 0.7626],\n",
       "          [0.2837, 1.2869, 1.1247],\n",
       "          [1.2828, 0.7171, 0.9091]],\n",
       "\n",
       "         [[1.3240, 0.6568, 0.8966],\n",
       "          [1.6587, 0.4049, 0.3004],\n",
       "          [1.3800, 0.5868, 0.8693]],\n",
       "\n",
       "         [[1.0235, 0.8785, 1.0832],\n",
       "          [0.7837, 1.5312, 0.1929],\n",
       "          [0.4116, 0.7761, 1.4934]]],\n",
       "\n",
       "\n",
       "        [[[0.8671, 1.2373, 0.8476],\n",
       "          [0.6592, 0.8999, 1.3289],\n",
       "          [1.0210, 0.9889, 0.9889]],\n",
       "\n",
       "         [[0.6108, 0.1145, 1.6161],\n",
       "          [0.4618, 0.5242, 1.5852],\n",
       "          [0.9950, 1.3027, 0.5642]],\n",
       "\n",
       "         [[1.0697, 0.9939, 0.9349],\n",
       "          [0.7925, 0.2161, 1.5249],\n",
       "          [1.0500, 0.3465, 1.3335]]]], device='cuda:0',\n",
       "       grad_fn=<QuantRMSNormNDFnBackward>)"
      ]
     },
     "execution_count": 53,
     "metadata": {},
     "output_type": "execute_result"
    }
   ],
   "source": [
    "y_tri = quant_rms_norm_triton(x, None, None, 1e-5)\n",
    "y_tri"
   ]
  },
  {
   "cell_type": "code",
   "execution_count": 54,
   "metadata": {},
   "outputs": [
    {
     "name": "stdout",
     "output_type": "stream",
     "text": [
      "✅ Triton and Baseline match\n"
     ]
    }
   ],
   "source": [
    "if torch.allclose(y_tri, y_ref, atol=1e-3):\n",
    "    print(\"✅ Triton and Baseline match\")\n",
    "else:\n",
    "    raise ValueError(\"❌ Triton and Baseline differ\")"
   ]
  },
  {
   "cell_type": "markdown",
   "metadata": {},
   "source": [
    "##### Backward Pass"
   ]
  },
  {
   "cell_type": "markdown",
   "metadata": {},
   "source": [
    "Get the baseline result."
   ]
  },
  {
   "cell_type": "code",
   "execution_count": 55,
   "metadata": {},
   "outputs": [
    {
     "name": "stdout",
     "output_type": "stream",
     "text": [
      "tensor([[[[-0.0140,  0.0137, -0.0120],\n",
      "          [ 0.1156, -0.0861,  0.1171],\n",
      "          [-0.4652,  0.1912,  0.3796]],\n",
      "\n",
      "         [[-0.0695,  0.2800,  0.0235],\n",
      "          [-0.0777, -0.1331,  0.2953],\n",
      "          [-0.0282,  0.1499,  0.0950]],\n",
      "\n",
      "         [[ 0.0233,  0.2488, -0.1378],\n",
      "          [-0.0668, -0.0148,  0.0891],\n",
      "          [-0.0649,  0.0904,  0.2554]]],\n",
      "\n",
      "\n",
      "        [[[ 0.0462,  0.0724, -0.1744],\n",
      "          [ 0.1940, -0.1123,  0.0801],\n",
      "          [ 0.0467,  0.0333, -0.0917]],\n",
      "\n",
      "         [[ 0.0869, -0.2024,  0.0204],\n",
      "          [ 0.0497, -0.2000, -0.0066],\n",
      "          [-0.1564,  0.2154,  0.1032]],\n",
      "\n",
      "         [[ 0.0154, -0.0265,  0.0070],\n",
      "          [-0.0089, -0.0011,  0.0451],\n",
      "          [ 0.2811,  0.1302, -0.1458]]],\n",
      "\n",
      "\n",
      "        [[[-0.1479,  0.0714,  0.0470],\n",
      "          [ 0.1211,  0.2062, -0.1988],\n",
      "          [-0.1592,  0.1296,  0.0349]],\n",
      "\n",
      "         [[ 0.3012,  0.2195, -0.1300],\n",
      "          [ 0.1136,  0.2062, -0.1014],\n",
      "          [-0.2796,  0.0937,  0.2774]],\n",
      "\n",
      "         [[ 0.1536, -0.1129, -0.0559],\n",
      "          [-0.1940,  0.2701,  0.0631],\n",
      "          [ 0.1268,  0.0579, -0.1149]]]], device='cuda:0')\n"
     ]
    }
   ],
   "source": [
    "y_ref.backward(dy, retain_graph=True)\n",
    "dx_ref = x.grad.clone()\n",
    "x.grad = None  # Reset gradients for use later\n",
    "\n",
    "print(dx_ref)"
   ]
  },
  {
   "cell_type": "markdown",
   "metadata": {},
   "source": [
    "Compare with the Triton result."
   ]
  },
  {
   "cell_type": "code",
   "execution_count": 56,
   "metadata": {},
   "outputs": [
    {
     "name": "stdout",
     "output_type": "stream",
     "text": [
      "Triton autotuning for function quant_rms_norm_nd_bwd_kernel finished after 0.72s; best config selected: num_warps: 2, num_ctas: 1, num_stages: 2, maxnreg: None;\n",
      "tensor([[[[-0.0140,  0.0137, -0.0120],\n",
      "          [ 0.1156, -0.0861,  0.1171],\n",
      "          [-0.4652,  0.1912,  0.3796]],\n",
      "\n",
      "         [[-0.0695,  0.2800,  0.0234],\n",
      "          [-0.0777, -0.1331,  0.2953],\n",
      "          [-0.0282,  0.1499,  0.0950]],\n",
      "\n",
      "         [[ 0.0233,  0.2488, -0.1378],\n",
      "          [-0.0668, -0.0148,  0.0891],\n",
      "          [-0.0648,  0.0904,  0.2554]]],\n",
      "\n",
      "\n",
      "        [[[ 0.0462,  0.0724, -0.1744],\n",
      "          [ 0.1940, -0.1123,  0.0801],\n",
      "          [ 0.0467,  0.0333, -0.0917]],\n",
      "\n",
      "         [[ 0.0869, -0.2024,  0.0204],\n",
      "          [ 0.0497, -0.1999, -0.0066],\n",
      "          [-0.1564,  0.2154,  0.1032]],\n",
      "\n",
      "         [[ 0.0154, -0.0265,  0.0070],\n",
      "          [-0.0089, -0.0011,  0.0451],\n",
      "          [ 0.2811,  0.1302, -0.1458]]],\n",
      "\n",
      "\n",
      "        [[[-0.1479,  0.0714,  0.0470],\n",
      "          [ 0.1211,  0.2062, -0.1988],\n",
      "          [-0.1592,  0.1296,  0.0349]],\n",
      "\n",
      "         [[ 0.3012,  0.2195, -0.1300],\n",
      "          [ 0.1136,  0.2062, -0.1013],\n",
      "          [-0.2796,  0.0937,  0.2774]],\n",
      "\n",
      "         [[ 0.1536, -0.1129, -0.0559],\n",
      "          [-0.1940,  0.2701,  0.0630],\n",
      "          [ 0.1268,  0.0579, -0.1149]]]], device='cuda:0')\n"
     ]
    }
   ],
   "source": [
    "y_tri.backward(dy, retain_graph=True)\n",
    "dx_tri = x.grad.clone()\n",
    "x.grad = None  # Reset gradients for use later\n",
    "\n",
    "print(dx_tri)"
   ]
  },
  {
   "cell_type": "code",
   "execution_count": 57,
   "metadata": {},
   "outputs": [
    {
     "name": "stdout",
     "output_type": "stream",
     "text": [
      "✅ Triton and Baseline match\n"
     ]
    }
   ],
   "source": [
    "if torch.allclose(dg_tri, dg_ref, atol=1e-3):\n",
    "    print(\"✅ Triton and Baseline match\")\n",
    "else:\n",
    "    raise ValueError(\"❌ Triton and Baseline differ\")"
   ]
  },
  {
   "cell_type": "markdown",
   "metadata": {
    "jp-MarkdownHeadingCollapsed": true
   },
   "source": [
    "### Benchmarking"
   ]
  },
  {
   "cell_type": "markdown",
   "metadata": {},
   "source": [
    "We will perform benchmarking for both the forward and backward passes."
   ]
  },
  {
   "cell_type": "markdown",
   "metadata": {},
   "source": [
    "First define the benchmark configurations."
   ]
  },
  {
   "cell_type": "code",
   "execution_count": 58,
   "metadata": {},
   "outputs": [],
   "source": [
    "configs = [\n",
    "    triton.testing.Benchmark(\n",
    "        x_names=[\"M\", \"N\"],  # Argument names to use as an x-axis for the plot\n",
    "        x_vals=[64 * i for i in range(1, 17)],  # Different possible values for `x_name`\n",
    "        line_arg=\"provider\",  # Argument name whose value corresponds to a different line in the plot\n",
    "        # Possible values for `line_arg`\n",
    "        line_vals=[\"baseline\", \"triton\"],  # Label name for the lines\n",
    "        line_names=[\"Baseline\", \"Triton\"],  # Line styles\n",
    "        styles=[(\"green\", \"-\"), (\"blue\", \"-\")],\n",
    "        ylabel=\"GB/s\",  # Label name for the y-axis\n",
    "        plot_name=f\"quant-rms-norm-{mode}\",  # Name for the plot, used also as a file name for saving the plot.\n",
    "        args={\"mode\": mode},\n",
    "    )\n",
    "    for mode in [\"forward\", \"backward\"]\n",
    "]"
   ]
  },
  {
   "cell_type": "markdown",
   "metadata": {},
   "source": [
    "Then run the actual benchmark tests."
   ]
  },
  {
   "cell_type": "code",
   "execution_count": 59,
   "metadata": {},
   "outputs": [
    {
     "name": "stdout",
     "output_type": "stream",
     "text": [
      "Trial when shape = (4, 4, 64, 64) for baseline for forward pass\n",
      "Trial when shape = (4, 4, 64, 64) for triton for forward pass\n",
      "Triton autotuning for function quant_rms_norm_nd_fwd_kernel finished after 1.17s; best config selected: num_warps: 1, num_ctas: 1, num_stages: 2, maxnreg: None;\n",
      "Trial when shape = (4, 4, 128, 128) for baseline for forward pass\n",
      "Trial when shape = (4, 4, 128, 128) for triton for forward pass\n",
      "Triton autotuning for function quant_rms_norm_nd_fwd_kernel finished after 1.19s; best config selected: num_warps: 1, num_ctas: 1, num_stages: 2, maxnreg: None;\n",
      "Trial when shape = (4, 4, 192, 192) for baseline for forward pass\n",
      "Trial when shape = (4, 4, 192, 192) for triton for forward pass\n",
      "Triton autotuning for function quant_rms_norm_nd_fwd_kernel finished after 1.21s; best config selected: num_warps: 1, num_ctas: 1, num_stages: 2, maxnreg: None;\n",
      "Trial when shape = (4, 4, 256, 256) for baseline for forward pass\n",
      "Trial when shape = (4, 4, 256, 256) for triton for forward pass\n",
      "Triton autotuning for function quant_rms_norm_nd_fwd_kernel finished after 0.74s; best config selected: num_warps: 1, num_ctas: 1, num_stages: 2, maxnreg: None;\n",
      "Trial when shape = (4, 4, 320, 320) for baseline for forward pass\n",
      "Trial when shape = (4, 4, 320, 320) for triton for forward pass\n",
      "Triton autotuning for function quant_rms_norm_nd_fwd_kernel finished after 1.28s; best config selected: num_warps: 1, num_ctas: 1, num_stages: 2, maxnreg: None;\n",
      "Trial when shape = (4, 4, 384, 384) for baseline for forward pass\n",
      "Trial when shape = (4, 4, 384, 384) for triton for forward pass\n",
      "Triton autotuning for function quant_rms_norm_nd_fwd_kernel finished after 0.76s; best config selected: num_warps: 1, num_ctas: 1, num_stages: 2, maxnreg: None;\n",
      "Trial when shape = (4, 4, 448, 448) for baseline for forward pass\n",
      "Trial when shape = (4, 4, 448, 448) for triton for forward pass\n",
      "Triton autotuning for function quant_rms_norm_nd_fwd_kernel finished after 0.77s; best config selected: num_warps: 1, num_ctas: 1, num_stages: 2, maxnreg: None;\n",
      "Trial when shape = (4, 4, 512, 512) for baseline for forward pass\n",
      "Trial when shape = (4, 4, 512, 512) for triton for forward pass\n",
      "Triton autotuning for function quant_rms_norm_nd_fwd_kernel finished after 0.78s; best config selected: num_warps: 1, num_ctas: 1, num_stages: 2, maxnreg: None;\n",
      "Trial when shape = (4, 4, 576, 576) for baseline for forward pass\n",
      "Trial when shape = (4, 4, 576, 576) for triton for forward pass\n",
      "Triton autotuning for function quant_rms_norm_nd_fwd_kernel finished after 1.37s; best config selected: num_warps: 1, num_ctas: 1, num_stages: 2, maxnreg: None;\n",
      "Trial when shape = (4, 4, 640, 640) for baseline for forward pass\n",
      "Trial when shape = (4, 4, 640, 640) for triton for forward pass\n",
      "Triton autotuning for function quant_rms_norm_nd_fwd_kernel finished after 0.80s; best config selected: num_warps: 1, num_ctas: 1, num_stages: 2, maxnreg: None;\n",
      "Trial when shape = (4, 4, 704, 704) for baseline for forward pass\n",
      "Trial when shape = (4, 4, 704, 704) for triton for forward pass\n",
      "Triton autotuning for function quant_rms_norm_nd_fwd_kernel finished after 0.80s; best config selected: num_warps: 1, num_ctas: 1, num_stages: 2, maxnreg: None;\n",
      "Trial when shape = (4, 4, 768, 768) for baseline for forward pass\n",
      "Trial when shape = (4, 4, 768, 768) for triton for forward pass\n",
      "Triton autotuning for function quant_rms_norm_nd_fwd_kernel finished after 0.81s; best config selected: num_warps: 1, num_ctas: 1, num_stages: 2, maxnreg: None;\n",
      "Trial when shape = (4, 4, 832, 832) for baseline for forward pass\n",
      "Trial when shape = (4, 4, 832, 832) for triton for forward pass\n",
      "Triton autotuning for function quant_rms_norm_nd_fwd_kernel finished after 0.83s; best config selected: num_warps: 1, num_ctas: 1, num_stages: 2, maxnreg: None;\n",
      "Trial when shape = (4, 4, 896, 896) for baseline for forward pass\n",
      "Trial when shape = (4, 4, 896, 896) for triton for forward pass\n",
      "Triton autotuning for function quant_rms_norm_nd_fwd_kernel finished after 0.84s; best config selected: num_warps: 8, num_ctas: 1, num_stages: 2, maxnreg: None;\n",
      "Trial when shape = (4, 4, 960, 960) for baseline for forward pass\n",
      "Trial when shape = (4, 4, 960, 960) for triton for forward pass\n",
      "Triton autotuning for function quant_rms_norm_nd_fwd_kernel finished after 0.85s; best config selected: num_warps: 8, num_ctas: 1, num_stages: 2, maxnreg: None;\n",
      "Trial when shape = (4, 4, 1024, 1024) for baseline for forward pass\n",
      "Trial when shape = (4, 4, 1024, 1024) for triton for forward pass\n",
      "Triton autotuning for function quant_rms_norm_nd_fwd_kernel finished after 0.86s; best config selected: num_warps: 8, num_ctas: 1, num_stages: 2, maxnreg: None;\n"
     ]
    },
    {
     "data": {
      "image/png": "[encoded data removed]",
      "text/plain": [
       "<Figure size 640x480 with 1 Axes>"
      ]
     },
     "metadata": {},
     "output_type": "display_data"
    },
    {
     "name": "stdout",
     "output_type": "stream",
     "text": [
      "quant-rms-norm-forward:\n",
      "         M       N  Baseline     Triton\n",
      "0     64.0    64.0  4.654545  36.571428\n",
      "1    128.0   128.0  4.325238  60.235293\n",
      "2    192.0   192.0  4.491228  63.123285\n",
      "3    256.0   256.0  4.654545  66.601623\n",
      "4    320.0   320.0  4.717155  64.974619\n",
      "5    384.0   384.0  4.704441  66.541513\n",
      "6    448.0   448.0  4.781826  66.370371\n",
      "7    512.0   512.0  4.796253  67.562887\n",
      "8    576.0   576.0  4.830189  63.607360\n",
      "9    640.0   640.0  4.833609  64.646467\n",
      "10   704.0   704.0  4.840756  64.837258\n",
      "11   768.0   768.0  4.859178  66.782607\n",
      "12   832.0   832.0  4.851767  65.926096\n",
      "13   896.0   896.0  4.862015  66.238943\n",
      "14   960.0   960.0  4.839116  66.024287\n",
      "15  1024.0  1024.0  4.873471  67.200256\n",
      "Trial when shape = (4, 4, 64, 64) for baseline for backward pass\n",
      "Trial when shape = (4, 4, 64, 64) for triton for backward pass\n",
      "Triton autotuning for function quant_rms_norm_nd_bwd_kernel finished after 1.32s; best config selected: num_warps: 1, num_ctas: 1, num_stages: 2, maxnreg: None;\n",
      "Trial when shape = (4, 4, 128, 128) for baseline for backward pass\n",
      "Trial when shape = (4, 4, 128, 128) for triton for backward pass\n",
      "Triton autotuning for function quant_rms_norm_nd_bwd_kernel finished after 1.22s; best config selected: num_warps: 1, num_ctas: 1, num_stages: 2, maxnreg: None;\n",
      "Trial when shape = (4, 4, 192, 192) for baseline for backward pass\n",
      "Trial when shape = (4, 4, 192, 192) for triton for backward pass\n",
      "Triton autotuning for function quant_rms_norm_nd_bwd_kernel finished after 1.25s; best config selected: num_warps: 1, num_ctas: 1, num_stages: 2, maxnreg: None;\n",
      "Trial when shape = (4, 4, 256, 256) for baseline for backward pass\n",
      "Trial when shape = (4, 4, 256, 256) for triton for backward pass\n",
      "Triton autotuning for function quant_rms_norm_nd_bwd_kernel finished after 0.74s; best config selected: num_warps: 1, num_ctas: 1, num_stages: 2, maxnreg: None;\n",
      "Trial when shape = (4, 4, 320, 320) for baseline for backward pass\n",
      "Trial when shape = (4, 4, 320, 320) for triton for backward pass\n",
      "Triton autotuning for function quant_rms_norm_nd_bwd_kernel finished after 1.30s; best config selected: num_warps: 1, num_ctas: 1, num_stages: 2, maxnreg: None;\n",
      "Trial when shape = (4, 4, 384, 384) for baseline for backward pass\n",
      "Trial when shape = (4, 4, 384, 384) for triton for backward pass\n",
      "Triton autotuning for function quant_rms_norm_nd_bwd_kernel finished after 1.40s; best config selected: num_warps: 1, num_ctas: 1, num_stages: 2, maxnreg: None;\n",
      "Trial when shape = (4, 4, 448, 448) for baseline for backward pass\n",
      "Trial when shape = (4, 4, 448, 448) for triton for backward pass\n",
      "Triton autotuning for function quant_rms_norm_nd_bwd_kernel finished after 0.76s; best config selected: num_warps: 1, num_ctas: 1, num_stages: 2, maxnreg: None;\n",
      "Trial when shape = (4, 4, 512, 512) for baseline for backward pass\n",
      "Trial when shape = (4, 4, 512, 512) for triton for backward pass\n",
      "Triton autotuning for function quant_rms_norm_nd_bwd_kernel finished after 0.77s; best config selected: num_warps: 1, num_ctas: 1, num_stages: 2, maxnreg: None;\n",
      "Trial when shape = (4, 4, 576, 576) for baseline for backward pass\n",
      "Trial when shape = (4, 4, 576, 576) for triton for backward pass\n",
      "Triton autotuning for function quant_rms_norm_nd_bwd_kernel finished after 1.45s; best config selected: num_warps: 1, num_ctas: 1, num_stages: 2, maxnreg: None;\n",
      "Trial when shape = (4, 4, 640, 640) for baseline for backward pass\n",
      "Trial when shape = (4, 4, 640, 640) for triton for backward pass\n",
      "Triton autotuning for function quant_rms_norm_nd_bwd_kernel finished after 1.47s; best config selected: num_warps: 1, num_ctas: 1, num_stages: 2, maxnreg: None;\n",
      "Trial when shape = (4, 4, 704, 704) for baseline for backward pass\n",
      "Trial when shape = (4, 4, 704, 704) for triton for backward pass\n",
      "Triton autotuning for function quant_rms_norm_nd_bwd_kernel finished after 0.80s; best config selected: num_warps: 1, num_ctas: 1, num_stages: 2, maxnreg: None;\n",
      "Trial when shape = (4, 4, 768, 768) for baseline for backward pass\n",
      "Trial when shape = (4, 4, 768, 768) for triton for backward pass\n",
      "Triton autotuning for function quant_rms_norm_nd_bwd_kernel finished after 0.82s; best config selected: num_warps: 1, num_ctas: 1, num_stages: 2, maxnreg: None;\n",
      "Trial when shape = (4, 4, 832, 832) for baseline for backward pass\n",
      "Trial when shape = (4, 4, 832, 832) for triton for backward pass\n",
      "Triton autotuning for function quant_rms_norm_nd_bwd_kernel finished after 0.84s; best config selected: num_warps: 1, num_ctas: 1, num_stages: 2, maxnreg: None;\n",
      "Trial when shape = (4, 4, 896, 896) for baseline for backward pass\n",
      "Trial when shape = (4, 4, 896, 896) for triton for backward pass\n",
      "Triton autotuning for function quant_rms_norm_nd_bwd_kernel finished after 0.86s; best config selected: num_warps: 2, num_ctas: 1, num_stages: 2, maxnreg: None;\n",
      "Trial when shape = (4, 4, 960, 960) for baseline for backward pass\n",
      "Trial when shape = (4, 4, 960, 960) for triton for backward pass\n",
      "Triton autotuning for function quant_rms_norm_nd_bwd_kernel finished after 0.86s; best config selected: num_warps: 1, num_ctas: 1, num_stages: 2, maxnreg: None;\n",
      "Trial when shape = (4, 4, 1024, 1024) for baseline for backward pass\n",
      "Trial when shape = (4, 4, 1024, 1024) for triton for backward pass\n",
      "Triton autotuning for function quant_rms_norm_nd_bwd_kernel finished after 0.87s; best config selected: num_warps: 2, num_ctas: 1, num_stages: 2, maxnreg: None;\n"
     ]
    },
    {
     "data": {
      "image/png": "[encoded data removed]",
      "text/plain": [
       "<Figure size 640x480 with 1 Axes>"
      ]
     },
     "metadata": {},
     "output_type": "display_data"
    },
    {
     "name": "stdout",
     "output_type": "stream",
     "text": [
      "quant-rms-norm-backward:\n",
      "         M       N  Baseline     Triton\n",
      "0     64.0    64.0  4.923077  23.272727\n",
      "1    128.0   128.0  5.742056  48.377950\n",
      "2    192.0   192.0  6.210243  57.123968\n",
      "3    256.0   256.0  6.469071  62.375634\n",
      "4    320.0   320.0  6.597938  63.704696\n",
      "5    384.0   384.0  6.687954  65.054117\n",
      "6    448.0   448.0  6.733226  66.021056\n",
      "7    512.0   512.0  6.726240  66.466533\n",
      "8    576.0   576.0  6.771676  66.818476\n",
      "9    640.0   640.0  6.806097  67.076985\n",
      "10   704.0   704.0  6.787029  66.806614\n",
      "11   768.0   768.0  6.809643  67.723210\n",
      "12   832.0   832.0  6.824333  67.564811\n",
      "13   896.0   896.0  6.836278  67.744377\n",
      "14   960.0   960.0  6.815493  67.420992\n",
      "15  1024.0  1024.0  6.831411  68.136546\n"
     ]
    }
   ],
   "source": [
    "# ruff: noqa: E731\n",
    "@triton.testing.perf_report(configs)\n",
    "def benchmark(M, N, provider, mode):\n",
    "    x_shape = (4, 4, M, N)\n",
    "    weight_shape = (x_shape[-1],)\n",
    "\n",
    "    print(f\"Trial when shape = {x_shape} for {provider} for {mode} pass\")\n",
    "\n",
    "    x = torch.rand(x_shape, device=\"cuda\", requires_grad=True)\n",
    "    gain = torch.rand(weight_shape, device=\"cuda\", requires_grad=True)\n",
    "    bias = torch.rand(weight_shape, device=\"cuda\", requires_grad=True)\n",
    "    dy = 0.1 * torch.randn_like(x)\n",
    "\n",
    "    quantiles = [0.5, 0.2, 0.8]\n",
    "\n",
    "    def y_fwd():\n",
    "        if provider == \"baseline\":\n",
    "            return quant_rms_norm_baseline(x, gain, bias, 1e-5)\n",
    "        if provider == \"triton\":\n",
    "            return quant_rms_norm_triton(x, gain, bias, 1e-5)\n",
    "\n",
    "    if mode == \"forward\":\n",
    "        gbps = lambda ms: 2 * x.numel() * x.element_size() * 1e-9 / (ms * 1e-3)\n",
    "        ms, min_ms, max_ms = triton.testing.do_bench(y_fwd, quantiles=quantiles)\n",
    "    else:  # Backward\n",
    "        y = y_fwd()\n",
    "        gbps = lambda ms: 3 * x.numel() * x.element_size() * 1e-9 / (ms * 1e-3)\n",
    "        ms, min_ms, max_ms = triton.testing.do_bench(\n",
    "            lambda: y.backward(dy, retain_graph=True), quantiles=quantiles, grad_to_none=[x]\n",
    "        )\n",
    "\n",
    "    return gbps(ms), gbps(max_ms), gbps(min_ms)\n",
    "\n",
    "\n",
    "benchmark.run(show_plots=True, print_data=True)  # TODO: Re-enable"
   ]
  }
 ],
 "metadata": {
  "kernelspec": {
   "display_name": "Python 3 (ipykernel)",
   "language": "python",
   "name": "python3"
  },
  "language_info": {
   "codemirror_mode": {
    "name": "ipython",
    "version": 3
   },
   "file_extension": ".py",
   "mimetype": "text/x-python",
   "name": "python",
   "nbconvert_exporter": "python",
   "pygments_lexer": "ipython3",
   "version": "3.10.14"
  }
 },
 "nbformat": 4,
 "nbformat_minor": 4
}
