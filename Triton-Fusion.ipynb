{
 "cells": [
  {
   "cell_type": "markdown",
   "metadata": {},
   "source": [
    "# Fused Layers in Triton"
   ]
  },
  {
   "cell_type": "markdown",
   "metadata": {},
   "source": [
    "## Setup"
   ]
  },
  {
   "cell_type": "code",
   "execution_count": 1,
   "metadata": {},
   "outputs": [
    {
     "name": "stdout",
     "output_type": "stream",
     "text": [
      "Looking in indexes: https://pypi.org/simple, https://aiinfra.pkgs.visualstudio.com/PublicPackages/_packaging/Triton-Nightly/pypi/simple/\n",
      "Requirement already satisfied: triton-nightly==3.0.0.post20240626041721 in /home/vscode/.cache/pypoetry/virtualenvs/keras-matmulless-b9IALFmu-py3.10/lib/python3.10/site-packages (3.0.0.post20240626041721)\n",
      "Requirement already satisfied: filelock in /home/vscode/.cache/pypoetry/virtualenvs/keras-matmulless-b9IALFmu-py3.10/lib/python3.10/site-packages (from triton-nightly==3.0.0.post20240626041721) (3.15.4)\n",
      "Note: you may need to restart the kernel to use updated packages.\n"
     ]
    }
   ],
   "source": [
    "%pip install --extra-index-url https://aiinfra.pkgs.visualstudio.com/PublicPackages/_packaging/Triton-Nightly/pypi/simple/ triton-nightly==3.0.0.post20240626041721"
   ]
  },
  {
   "cell_type": "code",
   "execution_count": 2,
   "metadata": {},
   "outputs": [],
   "source": [
    "import os\n",
    "\n",
    "os.environ[\"KERAS_BACKEND\"] = \"torch\"\n",
    "os.environ[\"DISABLE_TORCH_COMPILE\"] = \"true\"\n",
    "os.environ[\"TRITON_PRINT_AUTOTUNING\"] = \"1\""
   ]
  },
  {
   "cell_type": "markdown",
   "metadata": {},
   "source": [
    "Check the installed triton version."
   ]
  },
  {
   "cell_type": "code",
   "execution_count": 3,
   "metadata": {},
   "outputs": [],
   "source": [
    "import triton\n",
    "\n",
    "assert triton.__version__ == \"3.0.0\", f\"Expected Triton to have a version of 3.0.0, but found {triton.__version__}\""
   ]
  },
  {
   "cell_type": "markdown",
   "metadata": {},
   "source": [
    "Import other needed stuff."
   ]
  },
  {
   "cell_type": "code",
   "execution_count": 4,
   "metadata": {},
   "outputs": [],
   "source": [
    "import torch\n",
    "import triton.language as tl"
   ]
  },
  {
   "cell_type": "markdown",
   "metadata": {},
   "source": [
    "## Generic Autotune Config"
   ]
  },
  {
   "cell_type": "code",
   "execution_count": 5,
   "metadata": {},
   "outputs": [],
   "source": [
    "def get_autotune_config():\n",
    "    return [\n",
    "        triton.Config({}, num_warps=1),\n",
    "        triton.Config({}, num_warps=2),\n",
    "        triton.Config({}, num_warps=4),\n",
    "        triton.Config({}, num_warps=8),\n",
    "        triton.Config({}, num_warps=16),\n",
    "        triton.Config({}, num_warps=32),\n",
    "    ]"
   ]
  },
  {
   "cell_type": "markdown",
   "metadata": {},
   "source": [
    "## Fused Layer Norm with Quantization"
   ]
  },
  {
   "cell_type": "markdown",
   "metadata": {},
   "source": [
    "We want to fuse the RMSNorm and the quantization into one layer."
   ]
  },
  {
   "cell_type": "markdown",
   "metadata": {},
   "source": [
    "Recall that the RMSNorm is defined to be\n",
    "$$\n",
    "\\frac{\\mathbf{X}}{\\mathrm{RMS}(\\mathbf{X})}\\odot \\mathbf{G} + \\mathbf{B}\n",
    "$$\n",
    "where $\\mathbf{X}$ is the input tensor, $\\mathbf{G}$ is the 'gain' tensor (gamma in the original LayerNorm paper), and $\\mathbf{B}$ is the bias tensor."
   ]
  },
  {
   "cell_type": "markdown",
   "metadata": {},
   "source": [
    "### Baseline Spec"
   ]
  },
  {
   "cell_type": "markdown",
   "metadata": {},
   "source": [
    "Define the spec that we will be implementing in Triton."
   ]
  },
  {
   "cell_type": "code",
   "execution_count": 6,
   "metadata": {},
   "outputs": [],
   "source": [
    "def quant_rms_norm_baseline(x: torch.Tensor, gain, bias, epsilon):\n",
    "    dim = x.shape[-1]\n",
    "    scale = dim**0.5\n",
    "\n",
    "    x_norm = torch.nn.functional.normalize(x, p=2, eps=1e-5, dim=-1) * scale\n",
    "    if gain is not None:\n",
    "        x_norm *= gain\n",
    "    if bias is not None:\n",
    "        x_norm += bias\n",
    "\n",
    "    scale = 127.0 / torch.unsqueeze(torch.max(torch.abs(x_norm), dim=-1).values.clamp_(epsilon), -1)\n",
    "    y = torch.clip(torch.round(x_norm * scale), -128, 127) / scale\n",
    "\n",
    "    # return x_norm + (y - x_norm).detach()  # This includes backward pass\n",
    "    return y"
   ]
  },
  {
   "cell_type": "markdown",
   "metadata": {},
   "source": [
    "### Forward Pass"
   ]
  },
  {
   "cell_type": "markdown",
   "metadata": {},
   "source": [
    "#### Function Definitions"
   ]
  },
  {
   "cell_type": "markdown",
   "metadata": {},
   "source": [
    "First define the kernel."
   ]
  },
  {
   "cell_type": "code",
   "execution_count": 7,
   "metadata": {},
   "outputs": [],
   "source": [
    "# ruff: noqa: N803\n",
    "@triton.autotune(\n",
    "    configs=get_autotune_config(),\n",
    "    key=[\"N\", \"HAS_BIAS\"],\n",
    ")\n",
    "@triton.jit\n",
    "def quant_rms_norm_fwd_kernel(\n",
    "    # fmt: off\n",
    "    # Pointers to arrays\n",
    "    x_ptr, y_ptr, gain_ptr, bias_ptr, rrms_ptr,\n",
    "    # Strides\n",
    "    stride_x_row,  # How much to increase the pointer when moving by 1 row\n",
    "    stride_y_row,\n",
    "    # Some constants\n",
    "    N,  # Number of columns in X\n",
    "    EPSILON,  # To avoid division by zero\n",
    "    # Meta-parameters\n",
    "    BLOCK_SIZE_N: tl.constexpr,\n",
    "    HAS_GAIN: tl.constexpr,\n",
    "    HAS_BIAS: tl.constexpr\n",
    "    # fmt: on\n",
    "):\n",
    "    \"\"\"\n",
    "    Forward kernel.\n",
    "\n",
    "    Performs RMSNorm on ``X``, followed by 8-bit quantization.\n",
    "    \"\"\"\n",
    "\n",
    "    # Map the PID to the row of X that should be loaded\n",
    "    pid = tl.program_id(0)\n",
    "    base_x = pid * stride_x_row\n",
    "    offsets = tl.arange(0, BLOCK_SIZE_N)\n",
    "    mask = offsets < N\n",
    "    x = tl.load(x_ptr + base_x + offsets, mask=mask, other=0.0).to(tl.float32)  # Load in higher precision\n",
    "\n",
    "    # Compute reciprocal root mean square (rrms)\n",
    "    mean_of_squares = tl.sum(x * x, axis=0) / N\n",
    "    rrms = 1 / tl.sqrt(mean_of_squares + EPSILON)\n",
    "    tl.store(rrms_ptr + pid, rrms)  # We add PID since that is the row that the RRMS is corresponding to\n",
    "\n",
    "    # Normalize\n",
    "    x_hat = x * rrms\n",
    "\n",
    "    # Apply gain and bias\n",
    "    y = x_hat\n",
    "\n",
    "    if HAS_GAIN:\n",
    "        gain = tl.load(gain_ptr + offsets, mask=mask).to(tl.float32)\n",
    "        y = y * gain\n",
    "    if HAS_BIAS:\n",
    "        bias = tl.load(bias_ptr + offsets, mask=mask).to(tl.float32)\n",
    "        y = y + bias\n",
    "\n",
    "    # Apply 8-bit quantization\n",
    "    scale = 127.0 / tl.maximum(tl.max(tl.abs(y), 0), EPSILON)\n",
    "    y = tl.extra.cuda.libdevice.round(y * scale)  # TODO: This is CUDA only... can we generalize this?\n",
    "    y = tl.maximum(tl.minimum(y, 127), -128) / scale  # The nested max and min creates the clamp/clip function\n",
    "\n",
    "    # Write output\n",
    "    base_y = pid * stride_y_row\n",
    "    tl.store(y_ptr + base_y + offsets, y, mask=mask)"
   ]
  },
  {
   "cell_type": "markdown",
   "metadata": {},
   "source": [
    "Then define the companion function that handles checking and allocation of tensors."
   ]
  },
  {
   "cell_type": "code",
   "execution_count": 8,
   "metadata": {},
   "outputs": [],
   "source": [
    "# ruff: noqa: N806, S101\n",
    "def quant_rms_norm_fwd(x: torch.Tensor, gain, bias, epsilon):\n",
    "    \"\"\"\n",
    "    Forward pass.\n",
    "\n",
    "    Performs RMSNorm on ``X``, followed by 8-bit quantization.\n",
    "\n",
    "    Requires CUDA.\n",
    "    \"\"\"\n",
    "\n",
    "    assert x.ndim == 2  # TODO: Support other ndim values?\n",
    "\n",
    "    # Get dimensions\n",
    "    M, N = x.shape\n",
    "\n",
    "    # Validate that the input is OK\n",
    "    assert x.stride(-1) == 1\n",
    "\n",
    "    if gain is not None:\n",
    "        assert gain.shape == (N,)\n",
    "        assert gain.stride(-1) == 1\n",
    "    if bias is not None:\n",
    "        assert bias.shape == (N,)\n",
    "        assert bias.stride(-1) == 1\n",
    "\n",
    "    # Allocate output\n",
    "    y = torch.empty_like(x, dtype=x.dtype)\n",
    "    rstd = torch.empty((M,), dtype=torch.float32, device=\"cuda\")\n",
    "\n",
    "    # Enqueue fused kernel if less than 64KiB per feature\n",
    "    MAX_FUSED_SIZE = 65536 // x.element_size()\n",
    "    BLOCK_SIZE_N = min(MAX_FUSED_SIZE, triton.next_power_of_2(N))\n",
    "    if N > BLOCK_SIZE_N:\n",
    "        raise RuntimeError(\"This layer norm doesn't support feature dim >= 64KiB.\")\n",
    "\n",
    "    # Run the kernel\n",
    "    with torch.cuda.device(x.device.index):\n",
    "        quant_rms_norm_fwd_kernel[(M,)](\n",
    "            # fmt: off\n",
    "            # Pointers to arrays\n",
    "            x, y, gain, bias, rstd,\n",
    "            # Strides\n",
    "            x.stride(0),\n",
    "            y.stride(0),\n",
    "            # Some constants\n",
    "            N,  # Number of columns in X\n",
    "            epsilon,  # To avoid division by zero\n",
    "            # Meta-parameters\n",
    "            BLOCK_SIZE_N,\n",
    "            gain is not None,\n",
    "            bias is not None\n",
    "            # fmt: on\n",
    "        )\n",
    "\n",
    "    # Return stuff\n",
    "    return y, rstd"
   ]
  },
  {
   "cell_type": "markdown",
   "metadata": {},
   "source": [
    "#### Testing the Functions"
   ]
  },
  {
   "cell_type": "markdown",
   "metadata": {},
   "source": [
    "First define the array that we want to normalize and quantize."
   ]
  },
  {
   "cell_type": "code",
   "execution_count": 9,
   "metadata": {},
   "outputs": [],
   "source": [
    "import numpy as np\n",
    "\n",
    "np.random.seed(8192)"
   ]
  },
  {
   "cell_type": "code",
   "execution_count": 10,
   "metadata": {},
   "outputs": [
    {
     "data": {
      "text/plain": [
       "tensor([[0.2693, 0.6153, 0.0975, 0.0927, 0.7301, 0.5821, 0.6097, 0.6101, 0.1207,\n",
       "         0.2466],\n",
       "        [0.0462, 0.3005, 0.3514, 0.1330, 0.1475, 0.0314, 0.6199, 0.1457, 0.2693,\n",
       "         0.4847],\n",
       "        [0.3966, 0.8817, 0.8379, 0.5626, 0.8726, 0.2629, 0.5891, 0.9908, 0.6995,\n",
       "         0.6098],\n",
       "        [0.3702, 0.8369, 0.8916, 0.0165, 0.0878, 0.0137, 0.9819, 0.1413, 0.0624,\n",
       "         0.9837],\n",
       "        [0.6199, 0.2864, 0.0849, 0.0382, 0.4834, 0.8644, 0.3387, 0.7978, 0.3520,\n",
       "         0.9041],\n",
       "        [0.0204, 0.2730, 0.3259, 0.5211, 0.5283, 0.8570, 0.3380, 0.8175, 0.1245,\n",
       "         0.7295],\n",
       "        [0.0803, 0.6749, 0.3077, 0.3218, 0.2434, 0.0056, 0.6843, 0.9604, 0.0744,\n",
       "         0.2986],\n",
       "        [0.3991, 0.8103, 0.2235, 0.7061, 0.8713, 0.6701, 0.5355, 0.8366, 0.8714,\n",
       "         0.0558],\n",
       "        [0.2335, 0.5846, 0.8606, 0.0053, 0.0329, 0.1382, 0.9652, 0.8446, 0.1085,\n",
       "         0.9076],\n",
       "        [0.7014, 0.0256, 0.8586, 0.4920, 0.8743, 0.7849, 0.7285, 0.6576, 0.2997,\n",
       "         0.9676]], device='cuda:0', dtype=torch.float64)"
      ]
     },
     "execution_count": 10,
     "metadata": {},
     "output_type": "execute_result"
    }
   ],
   "source": [
    "x = torch.tensor(np.random.random((10, 10)), device=\"cuda\")\n",
    "x"
   ]
  },
  {
   "cell_type": "markdown",
   "metadata": {},
   "source": [
    "Get the baseline result."
   ]
  },
  {
   "cell_type": "code",
   "execution_count": 11,
   "metadata": {},
   "outputs": [
    {
     "data": {
      "text/plain": [
       "array([[0.58130424, 1.32339475, 0.21025898, 0.1978908 , 1.57075826,\n",
       "        1.2491857 , 1.31102658, 1.31102658, 0.25973168, 0.53183154],\n",
       "       [0.1410979 , 0.97200773, 1.12878317, 0.42329369, 0.47032632,\n",
       "        0.09406526, 1.99104808, 0.47032632, 0.86226492, 1.55207685],\n",
       "       [0.564153  , 1.24998606, 1.18361512, 0.79645129, 1.23892424,\n",
       "        0.376102  , 0.84069859, 1.40485159, 0.99556412, 0.86282224],\n",
       "       [0.61997093, 1.39493459, 1.48534702, 0.02583212, 0.14207667,\n",
       "        0.02583212, 1.64033975, 0.2324891 , 0.10332849, 1.64033975],\n",
       "       [1.10381108, 0.50749935, 0.1522498 , 0.06343742, 0.86274889,\n",
       "        1.53518553, 0.60899922, 1.42099818, 0.6216867 , 1.61131043],\n",
       "       [0.0382828 , 0.51043732, 0.61252478, 0.98259183, 0.99535277,\n",
       "        1.62063848, 0.63804664, 1.54407288, 0.22969679, 1.37818075],\n",
       "       [0.17716222, 1.4334034 , 0.66033191, 0.69254322, 0.515381  ,\n",
       "        0.01610566, 1.44950906, 2.04541834, 0.16105656, 0.62812059],\n",
       "       [0.605363  , 1.23160059, 0.34443067, 1.07504119, 1.32553623,\n",
       "        1.02285473, 0.81410886, 1.27334976, 1.32553623, 0.08349835],\n",
       "       [0.3906244 , 0.97026061, 1.42388895, 0.01260079, 0.05040315,\n",
       "        0.22681417, 1.60029997, 1.39868737, 0.17641102, 1.49949367],\n",
       "       [1.00731947, 0.03284737, 1.23725109, 0.71169311, 1.25914934,\n",
       "        1.12775985, 1.05111597, 0.94162473, 0.42701586, 1.39053884]])"
      ]
     },
     "execution_count": 11,
     "metadata": {},
     "output_type": "execute_result"
    }
   ],
   "source": [
    "baseline_output = quant_rms_norm_baseline(x, None, None, 1e-5)\n",
    "baseline_output = np.array(baseline_output.cpu().detach())\n",
    "baseline_output"
   ]
  },
  {
   "cell_type": "markdown",
   "metadata": {},
   "source": [
    "Compare that with the Triton result."
   ]
  },
  {
   "cell_type": "code",
   "execution_count": 12,
   "metadata": {},
   "outputs": [
    {
     "name": "stdout",
     "output_type": "stream",
     "text": [
      "Triton autotuning for function quant_rms_norm_fwd_kernel finished after 1.36s; best config selected: num_warps: 8, num_ctas: 1, num_stages: 2, maxnreg: None;\n"
     ]
    },
    {
     "data": {
      "text/plain": [
       "array([[0.58129078, 1.32336402, 0.2102541 , 0.19788621, 1.57072186,\n",
       "        1.24915671, 1.31099617, 1.31099617, 0.25972566, 0.53181922],\n",
       "       [0.14109062, 0.97195756, 1.12872493, 0.42327183, 0.47030205,\n",
       "        0.09406041, 1.99094534, 0.47030205, 0.86222041, 1.55199671],\n",
       "       [0.56414729, 1.24997342, 1.18360317, 0.79644328, 1.23891175,\n",
       "        0.37609822, 0.84069014, 1.40483749, 0.99555409, 0.86281353],\n",
       "       [0.61996233, 1.39491534, 1.48532641, 0.02583176, 0.1420747 ,\n",
       "        0.02583176, 1.64031708, 0.23248588, 0.10332706, 1.64031708],\n",
       "       [1.1037935 , 0.50749129, 0.15224738, 0.06343641, 0.86273515,\n",
       "        1.53516114, 0.60898954, 1.42097557, 0.6216768 , 1.61128473],\n",
       "       [0.03828211, 0.51042819, 0.61251378, 0.98257422, 0.99533492,\n",
       "        1.6206094 , 0.63803524, 1.54404521, 0.22969268, 1.37815607],\n",
       "       [0.17715819, 1.43337083, 0.66031688, 0.69252747, 0.5153693 ,\n",
       "        0.01610529, 1.44947612, 2.04537201, 0.16105291, 0.62810636],\n",
       "       [0.60535598, 1.23158634, 0.34442666, 1.07502866, 1.32552087,\n",
       "        1.02284288, 0.81409943, 1.27333498, 1.32552087, 0.08349738],\n",
       "       [0.39061904, 0.97024727, 1.42386937, 0.01260061, 0.05040246,\n",
       "        0.22681105, 1.6002779 , 1.39866817, 0.17640859, 1.49947309],\n",
       "       [1.00730908, 0.03284704, 1.23723829, 0.71168578, 1.25913632,\n",
       "        1.12774825, 1.05110514, 0.94161505, 0.42701146, 1.39052451]])"
      ]
     },
     "execution_count": 12,
     "metadata": {},
     "output_type": "execute_result"
    }
   ],
   "source": [
    "triton_output, triton_rstd = quant_rms_norm_fwd(x, None, None, 1e-5)\n",
    "triton_output = np.array(triton_output.cpu())\n",
    "triton_output"
   ]
  },
  {
   "cell_type": "code",
   "execution_count": 13,
   "metadata": {},
   "outputs": [
    {
     "name": "stdout",
     "output_type": "stream",
     "text": [
      "✅ Triton and Baseline match\n"
     ]
    }
   ],
   "source": [
    "if np.allclose(triton_output, baseline_output, atol=1e-3):\n",
    "    print(\"✅ Triton and Baseline match\")\n",
    "else:\n",
    "    raise ValueError(\"❌ Triton and Baseline differ\")"
   ]
  },
  {
   "cell_type": "markdown",
   "metadata": {},
   "source": [
    "#### Benchmark"
   ]
  },
  {
   "cell_type": "code",
   "execution_count": 14,
   "metadata": {},
   "outputs": [
    {
     "name": "stdout",
     "output_type": "stream",
     "text": [
      "Trial when M = 128 and N = 128 for baseline\n",
      "Trial when M = 128 and N = 128 for triton\n",
      "Triton autotuning for function quant_rms_norm_fwd_kernel finished after 0.73s; best config selected: num_warps: 1, num_ctas: 1, num_stages: 2, maxnreg: None;\n",
      "Trial when M = 256 and N = 256 for baseline\n",
      "Trial when M = 256 and N = 256 for triton\n",
      "Triton autotuning for function quant_rms_norm_fwd_kernel finished after 0.74s; best config selected: num_warps: 1, num_ctas: 1, num_stages: 2, maxnreg: None;\n",
      "Trial when M = 384 and N = 384 for baseline\n",
      "Trial when M = 384 and N = 384 for triton\n",
      "Triton autotuning for function quant_rms_norm_fwd_kernel finished after 0.73s; best config selected: num_warps: 1, num_ctas: 1, num_stages: 2, maxnreg: None;\n",
      "Trial when M = 512 and N = 512 for baseline\n",
      "Trial when M = 512 and N = 512 for triton\n",
      "Triton autotuning for function quant_rms_norm_fwd_kernel finished after 0.71s; best config selected: num_warps: 1, num_ctas: 1, num_stages: 2, maxnreg: None;\n",
      "Trial when M = 640 and N = 640 for baseline\n",
      "Trial when M = 640 and N = 640 for triton\n",
      "Triton autotuning for function quant_rms_norm_fwd_kernel finished after 0.74s; best config selected: num_warps: 4, num_ctas: 1, num_stages: 2, maxnreg: None;\n",
      "Trial when M = 768 and N = 768 for baseline\n",
      "Trial when M = 768 and N = 768 for triton\n",
      "Triton autotuning for function quant_rms_norm_fwd_kernel finished after 0.72s; best config selected: num_warps: 4, num_ctas: 1, num_stages: 2, maxnreg: None;\n",
      "Trial when M = 896 and N = 896 for baseline\n",
      "Trial when M = 896 and N = 896 for triton\n",
      "Triton autotuning for function quant_rms_norm_fwd_kernel finished after 0.72s; best config selected: num_warps: 1, num_ctas: 1, num_stages: 2, maxnreg: None;\n",
      "Trial when M = 1024 and N = 1024 for baseline\n",
      "Trial when M = 1024 and N = 1024 for triton\n",
      "Triton autotuning for function quant_rms_norm_fwd_kernel finished after 0.73s; best config selected: num_warps: 1, num_ctas: 1, num_stages: 2, maxnreg: None;\n",
      "Trial when M = 1152 and N = 1152 for baseline\n",
      "Trial when M = 1152 and N = 1152 for triton\n",
      "Triton autotuning for function quant_rms_norm_fwd_kernel finished after 0.75s; best config selected: num_warps: 8, num_ctas: 1, num_stages: 2, maxnreg: None;\n",
      "Trial when M = 1280 and N = 1280 for baseline\n",
      "Trial when M = 1280 and N = 1280 for triton\n",
      "Triton autotuning for function quant_rms_norm_fwd_kernel finished after 0.72s; best config selected: num_warps: 8, num_ctas: 1, num_stages: 2, maxnreg: None;\n",
      "Trial when M = 1408 and N = 1408 for baseline\n",
      "Trial when M = 1408 and N = 1408 for triton\n",
      "Triton autotuning for function quant_rms_norm_fwd_kernel finished after 0.73s; best config selected: num_warps: 8, num_ctas: 1, num_stages: 2, maxnreg: None;\n",
      "Trial when M = 1536 and N = 1536 for baseline\n",
      "Trial when M = 1536 and N = 1536 for triton\n",
      "Triton autotuning for function quant_rms_norm_fwd_kernel finished after 0.74s; best config selected: num_warps: 8, num_ctas: 1, num_stages: 2, maxnreg: None;\n",
      "Trial when M = 1664 and N = 1664 for baseline\n",
      "Trial when M = 1664 and N = 1664 for triton\n",
      "Triton autotuning for function quant_rms_norm_fwd_kernel finished after 0.72s; best config selected: num_warps: 8, num_ctas: 1, num_stages: 2, maxnreg: None;\n",
      "Trial when M = 1792 and N = 1792 for baseline\n",
      "Trial when M = 1792 and N = 1792 for triton\n",
      "Triton autotuning for function quant_rms_norm_fwd_kernel finished after 0.74s; best config selected: num_warps: 8, num_ctas: 1, num_stages: 2, maxnreg: None;\n",
      "Trial when M = 1920 and N = 1920 for baseline\n",
      "Trial when M = 1920 and N = 1920 for triton\n",
      "Triton autotuning for function quant_rms_norm_fwd_kernel finished after 0.75s; best config selected: num_warps: 8, num_ctas: 1, num_stages: 2, maxnreg: None;\n",
      "Trial when M = 2048 and N = 2048 for baseline\n",
      "Trial when M = 2048 and N = 2048 for triton\n",
      "Triton autotuning for function quant_rms_norm_fwd_kernel finished after 0.73s; best config selected: num_warps: 16, num_ctas: 1, num_stages: 2, maxnreg: None;\n"
     ]
    },
    {
     "data": {
      "image/png": "[encoded data removed]",
      "text/plain": [
       "<Figure size 640x480 with 1 Axes>"
      ]
     },
     "metadata": {},
     "output_type": "display_data"
    },
    {
     "name": "stdout",
     "output_type": "stream",
     "text": [
      "quant-rms-norm-fwd:\n",
      "         M       N  Baseline     Triton\n",
      "0    128.0   128.0  3.011765  25.600001\n",
      "1    256.0   256.0  7.816793  56.888887\n",
      "2    384.0   384.0  9.290323  63.999998\n",
      "3    512.0   512.0  7.529412  66.064517\n",
      "4    640.0   640.0  7.710844  66.666664\n",
      "5    768.0   768.0  8.000000  67.764705\n",
      "6    896.0   896.0  8.171987  68.197076\n",
      "7   1024.0  1024.0  8.291498  68.840338\n",
      "8   1152.0  1152.0  8.381568  68.662252\n",
      "9   1280.0  1280.0  8.421052  69.189190\n",
      "10  1408.0  1408.0  8.431138  69.142856\n",
      "11  1536.0  1536.0  8.539264  69.293236\n",
      "12  1664.0  1664.0  8.560349  69.333336\n",
      "13  1792.0  1792.0  8.591780  69.495842\n",
      "14  1920.0  1920.0  8.594450  69.397592\n",
      "15  2048.0  2048.0  8.629971  69.571124\n"
     ]
    }
   ],
   "source": [
    "# ruff: noqa: E731\n",
    "\n",
    "configs = [\n",
    "    triton.testing.Benchmark(\n",
    "        x_names=[\"M\", \"N\"],  # Argument names to use as an x-axis for the plot\n",
    "        x_vals=[128 * i for i in range(1, 17)],  # Different possible values for `x_name`\n",
    "        line_arg=\"provider\",  # Argument name whose value corresponds to a different line in the plot\n",
    "        # Possible values for `line_arg`\n",
    "        line_vals=[\"baseline\", \"triton\"],  # Label name for the lines\n",
    "        line_names=[\"Baseline\", \"Triton\"],  # Line styles\n",
    "        styles=[(\"green\", \"-\"), (\"blue\", \"-\")],\n",
    "        ylabel=\"GB/s\",  # Label name for the y-axis\n",
    "        plot_name=\"quant-rms-norm-fwd\",  # Name for the plot, used also as a file name for saving the plot.\n",
    "        args={},\n",
    "    )\n",
    "]\n",
    "\n",
    "\n",
    "@triton.testing.perf_report(configs)\n",
    "def benchmark(M, N, provider):\n",
    "    print(f\"Trial when M = {M} and N = {N} for {provider}\")\n",
    "    x = torch.rand((M, N), device=\"cuda\")\n",
    "\n",
    "    quantiles = [0.5, 0.2, 0.8]\n",
    "    if provider == \"baseline\":\n",
    "        ms, min_ms, max_ms = triton.testing.do_bench(\n",
    "            lambda: quant_rms_norm_baseline(x, None, None, 1e-5), quantiles=quantiles\n",
    "        )\n",
    "    if provider == \"triton\":\n",
    "        ms, min_ms, max_ms = triton.testing.do_bench(\n",
    "            lambda: quant_rms_norm_fwd(x, None, None, 1e-5), quantiles=quantiles\n",
    "        )\n",
    "    gbps = lambda ms: 2 * x.numel() * x.element_size() * 1e-9 / (ms * 1e-3)\n",
    "    return gbps(ms), gbps(max_ms), gbps(min_ms)\n",
    "\n",
    "\n",
    "benchmark.run(show_plots=True, print_data=True)"
   ]
  },
  {
   "cell_type": "markdown",
   "metadata": {},
   "source": [
    "### Backward Pass"
   ]
  },
  {
   "cell_type": "markdown",
   "metadata": {},
   "source": [
    "The backward pass of the raw RMSNorm layer is a little more involved than the forward pass."
   ]
  },
  {
   "cell_type": "markdown",
   "metadata": {},
   "source": [
    "Define $\\nabla_\\mathbf{Y}$ to be the gradient of the outputs (i.e., Vector-Jacobian Products (VJP), error signal, or $\\mathrm{d}\\,\\mathrm{out}$), $\\nabla_\\mathbf{X}$ be the required change of $\\mathbf{X}$, and $\\nabla_\\mathbf{G}$ and $\\nabla_\\mathbf{B}$ be defined similarly. Let $\\mathbf{\\hat{X}} = \\frac{\\mathbf{X}}{\\mathrm{RMS}(\\mathbf{X})}$. Then we have\n",
    "\n",
    "$$\n",
    "\\begin{align*}\n",
    "    \\nabla_\\mathbf{X} &= \\frac1{\\mathrm{RMS}(\\mathbf{X})} \\left(\\nabla_\\mathbf{Y} \\odot \\mathbf{G} - \\underbrace{\\left(\\frac1N \\mathbf{\\hat{X}} \\cdot \\left(\\nabla_\\mathbf{Y} \\odot \\mathbf{G} \\right) \\right)}_{\\mathbf{C}} \\odot \\mathbf{\\hat{X}}\\right) \\\\\n",
    "    \\nabla_\\mathbf{G} &= \\sum_{i=1}^{N}\\left(\\nabla_\\mathbf{Y} \\odot \\mathbf{\\hat{X}}\\right) & (\\text{sum across rows})\\\\\n",
    "    \\nabla_\\mathbf{B} &= \\sum_{i=1}^{N}\\nabla_\\mathbf{Y} & (\\text{sum across rows})\n",
    "\\end{align*}\n",
    "$$"
   ]
  },
  {
   "cell_type": "markdown",
   "metadata": {},
   "source": [
    "Since we need to sum $\\nabla_\\mathbf{G}$ and $\\nabla_\\mathbf{B}$ across the rows, we can use a parallel reduction strategy similar to that described [here](https://triton-lang.org/main/getting-started/tutorials/05-layer-norm.html#backward-pass)."
   ]
  }
 ],
 "metadata": {
  "kernelspec": {
   "display_name": "keras-matmulless-b9IALFmu-py3.10",
   "language": "python",
   "name": "python3"
  },
  "language_info": {
   "codemirror_mode": {
    "name": "ipython",
    "version": 3
   },
   "file_extension": ".py",
   "mimetype": "text/x-python",
   "name": "python",
   "nbconvert_exporter": "python",
   "pygments_lexer": "ipython3",
   "version": "3.10.14"
  }
 },
 "nbformat": 4,
 "nbformat_minor": 2
}
