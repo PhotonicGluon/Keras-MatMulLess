{
 "cells": [
  {
   "cell_type": "markdown",
   "metadata": {},
   "source": [
    "# Fused Layers in Triton"
   ]
  },
  {
   "cell_type": "markdown",
   "metadata": {},
   "source": [
    "## Setup"
   ]
  },
  {
   "cell_type": "code",
   "execution_count": 1,
   "metadata": {},
   "outputs": [
    {
     "name": "stdout",
     "output_type": "stream",
     "text": [
      "Looking in indexes: https://pypi.org/simple, https://aiinfra.pkgs.visualstudio.com/PublicPackages/_packaging/Triton-Nightly/pypi/simple/\n",
      "Requirement already satisfied: triton-nightly==3.0.0.post20240626041721 in /home/vscode/.cache/pypoetry/virtualenvs/keras-matmulless-b9IALFmu-py3.10/lib/python3.10/site-packages (3.0.0.post20240626041721)\n",
      "Requirement already satisfied: filelock in /home/vscode/.cache/pypoetry/virtualenvs/keras-matmulless-b9IALFmu-py3.10/lib/python3.10/site-packages (from triton-nightly==3.0.0.post20240626041721) (3.15.4)\n",
      "Note: you may need to restart the kernel to use updated packages.\n"
     ]
    }
   ],
   "source": [
    "%pip install --extra-index-url https://aiinfra.pkgs.visualstudio.com/PublicPackages/_packaging/Triton-Nightly/pypi/simple/ triton-nightly==3.0.0.post20240626041721"
   ]
  },
  {
   "cell_type": "code",
   "execution_count": 2,
   "metadata": {},
   "outputs": [],
   "source": [
    "import os\n",
    "\n",
    "os.environ[\"KERAS_BACKEND\"] = \"torch\"\n",
    "os.environ[\"DISABLE_TORCH_COMPILE\"] = \"true\"\n",
    "os.environ[\"TRITON_PRINT_AUTOTUNING\"] = \"1\""
   ]
  },
  {
   "cell_type": "markdown",
   "metadata": {},
   "source": [
    "Check the installed triton version."
   ]
  },
  {
   "cell_type": "code",
   "execution_count": 3,
   "metadata": {},
   "outputs": [],
   "source": [
    "import triton\n",
    "\n",
    "assert triton.__version__ == \"3.0.0\", f\"Expected Triton to have a version of 3.0.0, but found {triton.__version__}\""
   ]
  },
  {
   "cell_type": "markdown",
   "metadata": {},
   "source": [
    "Import other needed stuff."
   ]
  },
  {
   "cell_type": "code",
   "execution_count": 4,
   "metadata": {},
   "outputs": [],
   "source": [
    "import torch\n",
    "import triton.language as tl"
   ]
  },
  {
   "cell_type": "markdown",
   "metadata": {},
   "source": [
    "## Generic Autotune Config"
   ]
  },
  {
   "cell_type": "code",
   "execution_count": 5,
   "metadata": {},
   "outputs": [],
   "source": [
    "def get_autotune_config():\n",
    "    return [\n",
    "        triton.Config({}, num_warps=1),\n",
    "        triton.Config({}, num_warps=2),\n",
    "        triton.Config({}, num_warps=4),\n",
    "        triton.Config({}, num_warps=8),\n",
    "        triton.Config({}, num_warps=16),\n",
    "        triton.Config({}, num_warps=32),\n",
    "    ]"
   ]
  },
  {
   "cell_type": "markdown",
   "metadata": {},
   "source": [
    "## 2D Fused Layer Norm with Quantization"
   ]
  },
  {
   "cell_type": "markdown",
   "metadata": {},
   "source": [
    "We want to fuse the RMSNorm and the quantization into one layer."
   ]
  },
  {
   "cell_type": "markdown",
   "metadata": {},
   "source": [
    "Recall that the RMSNorm is defined to be\n",
    "$$\n",
    "\\frac{\\mathbf{X}}{\\mathrm{RMS}(\\mathbf{X})}\\odot \\mathbf{G} + \\mathbf{B}\n",
    "$$\n",
    "where $\\mathbf{X}$ is the input tensor, $\\mathbf{G}$ is the 'gain' tensor (gamma in the original LayerNorm paper), and $\\mathbf{B}$ is the bias tensor."
   ]
  },
  {
   "cell_type": "markdown",
   "metadata": {
    "jp-MarkdownHeadingCollapsed": true
   },
   "source": [
    "### Baseline Specification"
   ]
  },
  {
   "cell_type": "markdown",
   "metadata": {},
   "source": [
    "Define the spec that we will be implementing in Triton."
   ]
  },
  {
   "cell_type": "code",
   "execution_count": 6,
   "metadata": {},
   "outputs": [],
   "source": [
    "def quant_rms_norm_baseline(x: torch.Tensor, gain, bias, epsilon):\n",
    "    dim = x.shape[-1]\n",
    "    scale = dim**0.5\n",
    "\n",
    "    x_norm = torch.nn.functional.normalize(x, p=2, eps=1e-5, dim=-1) * scale\n",
    "    if gain is not None:\n",
    "        x_norm *= gain\n",
    "    if bias is not None:\n",
    "        x_norm += bias\n",
    "\n",
    "    scale = 127.0 / torch.unsqueeze(torch.max(torch.abs(x_norm), dim=-1).values.clamp_(epsilon), -1)\n",
    "    y = torch.clip(torch.round(x_norm * scale), -128, 127) / scale\n",
    "\n",
    "    return x_norm + (y - x_norm).detach()"
   ]
  },
  {
   "cell_type": "markdown",
   "metadata": {
    "jp-MarkdownHeadingCollapsed": true
   },
   "source": [
    "### Forward Pass"
   ]
  },
  {
   "cell_type": "markdown",
   "metadata": {},
   "source": [
    "First define the kernel."
   ]
  },
  {
   "cell_type": "code",
   "execution_count": 7,
   "metadata": {},
   "outputs": [],
   "source": [
    "# ruff: noqa: N803\n",
    "@triton.autotune(\n",
    "    configs=get_autotune_config(),\n",
    "    key=[\"N\", \"HAS_GAIN\", \"HAS_BIAS\"],\n",
    ")\n",
    "@triton.jit\n",
    "def quant_rms_norm_fwd_kernel(\n",
    "    # fmt: off\n",
    "    # Pointers to arrays\n",
    "    x_ptr, y_ptr, gain_ptr, bias_ptr, rrms_ptr,\n",
    "    # Strides\n",
    "    stride_x_row,  # How much to increase the pointer when moving by 1 row\n",
    "    stride_y_row,\n",
    "    # Some constants\n",
    "    N,        # Number of columns in X\n",
    "    EPSILON,  # To avoid division by zero\n",
    "    # Meta-parameters\n",
    "    BLOCK_SIZE_N: tl.constexpr,\n",
    "    HAS_GAIN: tl.constexpr,\n",
    "    HAS_BIAS: tl.constexpr\n",
    "    # fmt: on\n",
    "):\n",
    "    \"\"\"\n",
    "    Forward kernel.\n",
    "\n",
    "    Performs RMSNorm on ``X``, followed by 8-bit quantization.\n",
    "    \"\"\"\n",
    "\n",
    "    # Map the PID to the row of X that should be loaded\n",
    "    pid = tl.program_id(0)\n",
    "    x_ptr += pid * stride_x_row\n",
    "\n",
    "    offsets = tl.arange(0, BLOCK_SIZE_N)\n",
    "    mask = offsets < N\n",
    "    x = tl.load(x_ptr + offsets, mask=mask, other=0.0).to(tl.float32)  # Load in higher precision\n",
    "\n",
    "    # Compute reciprocal root mean square (rrms)\n",
    "    mean_of_squares = tl.sum(x * x, axis=0) / N\n",
    "    rrms = 1 / tl.sqrt(mean_of_squares + EPSILON)\n",
    "    tl.store(rrms_ptr + pid, rrms)  # We add PID since that is the row that the RRMS is corresponding to\n",
    "\n",
    "    # Normalize\n",
    "    x_hat = x * rrms\n",
    "\n",
    "    # Apply gain and bias\n",
    "    y = x_hat\n",
    "\n",
    "    if HAS_GAIN:\n",
    "        gain = tl.load(gain_ptr + offsets, mask=mask).to(tl.float32)\n",
    "        y = y * gain\n",
    "    if HAS_BIAS:\n",
    "        bias = tl.load(bias_ptr + offsets, mask=mask).to(tl.float32)\n",
    "        y = y + bias\n",
    "\n",
    "    # Apply 8-bit quantization\n",
    "    scale = 127.0 / tl.maximum(tl.max(tl.abs(y), 0), EPSILON)\n",
    "    y = tl.extra.cuda.libdevice.round(y * scale)  # TODO: This is CUDA only... can we generalize this?\n",
    "    y = tl.maximum(tl.minimum(y, 127), -128) / scale  # The nested max and min creates the clamp/clip function\n",
    "\n",
    "    # Write output\n",
    "    y_ptr += pid * stride_y_row\n",
    "    tl.store(y_ptr + offsets, y, mask=mask)"
   ]
  },
  {
   "cell_type": "markdown",
   "metadata": {},
   "source": [
    "Then define the companion function that handles checking and allocation of tensors."
   ]
  },
  {
   "cell_type": "code",
   "execution_count": 8,
   "metadata": {},
   "outputs": [],
   "source": [
    "# ruff: noqa: N806, S101\n",
    "def quant_rms_norm_fwd(x: torch.Tensor, gain, bias, epsilon):\n",
    "    \"\"\"\n",
    "    Forward pass.\n",
    "\n",
    "    Performs RMSNorm on ``X``, followed by 8-bit quantization.\n",
    "\n",
    "    Requires CUDA.\n",
    "    \"\"\"\n",
    "\n",
    "    assert x.ndim == 2  # TODO: Support other ndim values?\n",
    "\n",
    "    # Get dimensions\n",
    "    M, N = x.shape\n",
    "\n",
    "    # Validate that the input is OK\n",
    "    assert x.stride(-1) == 1\n",
    "\n",
    "    if gain is not None:\n",
    "        assert gain.shape == (N,)\n",
    "        assert gain.stride(-1) == 1\n",
    "    if bias is not None:\n",
    "        assert bias.shape == (N,)\n",
    "        assert bias.stride(-1) == 1\n",
    "\n",
    "    # Enqueue fused kernel if less than 64KiB per feature\n",
    "    MAX_FUSED_SIZE = 65536 // x.element_size()\n",
    "    BLOCK_SIZE_N = min(MAX_FUSED_SIZE, triton.next_power_of_2(N))\n",
    "    if N > BLOCK_SIZE_N:\n",
    "        raise RuntimeError(\"This layer norm doesn't support feature dim >= 64KiB.\")\n",
    "\n",
    "    # Allocate output\n",
    "    y = torch.empty_like(x, dtype=x.dtype)\n",
    "    rstd = torch.empty((M,), dtype=torch.float32, device=\"cuda\")\n",
    "\n",
    "    # Run the kernel\n",
    "    with torch.cuda.device(x.device.index):\n",
    "        quant_rms_norm_fwd_kernel[(M,)](\n",
    "            # fmt: off\n",
    "            # Pointers to arrays\n",
    "            x, y, gain, bias, rstd,\n",
    "            # Strides\n",
    "            x.stride(0),\n",
    "            y.stride(0),\n",
    "            # Some constants\n",
    "            N,  # Number of columns in X\n",
    "            epsilon,  # To avoid division by zero\n",
    "            # Meta-parameters\n",
    "            BLOCK_SIZE_N,\n",
    "            gain is not None,\n",
    "            bias is not None\n",
    "            # fmt: on\n",
    "        )\n",
    "\n",
    "    # Return stuff\n",
    "    return y, rstd"
   ]
  },
  {
   "cell_type": "markdown",
   "metadata": {
    "jp-MarkdownHeadingCollapsed": true
   },
   "source": [
    "### Backward Pass"
   ]
  },
  {
   "cell_type": "markdown",
   "metadata": {},
   "source": [
    "The backward pass of the raw RMSNorm layer is a little more involved than the forward pass."
   ]
  },
  {
   "cell_type": "markdown",
   "metadata": {},
   "source": [
    "Define $\\nabla_\\mathbf{Y}$ to be the gradient of the outputs (i.e., Vector-Jacobian Products (VJP), error signal, or $\\mathrm{d}\\,\\mathrm{out}$), $\\nabla_\\mathbf{X}$ be the required change of $\\mathbf{X}$, and $\\nabla_\\mathbf{G}$ and $\\nabla_\\mathbf{B}$ be defined similarly. Let $\\mathbf{\\hat{X}} = \\frac{\\mathbf{X}}{\\mathrm{RMS}(\\mathbf{X})}$. Then we have\n",
    "\n",
    "$$\n",
    "\\begin{align*}\n",
    "    \\nabla_\\mathbf{X} &= \\frac1{\\mathrm{RMS}(\\mathbf{X})} \\left(\\nabla_\\mathbf{Y} \\odot \\mathbf{G} - \\underbrace{\\left(\\frac1N \\mathbf{\\hat{X}} \\cdot \\left(\\nabla_\\mathbf{Y} \\odot \\mathbf{G} \\right) \\right)}_{\\texttt{intermediate\\_const}} \\odot \\mathbf{\\hat{X}}\\right) \\\\\n",
    "    \\nabla_\\mathbf{G} &= \\sum_{i=1}^{N}\\left(\\nabla_\\mathbf{Y} \\odot \\mathbf{\\hat{X}}\\right) & (\\text{sum across rows})\\\\\n",
    "    \\nabla_\\mathbf{B} &= \\sum_{i=1}^{N}\\nabla_\\mathbf{Y} & (\\text{sum across rows})\n",
    "\\end{align*}\n",
    "$$"
   ]
  },
  {
   "cell_type": "markdown",
   "metadata": {},
   "source": [
    "First define the kernel."
   ]
  },
  {
   "cell_type": "code",
   "execution_count": 9,
   "metadata": {},
   "outputs": [],
   "source": [
    "# ruff: noqa: N803\n",
    "@triton.autotune(\n",
    "    configs=get_autotune_config(),\n",
    "    key=[\"N\", \"HAS_GAIN\", \"HAS_BIAS\"],\n",
    ")\n",
    "@triton.jit\n",
    "def quant_rms_norm_bwd_kernel(\n",
    "    # fmt: off\n",
    "    # Gradient inputs\n",
    "    grad_output_ptr, dx_ptr, dg_ptr, db_ptr,\n",
    "    # Original inputs\n",
    "    x_ptr, gain_ptr, rrms_ptr,\n",
    "    # Strides\n",
    "    stride_x_row,  # How much to increase the pointer when moving by 1 row\n",
    "    stride_grad_output_row,\n",
    "    stride_dx_row,\n",
    "    # Some constants\n",
    "    M,                 # Number of rows in X\n",
    "    N,                 # Number of columns in X\n",
    "    ROWS_PER_PROGRAM,  # Number of rows of X to compute per program\n",
    "    # Meta-parameters\n",
    "    BLOCK_SIZE_N: tl.constexpr,\n",
    "    HAS_GAIN: tl.constexpr,\n",
    "    HAS_BIAS: tl.constexpr\n",
    "    # fmt: on\n",
    "):\n",
    "    \"\"\"\n",
    "    Backward kernel.\n",
    "\n",
    "    Performs the backward pass of RMSNorm, skipping the quantization step.\n",
    "    \"\"\"\n",
    "\n",
    "    # Map the PID to the elements of `x`, `dx`, `dg`, and `db` that should be computed\n",
    "    pid = tl.program_id(0)\n",
    "    row_start = pid * ROWS_PER_PROGRAM\n",
    "\n",
    "    x_ptr += row_start * stride_x_row\n",
    "    grad_output_ptr += row_start * stride_grad_output_row\n",
    "    dx_ptr += row_start * stride_dx_row\n",
    "\n",
    "    offsets = tl.arange(0, BLOCK_SIZE_N)\n",
    "    mask = offsets < N\n",
    "\n",
    "    # Load gradient array, and prepare gradient and bias output gradient arrays\n",
    "    if HAS_GAIN:\n",
    "        gain = tl.load(gain_ptr + offsets, mask=mask).to(tl.float32)\n",
    "        dg = tl.zeros((BLOCK_SIZE_N,), dtype=tl.float32)\n",
    "    if HAS_BIAS:\n",
    "        db = tl.zeros((BLOCK_SIZE_N,), dtype=tl.float32)\n",
    "\n",
    "    # Iterate through the rows\n",
    "    row_end = min(row_start + ROWS_PER_PROGRAM, M)\n",
    "    for row in range(row_start, row_end):\n",
    "        # Load data to SRAM\n",
    "        x = tl.load(x_ptr + offsets, mask=mask, other=0.0).to(tl.float32)  # Load in higher precision\n",
    "        grad_output = tl.load(grad_output_ptr + offsets, mask=mask, other=0.0).to(tl.float32)\n",
    "        rrms = tl.load(rrms_ptr + row)  # Load the reciprocal root mean square (rrms)\n",
    "\n",
    "        # Compute `x_hat` and the product of the gradient output with the gain\n",
    "        x_hat = x * rrms\n",
    "\n",
    "        # Apply contributions to the gain and bias gradients\n",
    "        gradient_gain_product = grad_output\n",
    "        if HAS_GAIN:\n",
    "            gradient_gain_product = grad_output * gain\n",
    "            dg += grad_output * x_hat\n",
    "        if HAS_BIAS:\n",
    "            db += grad_output\n",
    "\n",
    "        # Compute `dx`\n",
    "        intermediate_const = tl.sum(x_hat * gradient_gain_product, axis=0) / N\n",
    "        dx = (gradient_gain_product - x_hat * intermediate_const) * rrms\n",
    "\n",
    "        # Write `dx`\n",
    "        tl.store(dx_ptr + offsets, dx, mask=mask)\n",
    "\n",
    "        # Update pointers to move to next row\n",
    "        x_ptr += stride_x_row\n",
    "        grad_output_ptr += stride_grad_output_row\n",
    "        dx_ptr += stride_dx_row\n",
    "\n",
    "    # Once we finished computing all the rows for this program, we can write the final `dg` and `db`\n",
    "    if HAS_GAIN:\n",
    "        tl.store(dg_ptr + pid * N + offsets, dg, mask=mask)\n",
    "    if HAS_BIAS:\n",
    "        tl.store(db_ptr + pid * N + offsets, db, mask=mask)"
   ]
  },
  {
   "cell_type": "markdown",
   "metadata": {},
   "source": [
    "Then define the companion function that handles checking and allocation of tensors."
   ]
  },
  {
   "cell_type": "code",
   "execution_count": 10,
   "metadata": {},
   "outputs": [],
   "source": [
    "# ruff: noqa: N806, S101\n",
    "import math\n",
    "\n",
    "\n",
    "def quant_rms_norm_bwd(grad_output: torch.Tensor, x: torch.Tensor, gain, bias, rrms):\n",
    "    \"\"\"\n",
    "    Forward pass.\n",
    "\n",
    "    Performs RMSNorm on ``X``, followed by 8-bit quantization.\n",
    "\n",
    "    Requires CUDA.\n",
    "    \"\"\"\n",
    "\n",
    "    assert x.ndim == 2  # TODO: Support other ndim values?\n",
    "\n",
    "    # Get dimensions\n",
    "    M, N = x.shape\n",
    "\n",
    "    # Validate that the input is OK\n",
    "    assert x.stride(-1) == 1\n",
    "    assert grad_output.shape == (M, N)\n",
    "    assert grad_output.stride(-1) == 1\n",
    "\n",
    "    if gain is not None:\n",
    "        assert gain.shape == (N,)\n",
    "        assert gain.stride(-1) == 1\n",
    "    if bias is not None:\n",
    "        assert bias.shape == (N,)\n",
    "        assert bias.stride(-1) == 1\n",
    "\n",
    "    # Enqueue fused kernel if less than 64KiB per feature\n",
    "    MAX_FUSED_SIZE = 65536 // x.element_size()\n",
    "    BLOCK_SIZE_N = min(MAX_FUSED_SIZE, triton.next_power_of_2(N))\n",
    "    if N > BLOCK_SIZE_N:\n",
    "        raise RuntimeError(\"This layer norm doesn't support feature dim >= 64KiB.\")\n",
    "\n",
    "    # Allocate output\n",
    "    multi_processor_count = torch.cuda.get_device_properties(x.device).multi_processor_count\n",
    "\n",
    "    dx = torch.empty_like(x, dtype=x.dtype)\n",
    "    if gain is not None:\n",
    "        # This is temporary as we still need to sum across the rows later\n",
    "        dg_temp = torch.empty((multi_processor_count, N), dtype=torch.float32, device=gain.device)\n",
    "    else:\n",
    "        dg_temp = None\n",
    "    if bias is not None:\n",
    "        db_temp = torch.empty((multi_processor_count, N), dtype=torch.float32, device=bias.device)\n",
    "    else:\n",
    "        db_temp = None\n",
    "\n",
    "    # Run the kernel\n",
    "    # TODO: We could make this faster by using a technique like shown in\n",
    "    #   https://triton-lang.org/main/getting-started/tutorials/05-layer-norm.html#backward-pass\n",
    "    rows_per_program = math.ceil(M / multi_processor_count)\n",
    "    with torch.cuda.device(x.device.index):\n",
    "        quant_rms_norm_bwd_kernel[(multi_processor_count,)](\n",
    "            # fmt: off\n",
    "            # Gradient inputs\n",
    "            grad_output, dx, dg_temp, db_temp,\n",
    "            # Original inputs\n",
    "            x, gain, rrms,\n",
    "            # Strides\n",
    "            x.stride(0),\n",
    "            grad_output.stride(0),\n",
    "            dx.stride(0),\n",
    "            # Some constants\n",
    "            M,\n",
    "            N,\n",
    "            rows_per_program,\n",
    "            # Meta-parameters\n",
    "            BLOCK_SIZE_N,\n",
    "            gain is not None,\n",
    "            bias is not None\n",
    "            # fmt: on\n",
    "        )\n",
    "\n",
    "    # Fix the summing of `dg` and `db`\n",
    "    if gain is not None:\n",
    "        dg = dg_temp.sum(0).to(gain.dtype)\n",
    "    else:\n",
    "        dg = None\n",
    "\n",
    "    if bias is not None:\n",
    "        db = db_temp.sum(0).to(bias.dtype)\n",
    "    else:\n",
    "        db = None\n",
    "\n",
    "    # Return stuff\n",
    "    return dx, dg, db"
   ]
  },
  {
   "cell_type": "markdown",
   "metadata": {
    "jp-MarkdownHeadingCollapsed": true
   },
   "source": [
    "### Making the Autograd Function"
   ]
  },
  {
   "cell_type": "markdown",
   "metadata": {},
   "source": [
    "Since we now have both the forward and backward pass, we can make a `torch.autograd.Function` that comprises both the forward and backward passes."
   ]
  },
  {
   "cell_type": "code",
   "execution_count": 11,
   "metadata": {},
   "outputs": [],
   "source": [
    "class QuantRMSNormFn(torch.autograd.Function):\n",
    "    @staticmethod\n",
    "    def forward(ctx, x, gain, bias, epsilon=1e-5):\n",
    "        # Run the forward function\n",
    "        y, rrms = quant_rms_norm_fwd(x, gain, bias, epsilon)\n",
    "\n",
    "        # Save tensors for backward pass later\n",
    "        ctx.save_for_backward(x, gain, bias, rrms)\n",
    "\n",
    "        # Return the result of the forward pass\n",
    "        return y\n",
    "\n",
    "    @staticmethod\n",
    "    def backward(ctx, grad_output):\n",
    "        # Retrieve stored tensors\n",
    "        x, gain, bias, rrms = ctx.saved_tensors\n",
    "\n",
    "        # Perform backward pass\n",
    "        dx, dg, db = quant_rms_norm_bwd(grad_output, x, gain, bias, rrms)\n",
    "\n",
    "        # Return the gradients\n",
    "        return dx, dg, db, None  # No gradient for `epsilon`"
   ]
  },
  {
   "cell_type": "markdown",
   "metadata": {},
   "source": [
    "We can now wrap this in a standard function-like format."
   ]
  },
  {
   "cell_type": "code",
   "execution_count": 12,
   "metadata": {},
   "outputs": [],
   "source": [
    "def quant_rms_norm_triton(x, gain, bias, epsilon=1e-5):\n",
    "    return QuantRMSNormFn.apply(x, gain, bias, epsilon)"
   ]
  },
  {
   "cell_type": "markdown",
   "metadata": {
    "jp-MarkdownHeadingCollapsed": true
   },
   "source": [
    "### Testing the Functions"
   ]
  },
  {
   "cell_type": "code",
   "execution_count": 13,
   "metadata": {},
   "outputs": [
    {
     "data": {
      "text/plain": [
       "<torch._C.Generator at 0x7f3f6b4c5f90>"
      ]
     },
     "execution_count": 13,
     "metadata": {},
     "output_type": "execute_result"
    }
   ],
   "source": [
    "torch.manual_seed(8192)"
   ]
  },
  {
   "cell_type": "markdown",
   "metadata": {},
   "source": [
    "First define the tensors used for testing."
   ]
  },
  {
   "cell_type": "code",
   "execution_count": 14,
   "metadata": {},
   "outputs": [],
   "source": [
    "X_SHAPE = (10, 10)\n",
    "WEIGHT_SHAPE = (X_SHAPE[-1],)"
   ]
  },
  {
   "cell_type": "code",
   "execution_count": 15,
   "metadata": {},
   "outputs": [],
   "source": [
    "x = torch.rand(X_SHAPE, device=\"cuda\", requires_grad=True)\n",
    "gain = torch.rand(WEIGHT_SHAPE, device=\"cuda\", requires_grad=True)\n",
    "bias = torch.rand(WEIGHT_SHAPE, device=\"cuda\", requires_grad=True)\n",
    "dy = 0.1 * torch.randn_like(x)"
   ]
  },
  {
   "cell_type": "markdown",
   "metadata": {},
   "source": [
    "#### Forward Pass"
   ]
  },
  {
   "cell_type": "markdown",
   "metadata": {},
   "source": [
    "Get the baseline result."
   ]
  },
  {
   "cell_type": "code",
   "execution_count": 16,
   "metadata": {},
   "outputs": [
    {
     "data": {
      "text/plain": [
       "tensor([[0.5447, 1.7738, 0.3631, 1.1034, 0.7402, 0.8799, 0.3771, 0.8939, 0.5587,\n",
       "         0.6425],\n",
       "        [0.4221, 0.2985, 0.3500, 1.3074, 0.7000, 1.2354, 0.1956, 0.6280, 1.2868,\n",
       "         0.3191],\n",
       "        [0.6747, 1.4522, 0.3545, 1.2235, 0.7318, 0.7776, 0.2630, 1.1892, 0.9834,\n",
       "         0.5717],\n",
       "        [0.4624, 1.3345, 0.3468, 1.2189, 0.6725, 1.0193, 0.7251, 1.0298, 0.8511,\n",
       "         0.7145],\n",
       "        [0.4530, 0.3867, 0.3536, 1.1049, 0.6961, 1.1049, 0.5303, 1.4032, 0.7623,\n",
       "         1.0938],\n",
       "        [0.4230, 0.6294, 0.3508, 1.3104, 0.6913, 1.1350, 0.4850, 1.0009, 0.8151,\n",
       "         0.9493],\n",
       "        [0.9127, 1.2201, 0.3555, 1.0664, 0.6245, 1.0856, 0.3170, 0.8838, 1.1913,\n",
       "         0.9319],\n",
       "        [1.2123, 0.8914, 0.3447, 1.1410, 0.6774, 0.9627, 0.2020, 1.5094, 1.0578,\n",
       "         0.3922],\n",
       "        [1.0413, 1.0617, 0.3369, 1.1536, 0.7350, 0.9188, 0.1327, 1.2965, 0.8269,\n",
       "         1.0005],\n",
       "        [0.8077, 1.3206, 0.3462, 1.1924, 0.6411, 1.1539, 0.2821, 1.6283, 1.0129,\n",
       "         0.1667]], device='cuda:0', grad_fn=<AddBackward0>)"
      ]
     },
     "execution_count": 16,
     "metadata": {},
     "output_type": "execute_result"
    }
   ],
   "source": [
    "y_ref = quant_rms_norm_baseline(x, gain, bias, 1e-5)\n",
    "y_ref"
   ]
  },
  {
   "cell_type": "markdown",
   "metadata": {},
   "source": [
    "Compare that with the Triton result."
   ]
  },
  {
   "cell_type": "code",
   "execution_count": 17,
   "metadata": {},
   "outputs": [
    {
     "name": "stdout",
     "output_type": "stream",
     "text": [
      "Triton autotuning for function quant_rms_norm_fwd_kernel finished after 1.27s; best config selected: num_warps: 8, num_ctas: 1, num_stages: 2, maxnreg: None;\n"
     ]
    },
    {
     "data": {
      "text/plain": [
       "tensor([[0.5447, 1.7737, 0.3631, 1.1034, 0.7402, 0.8799, 0.3771, 0.8939, 0.5587,\n",
       "         0.6425],\n",
       "        [0.4221, 0.2985, 0.3500, 1.3074, 0.7000, 1.2354, 0.1956, 0.6280, 1.2868,\n",
       "         0.3191],\n",
       "        [0.6747, 1.4522, 0.3545, 1.2235, 0.7318, 0.7776, 0.2630, 1.1892, 0.9834,\n",
       "         0.5717],\n",
       "        [0.4623, 1.3345, 0.3468, 1.2189, 0.6725, 1.0193, 0.7250, 1.0298, 0.8511,\n",
       "         0.7145],\n",
       "        [0.4530, 0.3867, 0.3535, 1.1048, 0.6961, 1.1048, 0.5303, 1.4032, 0.7623,\n",
       "         1.0938],\n",
       "        [0.4230, 0.6294, 0.3508, 1.3104, 0.6913, 1.1350, 0.4850, 1.0009, 0.8151,\n",
       "         0.9493],\n",
       "        [0.9126, 1.2201, 0.3555, 1.0664, 0.6244, 1.0856, 0.3170, 0.8838, 1.1912,\n",
       "         0.9319],\n",
       "        [1.2123, 0.8914, 0.3447, 1.1409, 0.6774, 0.9627, 0.2020, 1.5094, 1.0578,\n",
       "         0.3922],\n",
       "        [1.0413, 1.0617, 0.3369, 1.1536, 0.7350, 0.9188, 0.1327, 1.2965, 0.8269,\n",
       "         1.0004],\n",
       "        [0.8077, 1.3206, 0.3462, 1.1923, 0.6410, 1.1539, 0.2821, 1.6283, 1.0129,\n",
       "         0.1667]], device='cuda:0', grad_fn=<QuantRMSNormFnBackward>)"
      ]
     },
     "execution_count": 17,
     "metadata": {},
     "output_type": "execute_result"
    }
   ],
   "source": [
    "y_tri = quant_rms_norm_triton(x, gain, bias, 1e-5)\n",
    "y_tri"
   ]
  },
  {
   "cell_type": "code",
   "execution_count": 18,
   "metadata": {},
   "outputs": [
    {
     "name": "stdout",
     "output_type": "stream",
     "text": [
      "✅ Triton and Baseline match\n"
     ]
    }
   ],
   "source": [
    "if torch.allclose(y_tri, y_ref, atol=1e-3):\n",
    "    print(\"✅ Triton and Baseline match\")\n",
    "else:\n",
    "    raise ValueError(\"❌ Triton and Baseline differ\")"
   ]
  },
  {
   "cell_type": "markdown",
   "metadata": {},
   "source": [
    "#### Backward Pass"
   ]
  },
  {
   "cell_type": "markdown",
   "metadata": {},
   "source": [
    "Get the baseline result."
   ]
  },
  {
   "cell_type": "code",
   "execution_count": 19,
   "metadata": {},
   "outputs": [
    {
     "name": "stdout",
     "output_type": "stream",
     "text": [
      "tensor([[-0.0078,  0.0402, -0.0129, -0.0158, -0.0524, -0.0079, -0.0948,  0.1027,\n",
      "          0.1327, -0.0244],\n",
      "        [ 0.0709,  0.0114,  0.0033, -0.0562,  0.0288, -0.0261,  0.0541,  0.0599,\n",
      "          0.0078,  0.1711],\n",
      "        [-0.0591, -0.0919,  0.0141,  0.0313,  0.0295,  0.0317,  0.1106,  0.0467,\n",
      "          0.0569, -0.0939],\n",
      "        [ 0.1088, -0.0116,  0.0183,  0.0447,  0.0171,  0.0080, -0.0127, -0.2264,\n",
      "         -0.0414,  0.1106],\n",
      "        [-0.0454,  0.0199,  0.0118,  0.0671,  0.0293, -0.0350, -0.0588, -0.1081,\n",
      "          0.0319,  0.0749],\n",
      "        [ 0.0250,  0.2641, -0.0211, -0.0775, -0.0381, -0.0242, -0.0157,  0.1250,\n",
      "          0.1453, -0.0887],\n",
      "        [-0.1169,  0.0709,  0.0245,  0.0471,  0.0141,  0.0007,  0.0813,  0.2232,\n",
      "          0.0945, -0.2183],\n",
      "        [-0.0392,  0.2809, -0.0388, -0.0592, -0.0410, -0.1031,  0.0837, -0.0956,\n",
      "          0.0940,  0.0461],\n",
      "        [-0.0417,  0.1409,  0.0034, -0.0495, -0.0641,  0.0404, -0.0203, -0.0187,\n",
      "         -0.2352,  0.1868],\n",
      "        [ 0.1165, -0.0732,  0.0315,  0.0366,  0.0242, -0.0287,  0.0871, -0.1121,\n",
      "          0.0582,  0.0067]], device='cuda:0')\n",
      "tensor([-0.0424,  0.1841,  0.0366, -0.3423, -0.3268, -0.4209, -0.0460, -0.2440,\n",
      "         0.2947,  0.1207], device='cuda:0')\n",
      "tensor([ 0.0756,  0.3781,  0.1735, -0.0483,  0.0105, -0.2859,  0.2894, -0.0417,\n",
      "         0.2777,  0.1915], device='cuda:0')\n"
     ]
    }
   ],
   "source": [
    "y_ref.backward(dy, retain_graph=True)\n",
    "dx_ref, dg_ref, db_ref = [tensor.grad.clone() for tensor in [x, gain, bias]]\n",
    "x.grad, gain.grad, bias.grad = None, None, None  # Reset gradients for use later\n",
    "\n",
    "print(dx_ref)\n",
    "print(dg_ref)\n",
    "print(db_ref)"
   ]
  },
  {
   "cell_type": "markdown",
   "metadata": {},
   "source": [
    "Compare with the Triton result."
   ]
  },
  {
   "cell_type": "code",
   "execution_count": 20,
   "metadata": {},
   "outputs": [
    {
     "name": "stdout",
     "output_type": "stream",
     "text": [
      "Triton autotuning for function quant_rms_norm_bwd_kernel finished after 0.74s; best config selected: num_warps: 1, num_ctas: 1, num_stages: 2, maxnreg: None;\n",
      "tensor([[-0.0078,  0.0402, -0.0129, -0.0158, -0.0524, -0.0079, -0.0948,  0.1027,\n",
      "          0.1327, -0.0244],\n",
      "        [ 0.0709,  0.0114,  0.0033, -0.0562,  0.0288, -0.0261,  0.0541,  0.0599,\n",
      "          0.0078,  0.1711],\n",
      "        [-0.0591, -0.0919,  0.0141,  0.0313,  0.0295,  0.0317,  0.1106,  0.0467,\n",
      "          0.0569, -0.0939],\n",
      "        [ 0.1088, -0.0116,  0.0183,  0.0447,  0.0171,  0.0080, -0.0127, -0.2264,\n",
      "         -0.0414,  0.1106],\n",
      "        [-0.0454,  0.0199,  0.0118,  0.0671,  0.0293, -0.0350, -0.0588, -0.1081,\n",
      "          0.0319,  0.0749],\n",
      "        [ 0.0250,  0.2641, -0.0211, -0.0775, -0.0380, -0.0242, -0.0157,  0.1250,\n",
      "          0.1453, -0.0887],\n",
      "        [-0.1169,  0.0709,  0.0245,  0.0471,  0.0141,  0.0007,  0.0813,  0.2232,\n",
      "          0.0945, -0.2183],\n",
      "        [-0.0392,  0.2809, -0.0388, -0.0592, -0.0410, -0.1031,  0.0837, -0.0956,\n",
      "          0.0940,  0.0461],\n",
      "        [-0.0417,  0.1409,  0.0034, -0.0495, -0.0641,  0.0404, -0.0203, -0.0186,\n",
      "         -0.2352,  0.1868],\n",
      "        [ 0.1164, -0.0732,  0.0315,  0.0366,  0.0242, -0.0287,  0.0871, -0.1121,\n",
      "          0.0582,  0.0067]], device='cuda:0')\n",
      "tensor([-0.0424,  0.1841,  0.0366, -0.3423, -0.3268, -0.4209, -0.0460, -0.2440,\n",
      "         0.2947,  0.1207], device='cuda:0')\n",
      "tensor([ 0.0756,  0.3781,  0.1735, -0.0483,  0.0105, -0.2859,  0.2894, -0.0417,\n",
      "         0.2777,  0.1915], device='cuda:0')\n"
     ]
    }
   ],
   "source": [
    "y_tri.backward(dy, retain_graph=True)\n",
    "dx_tri, dg_tri, db_tri = [tensor.grad.clone() for tensor in [x, gain, bias]]\n",
    "\n",
    "print(dx_tri)\n",
    "print(dg_tri)\n",
    "print(db_tri)"
   ]
  },
  {
   "cell_type": "code",
   "execution_count": 21,
   "metadata": {},
   "outputs": [
    {
     "name": "stdout",
     "output_type": "stream",
     "text": [
      "✅ Triton and Baseline match\n"
     ]
    }
   ],
   "source": [
    "if (\n",
    "    torch.allclose(dx_tri, dx_ref, atol=1e-3)\n",
    "    and torch.allclose(dg_tri, dg_ref, atol=1e-3)\n",
    "    and torch.allclose(db_tri, db_ref, atol=1e-3)\n",
    "):\n",
    "    print(\"✅ Triton and Baseline match\")\n",
    "else:\n",
    "    raise ValueError(\"❌ Triton and Baseline differ\")"
   ]
  },
  {
   "cell_type": "markdown",
   "metadata": {
    "jp-MarkdownHeadingCollapsed": true
   },
   "source": [
    "### Benchmarking"
   ]
  },
  {
   "cell_type": "markdown",
   "metadata": {},
   "source": [
    "We will perform benchmarking for both the forward and backward passes."
   ]
  },
  {
   "cell_type": "markdown",
   "metadata": {},
   "source": [
    "First define the benchmark configurations."
   ]
  },
  {
   "cell_type": "code",
   "execution_count": 22,
   "metadata": {},
   "outputs": [],
   "source": [
    "configs = [\n",
    "    triton.testing.Benchmark(\n",
    "        x_names=[\"M\", \"N\"],  # Argument names to use as an x-axis for the plot\n",
    "        x_vals=[256 * i for i in range(1, 17)],  # Different possible values for `x_name`\n",
    "        line_arg=\"provider\",  # Argument name whose value corresponds to a different line in the plot\n",
    "        # Possible values for `line_arg`\n",
    "        line_vals=[\"baseline\", \"triton\"],  # Label name for the lines\n",
    "        line_names=[\"Baseline\", \"Triton\"],  # Line styles\n",
    "        styles=[(\"green\", \"-\"), (\"blue\", \"-\")],\n",
    "        ylabel=\"GB/s\",  # Label name for the y-axis\n",
    "        plot_name=f\"quant-rms-norm-{mode}\",  # Name for the plot, used also as a file name for saving the plot.\n",
    "        args={\"mode\": mode},\n",
    "    )\n",
    "    for mode in [\"forward\", \"backward\"]\n",
    "]"
   ]
  },
  {
   "cell_type": "markdown",
   "metadata": {},
   "source": [
    "Then run the actual benchmark tests."
   ]
  },
  {
   "cell_type": "code",
   "execution_count": 23,
   "metadata": {},
   "outputs": [
    {
     "name": "stdout",
     "output_type": "stream",
     "text": [
      "Trial when M = 256 and N = 256 for baseline for forward pass\n",
      "Trial when M = 256 and N = 256 for triton for forward pass\n",
      "Triton autotuning for function quant_rms_norm_fwd_kernel finished after 0.72s; best config selected: num_warps: 1, num_ctas: 1, num_stages: 2, maxnreg: None;\n",
      "Trial when M = 512 and N = 512 for baseline for forward pass\n",
      "Trial when M = 512 and N = 512 for triton for forward pass\n",
      "Triton autotuning for function quant_rms_norm_fwd_kernel finished after 0.72s; best config selected: num_warps: 1, num_ctas: 1, num_stages: 2, maxnreg: None;\n",
      "Trial when M = 768 and N = 768 for baseline for forward pass\n",
      "Trial when M = 768 and N = 768 for triton for forward pass\n",
      "Triton autotuning for function quant_rms_norm_fwd_kernel finished after 0.73s; best config selected: num_warps: 8, num_ctas: 1, num_stages: 2, maxnreg: None;\n",
      "Trial when M = 1024 and N = 1024 for baseline for forward pass\n",
      "Trial when M = 1024 and N = 1024 for triton for forward pass\n",
      "Triton autotuning for function quant_rms_norm_fwd_kernel finished after 0.73s; best config selected: num_warps: 8, num_ctas: 1, num_stages: 2, maxnreg: None;\n",
      "Trial when M = 1280 and N = 1280 for baseline for forward pass\n",
      "Trial when M = 1280 and N = 1280 for triton for forward pass\n",
      "Triton autotuning for function quant_rms_norm_fwd_kernel finished after 0.74s; best config selected: num_warps: 8, num_ctas: 1, num_stages: 2, maxnreg: None;\n",
      "Trial when M = 1536 and N = 1536 for baseline for forward pass\n",
      "Trial when M = 1536 and N = 1536 for triton for forward pass\n",
      "Triton autotuning for function quant_rms_norm_fwd_kernel finished after 0.73s; best config selected: num_warps: 8, num_ctas: 1, num_stages: 2, maxnreg: None;\n",
      "Trial when M = 1792 and N = 1792 for baseline for forward pass\n",
      "Trial when M = 1792 and N = 1792 for triton for forward pass\n",
      "Triton autotuning for function quant_rms_norm_fwd_kernel finished after 0.75s; best config selected: num_warps: 8, num_ctas: 1, num_stages: 2, maxnreg: None;\n",
      "Trial when M = 2048 and N = 2048 for baseline for forward pass\n",
      "Trial when M = 2048 and N = 2048 for triton for forward pass\n",
      "Triton autotuning for function quant_rms_norm_fwd_kernel finished after 0.74s; best config selected: num_warps: 16, num_ctas: 1, num_stages: 2, maxnreg: None;\n",
      "Trial when M = 2304 and N = 2304 for baseline for forward pass\n",
      "Trial when M = 2304 and N = 2304 for triton for forward pass\n",
      "Triton autotuning for function quant_rms_norm_fwd_kernel finished after 1.94s; best config selected: num_warps: 8, num_ctas: 1, num_stages: 2, maxnreg: None;\n",
      "Trial when M = 2560 and N = 2560 for baseline for forward pass\n",
      "Trial when M = 2560 and N = 2560 for triton for forward pass\n",
      "Triton autotuning for function quant_rms_norm_fwd_kernel finished after 0.77s; best config selected: num_warps: 8, num_ctas: 1, num_stages: 2, maxnreg: None;\n",
      "Trial when M = 2816 and N = 2816 for baseline for forward pass\n",
      "Trial when M = 2816 and N = 2816 for triton for forward pass\n",
      "Triton autotuning for function quant_rms_norm_fwd_kernel finished after 0.79s; best config selected: num_warps: 16, num_ctas: 1, num_stages: 2, maxnreg: None;\n",
      "Trial when M = 3072 and N = 3072 for baseline for forward pass\n",
      "Trial when M = 3072 and N = 3072 for triton for forward pass\n",
      "Triton autotuning for function quant_rms_norm_fwd_kernel finished after 0.79s; best config selected: num_warps: 16, num_ctas: 1, num_stages: 2, maxnreg: None;\n",
      "Trial when M = 3328 and N = 3328 for baseline for forward pass\n",
      "Trial when M = 3328 and N = 3328 for triton for forward pass\n",
      "Triton autotuning for function quant_rms_norm_fwd_kernel finished after 0.81s; best config selected: num_warps: 16, num_ctas: 1, num_stages: 2, maxnreg: None;\n",
      "Trial when M = 3584 and N = 3584 for baseline for forward pass\n",
      "Trial when M = 3584 and N = 3584 for triton for forward pass\n",
      "Triton autotuning for function quant_rms_norm_fwd_kernel finished after 0.82s; best config selected: num_warps: 16, num_ctas: 1, num_stages: 2, maxnreg: None;\n",
      "Trial when M = 3840 and N = 3840 for baseline for forward pass\n",
      "Trial when M = 3840 and N = 3840 for triton for forward pass\n",
      "Triton autotuning for function quant_rms_norm_fwd_kernel finished after 0.84s; best config selected: num_warps: 16, num_ctas: 1, num_stages: 2, maxnreg: None;\n",
      "Trial when M = 4096 and N = 4096 for baseline for forward pass\n",
      "Trial when M = 4096 and N = 4096 for triton for forward pass\n",
      "Triton autotuning for function quant_rms_norm_fwd_kernel finished after 0.84s; best config selected: num_warps: 32, num_ctas: 1, num_stages: 2, maxnreg: None;\n"
     ]
    },
    {
     "data": {
      "image/png": "[encoded data removed]",
      "text/plain": [
       "<Figure size 640x480 with 1 Axes>"
      ]
     },
     "metadata": {},
     "output_type": "display_data"
    },
    {
     "name": "stdout",
     "output_type": "stream",
     "text": [
      "quant-rms-norm-forward:\n",
      "         M       N  Baseline     Triton\n",
      "0    256.0   256.0  5.094528  51.200001\n",
      "1    512.0   512.0  4.481401  60.235293\n",
      "2    768.0   768.0  4.654546  60.631582\n",
      "3   1024.0  1024.0  4.806410  63.365723\n",
      "4   1280.0  1280.0  4.866920  60.663505\n",
      "5   1536.0  1536.0  4.911271  65.130742\n",
      "6   1792.0  1792.0  4.937611  66.021051\n",
      "7   2048.0  2048.0  4.951345  66.193802\n",
      "8   2304.0  2304.0  4.962435  64.497667\n",
      "9   2560.0  2560.0  4.972322  62.023016\n",
      "10  2816.0  2816.0  4.967486  63.410441\n",
      "11  3072.0  3072.0  4.981958  64.987218\n",
      "12  3328.0  3328.0  4.983040  65.650985\n",
      "13  3584.0  3584.0  4.987124  65.977644\n",
      "14  3840.0  3840.0  4.982914  65.547653\n",
      "15  4096.0  4096.0  4.991128  68.195631\n",
      "Trial when M = 256 and N = 256 for baseline for backward pass\n",
      "Trial when M = 256 and N = 256 for triton for backward pass\n",
      "Triton autotuning for function quant_rms_norm_bwd_kernel finished after 0.72s; best config selected: num_warps: 1, num_ctas: 1, num_stages: 2, maxnreg: None;\n",
      "Trial when M = 512 and N = 512 for baseline for backward pass\n",
      "Trial when M = 512 and N = 512 for triton for backward pass\n",
      "Triton autotuning for function quant_rms_norm_bwd_kernel finished after 0.73s; best config selected: num_warps: 1, num_ctas: 1, num_stages: 2, maxnreg: None;\n",
      "Trial when M = 768 and N = 768 for baseline for backward pass\n",
      "Trial when M = 768 and N = 768 for triton for backward pass\n",
      "Triton autotuning for function quant_rms_norm_bwd_kernel finished after 0.73s; best config selected: num_warps: 1, num_ctas: 1, num_stages: 2, maxnreg: None;\n",
      "Trial when M = 1024 and N = 1024 for baseline for backward pass\n",
      "Trial when M = 1024 and N = 1024 for triton for backward pass\n",
      "Triton autotuning for function quant_rms_norm_bwd_kernel finished after 0.73s; best config selected: num_warps: 1, num_ctas: 1, num_stages: 2, maxnreg: None;\n",
      "Trial when M = 1280 and N = 1280 for baseline for backward pass\n",
      "Trial when M = 1280 and N = 1280 for triton for backward pass\n",
      "Triton autotuning for function quant_rms_norm_bwd_kernel finished after 0.75s; best config selected: num_warps: 4, num_ctas: 1, num_stages: 2, maxnreg: None;\n",
      "Trial when M = 1536 and N = 1536 for baseline for backward pass\n",
      "Trial when M = 1536 and N = 1536 for triton for backward pass\n",
      "Triton autotuning for function quant_rms_norm_bwd_kernel finished after 0.77s; best config selected: num_warps: 4, num_ctas: 1, num_stages: 2, maxnreg: None;\n",
      "Trial when M = 1792 and N = 1792 for baseline for backward pass\n",
      "Trial when M = 1792 and N = 1792 for triton for backward pass\n",
      "Triton autotuning for function quant_rms_norm_bwd_kernel finished after 0.77s; best config selected: num_warps: 4, num_ctas: 1, num_stages: 2, maxnreg: None;\n",
      "Trial when M = 2048 and N = 2048 for baseline for backward pass\n",
      "Trial when M = 2048 and N = 2048 for triton for backward pass\n",
      "Triton autotuning for function quant_rms_norm_bwd_kernel finished after 0.78s; best config selected: num_warps: 4, num_ctas: 1, num_stages: 2, maxnreg: None;\n",
      "Trial when M = 2304 and N = 2304 for baseline for backward pass\n",
      "Trial when M = 2304 and N = 2304 for triton for backward pass\n",
      "Triton autotuning for function quant_rms_norm_bwd_kernel finished after 3.03s; best config selected: num_warps: 8, num_ctas: 1, num_stages: 2, maxnreg: None;\n",
      "Trial when M = 2560 and N = 2560 for baseline for backward pass\n",
      "Trial when M = 2560 and N = 2560 for triton for backward pass\n",
      "Triton autotuning for function quant_rms_norm_bwd_kernel finished after 3.10s; best config selected: num_warps: 8, num_ctas: 1, num_stages: 2, maxnreg: None;\n",
      "Trial when M = 2816 and N = 2816 for baseline for backward pass\n",
      "Trial when M = 2816 and N = 2816 for triton for backward pass\n",
      "Triton autotuning for function quant_rms_norm_bwd_kernel finished after 0.99s; best config selected: num_warps: 4, num_ctas: 1, num_stages: 2, maxnreg: None;\n",
      "Trial when M = 3072 and N = 3072 for baseline for backward pass\n",
      "Trial when M = 3072 and N = 3072 for triton for backward pass\n",
      "Triton autotuning for function quant_rms_norm_bwd_kernel finished after 1.02s; best config selected: num_warps: 4, num_ctas: 1, num_stages: 2, maxnreg: None;\n",
      "Trial when M = 3328 and N = 3328 for baseline for backward pass\n",
      "Trial when M = 3328 and N = 3328 for triton for backward pass\n",
      "Triton autotuning for function quant_rms_norm_bwd_kernel finished after 1.04s; best config selected: num_warps: 4, num_ctas: 1, num_stages: 2, maxnreg: None;\n",
      "Trial when M = 3584 and N = 3584 for baseline for backward pass\n",
      "Trial when M = 3584 and N = 3584 for triton for backward pass\n",
      "Triton autotuning for function quant_rms_norm_bwd_kernel finished after 1.09s; best config selected: num_warps: 4, num_ctas: 1, num_stages: 2, maxnreg: None;\n",
      "Trial when M = 3840 and N = 3840 for baseline for backward pass\n",
      "Trial when M = 3840 and N = 3840 for triton for backward pass\n",
      "Triton autotuning for function quant_rms_norm_bwd_kernel finished after 1.13s; best config selected: num_warps: 4, num_ctas: 1, num_stages: 2, maxnreg: None;\n",
      "Trial when M = 4096 and N = 4096 for baseline for backward pass\n",
      "Trial when M = 4096 and N = 4096 for triton for backward pass\n",
      "Triton autotuning for function quant_rms_norm_bwd_kernel finished after 1.17s; best config selected: num_warps: 4, num_ctas: 1, num_stages: 2, maxnreg: None;\n"
     ]
    },
    {
     "data": {
      "image/png": "[encoded data removed]",
      "text/plain": [
       "<Figure size 640x480 with 1 Axes>"
      ]
     },
     "metadata": {},
     "output_type": "display_data"
    },
    {
     "name": "stdout",
     "output_type": "stream",
     "text": [
      "quant-rms-norm-backward:\n",
      "         M       N  Baseline     Triton\n",
      "0    256.0   256.0  5.525180  16.695652\n",
      "1    512.0   512.0  6.000000  31.346940\n",
      "2    768.0   768.0  6.514609  42.404907\n",
      "3   1024.0  1024.0  6.592275  54.799805\n",
      "4   1280.0  1280.0  6.727400  55.172414\n",
      "5   1536.0  1536.0  6.815727  61.576836\n",
      "6   1792.0  1792.0  6.869837  62.615643\n",
      "7   2048.0  2048.0  6.906766  66.964578\n",
      "8   2304.0  2304.0  6.926623  65.003134\n",
      "9   2560.0  2560.0  6.943628  65.473148\n",
      "10  2816.0  2816.0  6.952566  66.377145\n",
      "11  3072.0  3072.0  6.970377  68.182490\n",
      "12  3328.0  3328.0  6.965333  68.564185\n",
      "13  3584.0  3584.0  6.974055  68.702878\n",
      "14  3840.0  3840.0  6.979844  68.899521\n",
      "15  4096.0  4096.0  6.985663  69.830583\n"
     ]
    }
   ],
   "source": [
    "# ruff: noqa: E731\n",
    "@triton.testing.perf_report(configs)\n",
    "def benchmark(M, N, provider, mode):\n",
    "    print(f\"Trial when M = {M} and N = {N} for {provider} for {mode} pass\")\n",
    "    x_shape = (M, N)\n",
    "    weight_shape = (N,)\n",
    "\n",
    "    x = torch.rand(x_shape, device=\"cuda\", requires_grad=True)\n",
    "    gain = torch.rand(weight_shape, device=\"cuda\", requires_grad=True)\n",
    "    bias = torch.rand(weight_shape, device=\"cuda\", requires_grad=True)\n",
    "    dy = 0.1 * torch.randn_like(x)\n",
    "\n",
    "    quantiles = [0.5, 0.2, 0.8]\n",
    "\n",
    "    def y_fwd():\n",
    "        if provider == \"baseline\":\n",
    "            return quant_rms_norm_baseline(x, gain, bias, 1e-5)\n",
    "        if provider == \"triton\":\n",
    "            return quant_rms_norm_triton(x, gain, bias, 1e-5)\n",
    "\n",
    "    if mode == \"forward\":\n",
    "        gbps = lambda ms: 2 * x.numel() * x.element_size() * 1e-9 / (ms * 1e-3)\n",
    "        ms, min_ms, max_ms = triton.testing.do_bench(y_fwd, quantiles=quantiles)\n",
    "    else:  # Backward\n",
    "        y = y_fwd()\n",
    "        gbps = lambda ms: 3 * x.numel() * x.element_size() * 1e-9 / (ms * 1e-3)\n",
    "        ms, min_ms, max_ms = triton.testing.do_bench(\n",
    "            lambda: y.backward(dy, retain_graph=True), quantiles=quantiles, grad_to_none=[x]\n",
    "        )\n",
    "\n",
    "    return gbps(ms), gbps(max_ms), gbps(min_ms)\n",
    "\n",
    "\n",
    "benchmark.run(show_plots=True, print_data=True)"
   ]
  }
 ],
 "metadata": {
  "kernelspec": {
   "display_name": "Python 3 (ipykernel)",
   "language": "python",
   "name": "python3"
  },
  "language_info": {
   "codemirror_mode": {
    "name": "ipython",
    "version": 3
   },
   "file_extension": ".py",
   "mimetype": "text/x-python",
   "name": "python",
   "nbconvert_exporter": "python",
   "pygments_lexer": "ipython3",
   "version": "3.10.14"
  }
 },
 "nbformat": 4,
 "nbformat_minor": 4
}
