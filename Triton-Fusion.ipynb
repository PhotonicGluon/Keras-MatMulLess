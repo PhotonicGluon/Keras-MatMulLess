{
 "cells": [
  {
   "cell_type": "markdown",
   "metadata": {},
   "source": [
    "# Fused Layers in Triton"
   ]
  },
  {
   "cell_type": "markdown",
   "metadata": {},
   "source": [
    "## Setup"
   ]
  },
  {
   "cell_type": "code",
   "execution_count": 1,
   "metadata": {},
   "outputs": [
    {
     "name": "stdout",
     "output_type": "stream",
     "text": [
      "Looking in indexes: https://pypi.org/simple, https://aiinfra.pkgs.visualstudio.com/PublicPackages/_packaging/Triton-Nightly/pypi/simple/\n",
      "Requirement already satisfied: triton-nightly==3.0.0.post20240626041721 in /home/vscode/.cache/pypoetry/virtualenvs/keras-matmulless-b9IALFmu-py3.10/lib/python3.10/site-packages (3.0.0.post20240626041721)\n",
      "Requirement already satisfied: filelock in /home/vscode/.cache/pypoetry/virtualenvs/keras-matmulless-b9IALFmu-py3.10/lib/python3.10/site-packages (from triton-nightly==3.0.0.post20240626041721) (3.15.4)\n",
      "Note: you may need to restart the kernel to use updated packages.\n"
     ]
    }
   ],
   "source": [
    "%pip install --extra-index-url https://aiinfra.pkgs.visualstudio.com/PublicPackages/_packaging/Triton-Nightly/pypi/simple/ triton-nightly==3.0.0.post20240626041721"
   ]
  },
  {
   "cell_type": "code",
   "execution_count": 2,
   "metadata": {},
   "outputs": [],
   "source": [
    "import os\n",
    "\n",
    "os.environ[\"KERAS_BACKEND\"] = \"torch\"\n",
    "os.environ[\"DISABLE_TORCH_COMPILE\"] = \"true\"\n",
    "os.environ[\"TRITON_PRINT_AUTOTUNING\"] = \"1\""
   ]
  },
  {
   "cell_type": "markdown",
   "metadata": {},
   "source": [
    "Check the installed triton version."
   ]
  },
  {
   "cell_type": "code",
   "execution_count": 3,
   "metadata": {},
   "outputs": [],
   "source": [
    "import triton\n",
    "\n",
    "assert triton.__version__ == \"3.0.0\", f\"Expected Triton to have a version of 3.0.0, but found {triton.__version__}\""
   ]
  },
  {
   "cell_type": "markdown",
   "metadata": {},
   "source": [
    "Import other needed stuff."
   ]
  },
  {
   "cell_type": "code",
   "execution_count": 4,
   "metadata": {},
   "outputs": [],
   "source": [
    "import torch\n",
    "import triton.language as tl"
   ]
  },
  {
   "cell_type": "markdown",
   "metadata": {},
   "source": [
    "## Generic Autotune Config"
   ]
  },
  {
   "cell_type": "code",
   "execution_count": 5,
   "metadata": {},
   "outputs": [],
   "source": [
    "def get_autotune_config():\n",
    "    return [\n",
    "        triton.Config({}, num_warps=1),\n",
    "        triton.Config({}, num_warps=2),\n",
    "        triton.Config({}, num_warps=4),\n",
    "        triton.Config({}, num_warps=8),\n",
    "        triton.Config({}, num_warps=16),\n",
    "        triton.Config({}, num_warps=32),\n",
    "    ]"
   ]
  },
  {
   "cell_type": "markdown",
   "metadata": {},
   "source": [
    "## Fused Layer Norm with Quantization"
   ]
  },
  {
   "cell_type": "markdown",
   "metadata": {},
   "source": [
    "We want to fuse the RMSNorm and the quantization into one layer."
   ]
  },
  {
   "cell_type": "markdown",
   "metadata": {},
   "source": [
    "### Forward Pass"
   ]
  },
  {
   "cell_type": "markdown",
   "metadata": {},
   "source": [
    "#### Baseline Spec"
   ]
  },
  {
   "cell_type": "markdown",
   "metadata": {},
   "source": [
    "Define the spec that we will be implementing in Triton."
   ]
  },
  {
   "cell_type": "code",
   "execution_count": 6,
   "metadata": {},
   "outputs": [],
   "source": [
    "def quant_rms_norm_fwd_baseline(x: torch.Tensor, gain, bias, epsilon):\n",
    "    dim = x.shape[-1]\n",
    "    scale = dim**0.5\n",
    "\n",
    "    x_norm = torch.nn.functional.normalize(x, p=2, eps=1e-5, dim=-1) * scale\n",
    "    if gain is not None:\n",
    "        x_norm *= gain\n",
    "    if bias is not None:\n",
    "        x_norm += bias\n",
    "\n",
    "    scale = 127.0 / torch.unsqueeze(torch.max(torch.abs(x_norm), dim=-1).values.clamp_(epsilon), -1)\n",
    "    y = torch.clip(torch.round(x_norm * scale), -128, 127) / scale\n",
    "\n",
    "    # return x_norm + (y - x_norm).detach()  # This includes backward pass\n",
    "    return y"
   ]
  },
  {
   "cell_type": "markdown",
   "metadata": {},
   "source": [
    "#### Function Definitions"
   ]
  },
  {
   "cell_type": "markdown",
   "metadata": {},
   "source": [
    "First define the kernel."
   ]
  },
  {
   "cell_type": "code",
   "execution_count": 7,
   "metadata": {},
   "outputs": [],
   "source": [
    "# ruff: noqa: N803\n",
    "@triton.autotune(\n",
    "    configs=get_autotune_config(),\n",
    "    key=[\"N\", \"HAS_BIAS\"],\n",
    ")\n",
    "@triton.jit\n",
    "def quant_rms_norm_fwd_kernel(\n",
    "    # fmt: off\n",
    "    # Pointers to arrays\n",
    "    x_ptr, y_ptr, gain_ptr, bias_ptr, rstd_ptr,\n",
    "    # Strides\n",
    "    stride_x_row,  # How much to increase the pointer when moving by 1 row\n",
    "    stride_y_row,\n",
    "    # Some constants\n",
    "    N,  # Number of columns in X\n",
    "    EPSILON,  # To avoid division by zero\n",
    "    # Meta-parameters\n",
    "    BLOCK_SIZE_N: tl.constexpr,\n",
    "    HAS_GAIN: tl.constexpr,\n",
    "    HAS_BIAS: tl.constexpr\n",
    "    # fmt: on\n",
    "):\n",
    "    \"\"\"\n",
    "    Forward kernel.\n",
    "\n",
    "    Performs RMSNorm on ``X``, followed by 8-bit quantization.\n",
    "    \"\"\"\n",
    "\n",
    "    # Map the PID to the row of X that should be loaded\n",
    "    pid = tl.program_id(0)\n",
    "    base_x = pid * stride_x_row\n",
    "    offsets = tl.arange(0, BLOCK_SIZE_N)\n",
    "    mask = offsets < N\n",
    "    x = tl.load(x_ptr + base_x + offsets, mask=mask, other=0.0).to(tl.float32)  # Load in higher precision\n",
    "\n",
    "    # Compute reciprocal standard deviation (rstd)\n",
    "    x_bar = tl.where(offsets < N, x, 0.0)  # Masked `x` to avoid illegal access\n",
    "    variance = tl.sum(x_bar * x_bar, axis=0) / N\n",
    "    rstd = 1 / tl.sqrt(variance + EPSILON)\n",
    "    tl.store(rstd_ptr + pid, rstd)  # We add PID since that is the row that the rstd is corresponding to\n",
    "\n",
    "    # Normalize\n",
    "    x_hat = x * rstd\n",
    "\n",
    "    # Apply gain and bias\n",
    "    y = x_hat\n",
    "\n",
    "    if HAS_GAIN:\n",
    "        gain = tl.load(gain_ptr + offsets, mask=mask).to(tl.float32)\n",
    "        y = y * gain\n",
    "    if HAS_BIAS:\n",
    "        bias = tl.load(bias_ptr + offsets, mask=mask).to(tl.float32)\n",
    "        y = y + bias\n",
    "\n",
    "    # Apply 8-bit quantization\n",
    "    scale = 127.0 / tl.maximum(tl.max(tl.abs(y), 0), EPSILON)\n",
    "    y = tl.extra.cuda.libdevice.round(y * scale)  # TODO: This is CUDA only... can we generalize this?\n",
    "    y = tl.maximum(tl.minimum(y, 127), -128) / scale  # The nested max and min creates the clamp/clip function\n",
    "\n",
    "    # Write output\n",
    "    base_y = pid * stride_y_row\n",
    "    tl.store(y_ptr + base_y + offsets, y, mask=mask)"
   ]
  },
  {
   "cell_type": "markdown",
   "metadata": {},
   "source": [
    "Then define the companion function that handles checking and allocation of tensors."
   ]
  },
  {
   "cell_type": "code",
   "execution_count": 8,
   "metadata": {},
   "outputs": [],
   "source": [
    "# ruff: noqa: N806, S101\n",
    "def quant_rms_norm_fwd(x: torch.Tensor, gain, bias, epsilon):\n",
    "    \"\"\"\n",
    "    Forward pass.\n",
    "\n",
    "    Performs RMSNorm on ``X``, followed by 8-bit quantization.\n",
    "\n",
    "    Requires CUDA.\n",
    "    \"\"\"\n",
    "\n",
    "    assert x.ndim == 2  # TODO: Support other ndim values?\n",
    "\n",
    "    # Get dimensions\n",
    "    M, N = x.shape\n",
    "\n",
    "    # Validate that the input is OK\n",
    "    assert x.stride(-1) == 1\n",
    "\n",
    "    if gain is not None:\n",
    "        assert gain.shape == (N,)\n",
    "        assert gain.stride(-1) == 1\n",
    "    if bias is not None:\n",
    "        assert bias.shape == (N,)\n",
    "        assert bias.stride(-1) == 1\n",
    "\n",
    "    # Allocate output\n",
    "    y = torch.empty_like(x, dtype=x.dtype)\n",
    "    rstd = torch.empty((M,), dtype=torch.float32, device=\"cuda\")\n",
    "\n",
    "    # Enqueue fused kernel if less than 64KiB per feature\n",
    "    MAX_FUSED_SIZE = 65536 // x.element_size()\n",
    "    BLOCK_SIZE_N = min(MAX_FUSED_SIZE, triton.next_power_of_2(N))\n",
    "    if N > BLOCK_SIZE_N:\n",
    "        raise RuntimeError(\"This layer norm doesn't support feature dim >= 64KiB.\")\n",
    "\n",
    "    # Run the kernel\n",
    "    with torch.cuda.device(x.device.index):\n",
    "        quant_rms_norm_fwd_kernel[(M,)](\n",
    "            # fmt: off\n",
    "            # Pointers to arrays\n",
    "            x, y, gain, bias, rstd,\n",
    "            # Strides\n",
    "            x.stride(0),\n",
    "            y.stride(0),\n",
    "            # Some constants\n",
    "            N,  # Number of columns in X\n",
    "            epsilon,  # To avoid division by zero\n",
    "            # Meta-parameters\n",
    "            BLOCK_SIZE_N,\n",
    "            gain is not None,\n",
    "            bias is not None\n",
    "            # fmt: on\n",
    "        )\n",
    "\n",
    "    # Return stuff\n",
    "    return y, rstd"
   ]
  },
  {
   "cell_type": "markdown",
   "metadata": {},
   "source": [
    "#### Testing the Functions"
   ]
  },
  {
   "cell_type": "markdown",
   "metadata": {},
   "source": [
    "First define the array that we want to normalize and quantize."
   ]
  },
  {
   "cell_type": "code",
   "execution_count": 9,
   "metadata": {},
   "outputs": [],
   "source": [
    "import numpy as np\n",
    "\n",
    "np.random.seed(8192)"
   ]
  },
  {
   "cell_type": "code",
   "execution_count": 10,
   "metadata": {},
   "outputs": [
    {
     "data": {
      "text/plain": [
       "tensor([[0.2693, 0.6153, 0.0975, 0.0927, 0.7301, 0.5821, 0.6097, 0.6101],\n",
       "        [0.1207, 0.2466, 0.0462, 0.3005, 0.3514, 0.1330, 0.1475, 0.0314],\n",
       "        [0.6199, 0.1457, 0.2693, 0.4847, 0.3966, 0.8817, 0.8379, 0.5626],\n",
       "        [0.8726, 0.2629, 0.5891, 0.9908, 0.6995, 0.6098, 0.3702, 0.8369],\n",
       "        [0.8916, 0.0165, 0.0878, 0.0137, 0.9819, 0.1413, 0.0624, 0.9837],\n",
       "        [0.6199, 0.2864, 0.0849, 0.0382, 0.4834, 0.8644, 0.3387, 0.7978],\n",
       "        [0.3520, 0.9041, 0.0204, 0.2730, 0.3259, 0.5211, 0.5283, 0.8570],\n",
       "        [0.3380, 0.8175, 0.1245, 0.7295, 0.0803, 0.6749, 0.3077, 0.3218]],\n",
       "       device='cuda:0', dtype=torch.float64)"
      ]
     },
     "execution_count": 10,
     "metadata": {},
     "output_type": "execute_result"
    }
   ],
   "source": [
    "x = torch.tensor(np.random.random((8, 8)), device=\"cuda\")\n",
    "x"
   ]
  },
  {
   "cell_type": "markdown",
   "metadata": {},
   "source": [
    "Get the baseline result."
   ]
  },
  {
   "cell_type": "code",
   "execution_count": 11,
   "metadata": {},
   "outputs": [
    {
     "data": {
      "text/plain": [
       "array([[0.52924711, 1.20488171, 0.1914298 , 0.18016923, 1.43009324,\n",
       "        1.13731825, 1.19362113, 1.19362113],\n",
       "       [0.59790834, 1.2094055 , 0.23101004, 1.48118202, 1.72578089,\n",
       "        0.65226364, 0.72020777, 0.14947708],\n",
       "       [1.07025646, 0.25253242, 0.46898878, 0.84177474, 0.68544515,\n",
       "        1.52721989, 1.45506777, 0.97405363],\n",
       "       [1.25821263, 0.38195741, 0.85378715, 1.42672326, 1.01106372,\n",
       "        0.87625523, 0.52799995, 1.20204243],\n",
       "       [1.5168373 , 0.02637978, 0.14508878, 0.02637978, 1.67511597,\n",
       "        0.23741801, 0.10551912, 1.67511597],\n",
       "       [1.17916894, 0.54423182, 0.15549481, 0.0777474 , 0.92001093,\n",
       "        1.64565336, 0.64789502, 1.51607435],\n",
       "       [0.63585418, 1.64803021, 0.03892985, 0.4931114 , 0.59692433,\n",
       "        0.94729296, 0.96026957, 1.5571939 ],\n",
       "       [0.68397825, 1.63896675, 0.24519975, 1.45829325, 0.154863  ,\n",
       "        1.35505125, 0.619452  , 0.6452625 ]])"
      ]
     },
     "execution_count": 11,
     "metadata": {},
     "output_type": "execute_result"
    }
   ],
   "source": [
    "baseline_output = quant_rms_norm_fwd_baseline(x, None, None, 1e-5)\n",
    "baseline_output = np.array(baseline_output.cpu().detach())\n",
    "baseline_output"
   ]
  },
  {
   "cell_type": "markdown",
   "metadata": {},
   "source": [
    "Compare that with the Triton result."
   ]
  },
  {
   "cell_type": "code",
   "execution_count": 12,
   "metadata": {},
   "outputs": [
    {
     "name": "stdout",
     "output_type": "stream",
     "text": [
      "Triton autotuning for function quant_rms_norm_fwd_kernel finished after 1.21s; best config selected: num_warps: 2, num_ctas: 1, num_stages: 2, maxnreg: None;\n"
     ]
    },
    {
     "data": {
      "text/plain": [
       "array([[0.52923703, 1.20485878, 0.19142616, 0.1801658 , 1.43006599,\n",
       "        1.13729656, 1.19359839, 1.19359839],\n",
       "       [0.59783626, 1.20925975, 0.2309822 , 1.48100352, 1.72557282,\n",
       "        0.65218502, 0.72012097, 0.14945906],\n",
       "       [1.07024038, 0.25252864, 0.46898174, 0.84176213, 0.68543488,\n",
       "        1.527197  , 1.45504594, 0.97403902],\n",
       "       [1.25819969, 0.38195348, 0.85377836, 1.42670858, 1.01105332,\n",
       "        0.87624621, 0.52799451, 1.20203006],\n",
       "       [1.51681519, 0.0263794 , 0.14508668, 0.0263794 , 1.67509162,\n",
       "        0.23741455, 0.10551758, 1.67509162],\n",
       "       [1.17914748, 0.54422194, 0.15549198, 0.07774599, 0.91999424,\n",
       "        1.64562345, 0.64788324, 1.51604676],\n",
       "       [0.63584358, 1.64800274, 0.0389292 , 0.49310318, 0.59691441,\n",
       "        0.94727719, 0.9602536 , 1.55716801],\n",
       "       [0.68396449, 1.63893378, 0.24519482, 1.45826387, 0.15485989,\n",
       "        1.35502398, 0.61943954, 0.64524955]])"
      ]
     },
     "execution_count": 12,
     "metadata": {},
     "output_type": "execute_result"
    }
   ],
   "source": [
    "triton_output, triton_rstd = quant_rms_norm_fwd(x, None, None, 1e-5)\n",
    "triton_output = np.array(triton_output.cpu())\n",
    "triton_output"
   ]
  },
  {
   "cell_type": "code",
   "execution_count": 13,
   "metadata": {},
   "outputs": [
    {
     "name": "stdout",
     "output_type": "stream",
     "text": [
      "✅ Triton and Baseline match\n"
     ]
    }
   ],
   "source": [
    "if np.allclose(triton_output, baseline_output, atol=1e-3):\n",
    "    print(\"✅ Triton and Baseline match\")\n",
    "else:\n",
    "    raise ValueError(\"❌ Triton and Baseline differ\")"
   ]
  },
  {
   "cell_type": "markdown",
   "metadata": {},
   "source": [
    "#### Benchmark"
   ]
  },
  {
   "cell_type": "code",
   "execution_count": 14,
   "metadata": {},
   "outputs": [
    {
     "name": "stdout",
     "output_type": "stream",
     "text": [
      "Trial when M = 128 and N = 128 for baseline\n",
      "Trial when M = 128 and N = 128 for triton\n",
      "Triton autotuning for function quant_rms_norm_fwd_kernel finished after 0.72s; best config selected: num_warps: 1, num_ctas: 1, num_stages: 2, maxnreg: None;\n",
      "Trial when M = 256 and N = 256 for baseline\n",
      "Trial when M = 256 and N = 256 for triton\n",
      "Triton autotuning for function quant_rms_norm_fwd_kernel finished after 0.72s; best config selected: num_warps: 1, num_ctas: 1, num_stages: 2, maxnreg: None;\n",
      "Trial when M = 384 and N = 384 for baseline\n",
      "Trial when M = 384 and N = 384 for triton\n",
      "Triton autotuning for function quant_rms_norm_fwd_kernel finished after 0.72s; best config selected: num_warps: 1, num_ctas: 1, num_stages: 2, maxnreg: None;\n",
      "Trial when M = 512 and N = 512 for baseline\n",
      "Trial when M = 512 and N = 512 for triton\n",
      "Triton autotuning for function quant_rms_norm_fwd_kernel finished after 0.71s; best config selected: num_warps: 1, num_ctas: 1, num_stages: 2, maxnreg: None;\n",
      "Trial when M = 640 and N = 640 for baseline\n",
      "Trial when M = 640 and N = 640 for triton\n",
      "Triton autotuning for function quant_rms_norm_fwd_kernel finished after 0.72s; best config selected: num_warps: 4, num_ctas: 1, num_stages: 2, maxnreg: None;\n",
      "Trial when M = 768 and N = 768 for baseline\n",
      "Trial when M = 768 and N = 768 for triton\n",
      "Triton autotuning for function quant_rms_norm_fwd_kernel finished after 0.72s; best config selected: num_warps: 4, num_ctas: 1, num_stages: 2, maxnreg: None;\n",
      "Trial when M = 896 and N = 896 for baseline\n",
      "Trial when M = 896 and N = 896 for triton\n",
      "Triton autotuning for function quant_rms_norm_fwd_kernel finished after 0.72s; best config selected: num_warps: 1, num_ctas: 1, num_stages: 2, maxnreg: None;\n",
      "Trial when M = 1024 and N = 1024 for baseline\n",
      "Trial when M = 1024 and N = 1024 for triton\n",
      "Triton autotuning for function quant_rms_norm_fwd_kernel finished after 0.73s; best config selected: num_warps: 1, num_ctas: 1, num_stages: 2, maxnreg: None;\n",
      "Trial when M = 1152 and N = 1152 for baseline\n",
      "Trial when M = 1152 and N = 1152 for triton\n",
      "Triton autotuning for function quant_rms_norm_fwd_kernel finished after 0.73s; best config selected: num_warps: 8, num_ctas: 1, num_stages: 2, maxnreg: None;\n",
      "Trial when M = 1280 and N = 1280 for baseline\n",
      "Trial when M = 1280 and N = 1280 for triton\n",
      "Triton autotuning for function quant_rms_norm_fwd_kernel finished after 0.72s; best config selected: num_warps: 8, num_ctas: 1, num_stages: 2, maxnreg: None;\n",
      "Trial when M = 1408 and N = 1408 for baseline\n",
      "Trial when M = 1408 and N = 1408 for triton\n",
      "Triton autotuning for function quant_rms_norm_fwd_kernel finished after 0.73s; best config selected: num_warps: 8, num_ctas: 1, num_stages: 2, maxnreg: None;\n",
      "Trial when M = 1536 and N = 1536 for baseline\n",
      "Trial when M = 1536 and N = 1536 for triton\n",
      "Triton autotuning for function quant_rms_norm_fwd_kernel finished after 0.74s; best config selected: num_warps: 8, num_ctas: 1, num_stages: 2, maxnreg: None;\n",
      "Trial when M = 1664 and N = 1664 for baseline\n",
      "Trial when M = 1664 and N = 1664 for triton\n",
      "Triton autotuning for function quant_rms_norm_fwd_kernel finished after 0.72s; best config selected: num_warps: 8, num_ctas: 1, num_stages: 2, maxnreg: None;\n",
      "Trial when M = 1792 and N = 1792 for baseline\n",
      "Trial when M = 1792 and N = 1792 for triton\n",
      "Triton autotuning for function quant_rms_norm_fwd_kernel finished after 0.73s; best config selected: num_warps: 8, num_ctas: 1, num_stages: 2, maxnreg: None;\n",
      "Trial when M = 1920 and N = 1920 for baseline\n",
      "Trial when M = 1920 and N = 1920 for triton\n",
      "Triton autotuning for function quant_rms_norm_fwd_kernel finished after 0.75s; best config selected: num_warps: 8, num_ctas: 1, num_stages: 2, maxnreg: None;\n",
      "Trial when M = 2048 and N = 2048 for baseline\n",
      "Trial when M = 2048 and N = 2048 for triton\n",
      "Triton autotuning for function quant_rms_norm_fwd_kernel finished after 0.73s; best config selected: num_warps: 4, num_ctas: 1, num_stages: 2, maxnreg: None;\n"
     ]
    },
    {
     "data": {
      "image/png": "[encoded data removed]",
      "text/plain": [
       "<Figure size 640x480 with 1 Axes>"
      ]
     },
     "metadata": {},
     "output_type": "display_data"
    },
    {
     "name": "stdout",
     "output_type": "stream",
     "text": [
      "quant-rms-norm-fwd:\n",
      "         M       N  Baseline     Triton\n",
      "0    128.0   128.0  2.844444  25.600001\n",
      "1    256.0   256.0  7.757576  56.888887\n",
      "2    384.0   384.0  9.142857  63.999998\n",
      "3    512.0   512.0  7.501831  66.064517\n",
      "4    640.0   640.0  7.720145  66.666664\n",
      "5    768.0   768.0  8.000000  67.764705\n",
      "6    896.0   896.0  8.166666  68.266666\n",
      "7   1024.0  1024.0  8.308316  68.840338\n",
      "8   1152.0  1152.0  8.388350  68.662252\n",
      "9   1280.0  1280.0  8.432147  69.189190\n",
      "10  1408.0  1408.0  8.440327  69.142856\n",
      "11  1536.0  1536.0  8.533334  69.293236\n",
      "12  1664.0  1664.0  8.552839  69.333336\n",
      "13  1792.0  1792.0  8.594724  69.303869\n",
      "14  1920.0  1920.0  8.590604  69.397592\n",
      "15  2048.0  2048.0  8.623158  69.571124\n"
     ]
    }
   ],
   "source": [
    "# ruff: noqa: E731\n",
    "\n",
    "configs = [\n",
    "    triton.testing.Benchmark(\n",
    "        x_names=[\"M\", \"N\"],  # Argument names to use as an x-axis for the plot\n",
    "        x_vals=[128 * i for i in range(1, 17)],  # Different possible values for `x_name`\n",
    "        line_arg=\"provider\",  # Argument name whose value corresponds to a different line in the plot\n",
    "        # Possible values for `line_arg`\n",
    "        line_vals=[\"baseline\", \"triton\"],  # Label name for the lines\n",
    "        line_names=[\"Baseline\", \"Triton\"],  # Line styles\n",
    "        styles=[(\"green\", \"-\"), (\"blue\", \"-\")],\n",
    "        ylabel=\"GB/s\",  # Label name for the y-axis\n",
    "        plot_name=\"quant-rms-norm-fwd\",  # Name for the plot, used also as a file name for saving the plot.\n",
    "        args={},\n",
    "    )\n",
    "]\n",
    "\n",
    "\n",
    "@triton.testing.perf_report(configs)\n",
    "def benchmark(M, N, provider):\n",
    "    print(f\"Trial when M = {M} and N = {N} for {provider}\")\n",
    "    x = torch.rand((M, N), device=\"cuda\")\n",
    "\n",
    "    quantiles = [0.5, 0.2, 0.8]\n",
    "    if provider == \"baseline\":\n",
    "        ms, min_ms, max_ms = triton.testing.do_bench(\n",
    "            lambda: quant_rms_norm_fwd_baseline(x, None, None, 1e-5), quantiles=quantiles\n",
    "        )\n",
    "    if provider == \"triton\":\n",
    "        ms, min_ms, max_ms = triton.testing.do_bench(\n",
    "            lambda: quant_rms_norm_fwd(x, None, None, 1e-5), quantiles=quantiles\n",
    "        )\n",
    "    gbps = lambda ms: 2 * x.numel() * x.element_size() * 1e-9 / (ms * 1e-3)\n",
    "    return gbps(ms), gbps(max_ms), gbps(min_ms)\n",
    "\n",
    "\n",
    "benchmark.run(show_plots=True, print_data=True)"
   ]
  }
 ],
 "metadata": {
  "kernelspec": {
   "display_name": "keras-matmulless-b9IALFmu-py3.10",
   "language": "python",
   "name": "python3"
  },
  "language_info": {
   "codemirror_mode": {
    "name": "ipython",
    "version": 3
   },
   "file_extension": ".py",
   "mimetype": "text/x-python",
   "name": "python",
   "nbconvert_exporter": "python",
   "pygments_lexer": "ipython3",
   "version": "3.10.14"
  }
 },
 "nbformat": 4,
 "nbformat_minor": 2
}
