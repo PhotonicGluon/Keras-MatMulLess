{
 "cells": [
  {
   "cell_type": "markdown",
   "metadata": {
    "id": "PdrF5MIoMXX8"
   },
   "source": [
    "# Ternary Multiplication in Triton"
   ]
  },
  {
   "cell_type": "markdown",
   "metadata": {
    "id": "ZGNuCpfuMpAU"
   },
   "source": [
    "## Setup"
   ]
  },
  {
   "cell_type": "code",
   "execution_count": 37,
   "metadata": {},
   "outputs": [
    {
     "name": "stdout",
     "output_type": "stream",
     "text": [
      "Looking in indexes: https://pypi.org/simple, https://aiinfra.pkgs.visualstudio.com/PublicPackages/_packaging/Triton-Nightly/pypi/simple/\n",
      "Requirement already satisfied: triton-nightly==3.0.0.post20240626041721 in /home/vscode/.cache/pypoetry/virtualenvs/keras-matmulless-b9IALFmu-py3.10/lib/python3.10/site-packages (3.0.0.post20240626041721)\n",
      "Requirement already satisfied: filelock in /home/vscode/.cache/pypoetry/virtualenvs/keras-matmulless-b9IALFmu-py3.10/lib/python3.10/site-packages (from triton-nightly==3.0.0.post20240626041721) (3.15.4)\n",
      "Note: you may need to restart the kernel to use updated packages.\n"
     ]
    }
   ],
   "source": [
    "%pip install --extra-index-url https://aiinfra.pkgs.visualstudio.com/PublicPackages/_packaging/Triton-Nightly/pypi/simple/ triton-nightly==3.0.0.post20240626041721"
   ]
  },
  {
   "cell_type": "code",
   "execution_count": 38,
   "metadata": {},
   "outputs": [],
   "source": [
    "import os\n",
    "\n",
    "os.environ[\"TRITON_PRINT_AUTOTUNING\"] = \"1\""
   ]
  },
  {
   "cell_type": "markdown",
   "metadata": {
    "id": "_DAdIYpUMjyD"
   },
   "source": [
    "Check the installed triton version."
   ]
  },
  {
   "cell_type": "code",
   "execution_count": 39,
   "metadata": {
    "id": "hNPo7UMLMlVY"
   },
   "outputs": [],
   "source": [
    "import triton\n",
    "\n",
    "assert triton.__version__ == \"3.0.0\", f\"Expected Triton to have a version of 3.0.0, but found {triton.__version__}\""
   ]
  },
  {
   "cell_type": "markdown",
   "metadata": {
    "id": "Zh04HhvLMznK"
   },
   "source": [
    "Import other needed stuff."
   ]
  },
  {
   "cell_type": "code",
   "execution_count": 40,
   "metadata": {
    "id": "uglYrA26M0vg"
   },
   "outputs": [],
   "source": [
    "import warnings\n",
    "\n",
    "import torch\n",
    "import triton.language as tl"
   ]
  },
  {
   "cell_type": "markdown",
   "metadata": {
    "id": "pI2dDdjsbPnB"
   },
   "source": [
    "## Helper Functions"
   ]
  },
  {
   "cell_type": "code",
   "execution_count": 41,
   "metadata": {
    "id": "mzcLVuDLM30m"
   },
   "outputs": [],
   "source": [
    "def get_current_target():\n",
    "    return triton.runtime.driver.active.get_current_target()"
   ]
  },
  {
   "cell_type": "code",
   "execution_count": 42,
   "metadata": {
    "id": "57uA2WypcCAR"
   },
   "outputs": [],
   "source": [
    "def is_cuda():\n",
    "    current_target = get_current_target()\n",
    "    if current_target.backend != \"cuda\":\n",
    "        return False\n",
    "\n",
    "    if current_target.arch < 70:  # CUDA compute capacity is below 7.0, which is minimum 'stable' supported by Triton\n",
    "        warnings.warn(\n",
    "            \"Compute capacity of CUDA device is below 7.0. The Triton compilation may fail terribly!\", stacklevel=1\n",
    "        )\n",
    "\n",
    "    return True"
   ]
  },
  {
   "cell_type": "markdown",
   "metadata": {},
   "source": [
    "## 2D Ternary Multiplication Kernel"
   ]
  },
  {
   "cell_type": "markdown",
   "metadata": {},
   "source": [
    "First, define the autotune config for the kernel."
   ]
  },
  {
   "cell_type": "code",
   "execution_count": 43,
   "metadata": {
    "id": "flaq-3Gez1dl"
   },
   "outputs": [],
   "source": [
    "def _get_autotune_config_2d():\n",
    "    return [\n",
    "        triton.Config(\n",
    "            {\n",
    "                \"BLOCK_SIZE_M\": 2,\n",
    "                \"BLOCK_SIZE_N\": 2,\n",
    "            }\n",
    "        )\n",
    "    ]\n",
    "    \n",
    "    # return [\n",
    "    #     triton.Config(\n",
    "    #         {\n",
    "    #             \"BLOCK_SIZE_M\": 256,\n",
    "    #             \"BLOCK_SIZE_N\": 256,\n",
    "    #         },\n",
    "    #         num_stages=4,\n",
    "    #         num_warps=4,\n",
    "    #     ),\n",
    "    #     triton.Config(\n",
    "    #         {\n",
    "    #             \"BLOCK_SIZE_M\": 128,\n",
    "    #             \"BLOCK_SIZE_N\": 128,\n",
    "    #         },\n",
    "    #         num_stages=4,\n",
    "    #         num_warps=4,\n",
    "    #     ),\n",
    "    #     triton.Config(\n",
    "    #         {\n",
    "    #             \"BLOCK_SIZE_K\": 128,\n",
    "    #             \"BLOCK_SIZE_N\": 64,\n",
    "    #         },\n",
    "    #         num_stages=4,\n",
    "    #         num_warps=4,\n",
    "    #     ),\n",
    "    #     triton.Config(\n",
    "    #         {\n",
    "    #             \"BLOCK_SIZE_K\": 64,\n",
    "    #             \"BLOCK_SIZE_N\": 128,\n",
    "    #         },\n",
    "    #         num_stages=4,\n",
    "    #         num_warps=4,\n",
    "    #     ),\n",
    "    #     triton.Config(\n",
    "    #         {\n",
    "    #             \"BLOCK_SIZE_K\": 128,\n",
    "    #             \"BLOCK_SIZE_N\": 32,\n",
    "    #         },\n",
    "    #         num_stages=4,\n",
    "    #         num_warps=4,\n",
    "    #     ),\n",
    "    #     triton.Config(\n",
    "    #         {\n",
    "    #             \"BLOCK_SIZE_K\": 32,\n",
    "    #             \"BLOCK_SIZE_N\": 128,\n",
    "    #         },\n",
    "    #         num_stages=4,\n",
    "    #         num_warps=4,\n",
    "    #     ),\n",
    "    #     triton.Config(\n",
    "    #         {\n",
    "    #             \"BLOCK_SIZE_M\": 64,\n",
    "    #             \"BLOCK_SIZE_N\": 32,\n",
    "    #         },\n",
    "    #         num_stages=5,\n",
    "    #         num_warps=2,\n",
    "    #     ),\n",
    "    #     triton.Config(\n",
    "    #         {\n",
    "    #             \"BLOCK_SIZE_M\": 32,\n",
    "    #             \"BLOCK_SIZE_N\": 64,\n",
    "    #         },\n",
    "    #         num_stages=5,\n",
    "    #         num_warps=2,\n",
    "    #     )\n",
    "    # ]"
   ]
  },
  {
   "cell_type": "code",
   "execution_count": 44,
   "metadata": {
    "id": "gkI9jzg80Fkt"
   },
   "outputs": [],
   "source": [
    "def get_autotune_config_2d():\n",
    "    if is_cuda():\n",
    "        return _get_autotune_config_2d()\n",
    "    else:\n",
    "        raise ValueError(\"Not on CUDA... can't use!\")"
   ]
  },
  {
   "cell_type": "markdown",
   "metadata": {},
   "source": [
    "Now we define the Triton kernel. The rough pseudocode algorithm is as follows.\n",
    "```python\n",
    "# Do in parallel\n",
    "for n in range(0, N, BLOCK_SIZE_N):\n",
    "    acc = zeros((BLOCK_SIZE_N,), dtype=float32)\n",
    "    for m in range(0, M, BLOCK_SIZE_M):\n",
    "        x_block = x[m : m+BLOCK_SIZE_M]\n",
    "        w_block = w[m : m+BLOCK_SIZE_M, n : n+BLOCK_SIZE_N]\n",
    "        \n",
    "        # Since `w` is ternary, we only really care about the sign of the element in the array, and so\n",
    "        # we just need to perform two conditional checks\n",
    "        elems_to_sum = tl.where(w_block > 0, x_block, tl.where(w_block < 0, -x_block, tl.zeros_like(x_block)))\n",
    "        acc += tl.sum(elems_to_sum)  # Sum along the M direction\n",
    "\n",
    "    acc = acc / scale\n",
    "    z[n : n+BLOCK_SIZE_N] = acc\n",
    "```"
   ]
  },
  {
   "cell_type": "code",
   "execution_count": 45,
   "metadata": {},
   "outputs": [
    {
     "name": "stderr",
     "output_type": "stream",
     "text": [
      "/tmp/ipykernel_43485/3679571787.py:7: UserWarning: Compute capacity of CUDA device is below 7.0. The Triton compilation may fail terribly!\n",
      "  warnings.warn(\n"
     ]
    }
   ],
   "source": [
    "# ruff: noqa: N803, PLR2044\n",
    "@triton.autotune(\n",
    "    configs=get_autotune_config_2d(),\n",
    "    key=[\"M\", \"N\"],\n",
    ")\n",
    "@triton.jit\n",
    "def ternary_mul_2d_kernel(\n",
    "    # Pointers to arrays\n",
    "    x_ptr,\n",
    "    w_ptr,\n",
    "    z_ptr,\n",
    "    # Scaling factor\n",
    "    scale,\n",
    "    # `W` matrix dimensions\n",
    "    M,\n",
    "    N,\n",
    "    # The stride variables represent how much to increase the pointer by when moving by 1 element in a particular\n",
    "    # dimension. E.g. `stride_wm` is how much to increase `w_ptr` by to get the element one row down (the `W` matrix\n",
    "    # has `M` rows).\n",
    "    stride_xm,\n",
    "    stride_wm,\n",
    "    stride_wn,\n",
    "    # Meta-parameters\n",
    "    BLOCK_SIZE_M: tl.constexpr,\n",
    "    BLOCK_SIZE_N: tl.constexpr,\n",
    "):\n",
    "    \"\"\"\n",
    "    Kernel for computing the ternary multiplication\n",
    "        z = xW\n",
    "    `x` has shape `(M,)`, `W` has shape `(M, N)`, and `z` has shape `(N,)`.\n",
    "    \"\"\"\n",
    "\n",
    "    # ----------------------------------------------------------\n",
    "    # Create pointers for the first blocks of `x` and `W`.\n",
    "    # We will advance this pointer as we move in the `M` direction and accumulate.\n",
    "    # - `x_ptrs` is a block of `BLOCK_SIZE_M` pointers\n",
    "    # - `w_ptrs` is a block of pointers with shape `(BLOCK_SIZE_M, BLOCK_SIZE_N)`\n",
    "    pid_0 = tl.program_id(axis=0)\n",
    "\n",
    "    offs_m = tl.arange(0, BLOCK_SIZE_M)\n",
    "    offs_n = (pid_0 * BLOCK_SIZE_N + tl.arange(0, BLOCK_SIZE_N)) % N  # Guard against wrong offsets\n",
    "\n",
    "    x_ptrs = x_ptr + offs_m\n",
    "    w_ptrs = w_ptr + (offs_m[:, None] * stride_wm + offs_n[None, :] * stride_wn)\n",
    "\n",
    "    # -----------------------------------------------------------\n",
    "    # Iterate to compute a block of the `z` vector.\n",
    "    # We accumulate into a block of `BLOCK_SIZE_N` elements of FP32 values for higher accuracy.\n",
    "    accumulator = tl.zeros((BLOCK_SIZE_N,), dtype=tl.float32)\n",
    "    for m in range(0, tl.cdiv(M, BLOCK_SIZE_M)):\n",
    "        # Load the next block of `x` and `W`, generate a mask by checking along `M`.\n",
    "        # If it is out of bounds, set it to 0.\n",
    "        x = tl.load(x_ptrs, mask=offs_m < M - m * BLOCK_SIZE_M, other=0.0)[:, None]  # Force broadcast to correct shape\n",
    "        w = tl.load(w_ptrs, mask=offs_m[:, None] < M - m * BLOCK_SIZE_M, other=0.0)\n",
    "\n",
    "        # Since `w` is ternary, we only really care about the sign of the element in the array, and so\n",
    "        # we just need to perform two conditional checks\n",
    "        elements_to_sum = tl.where(w > 0, x, tl.where(w < 0, -x, tl.zeros_like(x)))\n",
    "        accumulator = accumulator + tl.sum(elements_to_sum, axis=0)  # Sum along the `M` direction\n",
    "\n",
    "        # Advance the ptrs to the next `M` block.\n",
    "        x_ptrs += BLOCK_SIZE_M * stride_xm\n",
    "        w_ptrs += BLOCK_SIZE_M * stride_wm\n",
    "\n",
    "    z = accumulator / scale  # TODO: Do we want to reduce precision back to FP16?\n",
    "\n",
    "    # -----------------------------------------------------------\n",
    "    # Write back the block of the output vector `z` with masks.\n",
    "    offs_z = pid_0 * BLOCK_SIZE_N + tl.arange(0, BLOCK_SIZE_N)\n",
    "    z_ptrs = z_ptr + offs_z\n",
    "    z_mask = offs_z < N\n",
    "    tl.store(z_ptrs, z, mask=z_mask)"
   ]
  },
  {
   "cell_type": "markdown",
   "metadata": {
    "id": "xexLN2Dz0GM7"
   },
   "source": [
    "Create a convenience wrapper function that handles the checks and kernel calling."
   ]
  },
  {
   "cell_type": "code",
   "execution_count": 46,
   "metadata": {
    "id": "-MqHjzD30GeM"
   },
   "outputs": [],
   "source": [
    "# ruff: noqa: E731, S101, N806\n",
    "def ternary_mul_2d(x, w, scale):\n",
    "    # Check constraints\n",
    "    assert len(x) == w.shape[0], \"Incompatible dimensions\"\n",
    "    assert x.is_contiguous(), \"x must be contiguous\"\n",
    "    assert x.is_cuda and w.is_cuda\n",
    "\n",
    "    # Get dimensions\n",
    "    M, N = w.shape\n",
    "\n",
    "    # Allocate output\n",
    "    z = torch.empty((N,), device=x.device, dtype=torch.float32)  # TODO: Change precision?\n",
    "\n",
    "    # 1D launch kernel where each block gets its own program\n",
    "    grid = lambda META: (triton.cdiv(N, META[\"BLOCK_SIZE_N\"]),)\n",
    "\n",
    "    # fmt: off\n",
    "    ternary_mul_2d_kernel[grid](\n",
    "        x, w, z,\n",
    "        scale,\n",
    "        M, N,\n",
    "        x.stride(0),\n",
    "        w.stride(0), w.stride(1)\n",
    "    )\n",
    "    # fmt: on\n",
    "\n",
    "    return z"
   ]
  },
  {
   "cell_type": "markdown",
   "metadata": {
    "id": "QC4g_Sb8ggMk"
   },
   "source": [
    "Test the kernel."
   ]
  },
  {
   "cell_type": "code",
   "execution_count": 47,
   "metadata": {
    "id": "vX7hI8CV0mFX"
   },
   "outputs": [],
   "source": [
    "X_LEN = 256  # x is the 1D vector\n",
    "W_LEN = 256  # W is the quantized weights matrix\n",
    "W_SIZE = (X_LEN, W_LEN)"
   ]
  },
  {
   "cell_type": "code",
   "execution_count": 48,
   "metadata": {
    "colab": {
     "base_uri": "https://localhost:8080/"
    },
    "id": "Q_QyszNe03Sr",
    "outputId": "fdf97a5a-9589-4856-e2c5-d2765fa244c6"
   },
   "outputs": [
    {
     "data": {
      "text/plain": [
       "<torch._C.Generator at 0x7ff4e975df50>"
      ]
     },
     "execution_count": 48,
     "metadata": {},
     "output_type": "execute_result"
    }
   ],
   "source": [
    "torch.manual_seed(8192)"
   ]
  },
  {
   "cell_type": "code",
   "execution_count": 49,
   "metadata": {
    "id": "YvvBIRqtgk1r"
   },
   "outputs": [],
   "source": [
    "a = torch.rand(X_LEN, device=\"cuda\", dtype=torch.float32)\n",
    "w = torch.tensor([-1., 0., 1.], device=\"cuda\", dtype=torch.float32)[torch.randint(2, W_SIZE)]\n",
    "scale = torch.rand(1, dtype=torch.float32).item()"
   ]
  },
  {
   "cell_type": "code",
   "execution_count": 50,
   "metadata": {
    "id": "dpUvXBwD05_E"
   },
   "outputs": [
    {
     "name": "stdout",
     "output_type": "stream",
     "text": [
      "tensor([-951.4594, -810.9307, -814.1393, -753.9046, -771.3155, -788.1216,\n",
      "        -772.3747, -750.3213, -766.9465, -775.3512, -796.5271, -740.3124,\n",
      "        -743.4036, -764.6676, -699.1962, -728.9562, -786.4343, -858.7490,\n",
      "        -760.0906, -839.8545, -789.4946, -795.4908, -754.4786, -771.1029,\n",
      "        -783.6049, -834.9073, -931.8519, -694.6861, -695.2032, -707.0848,\n",
      "        -848.7382, -729.0391, -769.3309, -748.5757, -834.0535, -869.5665,\n",
      "        -803.8021, -884.6586, -680.9594, -903.9478, -761.8308, -839.1580,\n",
      "        -803.7127, -718.6333, -751.7179, -751.2381, -769.1642, -787.6885,\n",
      "        -768.6287, -815.1701, -668.5592, -739.2564, -811.2242, -763.2260,\n",
      "        -832.9089, -802.8115, -761.8378, -714.6352, -771.6232, -756.2714,\n",
      "        -863.0844, -838.2726, -721.9910, -765.3901, -799.4003, -860.3110,\n",
      "        -921.7515, -778.2712, -853.6852, -721.2637, -808.6849, -811.3694,\n",
      "        -699.9083, -809.1854, -914.3477, -809.1392, -791.8344, -796.9955,\n",
      "        -751.8312, -731.2245, -900.7673, -829.6279, -696.7488, -814.0972,\n",
      "        -745.0986, -840.6050, -721.4727, -811.9926, -740.4084, -884.6636,\n",
      "        -729.5006, -815.8346, -822.4435, -823.6513, -889.7301, -820.0322,\n",
      "        -752.2415, -840.0404, -703.8918, -815.4541, -686.0480, -681.2137,\n",
      "        -796.1993, -768.0498, -972.2722, -751.6311, -738.8566, -696.0828,\n",
      "        -826.9047, -784.3642, -834.1297, -739.7773, -766.2885, -826.3129,\n",
      "        -737.8804, -797.8938, -796.2531, -852.1828, -639.4240, -891.1442,\n",
      "        -865.8923, -782.4530, -799.7996, -784.1414, -700.7862, -822.1578,\n",
      "        -801.3296, -675.0355, -764.7386, -782.5708, -829.5156, -692.1326,\n",
      "        -787.8448, -693.6796, -846.4279, -744.8901, -801.2891, -837.5233,\n",
      "        -701.9556, -744.2525, -654.8667, -826.9344, -846.3845, -742.9725,\n",
      "        -767.7625, -862.4980, -726.5882, -695.3724, -717.1807, -847.3315,\n",
      "        -773.2690, -727.4025, -759.6781, -827.4999, -836.4473, -683.4453,\n",
      "        -843.7963, -834.5532, -945.6599, -798.1615, -783.8471, -716.9811,\n",
      "        -763.6321, -798.4788, -790.1544, -813.0567, -839.4808, -744.3832,\n",
      "        -754.0511, -744.0473, -864.3831, -862.7405, -753.4977, -863.2749,\n",
      "        -716.7770, -852.2720, -787.9136, -806.1100, -804.4357, -789.5510,\n",
      "        -713.6313, -738.0132, -801.2191, -860.4421, -806.0908, -745.6053,\n",
      "        -838.1174, -839.5273, -714.5489, -857.8897, -793.2915, -807.9446,\n",
      "        -796.9210, -794.3760, -834.6567, -759.6036, -704.5126, -814.5659,\n",
      "        -724.5497, -764.7427, -865.2620, -822.6932, -820.5858, -840.5030,\n",
      "        -819.2311, -816.2524, -741.2001, -815.1117, -804.2134, -787.5126,\n",
      "        -809.6976, -845.8332, -773.0093, -832.2064, -883.6086, -782.1836,\n",
      "        -744.2174, -796.0397, -798.9742, -724.2285, -778.5416, -883.7806,\n",
      "        -762.7258, -765.0425, -815.3953, -745.8015, -841.2291, -722.5185,\n",
      "        -926.7850, -922.4192, -807.0449, -759.0336, -747.6671, -734.6192,\n",
      "        -885.3647, -805.5819, -688.4378, -693.0744, -869.5692, -846.7794,\n",
      "        -788.2941, -791.1606, -773.1097, -861.0558, -719.6265, -776.2618,\n",
      "        -812.7778, -777.9195, -747.3929, -802.8259, -773.2090, -774.7262,\n",
      "        -739.1203, -858.7456, -881.1325, -801.0305], device='cuda:0')\n"
     ]
    }
   ],
   "source": [
    "torch_output = torch.matmul(a, w) / scale\n",
    "print(torch_output)"
   ]
  },
  {
   "cell_type": "code",
   "execution_count": 51,
   "metadata": {
    "id": "FyLkFEHg1EPX"
   },
   "outputs": [
    {
     "name": "stdout",
     "output_type": "stream",
     "text": [
      "tensor([-951.4592, -810.9305, -814.1395, -753.9046, -771.3154, -788.1215,\n",
      "        -772.3747, -750.3212, -766.9465, -775.3510, -796.5269, -740.3125,\n",
      "        -743.4037, -764.6675, -699.1959, -728.9561, -786.4342, -858.7488,\n",
      "        -760.0905, -839.8543, -789.4948, -795.4908, -754.4786, -771.1029,\n",
      "        -783.6049, -834.9071, -931.8518, -694.6861, -695.2032, -707.0847,\n",
      "        -848.7383, -729.0392, -769.3309, -748.5757, -834.0536, -869.5666,\n",
      "        -803.8021, -884.6584, -680.9593, -903.9477, -761.8306, -839.1578,\n",
      "        -803.7127, -718.6332, -751.7177, -751.2380, -769.1642, -787.6886,\n",
      "        -768.6287, -815.1699, -668.5591, -739.2564, -811.2241, -763.2257,\n",
      "        -832.9092, -802.8113, -761.8378, -714.6353, -771.6231, -756.2714,\n",
      "        -863.0842, -838.2724, -721.9908, -765.3898, -799.4003, -860.3109,\n",
      "        -921.7516, -778.2714, -853.6851, -721.2638, -808.6847, -811.3694,\n",
      "        -699.9081, -809.1856, -914.3478, -809.1390, -791.8342, -796.9955,\n",
      "        -751.8312, -731.2244, -900.7671, -829.6281, -696.7488, -814.0970,\n",
      "        -745.0984, -840.6046, -721.4727, -811.9924, -740.4082, -884.6632,\n",
      "        -729.5005, -815.8346, -822.4434, -823.6511, -889.7300, -820.0322,\n",
      "        -752.2416, -840.0404, -703.8915, -815.4539, -686.0480, -681.2137,\n",
      "        -796.1992, -768.0497, -972.2723, -751.6309, -738.8564, -696.0826,\n",
      "        -826.9045, -784.3642, -834.1296, -739.7772, -766.2886, -826.3127,\n",
      "        -737.8802, -797.8939, -796.2531, -852.1827, -639.4239, -891.1441,\n",
      "        -865.8925, -782.4529, -799.7996, -784.1414, -700.7862, -822.1578,\n",
      "        -801.3296, -675.0354, -764.7386, -782.5707, -829.5156, -692.1326,\n",
      "        -787.8447, -693.6795, -846.4279, -744.8900, -801.2891, -837.5233,\n",
      "        -701.9556, -744.2524, -654.8667, -826.9344, -846.3844, -742.9722,\n",
      "        -767.7625, -862.4982, -726.5883, -695.3723, -717.1806, -847.3315,\n",
      "        -773.2689, -727.4025, -759.6782, -827.4998, -836.4472, -683.4453,\n",
      "        -843.7961, -834.5533, -945.6597, -798.1612, -783.8469, -716.9810,\n",
      "        -763.6321, -798.4789, -790.1545, -813.0565, -839.4808, -744.3832,\n",
      "        -754.0509, -744.0471, -864.3832, -862.7405, -753.4976, -863.2746,\n",
      "        -716.7770, -852.2719, -787.9134, -806.1099, -804.4355, -789.5510,\n",
      "        -713.6315, -738.0133, -801.2192, -860.4420, -806.0908, -745.6051,\n",
      "        -838.1176, -839.5271, -714.5489, -857.8897, -793.2914, -807.9445,\n",
      "        -796.9208, -794.3760, -834.6565, -759.6036, -704.5125, -814.5659,\n",
      "        -724.5496, -764.7428, -865.2617, -822.6931, -820.5857, -840.5029,\n",
      "        -819.2311, -816.2523, -741.2001, -815.1118, -804.2136, -787.5125,\n",
      "        -809.6976, -845.8333, -773.0095, -832.2062, -883.6086, -782.1834,\n",
      "        -744.2172, -796.0399, -798.9742, -724.2285, -778.5416, -883.7808,\n",
      "        -762.7258, -765.0426, -815.3951, -745.8015, -841.2291, -722.5186,\n",
      "        -926.7850, -922.4192, -807.0449, -759.0336, -747.6669, -734.6191,\n",
      "        -885.3645, -805.5820, -688.4377, -693.0744, -869.5690, -846.7791,\n",
      "        -788.2939, -791.1606, -773.1097, -861.0559, -719.6265, -776.2619,\n",
      "        -812.7776, -777.9196, -747.3929, -802.8257, -773.2090, -774.7263,\n",
      "        -739.1203, -858.7456, -881.1324, -801.0305], device='cuda:0')\n"
     ]
    }
   ],
   "source": [
    "triton_output = ternary_mul_2d(a, w, scale)\n",
    "print(triton_output)"
   ]
  },
  {
   "cell_type": "code",
   "execution_count": 52,
   "metadata": {},
   "outputs": [
    {
     "name": "stdout",
     "output_type": "stream",
     "text": [
      "✅ Triton and Torch match\n"
     ]
    }
   ],
   "source": [
    "if torch.allclose(triton_output, torch_output, atol=1e-3):\n",
    "    print(\"✅ Triton and Torch match\")\n",
    "else:\n",
    "    raise ValueError(\"❌ Triton and Torch differ\")"
   ]
  },
  {
   "cell_type": "markdown",
   "metadata": {},
   "source": [
    "Benchmark the Triton kernel against the standard Torch implementation of matmul."
   ]
  },
  {
   "cell_type": "code",
   "execution_count": 53,
   "metadata": {},
   "outputs": [],
   "source": [
    "# REF_LIB = \"cuBLAS\"\n",
    "\n",
    "# configs = [\n",
    "#     triton.testing.Benchmark(\n",
    "#         x_names=[\"M\", \"N\"],  # Argument names to use as an x-axis for the plot\n",
    "#         x_vals=[128 * i for i in range(1, 31)],  # Different possible values for `x_name`\n",
    "#         line_arg=\"provider\",  # Argument name whose value corresponds to a different line in the plot\n",
    "#         # Possible values for `line_arg`\n",
    "#         line_vals=[REF_LIB.lower(), \"triton\"],  # Label name for the lines\n",
    "#         line_names=[REF_LIB, \"Triton\"],  # Line styles\n",
    "#         styles=[(\"green\", \"-\"), (\"blue\", \"-\")],\n",
    "#         ylabel=\"GFLOPS\",  # Label name for the y-axis\n",
    "#         plot_name=\"ternary-mul-2d-performance\",  # Name for the plot, used also as a file name for saving the plot.\n",
    "#         args={},\n",
    "#     )\n",
    "# ]\n",
    "\n",
    "# @triton.testing.perf_report(configs)\n",
    "# def benchmark(M, N, provider):\n",
    "#     print(f\"Trial when M = {M} and N = {N} for {provider}\")\n",
    "#     x = torch.rand(M, device=\"cuda\")\n",
    "#     w = torch.tensor([-1.0, 0.0, 1.0], device=\"cuda\")[torch.randint(2, (M, N))]\n",
    "#     scale = torch.rand(1, dtype=torch.float32).item()\n",
    "\n",
    "#     quantiles = [0.5, 0.2, 0.8]\n",
    "#     if provider == REF_LIB.lower():\n",
    "#         ms, min_ms, max_ms = triton.testing.do_bench(lambda: torch.matmul(x, w) / scale, quantiles=quantiles)\n",
    "#     if provider == \"triton\":\n",
    "#         ms, min_ms, max_ms = triton.testing.do_bench(lambda: ternary_mul_2d(x, w, scale), quantiles=quantiles)\n",
    "#     gflops = lambda ms: 2 * M * N * 1e-9 / (ms * 1e-3)\n",
    "#     return gflops(ms), gflops(max_ms), gflops(min_ms)\n",
    "\n",
    "\n",
    "# benchmark.run(show_plots=True, print_data=True)"
   ]
  },
  {
   "cell_type": "markdown",
   "metadata": {},
   "source": [
    "## 2D-2D Ternary Matrix Multipliation"
   ]
  },
  {
   "cell_type": "code",
   "execution_count": 154,
   "metadata": {},
   "outputs": [],
   "source": [
    "def _get_autotune_config_2d2d():\n",
    "    # return [\n",
    "    #     triton.Config(\n",
    "    #         {\n",
    "    #             \"BLOCK_SIZE_K\": 2,\n",
    "    #             \"BLOCK_SIZE_N\": 2,\n",
    "    #         }\n",
    "    #     )\n",
    "    # ]\n",
    "    \n",
    "    return [\n",
    "        triton.Config(\n",
    "            {\n",
    "                \"BLOCK_SIZE_K\": 256,\n",
    "                \"BLOCK_SIZE_N\": 256,\n",
    "            },\n",
    "            num_stages=4,\n",
    "            num_warps=4,\n",
    "        ),\n",
    "        triton.Config(\n",
    "            {\n",
    "                \"BLOCK_SIZE_K\": 128,\n",
    "                \"BLOCK_SIZE_N\": 128,\n",
    "            },\n",
    "            num_stages=4,\n",
    "            num_warps=4,\n",
    "        ),\n",
    "        triton.Config(\n",
    "            {\n",
    "                \"BLOCK_SIZE_K\": 128,\n",
    "                \"BLOCK_SIZE_N\": 64,\n",
    "            },\n",
    "            num_stages=4,\n",
    "            num_warps=4,\n",
    "        ),\n",
    "        triton.Config(\n",
    "            {\n",
    "                \"BLOCK_SIZE_K\": 64,\n",
    "                \"BLOCK_SIZE_N\": 128,\n",
    "            },\n",
    "            num_stages=4,\n",
    "            num_warps=4,\n",
    "        ),\n",
    "        triton.Config(\n",
    "            {\n",
    "                \"BLOCK_SIZE_K\": 128,\n",
    "                \"BLOCK_SIZE_N\": 32,\n",
    "            },\n",
    "            num_stages=4,\n",
    "            num_warps=4,\n",
    "        ),\n",
    "        triton.Config(\n",
    "            {\n",
    "                \"BLOCK_SIZE_K\": 32,\n",
    "                \"BLOCK_SIZE_N\": 128,\n",
    "            },\n",
    "            num_stages=4,\n",
    "            num_warps=4,\n",
    "        ),\n",
    "        triton.Config(\n",
    "            {\n",
    "                \"BLOCK_SIZE_K\": 64,\n",
    "                \"BLOCK_SIZE_N\": 32,\n",
    "            },\n",
    "            num_stages=5,\n",
    "            num_warps=2,\n",
    "        ),\n",
    "        triton.Config(\n",
    "            {\n",
    "                \"BLOCK_SIZE_K\": 32,\n",
    "                \"BLOCK_SIZE_N\": 64,\n",
    "            },\n",
    "            num_stages=5,\n",
    "            num_warps=2,\n",
    "        )\n",
    "    ]"
   ]
  },
  {
   "cell_type": "code",
   "execution_count": 155,
   "metadata": {},
   "outputs": [],
   "source": [
    "def get_autotune_config_2d2d():\n",
    "    if is_cuda():\n",
    "        return _get_autotune_config_2d2d()\n",
    "    else:\n",
    "        raise ValueError(\"Not on CUDA... can't use!\")"
   ]
  },
  {
   "cell_type": "code",
   "execution_count": 156,
   "metadata": {},
   "outputs": [
    {
     "name": "stderr",
     "output_type": "stream",
     "text": [
      "/tmp/ipykernel_43485/3679571787.py:7: UserWarning: Compute capacity of CUDA device is below 7.0. The Triton compilation may fail terribly!\n",
      "  warnings.warn(\n"
     ]
    }
   ],
   "source": [
    "# ruff: noqa: N803, PLR2044\n",
    "@triton.autotune(\n",
    "    configs=get_autotune_config_2d2d(),\n",
    "    key=[\"K\", \"N\"],\n",
    ")\n",
    "@triton.jit\n",
    "def ternary_mul_2d2d_kernel(\n",
    "    # Pointers to arrays\n",
    "    a_ptr,\n",
    "    w_ptr,\n",
    "    z_ptr,\n",
    "    # Scaling factor\n",
    "    scale,\n",
    "    # Dimensions\n",
    "    K,\n",
    "    M,\n",
    "    N,\n",
    "    # The stride variables represent how much to increase the pointer by when moving by 1 element in a particular\n",
    "    # dimension. E.g. `stride_wm` is how much to increase `w_ptr` by to get the element one row down (the `W` matrix\n",
    "    # has `M` rows).\n",
    "    stride_am,\n",
    "    stride_ak,\n",
    "    stride_wk,\n",
    "    stride_wn,\n",
    "    # Meta-parameters\n",
    "    BLOCK_SIZE_K: tl.constexpr,\n",
    "    BLOCK_SIZE_N: tl.constexpr,\n",
    "):\n",
    "    \"\"\"\n",
    "    Kernel for computing the ternary multiplication\n",
    "        Z = AW\n",
    "    `A` has shape `(M, K)`, `W` has shape `(K, N)`, and `Z` has shape `(M, N)`.\n",
    "    \"\"\"\n",
    "\n",
    "    # ----------------------------------------------------------\n",
    "    # Create pointers for the first blocks of `A` and `W`.\n",
    "    # We will advance this pointer as we move in the `K` direction and accumulate.\n",
    "    # - `a_ptrs` is a block of `BLOCK_SIZE_K` pointers\n",
    "    # - `w_ptrs` is a block of pointers with shape `(BLOCK_SIZE_K, BLOCK_SIZE_N)`\n",
    "    pid_0 = tl.program_id(axis=0)\n",
    "    pid_1 = tl.program_id(axis=1)  # Controls the block of `K`\n",
    "\n",
    "    start_a = pid_0 * stride_am\n",
    "    \n",
    "    offs_k = tl.arange(0, BLOCK_SIZE_K)\n",
    "    offs_n = (pid_1 * BLOCK_SIZE_N + tl.arange(0, BLOCK_SIZE_N)) % N  # Guard against wrong offsets\n",
    "\n",
    "    a_ptrs = a_ptr + start_a + offs_k\n",
    "    w_ptrs = w_ptr + (offs_k[:, None] * stride_wk + offs_n[None, :] * stride_wn)\n",
    "\n",
    "    # -----------------------------------------------------------\n",
    "    # Iterate to compute a block of the `Z` vector.\n",
    "    # We accumulate into a block of `BLOCK_SIZE_N` elements of FP32 values for higher accuracy.\n",
    "    accumulator = tl.zeros((BLOCK_SIZE_N,), dtype=tl.float32)\n",
    "    for k in range(0, tl.cdiv(K, BLOCK_SIZE_K)):\n",
    "        # Load the next block of `A` and `W`, generate a mask by checking along `K`.\n",
    "        # If it is out of bounds, set it to 0\n",
    "        a = tl.load(a_ptrs, mask=offs_k < K - k * BLOCK_SIZE_K, other=0.0)[:, None]  # Force broadcast to correct shape\n",
    "        w = tl.load(w_ptrs, mask=offs_k[:, None] < K - k * BLOCK_SIZE_K, other=0.0)\n",
    "\n",
    "        # Since `W` is ternary, we only really care about the sign of the element in the array, and so\n",
    "        # we just need to perform two conditional checks\n",
    "        elements_to_sum = tl.where(w > 0, a, tl.where(w < 0, -a, tl.zeros_like(a)))\n",
    "        accumulator = accumulator + tl.sum(elements_to_sum, axis=0)  # Sum along the `K` direction\n",
    "\n",
    "        # Advance the ptrs to the next `K` block.\n",
    "        a_ptrs += BLOCK_SIZE_K * stride_ak\n",
    "        w_ptrs += BLOCK_SIZE_K * stride_wk\n",
    "\n",
    "    z = accumulator / scale  # TODO: Do we want to reduce precision back to FP16?\n",
    "\n",
    "    # -----------------------------------------------------------\n",
    "    # Write back the block of `Z` with masks.\n",
    "    start_z = pid_0 * N\n",
    "    offs_z = pid_1 * BLOCK_SIZE_N + tl.arange(0, BLOCK_SIZE_N)\n",
    "    z_ptrs = z_ptr + start_z + offs_z\n",
    "    z_mask = offs_z < N\n",
    "    tl.store(z_ptrs, z, mask=z_mask)"
   ]
  },
  {
   "cell_type": "code",
   "execution_count": 157,
   "metadata": {},
   "outputs": [],
   "source": [
    "def ternary_mul_2d2d(a, w, scale):\n",
    "    # Check constraints.\n",
    "    assert a.shape[1] == w.shape[0], \"Incompatible dimensions\"\n",
    "    assert a.is_contiguous(), \"Matrix A must be contiguous\"\n",
    "    M, K = a.shape\n",
    "    K, N = w.shape\n",
    "\n",
    "    # Allocates output.\n",
    "    z = torch.empty((M, N), device=a.device, dtype=torch.float32)\n",
    "\n",
    "    # 2D launch kernel where each block gets its own program.\n",
    "    grid = lambda META: (M, triton.cdiv(N, META[\"BLOCK_SIZE_N\"]))\n",
    "\n",
    "    # fmt: off\n",
    "    ternary_mul_2d2d_kernel[grid](\n",
    "        a, w, z,\n",
    "        scale,\n",
    "        K, M, N,\n",
    "        a.stride(0), a.stride(1),\n",
    "        w.stride(0), w.stride(1),\n",
    "    )\n",
    "    # fmt: on\n",
    "\n",
    "    return z"
   ]
  },
  {
   "cell_type": "markdown",
   "metadata": {
    "id": "QC4g_Sb8ggMk"
   },
   "source": [
    "Test the kernel."
   ]
  },
  {
   "cell_type": "code",
   "execution_count": 158,
   "metadata": {
    "id": "vX7hI8CV0mFX"
   },
   "outputs": [],
   "source": [
    "M = 2\n",
    "N = 2\n",
    "K = 4"
   ]
  },
  {
   "cell_type": "code",
   "execution_count": 159,
   "metadata": {
    "colab": {
     "base_uri": "https://localhost:8080/"
    },
    "id": "Q_QyszNe03Sr",
    "outputId": "fdf97a5a-9589-4856-e2c5-d2765fa244c6"
   },
   "outputs": [
    {
     "data": {
      "text/plain": [
       "<torch._C.Generator at 0x7ff4e975df50>"
      ]
     },
     "execution_count": 159,
     "metadata": {},
     "output_type": "execute_result"
    }
   ],
   "source": [
    "torch.manual_seed(8192)"
   ]
  },
  {
   "cell_type": "code",
   "execution_count": 160,
   "metadata": {
    "id": "YvvBIRqtgk1r"
   },
   "outputs": [],
   "source": [
    "a = torch.rand((M, K), device=\"cuda\", dtype=torch.float32)\n",
    "w = torch.tensor([-1., 0., 1.], device=\"cuda\", dtype=torch.float32)[torch.randint(2, (K, N))]\n",
    "scale = torch.rand(1, dtype=torch.float32).item()"
   ]
  },
  {
   "cell_type": "code",
   "execution_count": 161,
   "metadata": {
    "id": "dpUvXBwD05_E"
   },
   "outputs": [
    {
     "name": "stdout",
     "output_type": "stream",
     "text": [
      "tensor([[-2.0155, -0.9181],\n",
      "        [-0.6339, -0.3603]], device='cuda:0')\n"
     ]
    }
   ],
   "source": [
    "torch_output = torch.matmul(a, w) / scale\n",
    "print(torch_output)"
   ]
  },
  {
   "cell_type": "code",
   "execution_count": 162,
   "metadata": {
    "id": "FyLkFEHg1EPX"
   },
   "outputs": [
    {
     "name": "stdout",
     "output_type": "stream",
     "text": [
      "Triton autotuning for function ternary_mul_2d2d_kernel finished after 15.19s; best config selected: BLOCK_SIZE_K: 32, BLOCK_SIZE_N: 128, num_warps: 4, num_ctas: 1, num_stages: 4, maxnreg: None;\n",
      "tensor([[-2.0155, -0.9181],\n",
      "        [-0.6339, -0.3603]], device='cuda:0')\n"
     ]
    }
   ],
   "source": [
    "triton_output = ternary_mul_2d2d(a, w, scale)\n",
    "print(triton_output)"
   ]
  },
  {
   "cell_type": "code",
   "execution_count": 163,
   "metadata": {},
   "outputs": [
    {
     "name": "stdout",
     "output_type": "stream",
     "text": [
      "✅ Triton and Torch match\n"
     ]
    }
   ],
   "source": [
    "if torch.allclose(triton_output, torch_output, atol=1e-3):\n",
    "    print(\"✅ Triton and Torch match\")\n",
    "else:\n",
    "    raise ValueError(\"❌ Triton and Torch differ\")"
   ]
  },
  {
   "cell_type": "markdown",
   "metadata": {},
   "source": [
    "Benchmark"
   ]
  },
  {
   "cell_type": "code",
   "execution_count": 164,
   "metadata": {},
   "outputs": [
    {
     "name": "stdout",
     "output_type": "stream",
     "text": [
      "Trial when K = 8, M = 128, and N = 128, for cublas\n",
      "Trial when K = 8, M = 128, and N = 128, for triton\n",
      "Triton autotuning for function ternary_mul_2d2d_kernel finished after 4.72s; best config selected: BLOCK_SIZE_K: 32, BLOCK_SIZE_N: 64, num_warps: 2, num_ctas: 1, num_stages: 5, maxnreg: None;\n",
      "Trial when K = 8, M = 256, and N = 256, for cublas\n",
      "Trial when K = 8, M = 256, and N = 256, for triton\n",
      "Triton autotuning for function ternary_mul_2d2d_kernel finished after 0.99s; best config selected: BLOCK_SIZE_K: 32, BLOCK_SIZE_N: 64, num_warps: 2, num_ctas: 1, num_stages: 5, maxnreg: None;\n",
      "Trial when K = 8, M = 384, and N = 384, for cublas\n",
      "Trial when K = 8, M = 384, and N = 384, for triton\n",
      "Triton autotuning for function ternary_mul_2d2d_kernel finished after 1.06s; best config selected: BLOCK_SIZE_K: 32, BLOCK_SIZE_N: 64, num_warps: 2, num_ctas: 1, num_stages: 5, maxnreg: None;\n",
      "Trial when K = 8, M = 512, and N = 512, for cublas\n",
      "Trial when K = 8, M = 512, and N = 512, for triton\n",
      "Triton autotuning for function ternary_mul_2d2d_kernel finished after 1.09s; best config selected: BLOCK_SIZE_K: 32, BLOCK_SIZE_N: 64, num_warps: 2, num_ctas: 1, num_stages: 5, maxnreg: None;\n",
      "Trial when K = 8, M = 640, and N = 640, for cublas\n",
      "Trial when K = 8, M = 640, and N = 640, for triton\n",
      "Triton autotuning for function ternary_mul_2d2d_kernel finished after 1.19s; best config selected: BLOCK_SIZE_K: 32, BLOCK_SIZE_N: 64, num_warps: 2, num_ctas: 1, num_stages: 5, maxnreg: None;\n",
      "Trial when K = 8, M = 768, and N = 768, for cublas\n",
      "Trial when K = 8, M = 768, and N = 768, for triton\n",
      "Triton autotuning for function ternary_mul_2d2d_kernel finished after 1.26s; best config selected: BLOCK_SIZE_K: 32, BLOCK_SIZE_N: 64, num_warps: 2, num_ctas: 1, num_stages: 5, maxnreg: None;\n",
      "Trial when K = 8, M = 896, and N = 896, for cublas\n",
      "Trial when K = 8, M = 896, and N = 896, for triton\n",
      "Triton autotuning for function ternary_mul_2d2d_kernel finished after 1.42s; best config selected: BLOCK_SIZE_K: 32, BLOCK_SIZE_N: 64, num_warps: 2, num_ctas: 1, num_stages: 5, maxnreg: None;\n",
      "Trial when K = 8, M = 1024, and N = 1024, for cublas\n",
      "Trial when K = 8, M = 1024, and N = 1024, for triton\n",
      "Triton autotuning for function ternary_mul_2d2d_kernel finished after 1.51s; best config selected: BLOCK_SIZE_K: 32, BLOCK_SIZE_N: 64, num_warps: 2, num_ctas: 1, num_stages: 5, maxnreg: None;\n",
      "Trial when K = 8, M = 1152, and N = 1152, for cublas\n",
      "Trial when K = 8, M = 1152, and N = 1152, for triton\n",
      "Triton autotuning for function ternary_mul_2d2d_kernel finished after 1.73s; best config selected: BLOCK_SIZE_K: 32, BLOCK_SIZE_N: 64, num_warps: 2, num_ctas: 1, num_stages: 5, maxnreg: None;\n",
      "Trial when K = 8, M = 1280, and N = 1280, for cublas\n",
      "Trial when K = 8, M = 1280, and N = 1280, for triton\n",
      "Triton autotuning for function ternary_mul_2d2d_kernel finished after 1.85s; best config selected: BLOCK_SIZE_K: 32, BLOCK_SIZE_N: 64, num_warps: 2, num_ctas: 1, num_stages: 5, maxnreg: None;\n"
     ]
    },
    {
     "data": {
      "image/png": "[encoded data removed]",
      "text/plain": [
       "<Figure size 640x480 with 1 Axes>"
      ]
     },
     "metadata": {},
     "output_type": "display_data"
    },
    {
     "name": "stdout",
     "output_type": "stream",
     "text": [
      "ternary-mul-2d2d-performance:\n",
      "        M       N      cuBLAS     Triton\n",
      "0   128.0   128.0   25.362230  21.333333\n",
      "1   256.0   256.0   93.090908  26.266935\n",
      "2   384.0   384.0  115.200003  28.097561\n",
      "3   512.0   512.0   93.090908  28.845070\n",
      "4   640.0   640.0   91.428569  29.090909\n",
      "5   768.0   768.0   89.912200  29.350318\n",
      "6   896.0   896.0   90.898549  29.377050\n",
      "7  1024.0  1024.0   90.519339  29.467627\n",
      "8  1152.0  1152.0   91.348019  29.538462\n",
      "9  1280.0  1280.0   90.780144  29.663963\n"
     ]
    }
   ],
   "source": [
    "REF_LIB = \"cuBLAS\"\n",
    "K = 8\n",
    "\n",
    "configs = [\n",
    "    triton.testing.Benchmark(\n",
    "        x_names=[\"M\", \"N\"],  # Argument names to use as an x-axis for the plot\n",
    "        x_vals=[128 * i for i in range(1, 11)],  # Different possible values for `x_name`\n",
    "        line_arg=\"provider\",  # Argument name whose value corresponds to a different line in the plot\n",
    "        # Possible values for `line_arg`\n",
    "        line_vals=[REF_LIB.lower(), \"triton\"],  # Label name for the lines\n",
    "        line_names=[REF_LIB, \"Triton\"],  # Line styles\n",
    "        styles=[(\"green\", \"-\"), (\"blue\", \"-\")],\n",
    "        ylabel=\"GFLOPS\",  # Label name for the y-axis\n",
    "        plot_name=\"ternary-mul-2d2d-performance\",  # Name for the plot, used also as a file name for saving the plot.\n",
    "        args={},\n",
    "    )\n",
    "]\n",
    "\n",
    "@triton.testing.perf_report(configs)\n",
    "def benchmark(M, N, provider):\n",
    "    print(f\"Trial when K = {K}, M = {M}, and N = {N}, for {provider}\")\n",
    "    a = torch.rand((M, K), device=\"cuda\")\n",
    "    w = torch.tensor([-1.0, 0.0, 1.0], device=\"cuda\")[torch.randint(2, (K, N))]\n",
    "    scale = torch.rand(1, dtype=torch.float32).item()\n",
    "\n",
    "    quantiles = [0.5, 0.2, 0.8]\n",
    "    if provider == REF_LIB.lower():\n",
    "        ms, min_ms, max_ms = triton.testing.do_bench(lambda: torch.matmul(a, w) / scale, quantiles=quantiles)\n",
    "    if provider == \"triton\":\n",
    "        ms, min_ms, max_ms = triton.testing.do_bench(lambda: ternary_mul_2d2d(a, w, scale), quantiles=quantiles)\n",
    "    gflops = lambda ms: 2 * K * M * N * 1e-9 / (ms * 1e-3)\n",
    "    return gflops(ms), gflops(max_ms), gflops(min_ms)\n",
    "\n",
    "\n",
    "benchmark.run(show_plots=True, print_data=True)"
   ]
  },
  {
   "cell_type": "markdown",
   "metadata": {},
   "source": [
    "## 3D Ternary Multiplication Kernel"
   ]
  },
  {
   "cell_type": "markdown",
   "metadata": {},
   "source": [
    "The autotune config should be similar to the 2D case."
   ]
  },
  {
   "cell_type": "code",
   "execution_count": null,
   "metadata": {},
   "outputs": [],
   "source": [
    "# def get_autotune_config_3d():\n",
    "#     if is_cuda():\n",
    "#         return _get_autotune_config_2d()\n",
    "#     else:\n",
    "#         raise ValueError(\"Not on CUDA... can't use!\")"
   ]
  },
  {
   "cell_type": "markdown",
   "metadata": {},
   "source": [
    "The kernel's rough pseudocode algorithm is as follows.\n",
    "```python\n",
    "k = 0  # Output vector pointer\n",
    "\n",
    "# Do in parallel\n",
    "for i in range(0, num_elem_per_matrix, matrix_stride):\n",
    "    # Do in parallel\n",
    "    for j in range(0, num_elem_per_vector, vector_stride):\n",
    "        matrix_elements = w_flat[i : i+matrix_stride].reshape(matrix_shape)\n",
    "        vector_elements = x_flat[j : j+vector_stride]\n",
    "        product = _2d_ternary_multiplication(vector_elements, matrix_elements, scale)\n",
    "        output_flat[k : k+output_stride] = product\n",
    "        k += output_stride\n",
    "\n",
    "return output_flat.reshape(output_shape)\n",
    "```\n",
    "\n",
    "Note that `matrix_stride` and `vector_stride` may not be power-of-two values. Thus we will employ padding to ensure that achieve this, but using a mask to ensure that we don't get memory access errors."
   ]
  },
  {
   "cell_type": "code",
   "execution_count": null,
   "metadata": {},
   "outputs": [],
   "source": [
    "# # ruff: noqa: N803, PLR2044\n",
    "# @triton.autotune(\n",
    "#     configs=get_autotune_config_3d(),\n",
    "#     key=[\"M\", \"N\"],\n",
    "# )\n",
    "# @triton.jit\n",
    "# def ternary_mul_3d_kernel(\n",
    "#     # Pointers to arrays\n",
    "#     x_ptr,\n",
    "#     w_ptr,\n",
    "#     z_ptr,\n",
    "#     # Scaling factor\n",
    "#     scale,\n",
    "#     # `W` matrix dimensions\n",
    "#     K: tl.constexpr,\n",
    "#     M: tl.constexpr,\n",
    "#     N: tl.constexpr,\n",
    "#     # Strides\n",
    "#     stride_xk,\n",
    "#     stride_xm,\n",
    "#     stride_wk,\n",
    "#     stride_wm,\n",
    "#     stride_wn,\n",
    "#     # Meta-parameters\n",
    "#     BLOCK_SIZE_M: tl.constexpr,\n",
    "#     BLOCK_SIZE_N: tl.constexpr,\n",
    "# ):\n",
    "#     \"\"\"\n",
    "#     Kernel for computing the batched ternary multiplication\n",
    "#         z = xW\n",
    "#     `x` has shape `(K, M)`, `W` has shape `(K, M, N)`, and `z` has shape `(K, K, N)`.\n",
    "#     \"\"\"\n",
    "\n",
    "#     # -----------------------------------------------------------\n",
    "#     # Map `pid` to the correct `x` vector and `W` matrix blocks that we are computing\n",
    "#     pid_0 = tl.program_id(axis=0)\n",
    "#     pid_1 = tl.program_id(axis=1)\n",
    "\n",
    "#     pid_x = pid_1 % K\n",
    "#     pid_w = pid_1 // K\n",
    "\n",
    "#     # ----------------------------------------------------------\n",
    "#     # Create pointers for the `x` vector and `W` matrix\n",
    "#     offs_m = tl.arange(0, BLOCK_SIZE_M)\n",
    "#     offs_n = (pid_0 * BLOCK_SIZE_N + tl.arange(0, BLOCK_SIZE_N)) % N  # Guard against wrong offsets\n",
    "\n",
    "#     x_ptrs = x_ptr + pid_x * stride_xk + offs_m\n",
    "#     w_ptrs = w_ptr + pid_w * stride_wk + (offs_m[:, None] * stride_wm + offs_n[None, :] * stride_wn)\n",
    "\n",
    "#     # -----------------------------------------------------------\n",
    "#     # Iterate to compute a block of the `z` vector.\n",
    "#     # We accumulate into a block of `BLOCK_SIZE_N` elements of FP32 values for higher accuracy.\n",
    "#     accumulator = tl.zeros((BLOCK_SIZE_N,), dtype=tl.float32)\n",
    "\n",
    "#     for m in range(0, tl.cdiv(M, BLOCK_SIZE_M)):\n",
    "#         # Load the next block of `x` and `W`, generate a mask by checking along `M`.\n",
    "#         # If it is out of bounds, set it to 0.\n",
    "#         x = tl.load(x_ptrs, mask=offs_m < M - m * BLOCK_SIZE_M, other=0.0)[:, None]  # Force broadcast to correct shape\n",
    "#         w = tl.load(w_ptrs, mask=offs_m[:, None] < M - m * BLOCK_SIZE_M, other=0.0)\n",
    "\n",
    "#         # Since `w` is ternary, we only really care about the sign of the element in the array, and so  we just need to\n",
    "#         # perform two conditional checks\n",
    "#         elements_to_sum = tl.where(w > 0, x, tl.where(w < 0, -x, tl.zeros_like(x)))\n",
    "#         accumulator = accumulator + tl.sum(elements_to_sum, axis=0)  # Sum along the `M` direction\n",
    "\n",
    "#         # Advance the ptrs to the next `M` block.\n",
    "#         x_ptrs += BLOCK_SIZE_M * stride_xm\n",
    "#         w_ptrs += BLOCK_SIZE_M * stride_wm\n",
    "\n",
    "#     z = accumulator / scale  # TODO: Do we want to reduce precision back to FP16?\n",
    "\n",
    "#     # -----------------------------------------------------------\n",
    "#     # Write back the block of the output vector `z` with masks\n",
    "#     offs_z = pid_0 * BLOCK_SIZE_N + tl.arange(0, BLOCK_SIZE_N)\n",
    "#     z_ptrs = z_ptr + pid_1 * N + offs_z\n",
    "#     z_mask = offs_z < N\n",
    "#     tl.store(z_ptrs, z, mask=z_mask)"
   ]
  },
  {
   "cell_type": "markdown",
   "metadata": {},
   "source": [
    "Create a convenience wrapper function that handles the checks and kernel calling."
   ]
  },
  {
   "cell_type": "code",
   "execution_count": null,
   "metadata": {},
   "outputs": [],
   "source": [
    "# # ruff: noqa: E731, S101, N806\n",
    "# def ternary_mul_3d(x, w, scale):\n",
    "#     # Check constraints\n",
    "#     assert w.ndim == 3, \"Weight matrix does not have suitable dimensionality\"\n",
    "#     assert x.shape[-1] == w.shape[-2], \"Incompatible dimensions\"\n",
    "#     assert x.shape[0] == w.shape[0], \"Incompatible batch sizes\"\n",
    "#     assert x.is_contiguous(), \"x must be contiguous\"\n",
    "#     assert x.is_cuda and w.is_cuda\n",
    "\n",
    "#     # Get dimensions\n",
    "#     K, M, N = w.shape\n",
    "\n",
    "#     # Allocate output\n",
    "#     z = torch.zeros((K, K, N), device=x.device)\n",
    "\n",
    "#     # 2D launch kernel\n",
    "#     grid = lambda META: (triton.cdiv(N, META[\"BLOCK_SIZE_N\"]), K * K)\n",
    "\n",
    "#     # fmt: off\n",
    "#     ternary_mul_3d_kernel[grid](\n",
    "#         x, w, z,\n",
    "#         scale,\n",
    "#         K, M, N,\n",
    "#         x.stride(0), x.stride(1), w.stride(0), w.stride(1), w.stride(2)\n",
    "#     )\n",
    "#     # fmt: on\n",
    "\n",
    "#     return z"
   ]
  },
  {
   "cell_type": "code",
   "execution_count": null,
   "metadata": {},
   "outputs": [],
   "source": [
    "# X_SHAPE = (3, 5)     # x is the vector\n",
    "# W_SHAPE = (3, 5, 7)  # W is the quantized weights matrix"
   ]
  },
  {
   "cell_type": "code",
   "execution_count": null,
   "metadata": {},
   "outputs": [],
   "source": [
    "# torch.manual_seed(8192)"
   ]
  },
  {
   "cell_type": "code",
   "execution_count": null,
   "metadata": {
    "id": "YvvBIRqtgk1r"
   },
   "outputs": [],
   "source": [
    "# x = torch.rand(X_SHAPE, device=\"cuda\", dtype=torch.float32)\n",
    "# w = torch.tensor([-1., 0., 1.], device=\"cuda\", dtype=torch.float32)[torch.randint(2, W_SHAPE)]\n",
    "# scale = torch.rand(1, dtype=torch.float32).item()"
   ]
  },
  {
   "cell_type": "code",
   "execution_count": null,
   "metadata": {
    "id": "dpUvXBwD05_E"
   },
   "outputs": [],
   "source": [
    "# torch_output = torch.matmul(x, w) / scale\n",
    "# print(torch_output)"
   ]
  },
  {
   "cell_type": "code",
   "execution_count": null,
   "metadata": {
    "id": "FyLkFEHg1EPX"
   },
   "outputs": [],
   "source": [
    "# triton_output = ternary_mul_3d(x, w, scale)\n",
    "# print(triton_output)"
   ]
  },
  {
   "cell_type": "code",
   "execution_count": null,
   "metadata": {},
   "outputs": [],
   "source": [
    "# if torch.allclose(triton_output, torch_output, atol=1e-3):\n",
    "#     print(\"✅ Triton and Torch match\")\n",
    "# else:\n",
    "#     raise ValueError(\"❌ Triton and Torch differ\")"
   ]
  },
  {
   "cell_type": "markdown",
   "metadata": {},
   "source": [
    "Benchmark the Triton kernel against the standard Torch implementation of matmul."
   ]
  },
  {
   "cell_type": "code",
   "execution_count": null,
   "metadata": {},
   "outputs": [],
   "source": [
    "# ref_lib = \"cuBLAS\"\n",
    "# K = 4\n",
    "\n",
    "# configs = [\n",
    "#     triton.testing.Benchmark(\n",
    "#         x_names=[\"M\", \"N\"],  # Argument names to use as an x-axis for the plot\n",
    "#         x_vals=[128 * i for i in range(11, 16)],  # Different possible values for `x_name`\n",
    "#         line_arg=\"provider\",  # Argument name whose value corresponds to a different line in the plot\n",
    "#         # Possible values for `line_arg`\n",
    "#         line_vals=[ref_lib.lower(), \"triton\"],  # Label name for the lines\n",
    "#         line_names=[ref_lib, \"Triton\"],  # Line styles\n",
    "#         styles=[(\"green\", \"-\"), (\"blue\", \"-\")],\n",
    "#         ylabel=\"GFLOPS\",  # Label name for the y-axis\n",
    "#         plot_name=\"ternary-mul-3d-performance\",  # Name for the plot, used also as a file name for saving the plot.\n",
    "#         args={},\n",
    "#     )\n",
    "# ]\n",
    "\n",
    "# @triton.testing.perf_report(configs)\n",
    "# def benchmark(M, N, provider):\n",
    "#     print(f\"Trial when K = {K}, M = {M}, N = {N}, for {provider}\")\n",
    "#     x = torch.rand((K, M), device=\"cuda\")\n",
    "#     w = torch.tensor([-1.0, 0.0, 1.0], device=\"cuda\")[torch.randint(2, (K, M, N))]\n",
    "#     scale = torch.rand(1, dtype=torch.float32).item()\n",
    "\n",
    "#     quantiles = [0.5, 0.2, 0.8]\n",
    "#     if provider == ref_lib.lower():\n",
    "#         ms, min_ms, max_ms = triton.testing.do_bench(lambda: torch.matmul(x, w) / scale, quantiles=quantiles)\n",
    "#     if provider == \"triton\":\n",
    "#         ms, min_ms, max_ms = triton.testing.do_bench(lambda: ternary_mul_3d(x, w, scale), quantiles=quantiles)\n",
    "#     gflops = lambda ms: 2 * K * M * N * 1e-9 / (ms * 1e-3)\n",
    "#     return gflops(ms), gflops(max_ms), gflops(min_ms)\n",
    "\n",
    "\n",
    "# benchmark.run(show_plots=True, print_data=True)"
   ]
  },
  {
   "cell_type": "markdown",
   "metadata": {},
   "source": [
    "## Generalized Ternary Multiplication Kernel (DOES NOT WORK FOR 4D AND ABOVE)"
   ]
  },
  {
   "cell_type": "markdown",
   "metadata": {},
   "source": [
    "The autotune config should be similar to the 2D case."
   ]
  },
  {
   "cell_type": "code",
   "execution_count": null,
   "metadata": {},
   "outputs": [],
   "source": [
    "# def get_autotune_config():\n",
    "#     if is_cuda():\n",
    "#         return _get_autotune_config_2d()\n",
    "#     else:\n",
    "#         raise ValueError(\"Not on CUDA... can't use!\")"
   ]
  },
  {
   "cell_type": "markdown",
   "metadata": {},
   "source": [
    "The kernel's rough pseudocode algorithm is as follows.\n",
    "```python\n",
    "k = 0  # Output vector pointer\n",
    "\n",
    "# Do in parallel\n",
    "for i in range(0, num_elem_per_matrix, matrix_stride):\n",
    "    # Do in parallel\n",
    "    for j in range(0, num_elem_per_vector, vector_stride):\n",
    "        matrix_elements = w_flat[i : i+matrix_stride].reshape(matrix_shape)\n",
    "        vector_elements = x_flat[j : j+vector_stride]\n",
    "        product = _2d_ternary_multiplication(vector_elements, matrix_elements, scale)\n",
    "        output_flat[k : k+output_stride] = product\n",
    "        k += output_stride\n",
    "\n",
    "return output_flat.reshape(output_shape)\n",
    "```\n",
    "\n",
    "Note that `matrix_stride` and `vector_stride` may not be power-of-two values. Thus we will employ padding to ensure that achieve this, but using a mask to ensure that we don't get memory access errors."
   ]
  },
  {
   "cell_type": "code",
   "execution_count": null,
   "metadata": {},
   "outputs": [],
   "source": [
    "# # ruff: noqa: N803, PLR2044\n",
    "# @triton.autotune(\n",
    "#     configs=get_autotune_config(),\n",
    "#     key=[\"M\", \"N\"],\n",
    "# )\n",
    "# @triton.jit\n",
    "# def ternary_mul_kernel(\n",
    "#     # Pointers to arrays\n",
    "#     x_ptr,\n",
    "#     w_ptr,\n",
    "#     z_ptr,\n",
    "#     # Scaling factor\n",
    "#     scale,\n",
    "#     # # `W` matrix dimensions\n",
    "#     M: tl.constexpr,\n",
    "#     N: tl.constexpr,\n",
    "#     # Strides\n",
    "#     matrix_stride,\n",
    "#     vector_stride,\n",
    "#     stride_xm,\n",
    "#     stride_wm,\n",
    "#     stride_wn,\n",
    "#     # Counts of matrices and vectors\n",
    "#     num_stacked_matrices,\n",
    "#     num_stacked_vectors,\n",
    "#     # Meta-parameters\n",
    "#     BLOCK_SIZE_M: tl.constexpr,\n",
    "#     BLOCK_SIZE_N: tl.constexpr,\n",
    "# ):\n",
    "#     \"\"\"\n",
    "#     Kernel for computing the ternary multiplication\n",
    "#         z = xW\n",
    "#     `x` has shape `(..., M)`, `W` has shape `(..., M, N)`, and `z` has shape `(..., N)`.\n",
    "#     \"\"\"\n",
    "\n",
    "#     # -----------------------------------------------------------\n",
    "#     # Map `pid` to the correct `x` vector and `W` matrix blocks that we are computing\n",
    "#     pid_0 = tl.program_id(axis=0)\n",
    "#     pid_1 = tl.program_id(axis=1)\n",
    "    \n",
    "#     pid_vector = pid_1 % num_stacked_vectors\n",
    "#     pid_matrix = pid_1 // num_stacked_vectors\n",
    "    \n",
    "#     # ----------------------------------------------------------\n",
    "#     # Create pointers for the `x` vector and `W` matrix\n",
    "#     offs_m = tl.arange(0, BLOCK_SIZE_M)\n",
    "#     offs_n = (pid_0 * BLOCK_SIZE_N + tl.arange(0, BLOCK_SIZE_N)) % N  # Guard against wrong offsets\n",
    "\n",
    "#     offs_x = pid_vector * vector_stride + offs_m\n",
    "#     offs_w = pid_matrix * matrix_stride + (offs_m[:, None] * stride_wm + offs_n[None, :] * stride_wn)\n",
    "    \n",
    "#     x_ptrs = x_ptr + offs_x\n",
    "#     w_ptrs = w_ptr + offs_w\n",
    "    \n",
    "#     # -----------------------------------------------------------\n",
    "#     # Iterate to compute a block of the `z` vector.\n",
    "#     # We accumulate into a block of `BLOCK_SIZE_N` elements of FP32 values for higher accuracy.\n",
    "#     accumulator = tl.zeros((BLOCK_SIZE_N,), dtype=tl.float32)\n",
    "\n",
    "#     for m in range(0, tl.cdiv(M, BLOCK_SIZE_M)):\n",
    "#         # Load the next block of `x` and `W`, generate a mask by checking along `M`.\n",
    "#         # If it is out of bounds, set it to 0.\n",
    "#         x = tl.load(x_ptrs, mask=offs_m < M - m * BLOCK_SIZE_M, other=0.0)[:, None]  # Force broadcast to correct shape\n",
    "#         w = tl.load(w_ptrs, mask=offs_m[:, None] < M - m * BLOCK_SIZE_M, other=0.0)\n",
    "\n",
    "#         # Since `w` is ternary, we only really care about the sign of the element in the array, and so  we just need to\n",
    "#         # perform two conditional checks\n",
    "#         elements_to_sum = tl.where(w > 0, x, tl.where(w < 0, -x, tl.zeros_like(x)))\n",
    "#         accumulator = accumulator + tl.sum(elements_to_sum, axis=0)  # Sum along the `M` direction\n",
    "\n",
    "#         # Advance the ptrs to the next `M` block.\n",
    "#         x_ptrs += BLOCK_SIZE_M * stride_xm\n",
    "#         w_ptrs += BLOCK_SIZE_M * stride_wm\n",
    "\n",
    "#     z = accumulator / scale  # TODO: Do we want to reduce precision back to FP16?\n",
    "\n",
    "#     # -----------------------------------------------------------\n",
    "#     # Write back the block of the output vector `z` with masks\n",
    "#     offs_z = pid_0 * BLOCK_SIZE_N + tl.arange(0, BLOCK_SIZE_N)\n",
    "#     z_ptrs = z_ptr + pid_1 * N + offs_z\n",
    "#     z_mask = offs_z < N\n",
    "#     tl.store(z_ptrs, z, mask=z_mask)"
   ]
  },
  {
   "cell_type": "markdown",
   "metadata": {},
   "source": [
    "Create a convenience wrapper function that handles the checks and kernel calling."
   ]
  },
  {
   "cell_type": "code",
   "execution_count": null,
   "metadata": {},
   "outputs": [],
   "source": [
    "# # ruff: noqa: E731, S101, N806\n",
    "# def ternary_mul(x, w, scale):\n",
    "#     # Check constraints\n",
    "#     assert x.ndim == w.ndim - 1, \"Incompatible dimensionality\"\n",
    "#     assert x.shape[-1] == w.shape[-2], \"Incompatible dimensions\"\n",
    "#     assert x.is_contiguous(), \"x must be contiguous\"\n",
    "\n",
    "#     assert x.is_cuda and w.is_cuda\n",
    "\n",
    "#     # Otherwise, we need to treat what we have as a stack of matrices.\n",
    "#     # First we get the number of stacked matrices and vectors that we need to process\n",
    "#     w_shape = w.shape\n",
    "#     x_shape = x.shape\n",
    "\n",
    "#     num_stacked_matrices = 1\n",
    "#     num_stacked_vectors = 1\n",
    "#     for i in range(w.ndim - 2):  # The last 2 indices are the matrices\n",
    "#         num_stacked_matrices *= w_shape[i]\n",
    "#         num_stacked_vectors *= x_shape[i]\n",
    "\n",
    "#     # Identify the shape of the matrices and vectors that will actually be multiplied\n",
    "#     matrix_shape = (w_shape[-2], w_shape[-1])\n",
    "#     matrix_stride = w_shape[-2] * w_shape[-1]\n",
    "#     vector_stride = x_shape[-1]\n",
    "    \n",
    "#     # Get dimensions\n",
    "#     M, N = w_shape[-2], w_shape[-1]\n",
    "\n",
    "#     # Determine output size and shape\n",
    "#     if w.ndim == 2:\n",
    "#         output_shape = [w_shape[-1]]\n",
    "#         num_processes = 1  # No need for 2D launch grid\n",
    "#     else:\n",
    "#         output_shape = [*list(w_shape[:-2]), x_shape[-2], w_shape[-1]]\n",
    "#         num_processes = num_stacked_matrices * x_shape[-2]\n",
    "#     output = torch.zeros(output_shape, device=x.device)\n",
    "    \n",
    "#     # 2D launch kernel\n",
    "#     grid = lambda META: (triton.cdiv(N, META[\"BLOCK_SIZE_N\"]), num_processes)\n",
    "    \n",
    "#     # fmt: off\n",
    "#     ternary_mul_kernel[grid](\n",
    "#         x, w, output,\n",
    "#         scale,\n",
    "#         M, N,\n",
    "#         matrix_stride, vector_stride, x.stride(-1), w.stride(-2), w.stride(-1),\n",
    "#         num_stacked_matrices, num_stacked_vectors\n",
    "#     )\n",
    "#     # fmt: on\n",
    "\n",
    "#     return output"
   ]
  },
  {
   "cell_type": "markdown",
   "metadata": {
    "id": "QC4g_Sb8ggMk"
   },
   "source": [
    "Test the kernel."
   ]
  },
  {
   "cell_type": "code",
   "execution_count": null,
   "metadata": {
    "id": "vX7hI8CV0mFX"
   },
   "outputs": [],
   "source": [
    "# # X_SHAPE = (   3, 3, 1)  # x is the vector\n",
    "# # W_SHAPE = (3, 3, 1, 2)  # W is the quantized weights matrix\n",
    "# X_SHAPE = (3, 1)  # x is the vector\n",
    "# W_SHAPE = (3, 1, 2)  # W is the quantized weights matrix"
   ]
  },
  {
   "cell_type": "code",
   "execution_count": null,
   "metadata": {},
   "outputs": [],
   "source": [
    "# torch.manual_seed(8192)"
   ]
  },
  {
   "cell_type": "code",
   "execution_count": null,
   "metadata": {
    "id": "YvvBIRqtgk1r"
   },
   "outputs": [],
   "source": [
    "# x = torch.rand(X_SHAPE, device=\"cuda\", dtype=torch.float32)\n",
    "# w = torch.tensor([-1., 0., 1.], device=\"cuda\", dtype=torch.float32)[torch.randint(2, W_SHAPE)]\n",
    "# scale = torch.rand(1, dtype=torch.float32).item()"
   ]
  },
  {
   "cell_type": "code",
   "execution_count": null,
   "metadata": {
    "id": "dpUvXBwD05_E"
   },
   "outputs": [],
   "source": [
    "# torch_output = torch.matmul(x, w) / scale\n",
    "# print(torch_output)"
   ]
  },
  {
   "cell_type": "code",
   "execution_count": null,
   "metadata": {
    "id": "FyLkFEHg1EPX"
   },
   "outputs": [],
   "source": [
    "# triton_output = ternary_mul(x, w, scale)\n",
    "# print(triton_output)"
   ]
  },
  {
   "cell_type": "code",
   "execution_count": null,
   "metadata": {},
   "outputs": [],
   "source": [
    "# if torch.allclose(triton_output, torch_output, atol=1e-3):\n",
    "#     print(\"✅ Triton and Torch match\")\n",
    "# else:\n",
    "#     raise ValueError(\"❌ Triton and Torch differ\")"
   ]
  },
  {
   "cell_type": "code",
   "execution_count": null,
   "metadata": {},
   "outputs": [],
   "source": [
    "# ref_lib = \"cuBLAS\"\n",
    "# K = 8\n",
    "\n",
    "# configs = [\n",
    "#     triton.testing.Benchmark(\n",
    "#         x_names=[\"M\", \"N\"],  # Argument names to use as an x-axis for the plot\n",
    "#         x_vals=[128 * i for i in range(1, 11)],  # Different possible values for `x_name`\n",
    "#         line_arg=\"provider\",  # Argument name whose value corresponds to a different line in the plot\n",
    "#         # Possible values for `line_arg`\n",
    "#         line_vals=[ref_lib.lower(), \"triton\"],  # Label name for the lines\n",
    "#         line_names=[ref_lib, \"Triton\"],  # Line styles\n",
    "#         styles=[(\"green\", \"-\"), (\"blue\", \"-\")],\n",
    "#         ylabel=\"GFLOPS\",  # Label name for the y-axis\n",
    "#         plot_name=\"ternary-mul-general-performance\",  # Name for the plot, used also as a file name for saving the plot.\n",
    "#         args={},\n",
    "#     )\n",
    "# ]\n",
    "\n",
    "# @triton.testing.perf_report(configs)\n",
    "# def benchmark(M, N, provider):\n",
    "#     print(f\"Trial when K = {K}, M = {M}, N = {N}, for {provider}\")\n",
    "#     x = torch.rand((K, M), device=\"cuda\")\n",
    "#     w = torch.tensor([-1.0, 0.0, 1.0], device=\"cuda\")[torch.randint(2, (K, M, N))]\n",
    "#     scale = torch.rand(1, dtype=torch.float32).item()\n",
    "\n",
    "#     quantiles = [0.5, 0.2, 0.8]\n",
    "#     if provider == ref_lib.lower():\n",
    "#         ms, min_ms, max_ms = triton.testing.do_bench(lambda: torch.matmul(x, w) / scale, quantiles=quantiles)\n",
    "#     if provider == \"triton\":\n",
    "#         ms, min_ms, max_ms = triton.testing.do_bench(lambda: ternary_mul(x, w, scale), quantiles=quantiles)\n",
    "#     gflops = lambda ms: 2 * K * M * N * 1e-9 / (ms * 1e-3)\n",
    "#     return gflops(ms), gflops(max_ms), gflops(min_ms)\n",
    "\n",
    "\n",
    "# benchmark.run(show_plots=True, print_data=True)"
   ]
  }
 ],
 "metadata": {
  "accelerator": "GPU",
  "colab": {
   "gpuType": "T4",
   "provenance": []
  },
  "kernelspec": {
   "display_name": "Python 3 (ipykernel)",
   "language": "python",
   "name": "python3"
  },
  "language_info": {
   "codemirror_mode": {
    "name": "ipython",
    "version": 3
   },
   "file_extension": ".py",
   "mimetype": "text/x-python",
   "name": "python",
   "nbconvert_exporter": "python",
   "pygments_lexer": "ipython3",
   "version": "3.10.14"
  }
 },
 "nbformat": 4,
 "nbformat_minor": 4
}
