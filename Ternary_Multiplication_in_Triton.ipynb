{
  "cells": [
    {
      "cell_type": "markdown",
      "metadata": {
        "id": "PdrF5MIoMXX8"
      },
      "source": [
        "# Ternary Multiplication in Triton"
      ]
    },
    {
      "cell_type": "markdown",
      "metadata": {
        "id": "ZGNuCpfuMpAU"
      },
      "source": [
        "## Setup"
      ]
    },
    {
      "cell_type": "markdown",
      "metadata": {
        "id": "dB17GY8dNCqC"
      },
      "source": [
        "Only need to run the first time. Works with latest triton. Sorry, this takes a minute to install."
      ]
    },
    {
      "cell_type": "code",
      "execution_count": 1,
      "metadata": {
        "colab": {
          "base_uri": "https://localhost:8080/"
        },
        "id": "-Grk68onK-XR",
        "outputId": "f6bad19f-9f7d-47ab-df9f-779b75aa9d25"
      },
      "outputs": [
        {
          "name": "stdout",
          "output_type": "stream",
          "text": [
            "Collecting jaxtyping~=0.2.31\n",
            "  Downloading jaxtyping-0.2.31-py3-none-any.whl (41 kB)\n",
            "\u001b[?25l     \u001b[90m━━━━━━━━━━━━━━━━━━━━━━━━━━━━━━━━━━━━━━━━\u001b[0m \u001b[32m0.0/42.0 kB\u001b[0m \u001b[31m?\u001b[0m eta \u001b[36m-:--:--\u001b[0m\r\u001b[2K     \u001b[90m━━━━━━━━━━━━━━━━━━━━━━━━━━━━━━━━━━━━━━━━\u001b[0m \u001b[32m42.0/42.0 kB\u001b[0m \u001b[31m1.2 MB/s\u001b[0m eta \u001b[36m0:00:00\u001b[0m\n",
            "\u001b[?25hCollecting typeguard==2.13.3 (from jaxtyping~=0.2.31)\n",
            "  Downloading typeguard-2.13.3-py3-none-any.whl (17 kB)\n",
            "Installing collected packages: typeguard, jaxtyping\n",
            "Successfully installed jaxtyping-0.2.31 typeguard-2.13.3\n",
            "Collecting git+https://github.com/Deep-Learning-Profiling-Tools/triton-viz@v1\n",
            "  Cloning https://github.com/Deep-Learning-Profiling-Tools/triton-viz (to revision v1) to /tmp/pip-req-build-q8m3xwy1\n",
            "  Running command git clone --filter=blob:none --quiet https://github.com/Deep-Learning-Profiling-Tools/triton-viz /tmp/pip-req-build-q8m3xwy1\n",
            "  Running command git checkout -q 1772b6ead27a3218c9c2c9ad88bd4e94623fb74c\n",
            "  Resolved https://github.com/Deep-Learning-Profiling-Tools/triton-viz to commit 1772b6ead27a3218c9c2c9ad88bd4e94623fb74c\n",
            "  Installing build dependencies ... \u001b[?25l\u001b[?25hdone\n",
            "  Getting requirements to build wheel ... \u001b[?25l\u001b[?25hdone\n",
            "  Preparing metadata (pyproject.toml) ... \u001b[?25l\u001b[?25hdone\n",
            "Collecting chalk-diagrams@ git+https://github.com/chalk-diagrams/chalk.git (from triton-viz==0.1)\n",
            "  Cloning https://github.com/chalk-diagrams/chalk.git to /tmp/pip-install-t11byng_/chalk-diagrams_efa224fe7aaf4d27b424933ca50f1b19\n",
            "  Running command git clone --filter=blob:none --quiet https://github.com/chalk-diagrams/chalk.git /tmp/pip-install-t11byng_/chalk-diagrams_efa224fe7aaf4d27b424933ca50f1b19\n",
            "  Resolved https://github.com/chalk-diagrams/chalk.git to commit 6899b958f11e96d4a22ceaab81f31f6a7c87d019\n",
            "  Installing build dependencies ... \u001b[?25l\u001b[?25hdone\n",
            "  Getting requirements to build wheel ... \u001b[?25l\u001b[?25hdone\n",
            "  Preparing metadata (pyproject.toml) ... \u001b[?25l\u001b[?25hdone\n",
            "Requirement already satisfied: setuptools in /usr/local/lib/python3.10/dist-packages (from triton-viz==0.1) (67.7.2)\n",
            "Requirement already satisfied: triton in /usr/local/lib/python3.10/dist-packages (from triton-viz==0.1) (2.3.0)\n",
            "Collecting gradio (from triton-viz==0.1)\n",
            "  Downloading gradio-4.37.2-py3-none-any.whl (12.3 MB)\n",
            "\u001b[2K     \u001b[90m━━━━━━━━━━━━━━━━━━━━━━━━━━━━━━━━━━━━━━━━\u001b[0m \u001b[32m12.3/12.3 MB\u001b[0m \u001b[31m62.6 MB/s\u001b[0m eta \u001b[36m0:00:00\u001b[0m\n",
            "\u001b[?25hRequirement already satisfied: pyarrow in /usr/local/lib/python3.10/dist-packages (from triton-viz==0.1) (14.0.2)\n",
            "Collecting pre-commit (from triton-viz==0.1)\n",
            "  Downloading pre_commit-3.7.1-py2.py3-none-any.whl (204 kB)\n",
            "\u001b[2K     \u001b[90m━━━━━━━━━━━━━━━━━━━━━━━━━━━━━━━━━━━━━━━━\u001b[0m \u001b[32m204.3/204.3 kB\u001b[0m \u001b[31m25.0 MB/s\u001b[0m eta \u001b[36m0:00:00\u001b[0m\n",
            "\u001b[?25hRequirement already satisfied: pytest in /usr/local/lib/python3.10/dist-packages (from triton-viz==0.1) (7.4.4)\n",
            "Requirement already satisfied: toolz in /usr/local/lib/python3.10/dist-packages (from chalk-diagrams@ git+https://github.com/chalk-diagrams/chalk.git->triton-viz==0.1) (0.12.1)\n",
            "Requirement already satisfied: colour in /usr/local/lib/python3.10/dist-packages (from chalk-diagrams@ git+https://github.com/chalk-diagrams/chalk.git->triton-viz==0.1) (0.1.5)\n",
            "Collecting svgwrite (from chalk-diagrams@ git+https://github.com/chalk-diagrams/chalk.git->triton-viz==0.1)\n",
            "  Downloading svgwrite-1.4.3-py3-none-any.whl (67 kB)\n",
            "\u001b[2K     \u001b[90m━━━━━━━━━━━━━━━━━━━━━━━━━━━━━━━━━━━━━━━━\u001b[0m \u001b[32m67.1/67.1 kB\u001b[0m \u001b[31m8.8 MB/s\u001b[0m eta \u001b[36m0:00:00\u001b[0m\n",
            "\u001b[?25hRequirement already satisfied: Pillow in /usr/local/lib/python3.10/dist-packages (from chalk-diagrams@ git+https://github.com/chalk-diagrams/chalk.git->triton-viz==0.1) (9.4.0)\n",
            "Collecting loguru (from chalk-diagrams@ git+https://github.com/chalk-diagrams/chalk.git->triton-viz==0.1)\n",
            "  Downloading loguru-0.7.2-py3-none-any.whl (62 kB)\n",
            "\u001b[2K     \u001b[90m━━━━━━━━━━━━━━━━━━━━━━━━━━━━━━━━━━━━━━━━\u001b[0m \u001b[32m62.5/62.5 kB\u001b[0m \u001b[31m9.1 MB/s\u001b[0m eta \u001b[36m0:00:00\u001b[0m\n",
            "\u001b[?25hCollecting chalk-planar (from chalk-diagrams@ git+https://github.com/chalk-diagrams/chalk.git->triton-viz==0.1)\n",
            "  Downloading chalk_planar-0.4-py3-none-any.whl (62 kB)\n",
            "\u001b[2K     \u001b[90m━━━━━━━━━━━━━━━━━━━━━━━━━━━━━━━━━━━━━━━━\u001b[0m \u001b[32m62.6/62.6 kB\u001b[0m \u001b[31m9.7 MB/s\u001b[0m eta \u001b[36m0:00:00\u001b[0m\n",
            "\u001b[?25hRequirement already satisfied: typing-extensions in /usr/local/lib/python3.10/dist-packages (from chalk-diagrams@ git+https://github.com/chalk-diagrams/chalk.git->triton-viz==0.1) (4.12.2)\n",
            "Requirement already satisfied: importlib-metadata in /usr/local/lib/python3.10/dist-packages (from chalk-diagrams@ git+https://github.com/chalk-diagrams/chalk.git->triton-viz==0.1) (8.0.0)\n",
            "Collecting aiofiles<24.0,>=22.0 (from gradio->triton-viz==0.1)\n",
            "  Downloading aiofiles-23.2.1-py3-none-any.whl (15 kB)\n",
            "Requirement already satisfied: altair<6.0,>=4.2.0 in /usr/local/lib/python3.10/dist-packages (from gradio->triton-viz==0.1) (4.2.2)\n",
            "Collecting fastapi (from gradio->triton-viz==0.1)\n",
            "  Downloading fastapi-0.111.0-py3-none-any.whl (91 kB)\n",
            "\u001b[2K     \u001b[90m━━━━━━━━━━━━━━━━━━━━━━━━━━━━━━━━━━━━━━━━\u001b[0m \u001b[32m92.0/92.0 kB\u001b[0m \u001b[31m11.9 MB/s\u001b[0m eta \u001b[36m0:00:00\u001b[0m\n",
            "\u001b[?25hCollecting ffmpy (from gradio->triton-viz==0.1)\n",
            "  Downloading ffmpy-0.3.2.tar.gz (5.5 kB)\n",
            "  Preparing metadata (setup.py) ... \u001b[?25l\u001b[?25hdone\n",
            "Collecting gradio-client==1.0.2 (from gradio->triton-viz==0.1)\n",
            "  Downloading gradio_client-1.0.2-py3-none-any.whl (318 kB)\n",
            "\u001b[2K     \u001b[90m━━━━━━━━━━━━━━━━━━━━━━━━━━━━━━━━━━━━━━━━\u001b[0m \u001b[32m318.2/318.2 kB\u001b[0m \u001b[31m38.8 MB/s\u001b[0m eta \u001b[36m0:00:00\u001b[0m\n",
            "\u001b[?25hCollecting httpx>=0.24.1 (from gradio->triton-viz==0.1)\n",
            "  Downloading httpx-0.27.0-py3-none-any.whl (75 kB)\n",
            "\u001b[2K     \u001b[90m━━━━━━━━━━━━━━━━━━━━━━━━━━━━━━━━━━━━━━━━\u001b[0m \u001b[32m75.6/75.6 kB\u001b[0m \u001b[31m11.7 MB/s\u001b[0m eta \u001b[36m0:00:00\u001b[0m\n",
            "\u001b[?25hRequirement already satisfied: huggingface-hub>=0.19.3 in /usr/local/lib/python3.10/dist-packages (from gradio->triton-viz==0.1) (0.23.4)\n",
            "Requirement already satisfied: importlib-resources<7.0,>=1.3 in /usr/local/lib/python3.10/dist-packages (from gradio->triton-viz==0.1) (6.4.0)\n",
            "Requirement already satisfied: jinja2<4.0 in /usr/local/lib/python3.10/dist-packages (from gradio->triton-viz==0.1) (3.1.4)\n",
            "Requirement already satisfied: markupsafe~=2.0 in /usr/local/lib/python3.10/dist-packages (from gradio->triton-viz==0.1) (2.1.5)\n",
            "Requirement already satisfied: matplotlib~=3.0 in /usr/local/lib/python3.10/dist-packages (from gradio->triton-viz==0.1) (3.7.1)\n",
            "Requirement already satisfied: numpy<3.0,>=1.0 in /usr/local/lib/python3.10/dist-packages (from gradio->triton-viz==0.1) (1.25.2)\n",
            "Collecting orjson~=3.0 (from gradio->triton-viz==0.1)\n",
            "  Downloading orjson-3.10.6-cp310-cp310-manylinux_2_17_x86_64.manylinux2014_x86_64.whl (141 kB)\n",
            "\u001b[2K     \u001b[90m━━━━━━━━━━━━━━━━━━━━━━━━━━━━━━━━━━━━━━━━\u001b[0m \u001b[32m141.1/141.1 kB\u001b[0m \u001b[31m23.0 MB/s\u001b[0m eta \u001b[36m0:00:00\u001b[0m\n",
            "\u001b[?25hRequirement already satisfied: packaging in /usr/local/lib/python3.10/dist-packages (from gradio->triton-viz==0.1) (24.1)\n",
            "Requirement already satisfied: pandas<3.0,>=1.0 in /usr/local/lib/python3.10/dist-packages (from gradio->triton-viz==0.1) (2.0.3)\n",
            "Requirement already satisfied: pydantic>=2.0 in /usr/local/lib/python3.10/dist-packages (from gradio->triton-viz==0.1) (2.8.0)\n",
            "Collecting pydub (from gradio->triton-viz==0.1)\n",
            "  Downloading pydub-0.25.1-py2.py3-none-any.whl (32 kB)\n",
            "Collecting python-multipart>=0.0.9 (from gradio->triton-viz==0.1)\n",
            "  Downloading python_multipart-0.0.9-py3-none-any.whl (22 kB)\n",
            "Requirement already satisfied: pyyaml<7.0,>=5.0 in /usr/local/lib/python3.10/dist-packages (from gradio->triton-viz==0.1) (6.0.1)\n",
            "Collecting ruff>=0.2.2 (from gradio->triton-viz==0.1)\n",
            "  Downloading ruff-0.5.1-py3-none-manylinux_2_17_x86_64.manylinux2014_x86_64.whl (10.1 MB)\n",
            "\u001b[2K     \u001b[90m━━━━━━━━━━━━━━━━━━━━━━━━━━━━━━━━━━━━━━━━\u001b[0m \u001b[32m10.1/10.1 MB\u001b[0m \u001b[31m103.9 MB/s\u001b[0m eta \u001b[36m0:00:00\u001b[0m\n",
            "\u001b[?25hCollecting semantic-version~=2.0 (from gradio->triton-viz==0.1)\n",
            "  Downloading semantic_version-2.10.0-py2.py3-none-any.whl (15 kB)\n",
            "Collecting tomlkit==0.12.0 (from gradio->triton-viz==0.1)\n",
            "  Downloading tomlkit-0.12.0-py3-none-any.whl (37 kB)\n",
            "Requirement already satisfied: typer<1.0,>=0.12 in /usr/local/lib/python3.10/dist-packages (from gradio->triton-viz==0.1) (0.12.3)\n",
            "Requirement already satisfied: urllib3~=2.0 in /usr/local/lib/python3.10/dist-packages (from gradio->triton-viz==0.1) (2.0.7)\n",
            "Collecting uvicorn>=0.14.0 (from gradio->triton-viz==0.1)\n",
            "  Downloading uvicorn-0.30.1-py3-none-any.whl (62 kB)\n",
            "\u001b[2K     \u001b[90m━━━━━━━━━━━━━━━━━━━━━━━━━━━━━━━━━━━━━━━━\u001b[0m \u001b[32m62.4/62.4 kB\u001b[0m \u001b[31m9.1 MB/s\u001b[0m eta \u001b[36m0:00:00\u001b[0m\n",
            "\u001b[?25hRequirement already satisfied: fsspec in /usr/local/lib/python3.10/dist-packages (from gradio-client==1.0.2->gradio->triton-viz==0.1) (2023.6.0)\n",
            "Collecting websockets<12.0,>=10.0 (from gradio-client==1.0.2->gradio->triton-viz==0.1)\n",
            "  Downloading websockets-11.0.3-cp310-cp310-manylinux_2_5_x86_64.manylinux1_x86_64.manylinux_2_17_x86_64.manylinux2014_x86_64.whl (129 kB)\n",
            "\u001b[2K     \u001b[90m━━━━━━━━━━━━━━━━━━━━━━━━━━━━━━━━━━━━━━━━\u001b[0m \u001b[32m129.9/129.9 kB\u001b[0m \u001b[31m19.9 MB/s\u001b[0m eta \u001b[36m0:00:00\u001b[0m\n",
            "\u001b[?25hCollecting cfgv>=2.0.0 (from pre-commit->triton-viz==0.1)\n",
            "  Downloading cfgv-3.4.0-py2.py3-none-any.whl (7.2 kB)\n",
            "Collecting identify>=1.0.0 (from pre-commit->triton-viz==0.1)\n",
            "  Downloading identify-2.6.0-py2.py3-none-any.whl (98 kB)\n",
            "\u001b[2K     \u001b[90m━━━━━━━━━━━━━━━━━━━━━━━━━━━━━━━━━━━━━━━━\u001b[0m \u001b[32m99.0/99.0 kB\u001b[0m \u001b[31m15.4 MB/s\u001b[0m eta \u001b[36m0:00:00\u001b[0m\n",
            "\u001b[?25hCollecting nodeenv>=0.11.1 (from pre-commit->triton-viz==0.1)\n",
            "  Downloading nodeenv-1.9.1-py2.py3-none-any.whl (22 kB)\n",
            "Collecting virtualenv>=20.10.0 (from pre-commit->triton-viz==0.1)\n",
            "  Downloading virtualenv-20.26.3-py3-none-any.whl (5.7 MB)\n",
            "\u001b[2K     \u001b[90m━━━━━━━━━━━━━━━━━━━━━━━━━━━━━━━━━━━━━━━━\u001b[0m \u001b[32m5.7/5.7 MB\u001b[0m \u001b[31m108.0 MB/s\u001b[0m eta \u001b[36m0:00:00\u001b[0m\n",
            "\u001b[?25hRequirement already satisfied: iniconfig in /usr/local/lib/python3.10/dist-packages (from pytest->triton-viz==0.1) (2.0.0)\n",
            "Requirement already satisfied: pluggy<2.0,>=0.12 in /usr/local/lib/python3.10/dist-packages (from pytest->triton-viz==0.1) (1.5.0)\n",
            "Requirement already satisfied: exceptiongroup>=1.0.0rc8 in /usr/local/lib/python3.10/dist-packages (from pytest->triton-viz==0.1) (1.2.1)\n",
            "Requirement already satisfied: tomli>=1.0.0 in /usr/local/lib/python3.10/dist-packages (from pytest->triton-viz==0.1) (2.0.1)\n",
            "Requirement already satisfied: filelock in /usr/local/lib/python3.10/dist-packages (from triton->triton-viz==0.1) (3.15.4)\n",
            "Requirement already satisfied: entrypoints in /usr/local/lib/python3.10/dist-packages (from altair<6.0,>=4.2.0->gradio->triton-viz==0.1) (0.4)\n",
            "Requirement already satisfied: jsonschema>=3.0 in /usr/local/lib/python3.10/dist-packages (from altair<6.0,>=4.2.0->gradio->triton-viz==0.1) (4.19.2)\n",
            "Requirement already satisfied: anyio in /usr/local/lib/python3.10/dist-packages (from httpx>=0.24.1->gradio->triton-viz==0.1) (3.7.1)\n",
            "Requirement already satisfied: certifi in /usr/local/lib/python3.10/dist-packages (from httpx>=0.24.1->gradio->triton-viz==0.1) (2024.6.2)\n",
            "Collecting httpcore==1.* (from httpx>=0.24.1->gradio->triton-viz==0.1)\n",
            "  Downloading httpcore-1.0.5-py3-none-any.whl (77 kB)\n",
            "\u001b[2K     \u001b[90m━━━━━━━━━━━━━━━━━━━━━━━━━━━━━━━━━━━━━━━━\u001b[0m \u001b[32m77.9/77.9 kB\u001b[0m \u001b[31m13.7 MB/s\u001b[0m eta \u001b[36m0:00:00\u001b[0m\n",
            "\u001b[?25hRequirement already satisfied: idna in /usr/local/lib/python3.10/dist-packages (from httpx>=0.24.1->gradio->triton-viz==0.1) (3.7)\n",
            "Requirement already satisfied: sniffio in /usr/local/lib/python3.10/dist-packages (from httpx>=0.24.1->gradio->triton-viz==0.1) (1.3.1)\n",
            "Collecting h11<0.15,>=0.13 (from httpcore==1.*->httpx>=0.24.1->gradio->triton-viz==0.1)\n",
            "  Downloading h11-0.14.0-py3-none-any.whl (58 kB)\n",
            "\u001b[2K     \u001b[90m━━━━━━━━━━━━━━━━━━━━━━━━━━━━━━━━━━━━━━━━\u001b[0m \u001b[32m58.3/58.3 kB\u001b[0m \u001b[31m9.8 MB/s\u001b[0m eta \u001b[36m0:00:00\u001b[0m\n",
            "\u001b[?25hRequirement already satisfied: requests in /usr/local/lib/python3.10/dist-packages (from huggingface-hub>=0.19.3->gradio->triton-viz==0.1) (2.31.0)\n",
            "Requirement already satisfied: tqdm>=4.42.1 in /usr/local/lib/python3.10/dist-packages (from huggingface-hub>=0.19.3->gradio->triton-viz==0.1) (4.66.4)\n",
            "Requirement already satisfied: contourpy>=1.0.1 in /usr/local/lib/python3.10/dist-packages (from matplotlib~=3.0->gradio->triton-viz==0.1) (1.2.1)\n",
            "Requirement already satisfied: cycler>=0.10 in /usr/local/lib/python3.10/dist-packages (from matplotlib~=3.0->gradio->triton-viz==0.1) (0.12.1)\n",
            "Requirement already satisfied: fonttools>=4.22.0 in /usr/local/lib/python3.10/dist-packages (from matplotlib~=3.0->gradio->triton-viz==0.1) (4.53.0)\n",
            "Requirement already satisfied: kiwisolver>=1.0.1 in /usr/local/lib/python3.10/dist-packages (from matplotlib~=3.0->gradio->triton-viz==0.1) (1.4.5)\n",
            "Requirement already satisfied: pyparsing>=2.3.1 in /usr/local/lib/python3.10/dist-packages (from matplotlib~=3.0->gradio->triton-viz==0.1) (3.1.2)\n",
            "Requirement already satisfied: python-dateutil>=2.7 in /usr/local/lib/python3.10/dist-packages (from matplotlib~=3.0->gradio->triton-viz==0.1) (2.8.2)\n",
            "Requirement already satisfied: pytz>=2020.1 in /usr/local/lib/python3.10/dist-packages (from pandas<3.0,>=1.0->gradio->triton-viz==0.1) (2023.4)\n",
            "Requirement already satisfied: tzdata>=2022.1 in /usr/local/lib/python3.10/dist-packages (from pandas<3.0,>=1.0->gradio->triton-viz==0.1) (2024.1)\n",
            "Requirement already satisfied: annotated-types>=0.4.0 in /usr/local/lib/python3.10/dist-packages (from pydantic>=2.0->gradio->triton-viz==0.1) (0.7.0)\n",
            "Requirement already satisfied: pydantic-core==2.20.0 in /usr/local/lib/python3.10/dist-packages (from pydantic>=2.0->gradio->triton-viz==0.1) (2.20.0)\n",
            "Requirement already satisfied: click>=8.0.0 in /usr/local/lib/python3.10/dist-packages (from typer<1.0,>=0.12->gradio->triton-viz==0.1) (8.1.7)\n",
            "Requirement already satisfied: shellingham>=1.3.0 in /usr/local/lib/python3.10/dist-packages (from typer<1.0,>=0.12->gradio->triton-viz==0.1) (1.5.4)\n",
            "Requirement already satisfied: rich>=10.11.0 in /usr/local/lib/python3.10/dist-packages (from typer<1.0,>=0.12->gradio->triton-viz==0.1) (13.7.1)\n",
            "Collecting distlib<1,>=0.3.7 (from virtualenv>=20.10.0->pre-commit->triton-viz==0.1)\n",
            "  Downloading distlib-0.3.8-py2.py3-none-any.whl (468 kB)\n",
            "\u001b[2K     \u001b[90m━━━━━━━━━━━━━━━━━━━━━━━━━━━━━━━━━━━━━━━━\u001b[0m \u001b[32m468.9/468.9 kB\u001b[0m \u001b[31m54.4 MB/s\u001b[0m eta \u001b[36m0:00:00\u001b[0m\n",
            "\u001b[?25hRequirement already satisfied: platformdirs<5,>=3.9.1 in /usr/local/lib/python3.10/dist-packages (from virtualenv>=20.10.0->pre-commit->triton-viz==0.1) (4.2.2)\n",
            "Collecting starlette<0.38.0,>=0.37.2 (from fastapi->gradio->triton-viz==0.1)\n",
            "  Downloading starlette-0.37.2-py3-none-any.whl (71 kB)\n",
            "\u001b[2K     \u001b[90m━━━━━━━━━━━━━━━━━━━━━━━━━━━━━━━━━━━━━━━━\u001b[0m \u001b[32m71.9/71.9 kB\u001b[0m \u001b[31m13.6 MB/s\u001b[0m eta \u001b[36m0:00:00\u001b[0m\n",
            "\u001b[?25hCollecting fastapi-cli>=0.0.2 (from fastapi->gradio->triton-viz==0.1)\n",
            "  Downloading fastapi_cli-0.0.4-py3-none-any.whl (9.5 kB)\n",
            "Collecting ujson!=4.0.2,!=4.1.0,!=4.2.0,!=4.3.0,!=5.0.0,!=5.1.0,>=4.0.1 (from fastapi->gradio->triton-viz==0.1)\n",
            "  Downloading ujson-5.10.0-cp310-cp310-manylinux_2_17_x86_64.manylinux2014_x86_64.whl (53 kB)\n",
            "\u001b[2K     \u001b[90m━━━━━━━━━━━━━━━━━━━━━━━━━━━━━━━━━━━━━━━━\u001b[0m \u001b[32m53.6/53.6 kB\u001b[0m \u001b[31m8.5 MB/s\u001b[0m eta \u001b[36m0:00:00\u001b[0m\n",
            "\u001b[?25hCollecting email_validator>=2.0.0 (from fastapi->gradio->triton-viz==0.1)\n",
            "  Downloading email_validator-2.2.0-py3-none-any.whl (33 kB)\n",
            "Requirement already satisfied: zipp>=0.5 in /usr/local/lib/python3.10/dist-packages (from importlib-metadata->chalk-diagrams@ git+https://github.com/chalk-diagrams/chalk.git->triton-viz==0.1) (3.19.2)\n",
            "Collecting dnspython>=2.0.0 (from email_validator>=2.0.0->fastapi->gradio->triton-viz==0.1)\n",
            "  Downloading dnspython-2.6.1-py3-none-any.whl (307 kB)\n",
            "\u001b[2K     \u001b[90m━━━━━━━━━━━━━━━━━━━━━━━━━━━━━━━━━━━━━━━━\u001b[0m \u001b[32m307.7/307.7 kB\u001b[0m \u001b[31m40.9 MB/s\u001b[0m eta \u001b[36m0:00:00\u001b[0m\n",
            "\u001b[?25hRequirement already satisfied: attrs>=22.2.0 in /usr/local/lib/python3.10/dist-packages (from jsonschema>=3.0->altair<6.0,>=4.2.0->gradio->triton-viz==0.1) (23.2.0)\n",
            "Requirement already satisfied: jsonschema-specifications>=2023.03.6 in /usr/local/lib/python3.10/dist-packages (from jsonschema>=3.0->altair<6.0,>=4.2.0->gradio->triton-viz==0.1) (2023.12.1)\n",
            "Requirement already satisfied: referencing>=0.28.4 in /usr/local/lib/python3.10/dist-packages (from jsonschema>=3.0->altair<6.0,>=4.2.0->gradio->triton-viz==0.1) (0.35.1)\n",
            "Requirement already satisfied: rpds-py>=0.7.1 in /usr/local/lib/python3.10/dist-packages (from jsonschema>=3.0->altair<6.0,>=4.2.0->gradio->triton-viz==0.1) (0.18.1)\n",
            "Requirement already satisfied: six>=1.5 in /usr/local/lib/python3.10/dist-packages (from python-dateutil>=2.7->matplotlib~=3.0->gradio->triton-viz==0.1) (1.16.0)\n",
            "Requirement already satisfied: markdown-it-py>=2.2.0 in /usr/local/lib/python3.10/dist-packages (from rich>=10.11.0->typer<1.0,>=0.12->gradio->triton-viz==0.1) (3.0.0)\n",
            "Requirement already satisfied: pygments<3.0.0,>=2.13.0 in /usr/local/lib/python3.10/dist-packages (from rich>=10.11.0->typer<1.0,>=0.12->gradio->triton-viz==0.1) (2.16.1)\n",
            "Collecting httptools>=0.5.0 (from uvicorn>=0.14.0->gradio->triton-viz==0.1)\n",
            "  Downloading httptools-0.6.1-cp310-cp310-manylinux_2_5_x86_64.manylinux1_x86_64.manylinux_2_17_x86_64.manylinux2014_x86_64.whl (341 kB)\n",
            "\u001b[2K     \u001b[90m━━━━━━━━━━━━━━━━━━━━━━━━━━━━━━━━━━━━━━━━\u001b[0m \u001b[32m341.4/341.4 kB\u001b[0m \u001b[31m41.4 MB/s\u001b[0m eta \u001b[36m0:00:00\u001b[0m\n",
            "\u001b[?25hCollecting python-dotenv>=0.13 (from uvicorn>=0.14.0->gradio->triton-viz==0.1)\n",
            "  Downloading python_dotenv-1.0.1-py3-none-any.whl (19 kB)\n",
            "Collecting uvloop!=0.15.0,!=0.15.1,>=0.14.0 (from uvicorn>=0.14.0->gradio->triton-viz==0.1)\n",
            "  Downloading uvloop-0.19.0-cp310-cp310-manylinux_2_17_x86_64.manylinux2014_x86_64.whl (3.4 MB)\n",
            "\u001b[2K     \u001b[90m━━━━━━━━━━━━━━━━━━━━━━━━━━━━━━━━━━━━━━━━\u001b[0m \u001b[32m3.4/3.4 MB\u001b[0m \u001b[31m93.9 MB/s\u001b[0m eta \u001b[36m0:00:00\u001b[0m\n",
            "\u001b[?25hCollecting watchfiles>=0.13 (from uvicorn>=0.14.0->gradio->triton-viz==0.1)\n",
            "  Downloading watchfiles-0.22.0-cp310-cp310-manylinux_2_17_x86_64.manylinux2014_x86_64.whl (1.2 MB)\n",
            "\u001b[2K     \u001b[90m━━━━━━━━━━━━━━━━━━━━━━━━━━━━━━━━━━━━━━━━\u001b[0m \u001b[32m1.2/1.2 MB\u001b[0m \u001b[31m56.9 MB/s\u001b[0m eta \u001b[36m0:00:00\u001b[0m\n",
            "\u001b[?25hRequirement already satisfied: charset-normalizer<4,>=2 in /usr/local/lib/python3.10/dist-packages (from requests->huggingface-hub>=0.19.3->gradio->triton-viz==0.1) (3.3.2)\n",
            "Requirement already satisfied: mdurl~=0.1 in /usr/local/lib/python3.10/dist-packages (from markdown-it-py>=2.2.0->rich>=10.11.0->typer<1.0,>=0.12->gradio->triton-viz==0.1) (0.1.2)\n",
            "Building wheels for collected packages: triton-viz, chalk-diagrams, ffmpy\n",
            "  Building wheel for triton-viz (pyproject.toml) ... \u001b[?25l\u001b[?25hdone\n",
            "  Created wheel for triton-viz: filename=triton_viz-0.1-py3-none-any.whl size=13014 sha256=63d50b53eaf11e759da47b1d0435bf6f22b7b999bc3f652f4f2cb3bbc11ffed1\n",
            "  Stored in directory: /tmp/pip-ephem-wheel-cache-645x5_fs/wheels/a7/4c/94/df856c880a6fbb6211a73d5136671a1ef1e930dd42ea322d40\n",
            "  Building wheel for chalk-diagrams (pyproject.toml) ... \u001b[?25l\u001b[?25hdone\n",
            "  Created wheel for chalk-diagrams: filename=chalk_diagrams-0.2.2-py3-none-any.whl size=44547 sha256=8f55e8b3767f3766c0fc0658b307039eea282e3737d58325f83a38246518fe71\n",
            "  Stored in directory: /tmp/pip-ephem-wheel-cache-645x5_fs/wheels/59/8c/37/332934a8d71f4582e0117b92052a11b891ebceae11ca3f29db\n",
            "  Building wheel for ffmpy (setup.py) ... \u001b[?25l\u001b[?25hdone\n",
            "  Created wheel for ffmpy: filename=ffmpy-0.3.2-py3-none-any.whl size=5584 sha256=6d37e7433c69bf72feed0347e9c3ae02b4134d79451cc2f95204d260c239109d\n",
            "  Stored in directory: /root/.cache/pip/wheels/bd/65/9a/671fc6dcde07d4418df0c592f8df512b26d7a0029c2a23dd81\n",
            "Successfully built triton-viz chalk-diagrams ffmpy\n",
            "Installing collected packages: pydub, ffmpy, distlib, chalk-planar, websockets, virtualenv, uvloop, ujson, tomlkit, svgwrite, semantic-version, ruff, python-multipart, python-dotenv, orjson, nodeenv, loguru, identify, httptools, h11, dnspython, cfgv, aiofiles, watchfiles, uvicorn, starlette, pre-commit, httpcore, email_validator, chalk-diagrams, httpx, gradio-client, fastapi-cli, fastapi, gradio, triton-viz\n",
            "Successfully installed aiofiles-23.2.1 cfgv-3.4.0 chalk-diagrams-0.2.2 chalk-planar-0.4 distlib-0.3.8 dnspython-2.6.1 email_validator-2.2.0 fastapi-0.111.0 fastapi-cli-0.0.4 ffmpy-0.3.2 gradio-4.37.2 gradio-client-1.0.2 h11-0.14.0 httpcore-1.0.5 httptools-0.6.1 httpx-0.27.0 identify-2.6.0 loguru-0.7.2 nodeenv-1.9.1 orjson-3.10.6 pre-commit-3.7.1 pydub-0.25.1 python-dotenv-1.0.1 python-multipart-0.0.9 ruff-0.5.1 semantic-version-2.10.0 starlette-0.37.2 svgwrite-1.4.3 tomlkit-0.12.0 triton-viz-0.1 ujson-5.10.0 uvicorn-0.30.1 uvloop-0.19.0 virtualenv-20.26.3 watchfiles-0.22.0 websockets-11.0.3\n",
            "Looking in indexes: https://pypi.org/simple, https://aiinfra.pkgs.visualstudio.com/PublicPackages/_packaging/Triton-Nightly/pypi/simple/\n",
            "Collecting triton-nightly==3.0.0.post20240626041721\n",
            "  Downloading https://aiinfra.pkgs.visualstudio.com/2692857e-05ef-43b4-ba9c-ccf1c22c437c/_packaging/07c94329-d4c3-4ad4-9e6b-f904a60032ec/pypi/download/triton-nightly/3.post20240626041721/triton_nightly-3.0.0.post20240626041721-cp310-cp310-manylinux_2_27_x86_64.manylinux_2_28_x86_64.whl (139.1 MB)\n",
            "\u001b[2K     \u001b[90m━━━━━━━━━━━━━━━━━━━━━━━━━━━━━━━━━━━━━━━━\u001b[0m \u001b[32m139.1/139.1 MB\u001b[0m \u001b[31m8.1 MB/s\u001b[0m eta \u001b[36m0:00:00\u001b[0m\n",
            "\u001b[?25hRequirement already satisfied: filelock in /usr/local/lib/python3.10/dist-packages (from triton-nightly==3.0.0.post20240626041721) (3.15.4)\n",
            "Installing collected packages: triton-nightly\n",
            "Successfully installed triton-nightly-3.0.0.post20240626041721\n"
          ]
        }
      ],
      "source": [
        "!pip install jaxtyping~=0.2.31\n",
        "!pip install git+https://github.com/Deep-Learning-Profiling-Tools/triton-viz@v1\n",
        "!pip install --extra-index-url https://aiinfra.pkgs.visualstudio.com/PublicPackages/_packaging/Triton-Nightly/pypi/simple/ triton-nightly==3.0.0.post20240626041721"
      ]
    },
    {
      "cell_type": "markdown",
      "metadata": {
        "id": "_DAdIYpUMjyD"
      },
      "source": [
        "Check the installed triton version."
      ]
    },
    {
      "cell_type": "code",
      "execution_count": 2,
      "metadata": {
        "id": "hNPo7UMLMlVY"
      },
      "outputs": [],
      "source": [
        "import triton\n",
        "assert triton.__version__ == \"3.0.0\""
      ]
    },
    {
      "cell_type": "markdown",
      "metadata": {
        "id": "Zh04HhvLMznK"
      },
      "source": [
        "Import other needed stuff."
      ]
    },
    {
      "cell_type": "code",
      "execution_count": 3,
      "metadata": {
        "id": "uglYrA26M0vg"
      },
      "outputs": [],
      "source": [
        "import torch\n",
        "import triton.language as tl"
      ]
    },
    {
      "cell_type": "markdown",
      "metadata": {
        "id": "pI2dDdjsbPnB"
      },
      "source": [
        "## Helper Functions"
      ]
    },
    {
      "cell_type": "code",
      "execution_count": 4,
      "metadata": {
        "id": "mzcLVuDLM30m"
      },
      "outputs": [],
      "source": [
        "def get_current_target():\n",
        "    return triton.runtime.driver.active.get_current_target()"
      ]
    },
    {
      "cell_type": "code",
      "execution_count": 5,
      "metadata": {
        "id": "57uA2WypcCAR"
      },
      "outputs": [],
      "source": [
        "import warnings\n",
        "\n",
        "\n",
        "def is_cuda():\n",
        "    current_target = get_current_target()\n",
        "    if current_target.backend != \"cuda\":\n",
        "        return False\n",
        "\n",
        "    if current_target.arch < 70:  # CUDA compute capacity is below 7.0, which is minimum 'stable' supported\n",
        "        warnings.warn(\"Compute capcity of CUDA device is below 7.0. The Triton compilation may fail terribly!\")\n",
        "\n",
        "    return True"
      ]
    },
    {
      "cell_type": "code",
      "execution_count": 6,
      "metadata": {
        "id": "Xs_RIxorbvP3"
      },
      "outputs": [],
      "source": [
        "# def is_hip_mi200():\n",
        "#     target = triton.runtime.driver.active.get_current_target()\n",
        "#     return target.backend == \"hip\" and target.arch == \"gfx90a\""
      ]
    },
    {
      "cell_type": "code",
      "execution_count": 7,
      "metadata": {
        "id": "ex9yAjaFcFwd"
      },
      "outputs": [],
      "source": [
        "# is_hip_mi200()"
      ]
    },
    {
      "cell_type": "code",
      "execution_count": 8,
      "metadata": {
        "id": "flaq-3Gez1dl"
      },
      "outputs": [],
      "source": [
        "def get_cuda_autotune_config():\n",
        "    return [\n",
        "        triton.Config({'BLOCK_SIZE_M': 128}, num_stages=3, num_warps=8),\n",
        "        triton.Config({'BLOCK_SIZE_M': 64}, num_stages=4, num_warps=4),\n",
        "        triton.Config({'BLOCK_SIZE_M': 128}, num_stages=4, num_warps=4),\n",
        "        triton.Config({'BLOCK_SIZE_M': 64}, num_stages=5, num_warps=2),\n",
        "        triton.Config({'BLOCK_SIZE_M': 32}, num_stages=5, num_warps=2),\n",
        "        # Good config for fp8 inputs.\n",
        "        triton.Config({'BLOCK_SIZE_M': 128}, num_stages=3, num_warps=8),\n",
        "        triton.Config({'BLOCK_SIZE_M': 256}, num_stages=3, num_warps=8),\n",
        "        triton.Config({'BLOCK_SIZE_M': 256}, num_stages=4, num_warps=4),\n",
        "        triton.Config({'BLOCK_SIZE_M': 64}, num_stages=4, num_warps=4),\n",
        "        triton.Config({'BLOCK_SIZE_M': 128}, num_stages=4, num_warps=4)\n",
        "    ]"
      ]
    },
    {
      "cell_type": "code",
      "execution_count": 9,
      "metadata": {
        "id": "gkI9jzg80Fkt"
      },
      "outputs": [],
      "source": [
        "def get_autotune_config():\n",
        "    if is_cuda():\n",
        "        return get_cuda_autotune_config()\n",
        "    else:\n",
        "        raise ValueError(\"Not on CUDA... can't use!\")"
      ]
    },
    {
      "cell_type": "code",
      "execution_count": 10,
      "metadata": {
        "id": "Kv-Kb8S83iW_"
      },
      "outputs": [],
      "source": [
        "@triton.autotune(\n",
        "    configs=get_autotune_config(),\n",
        "    key=['M'],\n",
        ")\n",
        "@triton.jit\n",
        "def ternary_mul_kernel(\n",
        "        # Pointers to matrices\n",
        "        x_ptr, w_ptr, z_ptr,\n",
        "        # Scaling factor\n",
        "        scale,\n",
        "        # W matrix dimensions\n",
        "        M, N,  # So W has shape (M, N)\n",
        "        # Meta-parameters\n",
        "        BLOCK_SIZE_M: tl.constexpr\n",
        "):\n",
        "    \"\"\"\n",
        "    Kernel for computing the ternary multiplication\n",
        "        z = xW\n",
        "    x has shape (1, M), W has shape (M, N), and z has shape (1, N)\n",
        "    \"\"\"\n",
        "\n",
        "    # ----------------------------------------------------------------------------------------------\n",
        "    # Map program IDs (`pid`) to the element in z that it is supposed to compute, and load the\n",
        "    # appropriate parts of the `x` vector and `w` matrix.\n",
        "    pid = tl.program_id(axis=0)\n",
        "\n",
        "    block_start_x = pid * BLOCK_SIZE_M\n",
        "    range_x = tl.arange(0, BLOCK_SIZE_M)\n",
        "    offsets_x = block_start_x + range_x\n",
        "    mask_x = offsets_x < M\n",
        "    x = tl.load(x_ptr + offsets_x, mask=mask_x)\n",
        "\n",
        "    block_start_w = pid  # This is the column number\n",
        "    range_w = tl.arange(0, BLOCK_SIZE_M) * N  # Columnwise offsets\n",
        "    offsets_w = block_start_w + range_w\n",
        "    mask_w = offsets_w < M * N  # TODO: Check\n",
        "    w = tl.load(w_ptr + offsets_w, mask=mask_w)\n",
        "\n",
        "    # ----------------------------------------------------------------------------------------------\n",
        "    # Iterate to compute the element in the `z` vector.\n",
        "    # Since `w` is ternary, we only really care about the sign of the element in the array, and so\n",
        "    # we just need to perform two conditional checks\n",
        "    elems_to_sum = tl.where(w > 0, x, tl.where(w < 0, -x, tl.zeros_like(x)))\n",
        "    print(\"elems\", elems_to_sum)\n",
        "    print(\"w\", w)\n",
        "    print(\"x\", x)\n",
        "    print(\"a\", scale)\n",
        "    total = tl.sum(elems_to_sum)\n",
        "    total = total / scale  # Need to apply scale right after\n",
        "\n",
        "    # ----------------------------------------------------------------------------------------------\n",
        "    # Write the single element to the `z` output vector\n",
        "    print(\"pid\", pid)\n",
        "    tl.store(z_ptr + pid, total)  # TODO: We shouldn't need a mask since the PID is OK... right?\n"
      ]
    },
    {
      "cell_type": "markdown",
      "metadata": {
        "id": "xexLN2Dz0GM7"
      },
      "source": [
        "We can now create a convenience wrapper function that only takes two input tensors, and (1) checks any shape constraint; (2) allocates the output; (3) launches the above kernel."
      ]
    },
    {
      "cell_type": "code",
      "execution_count": 11,
      "metadata": {
        "id": "-MqHjzD30GeM"
      },
      "outputs": [],
      "source": [
        "def ternary_mul(x, w, scale):\n",
        "    # Check constraints.\n",
        "    assert len(x) == w.shape[0], \"Incompatible dimensions\"\n",
        "    assert x.is_contiguous(), \"x must be contiguous\"\n",
        "\n",
        "    assert x.is_cuda and w.is_cuda\n",
        "\n",
        "    # Get dimensions\n",
        "    M, N = w.shape\n",
        "\n",
        "    # Allocate output\n",
        "    z = torch.empty((N,), device=x.device, dtype=torch.float16)  # TODO: Change precision?\n",
        "\n",
        "    # 1D launch kernel where each block gets its own program.\n",
        "    grid = lambda META: (triton.cdiv(M, META['BLOCK_SIZE_M']), )\n",
        "    ternary_mul_kernel[grid](\n",
        "        x, w, z, #\n",
        "        scale, #\n",
        "        M, N #\n",
        "    )\n",
        "    return z"
      ]
    },
    {
      "cell_type": "markdown",
      "metadata": {
        "id": "QC4g_Sb8ggMk"
      },
      "source": [
        "TESTING CODE"
      ]
    },
    {
      "cell_type": "code",
      "execution_count": 12,
      "metadata": {
        "id": "vX7hI8CV0mFX"
      },
      "outputs": [],
      "source": [
        "X_LEN = 8  # x is the 1D vector\n",
        "W_LEN = 8  # W is the quantized weights matrix\n",
        "W_SIZE = (X_LEN, W_LEN)"
      ]
    },
    {
      "cell_type": "code",
      "execution_count": 13,
      "metadata": {
        "colab": {
          "base_uri": "https://localhost:8080/"
        },
        "id": "Q_QyszNe03Sr",
        "outputId": "fdf97a5a-9589-4856-e2c5-d2765fa244c6"
      },
      "outputs": [
        {
          "data": {
            "text/plain": [
              "<torch._C.Generator at 0x7d2ca805a470>"
            ]
          },
          "execution_count": 13,
          "metadata": {},
          "output_type": "execute_result"
        }
      ],
      "source": [
        "torch.manual_seed(0)"
      ]
    },
    {
      "cell_type": "code",
      "execution_count": 24,
      "metadata": {
        "id": "YvvBIRqtgk1r"
      },
      "outputs": [],
      "source": [
        "# x = torch.rand(X_LEN, device=\"cuda\")\n",
        "# w = torch.tensor([-1., 0., 1.], device=\"cuda\")[torch.randint(2, W_SIZE)]\n",
        "x = torch.tensor([1., 2, 4, 8], device=\"cuda\")\n",
        "w = torch.tensor([\n",
        "    [1., 0., 0., 0.],\n",
        "    [0, 1., 1., 0],\n",
        "    [0, 1., 0., 1.],\n",
        "    [0, 0., 1., 1.]\n",
        "], device=\"cuda\")\n",
        "scale = 1."
      ]
    },
    {
      "cell_type": "code",
      "execution_count": 25,
      "metadata": {
        "id": "dpUvXBwD05_E"
      },
      "outputs": [],
      "source": [
        "torch_output = torch.matmul(x, w) / scale"
      ]
    },
    {
      "cell_type": "code",
      "execution_count": 26,
      "metadata": {
        "colab": {
          "base_uri": "https://localhost:8080/"
        },
        "id": "moDlAjlC2VoZ",
        "outputId": "05b74885-07a2-4b9c-ed17-28816955cbbe"
      },
      "outputs": [
        {
          "data": {
            "text/plain": [
              "tensor([ 1.,  6., 10., 12.], device='cuda:0')"
            ]
          },
          "execution_count": 26,
          "metadata": {},
          "output_type": "execute_result"
        }
      ],
      "source": [
        "torch_output"
      ]
    },
    {
      "cell_type": "code",
      "execution_count": 29,
      "metadata": {
        "id": "FyLkFEHg1EPX"
      },
      "outputs": [],
      "source": [
        "triton_output = ternary_mul(x, w, scale)"
      ]
    },
    {
      "cell_type": "code",
      "execution_count": 30,
      "metadata": {
        "colab": {
          "base_uri": "https://localhost:8080/"
        },
        "id": "x5tEhCfZ9bvz",
        "outputId": "d847a553-0f21-4f76-deb5-53653b3bd281"
      },
      "outputs": [
        {
          "data": {
            "text/plain": [
              "tensor([1.0000, 1.8750, 0.0000, 1.9844], device='cuda:0', dtype=torch.float16)"
            ]
          },
          "execution_count": 30,
          "metadata": {},
          "output_type": "execute_result"
        }
      ],
      "source": [
        "triton_output"
      ]
    }
  ],
  "metadata": {
    "accelerator": "GPU",
    "colab": {
      "gpuType": "T4",
      "provenance": []
    },
    "kernelspec": {
      "display_name": "Python 3",
      "name": "python3"
    },
    "language_info": {
      "name": "python"
    }
  },
  "nbformat": 4,
  "nbformat_minor": 0
}
